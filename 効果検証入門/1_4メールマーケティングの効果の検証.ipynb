{
  "nbformat": 4,
  "nbformat_minor": 0,
  "metadata": {
    "colab": {
      "name": "効果検証入門_1_4メールマーケティングの効果の検証.ipynb",
      "provenance": [],
      "collapsed_sections": [],
      "include_colab_link": true
    },
    "kernelspec": {
      "name": "ir",
      "display_name": "R"
    }
  },
  "cells": [
    {
      "cell_type": "markdown",
      "metadata": {
        "id": "view-in-github",
        "colab_type": "text"
      },
      "source": [
        "<a href=\"https://colab.research.google.com/github/pea-sys/Til/blob/master/%E5%8A%B9%E6%9E%9C%E6%A4%9C%E8%A8%BC%E5%85%A5%E9%96%80_1_4%E3%83%A1%E3%83%BC%E3%83%AB%E3%83%9E%E3%83%BC%E3%82%B1%E3%83%86%E3%82%A3%E3%83%B3%E3%82%B0%E3%81%AE%E5%8A%B9%E6%9E%9C%E3%81%AE%E6%A4%9C%E8%A8%BC.ipynb\" target=\"_parent\"><img src=\"https://colab.research.google.com/assets/colab-badge.svg\" alt=\"Open In Colab\"/></a>"
      ]
    },
    {
      "cell_type": "markdown",
      "metadata": {
        "id": "vPKRgKqWTshI",
        "colab_type": "text"
      },
      "source": [
        "書籍「効果検証入門」の写経です。  \n",
        "環境：GoogleColab  \n",
        "言語：R  "
      ]
    },
    {
      "cell_type": "code",
      "metadata": {
        "id": "Y_yB2C-w8je_",
        "colab_type": "code",
        "colab": {}
      },
      "source": [
        "# (2) ライブラリの読み出し\n",
        "library(\"tidyverse\")"
      ],
      "execution_count": 16,
      "outputs": []
    },
    {
      "cell_type": "markdown",
      "metadata": {
        "id": "WrdLzH1kDMLc",
        "colab_type": "text"
      },
      "source": [
        "#1.4.1 RCTを行ったデータの準備"
      ]
    },
    {
      "cell_type": "code",
      "metadata": {
        "id": "z-KyE_5s75Nn",
        "colab_type": "code",
        "colab": {
          "base_uri": "https://localhost:8080/",
          "height": 301
        },
        "outputId": "1a62cff3-d02c-4f68-8a3f-ff1bcba7a753"
      },
      "source": [
        "# (3) データの読み込み\n",
        "email_data <- read_csv(\"http://www.minethatdata.com/Kevin_Hillstrom_MineThatData_E-MailAnalytics_DataMiningChallenge_2008.03.20.csv\")"
      ],
      "execution_count": 17,
      "outputs": [
        {
          "output_type": "stream",
          "text": [
            "Parsed with column specification:\n",
            "cols(\n",
            "  recency = \u001b[32mcol_double()\u001b[39m,\n",
            "  history_segment = \u001b[31mcol_character()\u001b[39m,\n",
            "  history = \u001b[32mcol_double()\u001b[39m,\n",
            "  mens = \u001b[32mcol_double()\u001b[39m,\n",
            "  womens = \u001b[32mcol_double()\u001b[39m,\n",
            "  zip_code = \u001b[31mcol_character()\u001b[39m,\n",
            "  newbie = \u001b[32mcol_double()\u001b[39m,\n",
            "  channel = \u001b[31mcol_character()\u001b[39m,\n",
            "  segment = \u001b[31mcol_character()\u001b[39m,\n",
            "  visit = \u001b[32mcol_double()\u001b[39m,\n",
            "  conversion = \u001b[32mcol_double()\u001b[39m,\n",
            "  spend = \u001b[32mcol_double()\u001b[39m\n",
            ")\n",
            "\n"
          ],
          "name": "stderr"
        }
      ]
    },
    {
      "cell_type": "markdown",
      "metadata": {
        "id": "uMx0_F9pDUcB",
        "colab_type": "text"
      },
      "source": [
        "|  変数名  |  説明  |\n",
        "| ---- | ---- |\n",
        "|  recentry  |  最後の購入からの経過日数  |\n",
        "|  history_segment  |  昨年の購入額の階層  |\n",
        "|  history | 昨年の購入額  |\n",
        "|mens|昨年に男性の商品を購入しているか?|\n",
        "|womens|昨年に女性の商品を購入しているか?|\n",
        "|zipcode|zipcodeをもとに地区を分類したもの|\n",
        "|newbie|過去12カ月以内に新しくユーザになったか?|\n",
        "|channel|昨年においてどのチャネルから購入したか?|\n",
        "|segment|どのメールが配信されたか?｜\n",
        "|visit|メールが配信されてから二週間以内にサイトへ訪問したか?|\n",
        "|conversion|メールが配信されてから二週間以内に購入したか?|\n",
        "|spend|購入した際の購入額|"
      ]
    },
    {
      "cell_type": "code",
      "metadata": {
        "id": "bbgx8hol8ev9",
        "colab_type": "code",
        "colab": {}
      },
      "source": [
        "# (4) データの準備\n",
        "## 女性向けメールが配信されたデータを削除したデータを作成\n",
        "male_df <- email_data %>%\n",
        "  filter(segment != \"Womens E-Mail\") %>% # 女性向けメールが配信されたデータを削除\n",
        "  mutate(treatment = ifelse(segment == \"Mens E-Mail\", 1, 0)) #介入を表すtreatment変数を追加"
      ],
      "execution_count": 18,
      "outputs": []
    },
    {
      "cell_type": "markdown",
      "metadata": {
        "id": "q053edk8F3Ps",
        "colab_type": "text"
      },
      "source": [
        "# 1.4.2 RCTデータの集計と有意差検定"
      ]
    },
    {
      "cell_type": "code",
      "metadata": {
        "id": "IuwylmRN-I6C",
        "colab_type": "code",
        "colab": {
          "base_uri": "https://localhost:8080/",
          "height": 153
        },
        "outputId": "e76eca6f-9c87-4a39-b85b-5c01542a36b0"
      },
      "source": [
        "# (5) 集計による比較\n",
        "## group_byとsummairseを使って集計\n",
        "male_df %>%\n",
        "  group_by(treatment) %>% # データのグループ化\n",
        "  summarise(conversion_rate = mean(conversion), # グループごとのconversionの平均\n",
        "            spend_mean = mean(spend), # グループごとのspendの平均\n",
        "            count = n()) # グループごとのデータ数"
      ],
      "execution_count": 19,
      "outputs": [
        {
          "output_type": "stream",
          "text": [
            "`summarise()` ungrouping output (override with `.groups` argument)\n",
            "\n"
          ],
          "name": "stderr"
        },
        {
          "output_type": "display_data",
          "data": {
            "text/plain": [
              "  treatment conversion_rate spend_mean count\n",
              "1 0         0.005726087     0.6527894  21306\n",
              "2 1         0.012531093     1.4226165  21307"
            ],
            "text/latex": "A tibble: 2 × 4\n\\begin{tabular}{llll}\n treatment & conversion\\_rate & spend\\_mean & count\\\\\n <dbl> & <dbl> & <dbl> & <int>\\\\\n\\hline\n\t 0 & 0.005726087 & 0.6527894 & 21306\\\\\n\t 1 & 0.012531093 & 1.4226165 & 21307\\\\\n\\end{tabular}\n",
            "text/markdown": "\nA tibble: 2 × 4\n\n| treatment &lt;dbl&gt; | conversion_rate &lt;dbl&gt; | spend_mean &lt;dbl&gt; | count &lt;int&gt; |\n|---|---|---|---|\n| 0 | 0.005726087 | 0.6527894 | 21306 |\n| 1 | 0.012531093 | 1.4226165 | 21307 |\n\n",
            "text/html": [
              "<table>\n",
              "<caption>A tibble: 2 × 4</caption>\n",
              "<thead>\n",
              "\t<tr><th scope=col>treatment</th><th scope=col>conversion_rate</th><th scope=col>spend_mean</th><th scope=col>count</th></tr>\n",
              "\t<tr><th scope=col>&lt;dbl&gt;</th><th scope=col>&lt;dbl&gt;</th><th scope=col>&lt;dbl&gt;</th><th scope=col>&lt;int&gt;</th></tr>\n",
              "</thead>\n",
              "<tbody>\n",
              "\t<tr><td>0</td><td>0.005726087</td><td>0.6527894</td><td>21306</td></tr>\n",
              "\t<tr><td>1</td><td>0.012531093</td><td>1.4226165</td><td>21307</td></tr>\n",
              "</tbody>\n",
              "</table>\n"
            ]
          },
          "metadata": {
            "tags": []
          }
        }
      ]
    },
    {
      "cell_type": "code",
      "metadata": {
        "id": "QMnlLxR9_0Zy",
        "colab_type": "code",
        "colab": {}
      },
      "source": [
        "# (6) t検定を行う\n",
        "## (a)男性向けメールが配信されたグループの購買データを得る\n",
        "mens_mail <- male_df %>%\n",
        "  filter(treatment == 1) %>%\n",
        "  pull(spend)"
      ],
      "execution_count": 20,
      "outputs": []
    },
    {
      "cell_type": "code",
      "metadata": {
        "id": "XM6ccIFrBB-B",
        "colab_type": "code",
        "colab": {
          "base_uri": "https://localhost:8080/",
          "height": 212
        },
        "outputId": "5dea3d29-432b-4b91-abf9-63915ee67dca"
      },
      "source": [
        "# (6) t検定を行う\n",
        "## (a)男性向けメールが配信されたグループの購買データを得る\n",
        "mens_mail <- male_df %>%\n",
        "  filter(treatment == 1) %>%\n",
        "  pull(spend)\n",
        "\n",
        "## (b)メールが配信されなかったグループの購買データを得る\n",
        "no_mail <- male_df %>%\n",
        "  filter(treatment == 0) %>%\n",
        "  pull(spend)\n",
        "\n",
        "## (a)(b)の平均の差に対して有意差検定を実行する\n",
        "t.test(mens_mail, no_mail, var.equal = T)"
      ],
      "execution_count": 21,
      "outputs": [
        {
          "output_type": "display_data",
          "data": {
            "text/plain": [
              "\n",
              "\tTwo Sample t-test\n",
              "\n",
              "data:  mens_mail and no_mail\n",
              "t = 5.3001, df = 42611, p-value = 1.163e-07\n",
              "alternative hypothesis: true difference in means is not equal to 0\n",
              "95 percent confidence interval:\n",
              " 0.4851384 1.0545160\n",
              "sample estimates:\n",
              "mean of x mean of y \n",
              "1.4226165 0.6527894 \n"
            ]
          },
          "metadata": {
            "tags": []
          }
        }
      ]
    },
    {
      "cell_type": "markdown",
      "metadata": {
        "id": "SrOCnr2bO26I",
        "colab_type": "text"
      },
      "source": [
        "p値は有意水準5%を下回り、統計的に「mean of x」 と「mean of y」は 優位な差と言える。"
      ]
    },
    {
      "cell_type": "markdown",
      "metadata": {
        "id": "kqxp_1ALP9Xo",
        "colab_type": "text"
      },
      "source": [
        "\n",
        "\n",
        "---\n",
        "\n",
        "\n",
        "\n",
        "---\n",
        "\n"
      ]
    },
    {
      "cell_type": "markdown",
      "metadata": {
        "id": "doH_oAubP13v",
        "colab_type": "text"
      },
      "source": [
        "# バイアスのあるデータによる効果の検証"
      ]
    },
    {
      "cell_type": "code",
      "metadata": {
        "id": "IzLeHiQDMy2U",
        "colab_type": "code",
        "colab": {}
      },
      "source": [
        "# (7) セレクションバイアスのあるデータの作成\n",
        "## seedを固定する\n",
        "set.seed(1)\n",
        "\n",
        "## 条件に反応するサンプルの量を半分にする\n",
        "obs_rate_c <- 0.5\n",
        "obs_rate_t <- 0.5\n",
        "\n",
        "## バイアスのあるデータの作成\n",
        "biased_data <- male_df %>%\n",
        "  mutate(obs_rate_c =\n",
        "           ifelse( (history > 300) | (recency < 6) |\n",
        "                     (channel == \"Multichannel\"), obs_rate_c, 1),\n",
        "         obs_rate_t =\n",
        "           ifelse( (history > 300) | (recency < 6) |\n",
        "                     (channel == \"Multichannel\"), 1, obs_rate_t),\n",
        "         random_number = runif(n = NROW(male_df))) %>%\n",
        "  filter( (treatment == 0 & random_number < obs_rate_c ) |\n",
        "            (treatment == 1 & random_number < obs_rate_t) )\n"
      ],
      "execution_count": 22,
      "outputs": []
    },
    {
      "cell_type": "markdown",
      "metadata": {
        "id": "XfdK8PmZRbqL",
        "colab_type": "text"
      },
      "source": [
        "昨年の購買量が高いことや最近購入したユーザ、つまり潜在的に購入意欲が高そうなユーザに対してメールが多く配信されたデータを作り出した。"
      ]
    },
    {
      "cell_type": "code",
      "metadata": {
        "id": "uq8RCWFwQgk6",
        "colab_type": "code",
        "colab": {
          "base_uri": "https://localhost:8080/",
          "height": 153
        },
        "outputId": "e6abbae0-d6a8-4444-fd0f-7d0b077bb2b4"
      },
      "source": [
        "# (8) セレクションバイアスのあるデータで平均を比較\n",
        "## group_byとsummairseを使って集計(Biased)\n",
        "biased_data %>%\n",
        "  group_by(treatment) %>%\n",
        "  summarise(conversion_rate = mean(conversion),\n",
        "            spend_mean = mean(spend),\n",
        "            count = n())"
      ],
      "execution_count": 23,
      "outputs": [
        {
          "output_type": "stream",
          "text": [
            "`summarise()` ungrouping output (override with `.groups` argument)\n",
            "\n"
          ],
          "name": "stderr"
        },
        {
          "output_type": "display_data",
          "data": {
            "text/plain": [
              "  treatment conversion_rate spend_mean count\n",
              "1 0         0.004977838     0.5483062  14665\n",
              "2 1         0.013431794     1.5277526  17198"
            ],
            "text/latex": "A tibble: 2 × 4\n\\begin{tabular}{llll}\n treatment & conversion\\_rate & spend\\_mean & count\\\\\n <dbl> & <dbl> & <dbl> & <int>\\\\\n\\hline\n\t 0 & 0.004977838 & 0.5483062 & 14665\\\\\n\t 1 & 0.013431794 & 1.5277526 & 17198\\\\\n\\end{tabular}\n",
            "text/markdown": "\nA tibble: 2 × 4\n\n| treatment &lt;dbl&gt; | conversion_rate &lt;dbl&gt; | spend_mean &lt;dbl&gt; | count &lt;int&gt; |\n|---|---|---|---|\n| 0 | 0.004977838 | 0.5483062 | 14665 |\n| 1 | 0.013431794 | 1.5277526 | 17198 |\n\n",
            "text/html": [
              "<table>\n",
              "<caption>A tibble: 2 × 4</caption>\n",
              "<thead>\n",
              "\t<tr><th scope=col>treatment</th><th scope=col>conversion_rate</th><th scope=col>spend_mean</th><th scope=col>count</th></tr>\n",
              "\t<tr><th scope=col>&lt;dbl&gt;</th><th scope=col>&lt;dbl&gt;</th><th scope=col>&lt;dbl&gt;</th><th scope=col>&lt;int&gt;</th></tr>\n",
              "</thead>\n",
              "<tbody>\n",
              "\t<tr><td>0</td><td>0.004977838</td><td>0.5483062</td><td>14665</td></tr>\n",
              "\t<tr><td>1</td><td>0.013431794</td><td>1.5277526</td><td>17198</td></tr>\n",
              "</tbody>\n",
              "</table>\n"
            ]
          },
          "metadata": {
            "tags": []
          }
        }
      ]
    },
    {
      "cell_type": "markdown",
      "metadata": {
        "id": "3iWD0HTxSuFe",
        "colab_type": "text"
      },
      "source": [
        "セレクションバイアスの結果により差が大きくなっている"
      ]
    },
    {
      "cell_type": "code",
      "metadata": {
        "id": "wCh1ZeiZR7gk",
        "colab_type": "code",
        "colab": {
          "base_uri": "https://localhost:8080/",
          "height": 212
        },
        "outputId": "44012234-de82-4d00-fb58-c70956fef456"
      },
      "source": [
        "# (9) Rの関数であるt.testを使ってt検定を行う(Biased)\n",
        "## (a)男性向けメールが配信されたグループの購買データを得る\n",
        "mens_mail_biased <- biased_data %>%\n",
        "  filter(treatment == 1) %>%\n",
        "  pull(spend)\n",
        "\n",
        "## (b)メールが配信されなかったグループの購買データを得る\n",
        "no_mail_biased <- biased_data %>%\n",
        "  filter(treatment == 0) %>%\n",
        "  pull(spend)\n",
        "\n",
        "## (a)(b)の平均の差に対して有意差検定を実行\n",
        "t.test(mens_mail_biased, no_mail_biased, var.equal = T)"
      ],
      "execution_count": 24,
      "outputs": [
        {
          "output_type": "display_data",
          "data": {
            "text/plain": [
              "\n",
              "\tTwo Sample t-test\n",
              "\n",
              "data:  mens_mail_biased and no_mail_biased\n",
              "t = 5.6708, df = 31861, p-value = 1.433e-08\n",
              "alternative hypothesis: true difference in means is not equal to 0\n",
              "95 percent confidence interval:\n",
              " 0.6409145 1.3179784\n",
              "sample estimates:\n",
              "mean of x mean of y \n",
              "1.5277526 0.5483062 \n"
            ]
          },
          "metadata": {
            "tags": []
          }
        }
      ]
    },
    {
      "cell_type": "markdown",
      "metadata": {
        "id": "LzoQQBxMSmIo",
        "colab_type": "text"
      },
      "source": [
        "p値はセレクションバイアスがない場合よりも小さくなっている。\n",
        "ただし、分析の質が改善されたわけではない。  \n",
        "統計的に有意な差があればどんな結果も正しい結果が推定できると考えることはできない。"
      ]
    },
    {
      "cell_type": "code",
      "metadata": {
        "id": "LtuXmIpiSbUZ",
        "colab_type": "code",
        "colab": {}
      },
      "source": [
        ""
      ],
      "execution_count": 25,
      "outputs": []
    }
  ]
}
