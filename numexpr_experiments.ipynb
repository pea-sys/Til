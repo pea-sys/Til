{
  "nbformat": 4,
  "nbformat_minor": 0,
  "metadata": {
    "colab": {
      "provenance": [],
      "authorship_tag": "ABX9TyOY9iwKZCmyqncFM0+2nTsj",
      "include_colab_link": true
    },
    "kernelspec": {
      "name": "python3",
      "display_name": "Python 3"
    },
    "language_info": {
      "name": "python"
    }
  },
  "cells": [
    {
      "cell_type": "markdown",
      "metadata": {
        "id": "view-in-github",
        "colab_type": "text"
      },
      "source": [
        "<a href=\"https://colab.research.google.com/github/pea-sys/Til/blob/master/numexpr_experiments.ipynb\" target=\"_parent\"><img src=\"https://colab.research.google.com/assets/colab-badge.svg\" alt=\"Open In Colab\"/></a>"
      ]
    },
    {
      "cell_type": "markdown",
      "source": [
        "NumPy に対する NumExpr の高速化の範囲は、式の複雑さと使用される演算子の内部最適化に応じて、0.95 倍から 20 倍まで変化し、一般的な値は 2 倍、3 倍、または 4 倍になります"
      ],
      "metadata": {
        "id": "7_GPzIZ2Kfxs"
      }
    },
    {
      "cell_type": "code",
      "execution_count": 1,
      "metadata": {
        "colab": {
          "base_uri": "https://localhost:8080/",
          "height": 54
        },
        "id": "dCB6M6BEW0MD",
        "outputId": "01f9bcac-1cea-42d7-faee-086475051098"
      },
      "outputs": [
        {
          "output_type": "display_data",
          "data": {
            "text/plain": [
              "'cores:2'"
            ],
            "application/vnd.google.colaboratory.intrinsic+json": {
              "type": "string"
            }
          },
          "metadata": {}
        },
        {
          "output_type": "display_data",
          "data": {
            "text/plain": [
              "'threads:2'"
            ],
            "application/vnd.google.colaboratory.intrinsic+json": {
              "type": "string"
            }
          },
          "metadata": {}
        }
      ],
      "source": [
        "import numpy as np\n",
        "import os\n",
        "import numexpr as ne\n",
        "display(\"cores:\" + str(ne.ncores))\n",
        "display(\"threads:\" + str(ne.nthreads))"
      ]
    },
    {
      "cell_type": "code",
      "source": [
        "a = np.random.rand(int(1e6))\n",
        "b = np.random.rand(int(1e6))"
      ],
      "metadata": {
        "id": "0zHIp07IW7_U"
      },
      "execution_count": 2,
      "outputs": []
    },
    {
      "cell_type": "code",
      "source": [
        "%timeit 2*a + 3*b"
      ],
      "metadata": {
        "colab": {
          "base_uri": "https://localhost:8080/"
        },
        "id": "TNMDfY_NXMY9",
        "outputId": "220aad4b-2db4-4433-e27f-f146b0abbce6"
      },
      "execution_count": 3,
      "outputs": [
        {
          "output_type": "stream",
          "name": "stdout",
          "text": [
            "12.1 ms ± 1.67 ms per loop (mean ± std. dev. of 7 runs, 100 loops each)\n"
          ]
        }
      ]
    },
    {
      "cell_type": "code",
      "source": [
        "%timeit ne.evaluate(\"2*a + 3*b\")"
      ],
      "metadata": {
        "colab": {
          "base_uri": "https://localhost:8080/"
        },
        "id": "mTO_3dIZXu1k",
        "outputId": "17dded00-8ee0-4f40-c735-35d39fcd7d43"
      },
      "execution_count": 4,
      "outputs": [
        {
          "output_type": "stream",
          "name": "stdout",
          "text": [
            "4.46 ms ± 1.5 ms per loop (mean ± std. dev. of 7 runs, 100 loops each)\n"
          ]
        }
      ]
    },
    {
      "cell_type": "code",
      "source": [
        "%timeit 2*a + b**10"
      ],
      "metadata": {
        "colab": {
          "base_uri": "https://localhost:8080/"
        },
        "id": "J1xrebrAX6gV",
        "outputId": "51f827b2-ad45-45ed-acd7-b0c908407263"
      },
      "execution_count": 5,
      "outputs": [
        {
          "output_type": "stream",
          "name": "stdout",
          "text": [
            "36.9 ms ± 5.12 ms per loop (mean ± std. dev. of 7 runs, 10 loops each)\n"
          ]
        }
      ]
    },
    {
      "cell_type": "code",
      "source": [
        "%timeit ne.evaluate(\"2*a + b**10\")"
      ],
      "metadata": {
        "colab": {
          "base_uri": "https://localhost:8080/"
        },
        "id": "7yBBVtwmYAZ-",
        "outputId": "1b4c605d-6851-49ae-be75-29304b444061"
      },
      "execution_count": 6,
      "outputs": [
        {
          "output_type": "stream",
          "name": "stdout",
          "text": [
            "6.72 ms ± 1.73 ms per loop (mean ± std. dev. of 7 runs, 100 loops each)\n"
          ]
        }
      ]
    },
    {
      "cell_type": "code",
      "source": [
        "a = np.empty(int(1e6), dtype=\"b1,f8\")['f1']\n",
        "b = np.empty(int(1e6), dtype=\"b1,f8\")['f1']"
      ],
      "metadata": {
        "id": "IrA01OafYD1Q"
      },
      "execution_count": 7,
      "outputs": []
    },
    {
      "cell_type": "code",
      "source": [
        "a.flags.aligned, b.flags.aligned"
      ],
      "metadata": {
        "colab": {
          "base_uri": "https://localhost:8080/"
        },
        "id": "s4nD5itNY7WG",
        "outputId": "6fe311c1-990d-49ad-faa6-c1153af5241e"
      },
      "execution_count": 8,
      "outputs": [
        {
          "output_type": "execute_result",
          "data": {
            "text/plain": [
              "(False, False)"
            ]
          },
          "metadata": {},
          "execution_count": 8
        }
      ]
    },
    {
      "cell_type": "code",
      "source": [
        "a[:] = np.random.rand(len(a))\n",
        "b[:] = np.random.rand(len(b))"
      ],
      "metadata": {
        "id": "mbNJvD7dZihi"
      },
      "execution_count": 9,
      "outputs": []
    },
    {
      "cell_type": "code",
      "source": [
        "%timeit 2*a + 3*b"
      ],
      "metadata": {
        "colab": {
          "base_uri": "https://localhost:8080/"
        },
        "id": "25TaGj3AZloE",
        "outputId": "55264f99-dbfb-4216-8ec3-506d920b2fdc"
      },
      "execution_count": 10,
      "outputs": [
        {
          "output_type": "stream",
          "name": "stdout",
          "text": [
            "11 ms ± 816 µs per loop (mean ± std. dev. of 7 runs, 100 loops each)\n"
          ]
        }
      ]
    },
    {
      "cell_type": "code",
      "source": [
        "%timeit ne.evaluate(\"2*a + 3*b\")"
      ],
      "metadata": {
        "colab": {
          "base_uri": "https://localhost:8080/"
        },
        "id": "xeui6BsvZoBz",
        "outputId": "8ddc5891-0d18-4b92-fde7-dba2ecc0e829"
      },
      "execution_count": 11,
      "outputs": [
        {
          "output_type": "stream",
          "name": "stdout",
          "text": [
            "3.76 ms ± 847 µs per loop (mean ± std. dev. of 7 runs, 100 loops each)\n"
          ]
        }
      ]
    },
    {
      "cell_type": "code",
      "source": [],
      "metadata": {
        "id": "U9Fm0a6YZs-K"
      },
      "execution_count": 11,
      "outputs": []
    }
  ]
}