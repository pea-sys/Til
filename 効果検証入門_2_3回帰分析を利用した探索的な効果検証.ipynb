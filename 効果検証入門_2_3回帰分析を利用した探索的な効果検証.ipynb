{
  "nbformat": 4,
  "nbformat_minor": 0,
  "metadata": {
    "colab": {
      "name": "効果検証入門_2_3回帰分析を利用した探索的な効果検証.ipynb",
      "provenance": [],
      "include_colab_link": true
    },
    "kernelspec": {
      "name": "ir",
      "display_name": "R"
    }
  },
  "cells": [
    {
      "cell_type": "markdown",
      "metadata": {
        "id": "view-in-github",
        "colab_type": "text"
      },
      "source": [
        "<a href=\"https://colab.research.google.com/github/pea-sys/Til/blob/master/%E5%8A%B9%E6%9E%9C%E6%A4%9C%E8%A8%BC%E5%85%A5%E9%96%80_2_3%E5%9B%9E%E5%B8%B0%E5%88%86%E6%9E%90%E3%82%92%E5%88%A9%E7%94%A8%E3%81%97%E3%81%9F%E6%8E%A2%E7%B4%A2%E7%9A%84%E3%81%AA%E5%8A%B9%E6%9E%9C%E6%A4%9C%E8%A8%BC.ipynb\" target=\"_parent\"><img src=\"https://colab.research.google.com/assets/colab-badge.svg\" alt=\"Open In Colab\"/></a>"
      ]
    },
    {
      "cell_type": "markdown",
      "metadata": {
        "id": "i6kk0AyiY2ug",
        "colab_type": "text"
      },
      "source": [
        "\n",
        "書籍「効果検証入門」の写経です。  \n",
        "環境：GoogleColab  \n",
        "言語：R  "
      ]
    },
    {
      "cell_type": "markdown",
      "metadata": {
        "id": "8V37eEo6gxoo",
        "colab_type": "text"
      },
      "source": [
        "割引券の特徴  \n",
        "・学費の半額補助(当選グループの通学率アップ期待)  \n",
        "・落第による効果消滅(留年減少期待)  "
      ]
    },
    {
      "cell_type": "markdown",
      "metadata": {
        "id": "DIlemZyWPeoG",
        "colab_type": "text"
      },
      "source": [
        "#2.3.2 回帰分析の実行"
      ]
    },
    {
      "cell_type": "code",
      "metadata": {
        "id": "ZCaLSW70TUgu",
        "colab_type": "code",
        "colab": {
          "base_uri": "https://localhost:8080/",
          "height": 70
        },
        "outputId": "a234769b-eb5f-41c4-d581-6a84adddf75c"
      },
      "source": [
        "# (1) 利用するデータを持つライブラリのインストール（初回のみ）\n",
        "install.packages(\"devtools\")"
      ],
      "execution_count": null,
      "outputs": [
        {
          "output_type": "stream",
          "text": [
            "Installing package into ‘/usr/local/lib/R/site-library’\n",
            "(as ‘lib’ is unspecified)\n",
            "\n"
          ],
          "name": "stderr"
        }
      ]
    },
    {
      "cell_type": "code",
      "metadata": {
        "id": "WWJS7MMXSAo5",
        "colab_type": "code",
        "colab": {
          "base_uri": "https://localhost:8080/",
          "height": 70
        },
        "outputId": "d2ad7f29-2d77-4ee8-fde1-8bf3f1f3e3e6"
      },
      "source": [
        "devtools::install_github(\"itamarcaspi/experimentdatar\")"
      ],
      "execution_count": null,
      "outputs": [
        {
          "output_type": "stream",
          "text": [
            "Skipping install of 'experimentdatar' from a github remote, the SHA1 (f71a9d07) has not changed since last install.\n",
            "  Use `force = TRUE` to force installation\n",
            "\n"
          ],
          "name": "stderr"
        }
      ]
    },
    {
      "cell_type": "code",
      "metadata": {
        "id": "HnfKrJHnSMc5",
        "colab_type": "code",
        "colab": {
          "base_uri": "https://localhost:8080/",
          "height": 1000
        },
        "outputId": "8c8809fd-a42a-4be2-8e06-a67cf1d3e57d"
      },
      "source": [
        "# (2) ライブラリとデータの読み込み\n",
        "library(\"experimentdatar\")\n",
        "library(\"broom\")\n",
        "library(\"tidyverse\")\n",
        "data(vouchers)\n",
        "vouchers"
      ],
      "execution_count": null,
      "outputs": [
        {
          "output_type": "display_data",
          "data": {
            "text/plain": [
              "      ID     BOG95SMP BOG97SMP JAM93SMP SEX AGE AGE2 HSVISIT SCYFNSH INSCHL ⋯\n",
              "1     NA     0        0        0        NA  NA  NA   NA       5      NA     ⋯\n",
              "2      1     0        0        0         1  NA  12   NA       5      NA     ⋯\n",
              "3      2     0        0        0         0  NA  13   NA       5      NA     ⋯\n",
              "4      3     1        0        0         0  14  12    0       8       1     ⋯\n",
              "5      4     1        0        0         1  14  12    0       8       1     ⋯\n",
              "6      5     1        0        0         0  14  12    0       8       1     ⋯\n",
              "7      6     1        0        0         0  12  10    0       7       1     ⋯\n",
              "8      7     0        0        0         1  NA  13   NA       5      NA     ⋯\n",
              "9      8     0        0        0         1  NA  12   NA       5      NA     ⋯\n",
              "10     9     0        0        0         1  NA  13   NA       5      NA     ⋯\n",
              "11    10     1        0        0         1  14  11    0       8       1     ⋯\n",
              "12    11     1        0        0         0  14  12    0       8       1     ⋯\n",
              "13    12     1        0        0         1  14  12    0       8       1     ⋯\n",
              "14    13     0        0        0        NA  NA  NA   NA       5      NA     ⋯\n",
              "15    14     0        0        0         0  NA  13   NA       5      NA     ⋯\n",
              "16    15     1        0        0         0  15  11    0      10       1     ⋯\n",
              "17    16     1        0        0         0  15  13    1       7       0     ⋯\n",
              "18    17     1        0        0         0  17  15    1       8       1     ⋯\n",
              "19    18     0        0        0        NA  NA  NA   NA       5      NA     ⋯\n",
              "20    19     0        0        0         1  NA  15   NA       5      NA     ⋯\n",
              "21    20     0        0        0         0  NA  11   NA       5      NA     ⋯\n",
              "22    21     1        0        0         1  14  12    1       6       1     ⋯\n",
              "23    22     1        0        0         0  13  11    1       8       1     ⋯\n",
              "24    23     0        0        0        NA  NA  NA   NA       5      NA     ⋯\n",
              "25    24     1        0        0         1  15  13    1       8       1     ⋯\n",
              "26    25     1        0        0         0  17  14    0       9       1     ⋯\n",
              "27    26     0        0        0        NA  NA  NA   NA       5      NA     ⋯\n",
              "28    27     1        0        0         0  17  14    0      10       1     ⋯\n",
              "29    28     1        0        0         1  17  14    0       9       1     ⋯\n",
              "30    29     0        0        0         0  NA  14   NA       5      NA     ⋯\n",
              "⋮     ⋮      ⋮        ⋮        ⋮        ⋮   ⋮   ⋮    ⋮       ⋮       ⋮      ⋱\n",
              "25301 141197 0        0        0         0  NA  14   NA      5       NA     ⋯\n",
              "25302 141198 0        0        0         0  NA  11   NA      5       NA     ⋯\n",
              "25303 141199 0        0        0         1  NA  14   NA      5       NA     ⋯\n",
              "25304 141200 0        0        0         1  NA  11   NA      5       NA     ⋯\n",
              "25305 141201 0        0        0         1  NA  15   NA      5       NA     ⋯\n",
              "25306 141202 0        0        0         1  NA  13   NA      5       NA     ⋯\n",
              "25307 141203 0        0        0         1  NA  12   NA      5       NA     ⋯\n",
              "25308 141204 0        0        0         1  NA  11   NA      5       NA     ⋯\n",
              "25309 141205 0        0        0         1  NA  10   NA      5       NA     ⋯\n",
              "25310 141206 0        0        0         1  NA  12   NA      5       NA     ⋯\n",
              "25311 141207 0        0        0         1  NA  14   NA      5       NA     ⋯\n",
              "25312 141208 0        0        0         1  NA  13   NA      5       NA     ⋯\n",
              "25313 141209 0        0        0         1  NA  51   NA      5       NA     ⋯\n",
              "25314 141210 0        0        0         1  NA  12   NA      5       NA     ⋯\n",
              "25315 141211 0        0        0         0  NA  14   NA      5       NA     ⋯\n",
              "25316 141212 0        0        0         1  NA  14   NA      5       NA     ⋯\n",
              "25317 141213 0        0        0         1  NA  12   NA      5       NA     ⋯\n",
              "25318 141214 0        0        0         1  NA  11   NA      5       NA     ⋯\n",
              "25319 141215 0        0        0         0  NA  12   NA      5       NA     ⋯\n",
              "25320 141216 0        0        0         1  NA  14   NA      5       NA     ⋯\n",
              "25321 141217 0        0        0         0  NA  14   NA      5       NA     ⋯\n",
              "25322 141218 0        0        0         1  NA  39   NA      5       NA     ⋯\n",
              "25323 141219 0        0        0         1  NA  11   NA      5       NA     ⋯\n",
              "25324 141220 0        0        0         1  NA  12   NA      5       NA     ⋯\n",
              "25325 141221 0        0        0         0  NA  13   NA      5       NA     ⋯\n",
              "25326 141222 0        0        0         1  NA  10   NA      5       NA     ⋯\n",
              "25327 141223 0        0        0         1  NA  13   NA      5       NA     ⋯\n",
              "25328 141224 0        0        0         1  NA  12   NA      5       NA     ⋯\n",
              "25329 141225 0        0        0        NA  NA  NA   NA      5       NA     ⋯\n",
              "25330 141226 0        0        0         1  NA  14   NA      5       NA     ⋯\n",
              "      REPT NREPT FINISH6 FINISH7 FINISH8 SEX_MISS USNGSCH HOURSUM TAB3SMPL\n",
              "1     NA   NA    NA      NA      NA      NA       NA      NA      NA      \n",
              "2     NA   NA    NA      NA      NA      NA       NA      NA      NA      \n",
              "3     NA   NA    NA      NA      NA      NA       NA      NA      NA      \n",
              "4      0    0     1       1       1       0        1       0       1      \n",
              "5      0    0     1       1       1       0        1       0       1      \n",
              "6      0    0     1       1       1       0        0       0       1      \n",
              "7      1    1     1       1       0       0        0       0       1      \n",
              "8     NA   NA    NA      NA      NA      NA       NA      NA      NA      \n",
              "9     NA   NA    NA      NA      NA      NA       NA      NA      NA      \n",
              "10    NA   NA    NA      NA      NA      NA       NA      NA      NA      \n",
              "11     0    0     1       1       1       0        1       0       1      \n",
              "12     0    0     1       1       1       0        0      28       1      \n",
              "13     0    0     1       1       1       0        0       0       1      \n",
              "14    NA   NA    NA      NA      NA      NA       NA      NA      NA      \n",
              "15    NA   NA    NA      NA      NA      NA       NA      NA      NA      \n",
              "16     0    0     1       1       1       0        0       0       1      \n",
              "17     0    0     1       1       0       0        0       8       1      \n",
              "18     0    0     1       1       1       0        0       0       1      \n",
              "19    NA   NA    NA      NA      NA      NA       NA      NA      NA      \n",
              "20    NA   NA    NA      NA      NA      NA       NA      NA      NA      \n",
              "21    NA   NA    NA      NA      NA      NA       NA      NA      NA      \n",
              "22     0    0     1       0       0       0        1       0       1      \n",
              "23     0    0     1       1       1       0        1       0       1      \n",
              "24    NA   NA    NA      NA      NA      NA       NA      NA      NA      \n",
              "25     0    0     1       1       1       0        0       0       1      \n",
              "26     0    0     1       1       1       0        0       0       1      \n",
              "27    NA   NA    NA      NA      NA      NA       NA      NA      NA      \n",
              "28     0    0     1       1       1       0        0       0       1      \n",
              "29     0    0     1       1       1       0        0      40       1      \n",
              "30    NA   NA    NA      NA      NA      NA       NA      NA      NA      \n",
              "⋮     ⋮    ⋮     ⋮       ⋮       ⋮       ⋮        ⋮       ⋮       ⋮       \n",
              "25301 NA   NA    NA      NA      NA      NA       NA      NA      NA      \n",
              "25302 NA   NA    NA      NA      NA      NA       NA      NA      NA      \n",
              "25303 NA   NA    NA      NA      NA      NA       NA      NA      NA      \n",
              "25304 NA   NA    NA      NA      NA      NA       NA      NA      NA      \n",
              "25305 NA   NA    NA      NA      NA      NA       NA      NA      NA      \n",
              "25306 NA   NA    NA      NA      NA      NA       NA      NA      NA      \n",
              "25307 NA   NA    NA      NA      NA      NA       NA      NA      NA      \n",
              "25308 NA   NA    NA      NA      NA      NA       NA      NA      NA      \n",
              "25309 NA   NA    NA      NA      NA      NA       NA      NA      NA      \n",
              "25310 NA   NA    NA      NA      NA      NA       NA      NA      NA      \n",
              "25311 NA   NA    NA      NA      NA      NA       NA      NA      NA      \n",
              "25312 NA   NA    NA      NA      NA      NA       NA      NA      NA      \n",
              "25313 NA   NA    NA      NA      NA      NA       NA      NA      NA      \n",
              "25314 NA   NA    NA      NA      NA      NA       NA      NA      NA      \n",
              "25315 NA   NA    NA      NA      NA      NA       NA      NA      NA      \n",
              "25316 NA   NA    NA      NA      NA      NA       NA      NA      NA      \n",
              "25317 NA   NA    NA      NA      NA      NA       NA      NA      NA      \n",
              "25318 NA   NA    NA      NA      NA      NA       NA      NA      NA      \n",
              "25319 NA   NA    NA      NA      NA      NA       NA      NA      NA      \n",
              "25320 NA   NA    NA      NA      NA      NA       NA      NA      NA      \n",
              "25321 NA   NA    NA      NA      NA      NA       NA      NA      NA      \n",
              "25322 NA   NA    NA      NA      NA      NA       NA      NA      NA      \n",
              "25323 NA   NA    NA      NA      NA      NA       NA      NA      NA      \n",
              "25324 NA   NA    NA      NA      NA      NA       NA      NA      NA      \n",
              "25325 NA   NA    NA      NA      NA      NA       NA      NA      NA      \n",
              "25326 NA   NA    NA      NA      NA      NA       NA      NA      NA      \n",
              "25327 NA   NA    NA      NA      NA      NA       NA      NA      NA      \n",
              "25328 NA   NA    NA      NA      NA      NA       NA      NA      NA      \n",
              "25329 NA   NA    NA      NA      NA      NA       NA      NA      NA      \n",
              "25330 NA   NA    NA      NA      NA      NA       NA      NA      NA      \n",
              "      WORKING3\n",
              "1     NA      \n",
              "2     NA      \n",
              "3     NA      \n",
              "4      0      \n",
              "5      0      \n",
              "6      0      \n",
              "7      0      \n",
              "8     NA      \n",
              "9     NA      \n",
              "10    NA      \n",
              "11     0      \n",
              "12     1      \n",
              "13     0      \n",
              "14    NA      \n",
              "15    NA      \n",
              "16     0      \n",
              "17     1      \n",
              "18     0      \n",
              "19    NA      \n",
              "20    NA      \n",
              "21    NA      \n",
              "22     0      \n",
              "23     0      \n",
              "24    NA      \n",
              "25     0      \n",
              "26     0      \n",
              "27    NA      \n",
              "28     0      \n",
              "29     1      \n",
              "30    NA      \n",
              "⋮     ⋮       \n",
              "25301 NA      \n",
              "25302 NA      \n",
              "25303 NA      \n",
              "25304 NA      \n",
              "25305 NA      \n",
              "25306 NA      \n",
              "25307 NA      \n",
              "25308 NA      \n",
              "25309 NA      \n",
              "25310 NA      \n",
              "25311 NA      \n",
              "25312 NA      \n",
              "25313 NA      \n",
              "25314 NA      \n",
              "25315 NA      \n",
              "25316 NA      \n",
              "25317 NA      \n",
              "25318 NA      \n",
              "25319 NA      \n",
              "25320 NA      \n",
              "25321 NA      \n",
              "25322 NA      \n",
              "25323 NA      \n",
              "25324 NA      \n",
              "25325 NA      \n",
              "25326 NA      \n",
              "25327 NA      \n",
              "25328 NA      \n",
              "25329 NA      \n",
              "25330 NA      "
            ],
            "text/latex": "A tibble: 25330 × 89\n\\begin{tabular}{lllllllllllllllllllll}\n ID & BOG95SMP & BOG97SMP & JAM93SMP & SEX & AGE & AGE2 & HSVISIT & SCYFNSH & INSCHL & ⋯ & REPT & NREPT & FINISH6 & FINISH7 & FINISH8 & SEX\\_MISS & USNGSCH & HOURSUM & TAB3SMPL & WORKING3\\\\\n <dbl> & <dbl> & <dbl> & <dbl> & <dbl> & <dbl> & <dbl> & <dbl> & <dbl> & <dbl> & ⋯ & <dbl> & <dbl> & <dbl> & <dbl> & <dbl> & <dbl> & <dbl> & <dbl> & <dbl> & <dbl>\\\\\n\\hline\n\t NA & 0 & 0 & 0 & NA & NA & NA & NA &  5 & NA & ⋯ & NA & NA & NA & NA & NA & NA & NA & NA & NA & NA\\\\\n\t  1 & 0 & 0 & 0 &  1 & NA & 12 & NA &  5 & NA & ⋯ & NA & NA & NA & NA & NA & NA & NA & NA & NA & NA\\\\\n\t  2 & 0 & 0 & 0 &  0 & NA & 13 & NA &  5 & NA & ⋯ & NA & NA & NA & NA & NA & NA & NA & NA & NA & NA\\\\\n\t  3 & 1 & 0 & 0 &  0 & 14 & 12 &  0 &  8 &  1 & ⋯ &  0 &  0 &  1 &  1 &  1 &  0 &  1 &  0 &  1 &  0\\\\\n\t  4 & 1 & 0 & 0 &  1 & 14 & 12 &  0 &  8 &  1 & ⋯ &  0 &  0 &  1 &  1 &  1 &  0 &  1 &  0 &  1 &  0\\\\\n\t  5 & 1 & 0 & 0 &  0 & 14 & 12 &  0 &  8 &  1 & ⋯ &  0 &  0 &  1 &  1 &  1 &  0 &  0 &  0 &  1 &  0\\\\\n\t  6 & 1 & 0 & 0 &  0 & 12 & 10 &  0 &  7 &  1 & ⋯ &  1 &  1 &  1 &  1 &  0 &  0 &  0 &  0 &  1 &  0\\\\\n\t  7 & 0 & 0 & 0 &  1 & NA & 13 & NA &  5 & NA & ⋯ & NA & NA & NA & NA & NA & NA & NA & NA & NA & NA\\\\\n\t  8 & 0 & 0 & 0 &  1 & NA & 12 & NA &  5 & NA & ⋯ & NA & NA & NA & NA & NA & NA & NA & NA & NA & NA\\\\\n\t  9 & 0 & 0 & 0 &  1 & NA & 13 & NA &  5 & NA & ⋯ & NA & NA & NA & NA & NA & NA & NA & NA & NA & NA\\\\\n\t 10 & 1 & 0 & 0 &  1 & 14 & 11 &  0 &  8 &  1 & ⋯ &  0 &  0 &  1 &  1 &  1 &  0 &  1 &  0 &  1 &  0\\\\\n\t 11 & 1 & 0 & 0 &  0 & 14 & 12 &  0 &  8 &  1 & ⋯ &  0 &  0 &  1 &  1 &  1 &  0 &  0 & 28 &  1 &  1\\\\\n\t 12 & 1 & 0 & 0 &  1 & 14 & 12 &  0 &  8 &  1 & ⋯ &  0 &  0 &  1 &  1 &  1 &  0 &  0 &  0 &  1 &  0\\\\\n\t 13 & 0 & 0 & 0 & NA & NA & NA & NA &  5 & NA & ⋯ & NA & NA & NA & NA & NA & NA & NA & NA & NA & NA\\\\\n\t 14 & 0 & 0 & 0 &  0 & NA & 13 & NA &  5 & NA & ⋯ & NA & NA & NA & NA & NA & NA & NA & NA & NA & NA\\\\\n\t 15 & 1 & 0 & 0 &  0 & 15 & 11 &  0 & 10 &  1 & ⋯ &  0 &  0 &  1 &  1 &  1 &  0 &  0 &  0 &  1 &  0\\\\\n\t 16 & 1 & 0 & 0 &  0 & 15 & 13 &  1 &  7 &  0 & ⋯ &  0 &  0 &  1 &  1 &  0 &  0 &  0 &  8 &  1 &  1\\\\\n\t 17 & 1 & 0 & 0 &  0 & 17 & 15 &  1 &  8 &  1 & ⋯ &  0 &  0 &  1 &  1 &  1 &  0 &  0 &  0 &  1 &  0\\\\\n\t 18 & 0 & 0 & 0 & NA & NA & NA & NA &  5 & NA & ⋯ & NA & NA & NA & NA & NA & NA & NA & NA & NA & NA\\\\\n\t 19 & 0 & 0 & 0 &  1 & NA & 15 & NA &  5 & NA & ⋯ & NA & NA & NA & NA & NA & NA & NA & NA & NA & NA\\\\\n\t 20 & 0 & 0 & 0 &  0 & NA & 11 & NA &  5 & NA & ⋯ & NA & NA & NA & NA & NA & NA & NA & NA & NA & NA\\\\\n\t 21 & 1 & 0 & 0 &  1 & 14 & 12 &  1 &  6 &  1 & ⋯ &  0 &  0 &  1 &  0 &  0 &  0 &  1 &  0 &  1 &  0\\\\\n\t 22 & 1 & 0 & 0 &  0 & 13 & 11 &  1 &  8 &  1 & ⋯ &  0 &  0 &  1 &  1 &  1 &  0 &  1 &  0 &  1 &  0\\\\\n\t 23 & 0 & 0 & 0 & NA & NA & NA & NA &  5 & NA & ⋯ & NA & NA & NA & NA & NA & NA & NA & NA & NA & NA\\\\\n\t 24 & 1 & 0 & 0 &  1 & 15 & 13 &  1 &  8 &  1 & ⋯ &  0 &  0 &  1 &  1 &  1 &  0 &  0 &  0 &  1 &  0\\\\\n\t 25 & 1 & 0 & 0 &  0 & 17 & 14 &  0 &  9 &  1 & ⋯ &  0 &  0 &  1 &  1 &  1 &  0 &  0 &  0 &  1 &  0\\\\\n\t 26 & 0 & 0 & 0 & NA & NA & NA & NA &  5 & NA & ⋯ & NA & NA & NA & NA & NA & NA & NA & NA & NA & NA\\\\\n\t 27 & 1 & 0 & 0 &  0 & 17 & 14 &  0 & 10 &  1 & ⋯ &  0 &  0 &  1 &  1 &  1 &  0 &  0 &  0 &  1 &  0\\\\\n\t 28 & 1 & 0 & 0 &  1 & 17 & 14 &  0 &  9 &  1 & ⋯ &  0 &  0 &  1 &  1 &  1 &  0 &  0 & 40 &  1 &  1\\\\\n\t 29 & 0 & 0 & 0 &  0 & NA & 14 & NA &  5 & NA & ⋯ & NA & NA & NA & NA & NA & NA & NA & NA & NA & NA\\\\\n\t ⋮ & ⋮ & ⋮ & ⋮ & ⋮ & ⋮ & ⋮ & ⋮ & ⋮ & ⋮ & ⋱ & ⋮ & ⋮ & ⋮ & ⋮ & ⋮ & ⋮ & ⋮ & ⋮ & ⋮ & ⋮\\\\\n\t 141197 & 0 & 0 & 0 &  0 & NA & 14 & NA & 5 & NA & ⋯ & NA & NA & NA & NA & NA & NA & NA & NA & NA & NA\\\\\n\t 141198 & 0 & 0 & 0 &  0 & NA & 11 & NA & 5 & NA & ⋯ & NA & NA & NA & NA & NA & NA & NA & NA & NA & NA\\\\\n\t 141199 & 0 & 0 & 0 &  1 & NA & 14 & NA & 5 & NA & ⋯ & NA & NA & NA & NA & NA & NA & NA & NA & NA & NA\\\\\n\t 141200 & 0 & 0 & 0 &  1 & NA & 11 & NA & 5 & NA & ⋯ & NA & NA & NA & NA & NA & NA & NA & NA & NA & NA\\\\\n\t 141201 & 0 & 0 & 0 &  1 & NA & 15 & NA & 5 & NA & ⋯ & NA & NA & NA & NA & NA & NA & NA & NA & NA & NA\\\\\n\t 141202 & 0 & 0 & 0 &  1 & NA & 13 & NA & 5 & NA & ⋯ & NA & NA & NA & NA & NA & NA & NA & NA & NA & NA\\\\\n\t 141203 & 0 & 0 & 0 &  1 & NA & 12 & NA & 5 & NA & ⋯ & NA & NA & NA & NA & NA & NA & NA & NA & NA & NA\\\\\n\t 141204 & 0 & 0 & 0 &  1 & NA & 11 & NA & 5 & NA & ⋯ & NA & NA & NA & NA & NA & NA & NA & NA & NA & NA\\\\\n\t 141205 & 0 & 0 & 0 &  1 & NA & 10 & NA & 5 & NA & ⋯ & NA & NA & NA & NA & NA & NA & NA & NA & NA & NA\\\\\n\t 141206 & 0 & 0 & 0 &  1 & NA & 12 & NA & 5 & NA & ⋯ & NA & NA & NA & NA & NA & NA & NA & NA & NA & NA\\\\\n\t 141207 & 0 & 0 & 0 &  1 & NA & 14 & NA & 5 & NA & ⋯ & NA & NA & NA & NA & NA & NA & NA & NA & NA & NA\\\\\n\t 141208 & 0 & 0 & 0 &  1 & NA & 13 & NA & 5 & NA & ⋯ & NA & NA & NA & NA & NA & NA & NA & NA & NA & NA\\\\\n\t 141209 & 0 & 0 & 0 &  1 & NA & 51 & NA & 5 & NA & ⋯ & NA & NA & NA & NA & NA & NA & NA & NA & NA & NA\\\\\n\t 141210 & 0 & 0 & 0 &  1 & NA & 12 & NA & 5 & NA & ⋯ & NA & NA & NA & NA & NA & NA & NA & NA & NA & NA\\\\\n\t 141211 & 0 & 0 & 0 &  0 & NA & 14 & NA & 5 & NA & ⋯ & NA & NA & NA & NA & NA & NA & NA & NA & NA & NA\\\\\n\t 141212 & 0 & 0 & 0 &  1 & NA & 14 & NA & 5 & NA & ⋯ & NA & NA & NA & NA & NA & NA & NA & NA & NA & NA\\\\\n\t 141213 & 0 & 0 & 0 &  1 & NA & 12 & NA & 5 & NA & ⋯ & NA & NA & NA & NA & NA & NA & NA & NA & NA & NA\\\\\n\t 141214 & 0 & 0 & 0 &  1 & NA & 11 & NA & 5 & NA & ⋯ & NA & NA & NA & NA & NA & NA & NA & NA & NA & NA\\\\\n\t 141215 & 0 & 0 & 0 &  0 & NA & 12 & NA & 5 & NA & ⋯ & NA & NA & NA & NA & NA & NA & NA & NA & NA & NA\\\\\n\t 141216 & 0 & 0 & 0 &  1 & NA & 14 & NA & 5 & NA & ⋯ & NA & NA & NA & NA & NA & NA & NA & NA & NA & NA\\\\\n\t 141217 & 0 & 0 & 0 &  0 & NA & 14 & NA & 5 & NA & ⋯ & NA & NA & NA & NA & NA & NA & NA & NA & NA & NA\\\\\n\t 141218 & 0 & 0 & 0 &  1 & NA & 39 & NA & 5 & NA & ⋯ & NA & NA & NA & NA & NA & NA & NA & NA & NA & NA\\\\\n\t 141219 & 0 & 0 & 0 &  1 & NA & 11 & NA & 5 & NA & ⋯ & NA & NA & NA & NA & NA & NA & NA & NA & NA & NA\\\\\n\t 141220 & 0 & 0 & 0 &  1 & NA & 12 & NA & 5 & NA & ⋯ & NA & NA & NA & NA & NA & NA & NA & NA & NA & NA\\\\\n\t 141221 & 0 & 0 & 0 &  0 & NA & 13 & NA & 5 & NA & ⋯ & NA & NA & NA & NA & NA & NA & NA & NA & NA & NA\\\\\n\t 141222 & 0 & 0 & 0 &  1 & NA & 10 & NA & 5 & NA & ⋯ & NA & NA & NA & NA & NA & NA & NA & NA & NA & NA\\\\\n\t 141223 & 0 & 0 & 0 &  1 & NA & 13 & NA & 5 & NA & ⋯ & NA & NA & NA & NA & NA & NA & NA & NA & NA & NA\\\\\n\t 141224 & 0 & 0 & 0 &  1 & NA & 12 & NA & 5 & NA & ⋯ & NA & NA & NA & NA & NA & NA & NA & NA & NA & NA\\\\\n\t 141225 & 0 & 0 & 0 & NA & NA & NA & NA & 5 & NA & ⋯ & NA & NA & NA & NA & NA & NA & NA & NA & NA & NA\\\\\n\t 141226 & 0 & 0 & 0 &  1 & NA & 14 & NA & 5 & NA & ⋯ & NA & NA & NA & NA & NA & NA & NA & NA & NA & NA\\\\\n\\end{tabular}\n",
            "text/markdown": "\nA tibble: 25330 × 89\n\n| ID &lt;dbl&gt; | BOG95SMP &lt;dbl&gt; | BOG97SMP &lt;dbl&gt; | JAM93SMP &lt;dbl&gt; | SEX &lt;dbl&gt; | AGE &lt;dbl&gt; | AGE2 &lt;dbl&gt; | HSVISIT &lt;dbl&gt; | SCYFNSH &lt;dbl&gt; | INSCHL &lt;dbl&gt; | ⋯ ⋯ | REPT &lt;dbl&gt; | NREPT &lt;dbl&gt; | FINISH6 &lt;dbl&gt; | FINISH7 &lt;dbl&gt; | FINISH8 &lt;dbl&gt; | SEX_MISS &lt;dbl&gt; | USNGSCH &lt;dbl&gt; | HOURSUM &lt;dbl&gt; | TAB3SMPL &lt;dbl&gt; | WORKING3 &lt;dbl&gt; |\n|---|---|---|---|---|---|---|---|---|---|---|---|---|---|---|---|---|---|---|---|---|\n| NA | 0 | 0 | 0 | NA | NA | NA | NA |  5 | NA | ⋯ | NA | NA | NA | NA | NA | NA | NA | NA | NA | NA |\n|  1 | 0 | 0 | 0 |  1 | NA | 12 | NA |  5 | NA | ⋯ | NA | NA | NA | NA | NA | NA | NA | NA | NA | NA |\n|  2 | 0 | 0 | 0 |  0 | NA | 13 | NA |  5 | NA | ⋯ | NA | NA | NA | NA | NA | NA | NA | NA | NA | NA |\n|  3 | 1 | 0 | 0 |  0 | 14 | 12 |  0 |  8 |  1 | ⋯ |  0 |  0 |  1 |  1 |  1 |  0 |  1 |  0 |  1 |  0 |\n|  4 | 1 | 0 | 0 |  1 | 14 | 12 |  0 |  8 |  1 | ⋯ |  0 |  0 |  1 |  1 |  1 |  0 |  1 |  0 |  1 |  0 |\n|  5 | 1 | 0 | 0 |  0 | 14 | 12 |  0 |  8 |  1 | ⋯ |  0 |  0 |  1 |  1 |  1 |  0 |  0 |  0 |  1 |  0 |\n|  6 | 1 | 0 | 0 |  0 | 12 | 10 |  0 |  7 |  1 | ⋯ |  1 |  1 |  1 |  1 |  0 |  0 |  0 |  0 |  1 |  0 |\n|  7 | 0 | 0 | 0 |  1 | NA | 13 | NA |  5 | NA | ⋯ | NA | NA | NA | NA | NA | NA | NA | NA | NA | NA |\n|  8 | 0 | 0 | 0 |  1 | NA | 12 | NA |  5 | NA | ⋯ | NA | NA | NA | NA | NA | NA | NA | NA | NA | NA |\n|  9 | 0 | 0 | 0 |  1 | NA | 13 | NA |  5 | NA | ⋯ | NA | NA | NA | NA | NA | NA | NA | NA | NA | NA |\n| 10 | 1 | 0 | 0 |  1 | 14 | 11 |  0 |  8 |  1 | ⋯ |  0 |  0 |  1 |  1 |  1 |  0 |  1 |  0 |  1 |  0 |\n| 11 | 1 | 0 | 0 |  0 | 14 | 12 |  0 |  8 |  1 | ⋯ |  0 |  0 |  1 |  1 |  1 |  0 |  0 | 28 |  1 |  1 |\n| 12 | 1 | 0 | 0 |  1 | 14 | 12 |  0 |  8 |  1 | ⋯ |  0 |  0 |  1 |  1 |  1 |  0 |  0 |  0 |  1 |  0 |\n| 13 | 0 | 0 | 0 | NA | NA | NA | NA |  5 | NA | ⋯ | NA | NA | NA | NA | NA | NA | NA | NA | NA | NA |\n| 14 | 0 | 0 | 0 |  0 | NA | 13 | NA |  5 | NA | ⋯ | NA | NA | NA | NA | NA | NA | NA | NA | NA | NA |\n| 15 | 1 | 0 | 0 |  0 | 15 | 11 |  0 | 10 |  1 | ⋯ |  0 |  0 |  1 |  1 |  1 |  0 |  0 |  0 |  1 |  0 |\n| 16 | 1 | 0 | 0 |  0 | 15 | 13 |  1 |  7 |  0 | ⋯ |  0 |  0 |  1 |  1 |  0 |  0 |  0 |  8 |  1 |  1 |\n| 17 | 1 | 0 | 0 |  0 | 17 | 15 |  1 |  8 |  1 | ⋯ |  0 |  0 |  1 |  1 |  1 |  0 |  0 |  0 |  1 |  0 |\n| 18 | 0 | 0 | 0 | NA | NA | NA | NA |  5 | NA | ⋯ | NA | NA | NA | NA | NA | NA | NA | NA | NA | NA |\n| 19 | 0 | 0 | 0 |  1 | NA | 15 | NA |  5 | NA | ⋯ | NA | NA | NA | NA | NA | NA | NA | NA | NA | NA |\n| 20 | 0 | 0 | 0 |  0 | NA | 11 | NA |  5 | NA | ⋯ | NA | NA | NA | NA | NA | NA | NA | NA | NA | NA |\n| 21 | 1 | 0 | 0 |  1 | 14 | 12 |  1 |  6 |  1 | ⋯ |  0 |  0 |  1 |  0 |  0 |  0 |  1 |  0 |  1 |  0 |\n| 22 | 1 | 0 | 0 |  0 | 13 | 11 |  1 |  8 |  1 | ⋯ |  0 |  0 |  1 |  1 |  1 |  0 |  1 |  0 |  1 |  0 |\n| 23 | 0 | 0 | 0 | NA | NA | NA | NA |  5 | NA | ⋯ | NA | NA | NA | NA | NA | NA | NA | NA | NA | NA |\n| 24 | 1 | 0 | 0 |  1 | 15 | 13 |  1 |  8 |  1 | ⋯ |  0 |  0 |  1 |  1 |  1 |  0 |  0 |  0 |  1 |  0 |\n| 25 | 1 | 0 | 0 |  0 | 17 | 14 |  0 |  9 |  1 | ⋯ |  0 |  0 |  1 |  1 |  1 |  0 |  0 |  0 |  1 |  0 |\n| 26 | 0 | 0 | 0 | NA | NA | NA | NA |  5 | NA | ⋯ | NA | NA | NA | NA | NA | NA | NA | NA | NA | NA |\n| 27 | 1 | 0 | 0 |  0 | 17 | 14 |  0 | 10 |  1 | ⋯ |  0 |  0 |  1 |  1 |  1 |  0 |  0 |  0 |  1 |  0 |\n| 28 | 1 | 0 | 0 |  1 | 17 | 14 |  0 |  9 |  1 | ⋯ |  0 |  0 |  1 |  1 |  1 |  0 |  0 | 40 |  1 |  1 |\n| 29 | 0 | 0 | 0 |  0 | NA | 14 | NA |  5 | NA | ⋯ | NA | NA | NA | NA | NA | NA | NA | NA | NA | NA |\n| ⋮ | ⋮ | ⋮ | ⋮ | ⋮ | ⋮ | ⋮ | ⋮ | ⋮ | ⋮ | ⋱ | ⋮ | ⋮ | ⋮ | ⋮ | ⋮ | ⋮ | ⋮ | ⋮ | ⋮ | ⋮ |\n| 141197 | 0 | 0 | 0 |  0 | NA | 14 | NA | 5 | NA | ⋯ | NA | NA | NA | NA | NA | NA | NA | NA | NA | NA |\n| 141198 | 0 | 0 | 0 |  0 | NA | 11 | NA | 5 | NA | ⋯ | NA | NA | NA | NA | NA | NA | NA | NA | NA | NA |\n| 141199 | 0 | 0 | 0 |  1 | NA | 14 | NA | 5 | NA | ⋯ | NA | NA | NA | NA | NA | NA | NA | NA | NA | NA |\n| 141200 | 0 | 0 | 0 |  1 | NA | 11 | NA | 5 | NA | ⋯ | NA | NA | NA | NA | NA | NA | NA | NA | NA | NA |\n| 141201 | 0 | 0 | 0 |  1 | NA | 15 | NA | 5 | NA | ⋯ | NA | NA | NA | NA | NA | NA | NA | NA | NA | NA |\n| 141202 | 0 | 0 | 0 |  1 | NA | 13 | NA | 5 | NA | ⋯ | NA | NA | NA | NA | NA | NA | NA | NA | NA | NA |\n| 141203 | 0 | 0 | 0 |  1 | NA | 12 | NA | 5 | NA | ⋯ | NA | NA | NA | NA | NA | NA | NA | NA | NA | NA |\n| 141204 | 0 | 0 | 0 |  1 | NA | 11 | NA | 5 | NA | ⋯ | NA | NA | NA | NA | NA | NA | NA | NA | NA | NA |\n| 141205 | 0 | 0 | 0 |  1 | NA | 10 | NA | 5 | NA | ⋯ | NA | NA | NA | NA | NA | NA | NA | NA | NA | NA |\n| 141206 | 0 | 0 | 0 |  1 | NA | 12 | NA | 5 | NA | ⋯ | NA | NA | NA | NA | NA | NA | NA | NA | NA | NA |\n| 141207 | 0 | 0 | 0 |  1 | NA | 14 | NA | 5 | NA | ⋯ | NA | NA | NA | NA | NA | NA | NA | NA | NA | NA |\n| 141208 | 0 | 0 | 0 |  1 | NA | 13 | NA | 5 | NA | ⋯ | NA | NA | NA | NA | NA | NA | NA | NA | NA | NA |\n| 141209 | 0 | 0 | 0 |  1 | NA | 51 | NA | 5 | NA | ⋯ | NA | NA | NA | NA | NA | NA | NA | NA | NA | NA |\n| 141210 | 0 | 0 | 0 |  1 | NA | 12 | NA | 5 | NA | ⋯ | NA | NA | NA | NA | NA | NA | NA | NA | NA | NA |\n| 141211 | 0 | 0 | 0 |  0 | NA | 14 | NA | 5 | NA | ⋯ | NA | NA | NA | NA | NA | NA | NA | NA | NA | NA |\n| 141212 | 0 | 0 | 0 |  1 | NA | 14 | NA | 5 | NA | ⋯ | NA | NA | NA | NA | NA | NA | NA | NA | NA | NA |\n| 141213 | 0 | 0 | 0 |  1 | NA | 12 | NA | 5 | NA | ⋯ | NA | NA | NA | NA | NA | NA | NA | NA | NA | NA |\n| 141214 | 0 | 0 | 0 |  1 | NA | 11 | NA | 5 | NA | ⋯ | NA | NA | NA | NA | NA | NA | NA | NA | NA | NA |\n| 141215 | 0 | 0 | 0 |  0 | NA | 12 | NA | 5 | NA | ⋯ | NA | NA | NA | NA | NA | NA | NA | NA | NA | NA |\n| 141216 | 0 | 0 | 0 |  1 | NA | 14 | NA | 5 | NA | ⋯ | NA | NA | NA | NA | NA | NA | NA | NA | NA | NA |\n| 141217 | 0 | 0 | 0 |  0 | NA | 14 | NA | 5 | NA | ⋯ | NA | NA | NA | NA | NA | NA | NA | NA | NA | NA |\n| 141218 | 0 | 0 | 0 |  1 | NA | 39 | NA | 5 | NA | ⋯ | NA | NA | NA | NA | NA | NA | NA | NA | NA | NA |\n| 141219 | 0 | 0 | 0 |  1 | NA | 11 | NA | 5 | NA | ⋯ | NA | NA | NA | NA | NA | NA | NA | NA | NA | NA |\n| 141220 | 0 | 0 | 0 |  1 | NA | 12 | NA | 5 | NA | ⋯ | NA | NA | NA | NA | NA | NA | NA | NA | NA | NA |\n| 141221 | 0 | 0 | 0 |  0 | NA | 13 | NA | 5 | NA | ⋯ | NA | NA | NA | NA | NA | NA | NA | NA | NA | NA |\n| 141222 | 0 | 0 | 0 |  1 | NA | 10 | NA | 5 | NA | ⋯ | NA | NA | NA | NA | NA | NA | NA | NA | NA | NA |\n| 141223 | 0 | 0 | 0 |  1 | NA | 13 | NA | 5 | NA | ⋯ | NA | NA | NA | NA | NA | NA | NA | NA | NA | NA |\n| 141224 | 0 | 0 | 0 |  1 | NA | 12 | NA | 5 | NA | ⋯ | NA | NA | NA | NA | NA | NA | NA | NA | NA | NA |\n| 141225 | 0 | 0 | 0 | NA | NA | NA | NA | 5 | NA | ⋯ | NA | NA | NA | NA | NA | NA | NA | NA | NA | NA |\n| 141226 | 0 | 0 | 0 |  1 | NA | 14 | NA | 5 | NA | ⋯ | NA | NA | NA | NA | NA | NA | NA | NA | NA | NA |\n\n",
            "text/html": [
              "<table>\n",
              "<caption>A tibble: 25330 × 89</caption>\n",
              "<thead>\n",
              "\t<tr><th scope=col>ID</th><th scope=col>BOG95SMP</th><th scope=col>BOG97SMP</th><th scope=col>JAM93SMP</th><th scope=col>SEX</th><th scope=col>AGE</th><th scope=col>AGE2</th><th scope=col>HSVISIT</th><th scope=col>SCYFNSH</th><th scope=col>INSCHL</th><th scope=col>⋯</th><th scope=col>REPT</th><th scope=col>NREPT</th><th scope=col>FINISH6</th><th scope=col>FINISH7</th><th scope=col>FINISH8</th><th scope=col>SEX_MISS</th><th scope=col>USNGSCH</th><th scope=col>HOURSUM</th><th scope=col>TAB3SMPL</th><th scope=col>WORKING3</th></tr>\n",
              "\t<tr><th scope=col>&lt;dbl&gt;</th><th scope=col>&lt;dbl&gt;</th><th scope=col>&lt;dbl&gt;</th><th scope=col>&lt;dbl&gt;</th><th scope=col>&lt;dbl&gt;</th><th scope=col>&lt;dbl&gt;</th><th scope=col>&lt;dbl&gt;</th><th scope=col>&lt;dbl&gt;</th><th scope=col>&lt;dbl&gt;</th><th scope=col>&lt;dbl&gt;</th><th scope=col>⋯</th><th scope=col>&lt;dbl&gt;</th><th scope=col>&lt;dbl&gt;</th><th scope=col>&lt;dbl&gt;</th><th scope=col>&lt;dbl&gt;</th><th scope=col>&lt;dbl&gt;</th><th scope=col>&lt;dbl&gt;</th><th scope=col>&lt;dbl&gt;</th><th scope=col>&lt;dbl&gt;</th><th scope=col>&lt;dbl&gt;</th><th scope=col>&lt;dbl&gt;</th></tr>\n",
              "</thead>\n",
              "<tbody>\n",
              "\t<tr><td>NA</td><td>0</td><td>0</td><td>0</td><td>NA</td><td>NA</td><td>NA</td><td>NA</td><td> 5</td><td>NA</td><td>⋯</td><td>NA</td><td>NA</td><td>NA</td><td>NA</td><td>NA</td><td>NA</td><td>NA</td><td>NA</td><td>NA</td><td>NA</td></tr>\n",
              "\t<tr><td> 1</td><td>0</td><td>0</td><td>0</td><td> 1</td><td>NA</td><td>12</td><td>NA</td><td> 5</td><td>NA</td><td>⋯</td><td>NA</td><td>NA</td><td>NA</td><td>NA</td><td>NA</td><td>NA</td><td>NA</td><td>NA</td><td>NA</td><td>NA</td></tr>\n",
              "\t<tr><td> 2</td><td>0</td><td>0</td><td>0</td><td> 0</td><td>NA</td><td>13</td><td>NA</td><td> 5</td><td>NA</td><td>⋯</td><td>NA</td><td>NA</td><td>NA</td><td>NA</td><td>NA</td><td>NA</td><td>NA</td><td>NA</td><td>NA</td><td>NA</td></tr>\n",
              "\t<tr><td> 3</td><td>1</td><td>0</td><td>0</td><td> 0</td><td>14</td><td>12</td><td> 0</td><td> 8</td><td> 1</td><td>⋯</td><td> 0</td><td> 0</td><td> 1</td><td> 1</td><td> 1</td><td> 0</td><td> 1</td><td> 0</td><td> 1</td><td> 0</td></tr>\n",
              "\t<tr><td> 4</td><td>1</td><td>0</td><td>0</td><td> 1</td><td>14</td><td>12</td><td> 0</td><td> 8</td><td> 1</td><td>⋯</td><td> 0</td><td> 0</td><td> 1</td><td> 1</td><td> 1</td><td> 0</td><td> 1</td><td> 0</td><td> 1</td><td> 0</td></tr>\n",
              "\t<tr><td> 5</td><td>1</td><td>0</td><td>0</td><td> 0</td><td>14</td><td>12</td><td> 0</td><td> 8</td><td> 1</td><td>⋯</td><td> 0</td><td> 0</td><td> 1</td><td> 1</td><td> 1</td><td> 0</td><td> 0</td><td> 0</td><td> 1</td><td> 0</td></tr>\n",
              "\t<tr><td> 6</td><td>1</td><td>0</td><td>0</td><td> 0</td><td>12</td><td>10</td><td> 0</td><td> 7</td><td> 1</td><td>⋯</td><td> 1</td><td> 1</td><td> 1</td><td> 1</td><td> 0</td><td> 0</td><td> 0</td><td> 0</td><td> 1</td><td> 0</td></tr>\n",
              "\t<tr><td> 7</td><td>0</td><td>0</td><td>0</td><td> 1</td><td>NA</td><td>13</td><td>NA</td><td> 5</td><td>NA</td><td>⋯</td><td>NA</td><td>NA</td><td>NA</td><td>NA</td><td>NA</td><td>NA</td><td>NA</td><td>NA</td><td>NA</td><td>NA</td></tr>\n",
              "\t<tr><td> 8</td><td>0</td><td>0</td><td>0</td><td> 1</td><td>NA</td><td>12</td><td>NA</td><td> 5</td><td>NA</td><td>⋯</td><td>NA</td><td>NA</td><td>NA</td><td>NA</td><td>NA</td><td>NA</td><td>NA</td><td>NA</td><td>NA</td><td>NA</td></tr>\n",
              "\t<tr><td> 9</td><td>0</td><td>0</td><td>0</td><td> 1</td><td>NA</td><td>13</td><td>NA</td><td> 5</td><td>NA</td><td>⋯</td><td>NA</td><td>NA</td><td>NA</td><td>NA</td><td>NA</td><td>NA</td><td>NA</td><td>NA</td><td>NA</td><td>NA</td></tr>\n",
              "\t<tr><td>10</td><td>1</td><td>0</td><td>0</td><td> 1</td><td>14</td><td>11</td><td> 0</td><td> 8</td><td> 1</td><td>⋯</td><td> 0</td><td> 0</td><td> 1</td><td> 1</td><td> 1</td><td> 0</td><td> 1</td><td> 0</td><td> 1</td><td> 0</td></tr>\n",
              "\t<tr><td>11</td><td>1</td><td>0</td><td>0</td><td> 0</td><td>14</td><td>12</td><td> 0</td><td> 8</td><td> 1</td><td>⋯</td><td> 0</td><td> 0</td><td> 1</td><td> 1</td><td> 1</td><td> 0</td><td> 0</td><td>28</td><td> 1</td><td> 1</td></tr>\n",
              "\t<tr><td>12</td><td>1</td><td>0</td><td>0</td><td> 1</td><td>14</td><td>12</td><td> 0</td><td> 8</td><td> 1</td><td>⋯</td><td> 0</td><td> 0</td><td> 1</td><td> 1</td><td> 1</td><td> 0</td><td> 0</td><td> 0</td><td> 1</td><td> 0</td></tr>\n",
              "\t<tr><td>13</td><td>0</td><td>0</td><td>0</td><td>NA</td><td>NA</td><td>NA</td><td>NA</td><td> 5</td><td>NA</td><td>⋯</td><td>NA</td><td>NA</td><td>NA</td><td>NA</td><td>NA</td><td>NA</td><td>NA</td><td>NA</td><td>NA</td><td>NA</td></tr>\n",
              "\t<tr><td>14</td><td>0</td><td>0</td><td>0</td><td> 0</td><td>NA</td><td>13</td><td>NA</td><td> 5</td><td>NA</td><td>⋯</td><td>NA</td><td>NA</td><td>NA</td><td>NA</td><td>NA</td><td>NA</td><td>NA</td><td>NA</td><td>NA</td><td>NA</td></tr>\n",
              "\t<tr><td>15</td><td>1</td><td>0</td><td>0</td><td> 0</td><td>15</td><td>11</td><td> 0</td><td>10</td><td> 1</td><td>⋯</td><td> 0</td><td> 0</td><td> 1</td><td> 1</td><td> 1</td><td> 0</td><td> 0</td><td> 0</td><td> 1</td><td> 0</td></tr>\n",
              "\t<tr><td>16</td><td>1</td><td>0</td><td>0</td><td> 0</td><td>15</td><td>13</td><td> 1</td><td> 7</td><td> 0</td><td>⋯</td><td> 0</td><td> 0</td><td> 1</td><td> 1</td><td> 0</td><td> 0</td><td> 0</td><td> 8</td><td> 1</td><td> 1</td></tr>\n",
              "\t<tr><td>17</td><td>1</td><td>0</td><td>0</td><td> 0</td><td>17</td><td>15</td><td> 1</td><td> 8</td><td> 1</td><td>⋯</td><td> 0</td><td> 0</td><td> 1</td><td> 1</td><td> 1</td><td> 0</td><td> 0</td><td> 0</td><td> 1</td><td> 0</td></tr>\n",
              "\t<tr><td>18</td><td>0</td><td>0</td><td>0</td><td>NA</td><td>NA</td><td>NA</td><td>NA</td><td> 5</td><td>NA</td><td>⋯</td><td>NA</td><td>NA</td><td>NA</td><td>NA</td><td>NA</td><td>NA</td><td>NA</td><td>NA</td><td>NA</td><td>NA</td></tr>\n",
              "\t<tr><td>19</td><td>0</td><td>0</td><td>0</td><td> 1</td><td>NA</td><td>15</td><td>NA</td><td> 5</td><td>NA</td><td>⋯</td><td>NA</td><td>NA</td><td>NA</td><td>NA</td><td>NA</td><td>NA</td><td>NA</td><td>NA</td><td>NA</td><td>NA</td></tr>\n",
              "\t<tr><td>20</td><td>0</td><td>0</td><td>0</td><td> 0</td><td>NA</td><td>11</td><td>NA</td><td> 5</td><td>NA</td><td>⋯</td><td>NA</td><td>NA</td><td>NA</td><td>NA</td><td>NA</td><td>NA</td><td>NA</td><td>NA</td><td>NA</td><td>NA</td></tr>\n",
              "\t<tr><td>21</td><td>1</td><td>0</td><td>0</td><td> 1</td><td>14</td><td>12</td><td> 1</td><td> 6</td><td> 1</td><td>⋯</td><td> 0</td><td> 0</td><td> 1</td><td> 0</td><td> 0</td><td> 0</td><td> 1</td><td> 0</td><td> 1</td><td> 0</td></tr>\n",
              "\t<tr><td>22</td><td>1</td><td>0</td><td>0</td><td> 0</td><td>13</td><td>11</td><td> 1</td><td> 8</td><td> 1</td><td>⋯</td><td> 0</td><td> 0</td><td> 1</td><td> 1</td><td> 1</td><td> 0</td><td> 1</td><td> 0</td><td> 1</td><td> 0</td></tr>\n",
              "\t<tr><td>23</td><td>0</td><td>0</td><td>0</td><td>NA</td><td>NA</td><td>NA</td><td>NA</td><td> 5</td><td>NA</td><td>⋯</td><td>NA</td><td>NA</td><td>NA</td><td>NA</td><td>NA</td><td>NA</td><td>NA</td><td>NA</td><td>NA</td><td>NA</td></tr>\n",
              "\t<tr><td>24</td><td>1</td><td>0</td><td>0</td><td> 1</td><td>15</td><td>13</td><td> 1</td><td> 8</td><td> 1</td><td>⋯</td><td> 0</td><td> 0</td><td> 1</td><td> 1</td><td> 1</td><td> 0</td><td> 0</td><td> 0</td><td> 1</td><td> 0</td></tr>\n",
              "\t<tr><td>25</td><td>1</td><td>0</td><td>0</td><td> 0</td><td>17</td><td>14</td><td> 0</td><td> 9</td><td> 1</td><td>⋯</td><td> 0</td><td> 0</td><td> 1</td><td> 1</td><td> 1</td><td> 0</td><td> 0</td><td> 0</td><td> 1</td><td> 0</td></tr>\n",
              "\t<tr><td>26</td><td>0</td><td>0</td><td>0</td><td>NA</td><td>NA</td><td>NA</td><td>NA</td><td> 5</td><td>NA</td><td>⋯</td><td>NA</td><td>NA</td><td>NA</td><td>NA</td><td>NA</td><td>NA</td><td>NA</td><td>NA</td><td>NA</td><td>NA</td></tr>\n",
              "\t<tr><td>27</td><td>1</td><td>0</td><td>0</td><td> 0</td><td>17</td><td>14</td><td> 0</td><td>10</td><td> 1</td><td>⋯</td><td> 0</td><td> 0</td><td> 1</td><td> 1</td><td> 1</td><td> 0</td><td> 0</td><td> 0</td><td> 1</td><td> 0</td></tr>\n",
              "\t<tr><td>28</td><td>1</td><td>0</td><td>0</td><td> 1</td><td>17</td><td>14</td><td> 0</td><td> 9</td><td> 1</td><td>⋯</td><td> 0</td><td> 0</td><td> 1</td><td> 1</td><td> 1</td><td> 0</td><td> 0</td><td>40</td><td> 1</td><td> 1</td></tr>\n",
              "\t<tr><td>29</td><td>0</td><td>0</td><td>0</td><td> 0</td><td>NA</td><td>14</td><td>NA</td><td> 5</td><td>NA</td><td>⋯</td><td>NA</td><td>NA</td><td>NA</td><td>NA</td><td>NA</td><td>NA</td><td>NA</td><td>NA</td><td>NA</td><td>NA</td></tr>\n",
              "\t<tr><td>⋮</td><td>⋮</td><td>⋮</td><td>⋮</td><td>⋮</td><td>⋮</td><td>⋮</td><td>⋮</td><td>⋮</td><td>⋮</td><td>⋱</td><td>⋮</td><td>⋮</td><td>⋮</td><td>⋮</td><td>⋮</td><td>⋮</td><td>⋮</td><td>⋮</td><td>⋮</td><td>⋮</td></tr>\n",
              "\t<tr><td>141197</td><td>0</td><td>0</td><td>0</td><td> 0</td><td>NA</td><td>14</td><td>NA</td><td>5</td><td>NA</td><td>⋯</td><td>NA</td><td>NA</td><td>NA</td><td>NA</td><td>NA</td><td>NA</td><td>NA</td><td>NA</td><td>NA</td><td>NA</td></tr>\n",
              "\t<tr><td>141198</td><td>0</td><td>0</td><td>0</td><td> 0</td><td>NA</td><td>11</td><td>NA</td><td>5</td><td>NA</td><td>⋯</td><td>NA</td><td>NA</td><td>NA</td><td>NA</td><td>NA</td><td>NA</td><td>NA</td><td>NA</td><td>NA</td><td>NA</td></tr>\n",
              "\t<tr><td>141199</td><td>0</td><td>0</td><td>0</td><td> 1</td><td>NA</td><td>14</td><td>NA</td><td>5</td><td>NA</td><td>⋯</td><td>NA</td><td>NA</td><td>NA</td><td>NA</td><td>NA</td><td>NA</td><td>NA</td><td>NA</td><td>NA</td><td>NA</td></tr>\n",
              "\t<tr><td>141200</td><td>0</td><td>0</td><td>0</td><td> 1</td><td>NA</td><td>11</td><td>NA</td><td>5</td><td>NA</td><td>⋯</td><td>NA</td><td>NA</td><td>NA</td><td>NA</td><td>NA</td><td>NA</td><td>NA</td><td>NA</td><td>NA</td><td>NA</td></tr>\n",
              "\t<tr><td>141201</td><td>0</td><td>0</td><td>0</td><td> 1</td><td>NA</td><td>15</td><td>NA</td><td>5</td><td>NA</td><td>⋯</td><td>NA</td><td>NA</td><td>NA</td><td>NA</td><td>NA</td><td>NA</td><td>NA</td><td>NA</td><td>NA</td><td>NA</td></tr>\n",
              "\t<tr><td>141202</td><td>0</td><td>0</td><td>0</td><td> 1</td><td>NA</td><td>13</td><td>NA</td><td>5</td><td>NA</td><td>⋯</td><td>NA</td><td>NA</td><td>NA</td><td>NA</td><td>NA</td><td>NA</td><td>NA</td><td>NA</td><td>NA</td><td>NA</td></tr>\n",
              "\t<tr><td>141203</td><td>0</td><td>0</td><td>0</td><td> 1</td><td>NA</td><td>12</td><td>NA</td><td>5</td><td>NA</td><td>⋯</td><td>NA</td><td>NA</td><td>NA</td><td>NA</td><td>NA</td><td>NA</td><td>NA</td><td>NA</td><td>NA</td><td>NA</td></tr>\n",
              "\t<tr><td>141204</td><td>0</td><td>0</td><td>0</td><td> 1</td><td>NA</td><td>11</td><td>NA</td><td>5</td><td>NA</td><td>⋯</td><td>NA</td><td>NA</td><td>NA</td><td>NA</td><td>NA</td><td>NA</td><td>NA</td><td>NA</td><td>NA</td><td>NA</td></tr>\n",
              "\t<tr><td>141205</td><td>0</td><td>0</td><td>0</td><td> 1</td><td>NA</td><td>10</td><td>NA</td><td>5</td><td>NA</td><td>⋯</td><td>NA</td><td>NA</td><td>NA</td><td>NA</td><td>NA</td><td>NA</td><td>NA</td><td>NA</td><td>NA</td><td>NA</td></tr>\n",
              "\t<tr><td>141206</td><td>0</td><td>0</td><td>0</td><td> 1</td><td>NA</td><td>12</td><td>NA</td><td>5</td><td>NA</td><td>⋯</td><td>NA</td><td>NA</td><td>NA</td><td>NA</td><td>NA</td><td>NA</td><td>NA</td><td>NA</td><td>NA</td><td>NA</td></tr>\n",
              "\t<tr><td>141207</td><td>0</td><td>0</td><td>0</td><td> 1</td><td>NA</td><td>14</td><td>NA</td><td>5</td><td>NA</td><td>⋯</td><td>NA</td><td>NA</td><td>NA</td><td>NA</td><td>NA</td><td>NA</td><td>NA</td><td>NA</td><td>NA</td><td>NA</td></tr>\n",
              "\t<tr><td>141208</td><td>0</td><td>0</td><td>0</td><td> 1</td><td>NA</td><td>13</td><td>NA</td><td>5</td><td>NA</td><td>⋯</td><td>NA</td><td>NA</td><td>NA</td><td>NA</td><td>NA</td><td>NA</td><td>NA</td><td>NA</td><td>NA</td><td>NA</td></tr>\n",
              "\t<tr><td>141209</td><td>0</td><td>0</td><td>0</td><td> 1</td><td>NA</td><td>51</td><td>NA</td><td>5</td><td>NA</td><td>⋯</td><td>NA</td><td>NA</td><td>NA</td><td>NA</td><td>NA</td><td>NA</td><td>NA</td><td>NA</td><td>NA</td><td>NA</td></tr>\n",
              "\t<tr><td>141210</td><td>0</td><td>0</td><td>0</td><td> 1</td><td>NA</td><td>12</td><td>NA</td><td>5</td><td>NA</td><td>⋯</td><td>NA</td><td>NA</td><td>NA</td><td>NA</td><td>NA</td><td>NA</td><td>NA</td><td>NA</td><td>NA</td><td>NA</td></tr>\n",
              "\t<tr><td>141211</td><td>0</td><td>0</td><td>0</td><td> 0</td><td>NA</td><td>14</td><td>NA</td><td>5</td><td>NA</td><td>⋯</td><td>NA</td><td>NA</td><td>NA</td><td>NA</td><td>NA</td><td>NA</td><td>NA</td><td>NA</td><td>NA</td><td>NA</td></tr>\n",
              "\t<tr><td>141212</td><td>0</td><td>0</td><td>0</td><td> 1</td><td>NA</td><td>14</td><td>NA</td><td>5</td><td>NA</td><td>⋯</td><td>NA</td><td>NA</td><td>NA</td><td>NA</td><td>NA</td><td>NA</td><td>NA</td><td>NA</td><td>NA</td><td>NA</td></tr>\n",
              "\t<tr><td>141213</td><td>0</td><td>0</td><td>0</td><td> 1</td><td>NA</td><td>12</td><td>NA</td><td>5</td><td>NA</td><td>⋯</td><td>NA</td><td>NA</td><td>NA</td><td>NA</td><td>NA</td><td>NA</td><td>NA</td><td>NA</td><td>NA</td><td>NA</td></tr>\n",
              "\t<tr><td>141214</td><td>0</td><td>0</td><td>0</td><td> 1</td><td>NA</td><td>11</td><td>NA</td><td>5</td><td>NA</td><td>⋯</td><td>NA</td><td>NA</td><td>NA</td><td>NA</td><td>NA</td><td>NA</td><td>NA</td><td>NA</td><td>NA</td><td>NA</td></tr>\n",
              "\t<tr><td>141215</td><td>0</td><td>0</td><td>0</td><td> 0</td><td>NA</td><td>12</td><td>NA</td><td>5</td><td>NA</td><td>⋯</td><td>NA</td><td>NA</td><td>NA</td><td>NA</td><td>NA</td><td>NA</td><td>NA</td><td>NA</td><td>NA</td><td>NA</td></tr>\n",
              "\t<tr><td>141216</td><td>0</td><td>0</td><td>0</td><td> 1</td><td>NA</td><td>14</td><td>NA</td><td>5</td><td>NA</td><td>⋯</td><td>NA</td><td>NA</td><td>NA</td><td>NA</td><td>NA</td><td>NA</td><td>NA</td><td>NA</td><td>NA</td><td>NA</td></tr>\n",
              "\t<tr><td>141217</td><td>0</td><td>0</td><td>0</td><td> 0</td><td>NA</td><td>14</td><td>NA</td><td>5</td><td>NA</td><td>⋯</td><td>NA</td><td>NA</td><td>NA</td><td>NA</td><td>NA</td><td>NA</td><td>NA</td><td>NA</td><td>NA</td><td>NA</td></tr>\n",
              "\t<tr><td>141218</td><td>0</td><td>0</td><td>0</td><td> 1</td><td>NA</td><td>39</td><td>NA</td><td>5</td><td>NA</td><td>⋯</td><td>NA</td><td>NA</td><td>NA</td><td>NA</td><td>NA</td><td>NA</td><td>NA</td><td>NA</td><td>NA</td><td>NA</td></tr>\n",
              "\t<tr><td>141219</td><td>0</td><td>0</td><td>0</td><td> 1</td><td>NA</td><td>11</td><td>NA</td><td>5</td><td>NA</td><td>⋯</td><td>NA</td><td>NA</td><td>NA</td><td>NA</td><td>NA</td><td>NA</td><td>NA</td><td>NA</td><td>NA</td><td>NA</td></tr>\n",
              "\t<tr><td>141220</td><td>0</td><td>0</td><td>0</td><td> 1</td><td>NA</td><td>12</td><td>NA</td><td>5</td><td>NA</td><td>⋯</td><td>NA</td><td>NA</td><td>NA</td><td>NA</td><td>NA</td><td>NA</td><td>NA</td><td>NA</td><td>NA</td><td>NA</td></tr>\n",
              "\t<tr><td>141221</td><td>0</td><td>0</td><td>0</td><td> 0</td><td>NA</td><td>13</td><td>NA</td><td>5</td><td>NA</td><td>⋯</td><td>NA</td><td>NA</td><td>NA</td><td>NA</td><td>NA</td><td>NA</td><td>NA</td><td>NA</td><td>NA</td><td>NA</td></tr>\n",
              "\t<tr><td>141222</td><td>0</td><td>0</td><td>0</td><td> 1</td><td>NA</td><td>10</td><td>NA</td><td>5</td><td>NA</td><td>⋯</td><td>NA</td><td>NA</td><td>NA</td><td>NA</td><td>NA</td><td>NA</td><td>NA</td><td>NA</td><td>NA</td><td>NA</td></tr>\n",
              "\t<tr><td>141223</td><td>0</td><td>0</td><td>0</td><td> 1</td><td>NA</td><td>13</td><td>NA</td><td>5</td><td>NA</td><td>⋯</td><td>NA</td><td>NA</td><td>NA</td><td>NA</td><td>NA</td><td>NA</td><td>NA</td><td>NA</td><td>NA</td><td>NA</td></tr>\n",
              "\t<tr><td>141224</td><td>0</td><td>0</td><td>0</td><td> 1</td><td>NA</td><td>12</td><td>NA</td><td>5</td><td>NA</td><td>⋯</td><td>NA</td><td>NA</td><td>NA</td><td>NA</td><td>NA</td><td>NA</td><td>NA</td><td>NA</td><td>NA</td><td>NA</td></tr>\n",
              "\t<tr><td>141225</td><td>0</td><td>0</td><td>0</td><td>NA</td><td>NA</td><td>NA</td><td>NA</td><td>5</td><td>NA</td><td>⋯</td><td>NA</td><td>NA</td><td>NA</td><td>NA</td><td>NA</td><td>NA</td><td>NA</td><td>NA</td><td>NA</td><td>NA</td></tr>\n",
              "\t<tr><td>141226</td><td>0</td><td>0</td><td>0</td><td> 1</td><td>NA</td><td>14</td><td>NA</td><td>5</td><td>NA</td><td>⋯</td><td>NA</td><td>NA</td><td>NA</td><td>NA</td><td>NA</td><td>NA</td><td>NA</td><td>NA</td><td>NA</td><td>NA</td></tr>\n",
              "</tbody>\n",
              "</table>\n"
            ]
          },
          "metadata": {
            "tags": []
          }
        }
      ]
    },
    {
      "cell_type": "code",
      "metadata": {
        "id": "KOGHJw-AnRXw",
        "colab_type": "code",
        "colab": {}
      },
      "source": [
        "# (3) Angrist(2002)のTable 3. bogota 1995の再現\n",
        "## 回帰式の準備\n",
        "### 回帰式で使う文字列の準備\n",
        "formula_x_base <- \"VOUCH0\"\n",
        "formula_x_covariate <- \"SVY + HSVISIT + AGE + STRATA1 + STRATA2 + STRATA3 + STRATA4 + STRATA5 + STRATA6 + STRATAMS + D1993 + D1995 + D1997 + DMONTH1 + DMONTH2 + DMONTH3 + DMONTH4 + DMONTH5 + DMONTH6 + DMONTH7 + DMONTH8 + DMONTH9 + DMONTH10 + DMONTH11 + DMONTH12 + SEX2\"\n",
        "formula_y <- c(\"TOTSCYRS\",\"INSCHL\",\"PRSCH_C\",\"USNGSCH\",\"PRSCHA_1\",\"FINISH6\",\"FINISH7\",\"FINISH8\",\"REPT6\",\"REPT\",\"NREPT\",\n",
        "               \"MARRIED\",\"HASCHILD\",\"HOURSUM\",\"WORKING3\")\n",
        "\n",
        "### formula_yの各要素に対して共変量を含まない回帰式を作成\n",
        "base_reg_formula <- paste(formula_y, \"~\", formula_x_base)\n",
        "names(base_reg_formula) <- paste(formula_y, \"base\", sep = \"_\")\n",
        "\n",
        "### formula_yの各要素に対して共変量を含む回帰式を作成\n",
        "covariate_reg_formula <-\n",
        "  paste(formula_y, \"~\", formula_x_base, \"+\", formula_x_covariate)\n",
        "names(covariate_reg_formula) <-\n",
        "  paste(formula_y, \"covariate\", sep = \"_\")\n",
        "\n",
        "### モデル式のベクトルを作成\n",
        "table3_fomula <- c(base_reg_formula, covariate_reg_formula)\n",
        "\n",
        "### モデル式のベクトルをデータフレーム化する\n",
        "models <- table3_fomula %>%\n",
        "  enframe(name = \"model_index\", value = \"formula\")\n",
        "\n",
        "## 回帰分析を実行\n",
        "### bogota 1995のデータを抽出する\n",
        "regression_data <- vouchers %>% filter(TAB3SMPL == 1, BOG95SMP == 1)\n",
        "\n",
        "### まとめて回帰分析を実行\n",
        "df_models <- models %>%\n",
        "  mutate(model = map(.x = formula,\n",
        "                     .f = lm,\n",
        "                     data = regression_data)) %>%\n",
        "  mutate(lm_result = map(.x = model, .f = tidy))\n",
        "\n",
        "### モデルの結果を整形\n",
        "df_results <- df_models %>%\n",
        "  mutate(formula = as.character(formula)) %>%\n",
        "  select(formula, model_index, lm_result) %>%\n",
        "  unnest(cols = c(lm_result))"
      ],
      "execution_count": null,
      "outputs": []
    },
    {
      "cell_type": "markdown",
      "metadata": {
        "id": "wM5Nm__FPmqD",
        "colab_type": "text"
      },
      "source": [
        "#2.3.3 私立学校への通学と割引券の利用についての分析"
      ]
    },
    {
      "cell_type": "code",
      "metadata": {
        "id": "6ng8QTx1nRSu",
        "colab_type": "code",
        "colab": {
          "base_uri": "https://localhost:8080/",
          "height": 437
        },
        "outputId": "b3cab341-8dd6-4885-e558-cf3799378286"
      },
      "source": [
        "## 通学率と奨学金の利用傾向の可視化(ch2_plot2.png)\n",
        "### PRSCHA_1, USNGSCHに対するVOUCH0の効果を取り出す\n",
        "using_voucher_results <- df_results %>%\n",
        "  filter(term == \"VOUCH0\",\n",
        "         str_detect(model_index, \"PRSCHA_1|USNGSCH\")) %>%\n",
        "  select(model_index, term, estimate, std.error, p.value) %>%\n",
        "  arrange(model_index)\n",
        "\n",
        "### 取り出した効果をggplotで可視化\n",
        "using_voucher_results %>%\n",
        "  ggplot(aes(y = estimate, x = model_index)) +\n",
        "  geom_point() +\n",
        "  geom_errorbar(aes(ymax = estimate + std.error*1.96,\n",
        "                    ymin = estimate - std.error*1.96,\n",
        "                    width = 0.1)) +\n",
        "  theme(axis.text.x = element_text(angle = 45, hjust = 1),\n",
        "        plot.title = element_text(hjust = 0.5),\n",
        "        legend.position = \"bottom\",\n",
        "        plot.margin = margin(0.5,1,0.5,1, \"cm\"))"
      ],
      "execution_count": 27,
      "outputs": [
        {
          "output_type": "display_data",
          "data": {
            "image/png": "[encoded data removed]",
            "text/plain": [
              "plot without title"
            ]
          },
          "metadata": {
            "tags": [],
            "image/png": {
              "width": 420,
              "height": 420
            }
          }
        }
      ]
    },
    {
      "cell_type": "markdown",
      "metadata": {
        "id": "cOnhEmYcQeVh",
        "colab_type": "text"
      },
      "source": [
        "#2.3.4 割引券は留年を減らしているか？"
      ]
    },
    {
      "cell_type": "code",
      "metadata": {
        "id": "GThUL8nNQdqS",
        "colab_type": "code",
        "colab": {
          "base_uri": "https://localhost:8080/",
          "height": 437
        },
        "outputId": "f01787e3-4bab-478b-d139-3ad913f9cd0f"
      },
      "source": [
        "## 留年の傾向を可視化\n",
        "### PRSCH_C,INSCHL,FINISH6-8,REPTに対するVOUCH0の効果を取り出す\n",
        "going_private_results <- df_results %>%\n",
        "  filter(term == \"VOUCH0\",\n",
        "         str_detect(model_index, \"PRSCH_C|INSCHL|FINISH|REPT\")) %>%\n",
        "  select(model_index, term, estimate, std.error, p.value) %>%\n",
        "  arrange(model_index)\n",
        "\n",
        "### 取り出した効果をggplotで可視化\n",
        "going_private_results %>%\n",
        "  filter(str_detect(model_index, \"covariate\")) %>%\n",
        "  ggplot(aes(y = estimate, x = model_index)) +\n",
        "  geom_point() +\n",
        "  geom_errorbar(aes(ymax = estimate + std.error*1.96,\n",
        "                    ymin = estimate - std.error*1.96,\n",
        "                    width = 0.1)) +\n",
        "  geom_hline(yintercept = 0, linetype = 2) +\n",
        "  theme(axis.text.x = element_text(angle = 45, hjust = 1),\n",
        "        plot.title = element_text(hjust = 0.5),\n",
        "        legend.position = \"bottom\",\n",
        "        plot.margin = margin(0.5,1,0.5,1, \"cm\"))"
      ],
      "execution_count": 28,
      "outputs": [
        {
          "output_type": "display_data",
          "data": {
            "image/png": "[encoded data removed]",
            "text/plain": [
              "plot without title"
            ]
          },
          "metadata": {
            "tags": [],
            "image/png": {
              "width": 420,
              "height": 420
            }
          }
        }
      ]
    },
    {
      "cell_type": "markdown",
      "metadata": {
        "id": "xxgGgHlEQlha",
        "colab_type": "text"
      },
      "source": [
        "#2.3.5 性別による効果差"
      ]
    },
    {
      "cell_type": "code",
      "metadata": {
        "id": "3Z7JkzuxeNDV",
        "colab_type": "code",
        "colab": {
          "base_uri": "https://localhost:8080/",
          "height": 437
        },
        "outputId": "dbba2b87-0498-48ed-d717-e3d04b025e2a"
      },
      "source": [
        "# (4) Angrist(2002)のTable.4 & 6 bogota 1995の再現\n",
        "## table4に使うデータを抜き出す\n",
        "data_tbl4_bog95 <- vouchers %>%\n",
        "  filter(BOG95SMP == 1, TAB3SMPL == 1,\n",
        "         !is.na(SCYFNSH), !is.na(FINISH6), !is.na(PRSCHA_1),\n",
        "         !is.na(REPT6), !is.na(NREPT), !is.na(INSCHL),\n",
        "         !is.na(FINISH7),\n",
        "         !is.na(PRSCH_C), !is.na(FINISH8), !is.na(PRSCHA_2),\n",
        "         !is.na(TOTSCYRS), !is.na(REPT)\n",
        "  ) %>%\n",
        "  select(VOUCH0, SVY, HSVISIT, DJAMUNDI, PHONE, AGE,\n",
        "         STRATA1:STRATA6, STRATAMS, DBOGOTA, D1993, D1995, D1997,\n",
        "         DMONTH1:DMONTH12, SEX_MISS, FINISH6, FINISH7, FINISH8,\n",
        "         REPT6, REPT, NREPT, SEX2, TOTSCYRS, MARRIED, HASCHILD,\n",
        "         HOURSUM,WORKING3, INSCHL,PRSCH_C,USNGSCH,PRSCHA_1)\n",
        "\n",
        "## 女子生徒のみのデータでの回帰分析\n",
        "### 女子生徒のデータだけ取り出す\n",
        "regression_data <- data_tbl4_bog95 %>% filter(SEX2 == 0)\n",
        "\n",
        "### まとめて回帰分析を実行\n",
        "df_models <- models %>%\n",
        "  mutate(model = map(.x = formula, .f = lm, data = regression_data)) %>%\n",
        "  mutate(lm_result = map(.x = model, .f = tidy))\n",
        "\n",
        "### モデルの結果を整形\n",
        "df_results_female <- df_models %>%\n",
        "  mutate(formula = as.character(formula),\n",
        "         gender = \"female\") %>%\n",
        "  select(formula, model_index, lm_result, gender) %>%\n",
        "  unnest(cols = c(lm_result))\n",
        "\n",
        "## 男子生徒のみのデータでの回帰分析\n",
        "regression_data <- data_tbl4_bog95 %>% filter(SEX2 == 1)\n",
        "\n",
        "### まとめて回帰分析を実行\n",
        "df_models <- models %>%\n",
        "  mutate(model = map(.x = formula, .f = lm, data = regression_data)) %>%\n",
        "  mutate(lm_result = map(.x = model, .f = tidy))\n",
        "\n",
        "### モデルの結果を整形\n",
        "df_results_male <- df_models %>%\n",
        "  mutate(formula = as.character(formula),\n",
        "         gender = \"male\") %>%\n",
        "  select(formula, model_index, lm_result, gender) %>%\n",
        "  unnest(cols = c(lm_result))\n",
        "\n",
        "## 通学傾向への分析結果の可視化(ch2_plot3.png)\n",
        "### PRSCHA_1,USNGSCHに対する分析結果を抜き出す\n",
        "using_voucher_results_gender <- rbind(df_results_male, df_results_female) %>%\n",
        "  filter(term == \"VOUCH0\", str_detect(model_index, \"PRSCHA_1|USNGSCH\")) %>%\n",
        "  select(gender, model_index, term, estimate, std.error, p.value) %>%\n",
        "  arrange(gender, model_index) %>%\n",
        "  filter(str_detect(model_index, \"covariate\"))\n",
        "\n",
        "### ggplotによる可視化\n",
        "using_voucher_results_gender %>%\n",
        "  filter(str_detect(model_index, \"covariate\")) %>%\n",
        "  ggplot(aes(y = estimate, x = model_index)) +\n",
        "  geom_point() +\n",
        "  geom_errorbar(aes(ymax = estimate + std.error*1.96,\n",
        "                    ymin = estimate - std.error*1.96,\n",
        "                    width = 0.1)) +\n",
        "  geom_hline(yintercept = 0, linetype = 2) +\n",
        "  theme(axis.text.x = element_text(angle = 45, hjust = 1),\n",
        "        plot.title = element_text(hjust = 0.5),\n",
        "        legend.position = \"bottom\",\n",
        "        plot.margin = margin(0.5,1,0.5,1, \"cm\")) +\n",
        "  facet_grid(gender ~ .)"
      ],
      "execution_count": 29,
      "outputs": [
        {
          "output_type": "display_data",
          "data": {
            "image/png": "[encoded data removed]",
            "text/plain": [
              "plot without title"
            ]
          },
          "metadata": {
            "tags": [],
            "image/png": {
              "width": 420,
              "height": 420
            }
          }
        }
      ]
    },
    {
      "cell_type": "code",
      "metadata": {
        "id": "s6v3Vo4keUDa",
        "colab_type": "code",
        "colab": {
          "base_uri": "https://localhost:8080/",
          "height": 857
        },
        "outputId": "fcc1bb5d-ac8c-42f4-b3d8-23ea3b16746f"
      },
      "source": [
        "## 留年と通学年数への分析結果の可視化(ch2_plot4.png)\n",
        "### PRSCH_C,INSCHL,REPT,TOTSCYRS,FINISHに対する分析結果を抜き出す\n",
        "going_private_results_gender <- rbind(df_results_male, df_results_female) %>%\n",
        "  filter(term == \"VOUCH0\",\n",
        "         str_detect(model_index, \"PRSCH_C|INSCHL|REPT|TOTSCYRS|FINISH\")) %>%\n",
        "  select(gender, model_index, term, estimate, std.error, p.value) %>%\n",
        "  arrange(model_index)\n",
        "\n",
        "### ggplotによる可視化\n",
        "going_private_results_gender %>%\n",
        "  filter(str_detect(model_index, \"covariate\")) %>%\n",
        "  ggplot(aes(y = estimate, x = model_index)) +\n",
        "  geom_point() +\n",
        "  geom_errorbar(aes(ymax = estimate + std.error*1.96,\n",
        "                    ymin = estimate - std.error*1.96,\n",
        "                    width = 0.1)) +\n",
        "  geom_hline(yintercept = 0, linetype = 2) +\n",
        "  theme(axis.text.x = element_text(angle = 45, hjust = 1),\n",
        "        plot.title = element_text(hjust = 0.5),\n",
        "        legend.position = \"bottom\",\n",
        "        plot.margin = margin(0.5,1,0.5,1, \"cm\")) +\n",
        "  facet_grid(gender ~ .)\n",
        "\n",
        "## 労働時間に対する分析結果の可視化(ch2_plot5.png)\n",
        "### HOURに対する分析結果を抜き出す\n",
        "working_hour_results_gender <- rbind(df_results_male, df_results_female) %>%\n",
        "  filter(term == \"VOUCH0\", str_detect(model_index, \"HOUR\")) %>%\n",
        "  select(gender, model_index, term, estimate, std.error, p.value) %>%\n",
        "  arrange(gender, model_index)\n",
        "\n",
        "### ggplotによる可視化\n",
        "working_hour_results_gender %>%\n",
        "  filter(str_detect(model_index, \"covariate\")) %>%\n",
        "  ggplot(aes(y = estimate, x = model_index)) +\n",
        "  geom_point() +\n",
        "  geom_errorbar(aes(ymax = estimate + std.error*1.96,\n",
        "                    ymin = estimate - std.error*1.96,\n",
        "                    width = 0.1)) +\n",
        "  geom_hline(yintercept = 0, linetype = 2) +\n",
        "  theme(axis.text.x = element_text(angle = 45, hjust = 1),\n",
        "        plot.title = element_text(hjust = 0.5),\n",
        "        legend.position = \"bottom\",\n",
        "        plot.margin = margin(0.5,1,0.5,1, \"cm\")) +\n",
        "  facet_grid(. ~ gender)"
      ],
      "execution_count": 30,
      "outputs": [
        {
          "output_type": "display_data",
          "data": {
            "image/png": "[encoded data removed]",
            "text/plain": [
              "plot without title"
            ]
          },
          "metadata": {
            "tags": [],
            "image/png": {
              "width": 420,
              "height": 420
            }
          }
        },
        {
          "output_type": "display_data",
          "data": {
            "image/png": "[encoded data removed]",
            "text/plain": [
              "plot without title"
            ]
          },
          "metadata": {
            "tags": [],
            "image/png": {
              "width": 420,
              "height": 420
            }
          }
        }
      ]
    },
    {
      "cell_type": "markdown",
      "metadata": {
        "id": "rO8JNprQQw8H",
        "colab_type": "text"
      },
      "source": [
        "#2.3.6 分析のまとめ\n",
        "\n",
        "\n",
        "1.   そもそも利用されているか\n",
        "2.   私立学校への通学が維持されるか\n",
        "3.   留年に影響するか\n",
        "\n"
      ]
    },
    {
      "cell_type": "code",
      "metadata": {
        "id": "_Nwgl6m-efxd",
        "colab_type": "code",
        "colab": {}
      },
      "source": [
        ""
      ],
      "execution_count": 31,
      "outputs": []
    }
  ]
}