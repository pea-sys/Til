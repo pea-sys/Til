{
  "nbformat": 4,
  "nbformat_minor": 0,
  "metadata": {
    "colab": {
      "name": "効果検証入門_2_1メールマーケティングデータの分析（回帰編）.ipynb",
      "provenance": [],
      "include_colab_link": true
    },
    "kernelspec": {
      "name": "ir",
      "display_name": "R"
    }
  },
  "cells": [
    {
      "cell_type": "markdown",
      "metadata": {
        "id": "view-in-github",
        "colab_type": "text"
      },
      "source": [
        "<a href=\"https://colab.research.google.com/github/pea-sys/Til/blob/master/%E5%8A%B9%E6%9E%9C%E6%A4%9C%E8%A8%BC%E5%85%A5%E9%96%80_2_1%E3%83%A1%E3%83%BC%E3%83%AB%E3%83%9E%E3%83%BC%E3%82%B1%E3%83%86%E3%82%A3%E3%83%B3%E3%82%B0%E3%83%87%E3%83%BC%E3%82%BF%E3%81%AE%E5%88%86%E6%9E%90%EF%BC%88%E5%9B%9E%E5%B8%B0%E7%B7%A8%EF%BC%89.ipynb\" target=\"_parent\"><img src=\"https://colab.research.google.com/assets/colab-badge.svg\" alt=\"Open In Colab\"/></a>"
      ]
    },
    {
      "cell_type": "code",
      "metadata": {
        "id": "5jyCJjc6Xs0t",
        "colab_type": "code",
        "colab": {
          "base_uri": "https://localhost:8080/",
          "height": 212
        },
        "outputId": "152b0c82-d2c3-436e-9624-5977da8de6bb"
      },
      "source": [
        "# (2) ライブラリの読み出し\n",
        "library(\"tidyverse\")\n",
        "library(\"broom\")"
      ],
      "execution_count": 1,
      "outputs": [
        {
          "output_type": "stream",
          "text": [
            "── \u001b[1mAttaching packages\u001b[22m ─────────────────────────────────────── tidyverse 1.3.0 ──\n",
            "\n",
            "\u001b[32m✔\u001b[39m \u001b[34mggplot2\u001b[39m 3.3.2     \u001b[32m✔\u001b[39m \u001b[34mpurrr  \u001b[39m 0.3.4\n",
            "\u001b[32m✔\u001b[39m \u001b[34mtibble \u001b[39m 3.0.2     \u001b[32m✔\u001b[39m \u001b[34mdplyr  \u001b[39m 1.0.0\n",
            "\u001b[32m✔\u001b[39m \u001b[34mtidyr  \u001b[39m 1.1.0     \u001b[32m✔\u001b[39m \u001b[34mstringr\u001b[39m 1.4.0\n",
            "\u001b[32m✔\u001b[39m \u001b[34mreadr  \u001b[39m 1.3.1     \u001b[32m✔\u001b[39m \u001b[34mforcats\u001b[39m 0.5.0\n",
            "\n",
            "── \u001b[1mConflicts\u001b[22m ────────────────────────────────────────── tidyverse_conflicts() ──\n",
            "\u001b[31m✖\u001b[39m \u001b[34mdplyr\u001b[39m::\u001b[32mfilter()\u001b[39m masks \u001b[34mstats\u001b[39m::filter()\n",
            "\u001b[31m✖\u001b[39m \u001b[34mdplyr\u001b[39m::\u001b[32mlag()\u001b[39m    masks \u001b[34mstats\u001b[39m::lag()\n",
            "\n"
          ],
          "name": "stderr"
        }
      ]
    },
    {
      "cell_type": "code",
      "metadata": {
        "id": "7OBxWR9ZXxee",
        "colab_type": "code",
        "colab": {
          "base_uri": "https://localhost:8080/",
          "height": 301
        },
        "outputId": "373508ab-8403-48f9-cd67-efd42ad9c37b"
      },
      "source": [
        "# (3) データの読み込み\n",
        "email_data <- read_csv(\"http://www.minethatdata.com/Kevin_Hillstrom_MineThatData_E-MailAnalytics_DataMiningChallenge_2008.03.20.csv\")"
      ],
      "execution_count": 2,
      "outputs": [
        {
          "output_type": "stream",
          "text": [
            "Parsed with column specification:\n",
            "cols(\n",
            "  recency = \u001b[32mcol_double()\u001b[39m,\n",
            "  history_segment = \u001b[31mcol_character()\u001b[39m,\n",
            "  history = \u001b[32mcol_double()\u001b[39m,\n",
            "  mens = \u001b[32mcol_double()\u001b[39m,\n",
            "  womens = \u001b[32mcol_double()\u001b[39m,\n",
            "  zip_code = \u001b[31mcol_character()\u001b[39m,\n",
            "  newbie = \u001b[32mcol_double()\u001b[39m,\n",
            "  channel = \u001b[31mcol_character()\u001b[39m,\n",
            "  segment = \u001b[31mcol_character()\u001b[39m,\n",
            "  visit = \u001b[32mcol_double()\u001b[39m,\n",
            "  conversion = \u001b[32mcol_double()\u001b[39m,\n",
            "  spend = \u001b[32mcol_double()\u001b[39m\n",
            ")\n",
            "\n"
          ],
          "name": "stderr"
        }
      ]
    },
    {
      "cell_type": "code",
      "metadata": {
        "id": "yXUXTeNaFYFV",
        "colab_type": "code",
        "colab": {}
      },
      "source": [
        "# (4) 女性向けメールが配信されたデータを削除したデータを作成\n",
        "male_df <- email_data %>%\n",
        "  filter(segment != \"Womens E-Mail\") %>% # 女性向けメールが配信されたデータを削除\n",
        "  mutate(treatment = ifelse(segment == \"Mens E-Mail\", 1, 0)) # 介入を表すtreatment変数を追加"
      ],
      "execution_count": 3,
      "outputs": []
    },
    {
      "cell_type": "code",
      "metadata": {
        "id": "L0F7Z21sFddi",
        "colab_type": "code",
        "colab": {}
      },
      "source": [
        "# (5) セレクションバイアスのあるデータを作成\n",
        "## seedを固定\n",
        "set.seed(1)\n",
        "\n",
        "## 条件に反応するサンプルの量を半分にする\n",
        "obs_rate_c <- 0.5\n",
        "obs_rate_t <- 0.5\n",
        "\n",
        "## バイアスのあるデータを作成\n",
        "biased_data <- male_df %>%\n",
        "  mutate(obs_rate_c =\n",
        "           ifelse( (history > 300) | (recency < 6) |\n",
        "                     (channel == \"Multichannel\"), obs_rate_c, 1),\n",
        "         obs_rate_t =\n",
        "           ifelse( (history > 300) | (recency < 6) |\n",
        "                     (channel == \"Multichannel\"), 1, obs_rate_t),\n",
        "         random_number = runif(n = NROW(male_df))) %>%\n",
        "  filter( (treatment == 0 & random_number < obs_rate_c ) |\n",
        "            (treatment == 1 & random_number < obs_rate_t) )"
      ],
      "execution_count": 4,
      "outputs": []
    },
    {
      "cell_type": "code",
      "metadata": {
        "id": "oMCIoBQsnDBW",
        "colab_type": "code",
        "colab": {
          "base_uri": "https://localhost:8080/",
          "height": 355
        },
        "outputId": "2f3bfc2f-22bf-4f0e-b1f6-b77d674a5689"
      },
      "source": [
        "# (6) バイアスのあるデータでの回帰分析\n",
        "## 回帰分析の実行\n",
        "biased_reg <- lm(data = biased_data, formula = spend ~ treatment + history)\n",
        "\n",
        "## 分析結果のレポート\n",
        "summary(biased_reg)"
      ],
      "execution_count": 5,
      "outputs": [
        {
          "output_type": "display_data",
          "data": {
            "text/plain": [
              "\n",
              "Call:\n",
              "lm(formula = spend ~ treatment + history, data = biased_data)\n",
              "\n",
              "Residuals:\n",
              "   Min     1Q Median     3Q    Max \n",
              " -4.74  -1.46  -1.26  -0.48 497.74 \n",
              "\n",
              "Coefficients:\n",
              "             Estimate Std. Error t value Pr(>|t|)    \n",
              "(Intercept) 0.3241996  0.1444390   2.245  0.02480 *  \n",
              "treatment   0.9026109  0.1743057   5.178 2.25e-07 ***\n",
              "history     0.0010927  0.0003366   3.246  0.00117 ** \n",
              "---\n",
              "Signif. codes:  0 ‘***’ 0.001 ‘**’ 0.01 ‘*’ 0.05 ‘.’ 0.1 ‘ ’ 1\n",
              "\n",
              "Residual standard error: 15.36 on 31860 degrees of freedom\n",
              "Multiple R-squared:  0.001339,\tAdjusted R-squared:  0.001276 \n",
              "F-statistic: 21.35 on 2 and 31860 DF,  p-value: 5.406e-10\n"
            ]
          },
          "metadata": {
            "tags": []
          }
        }
      ]
    },
    {
      "cell_type": "code",
      "metadata": {
        "id": "uWyZ8rxCnKB7",
        "colab_type": "code",
        "colab": {
          "base_uri": "https://localhost:8080/",
          "height": 138
        },
        "outputId": "e800b662-5000-40de-828b-c0fddb30f1bf"
      },
      "source": [
        "## 推定されたパラメーターの取り出し\n",
        "biased_reg_coef <- tidy(biased_reg)\n",
        "biased_reg_coef"
      ],
      "execution_count": 6,
      "outputs": [
        {
          "output_type": "display_data",
          "data": {
            "text/plain": [
              "  term        estimate    std.error   statistic p.value     \n",
              "1 (Intercept) 0.324199564 0.144438990 2.244543  2.480430e-02\n",
              "2 treatment   0.902610917 0.174305713 5.178321  2.252514e-07\n",
              "3 history     0.001092682 0.000336606 3.246176  1.170872e-03"
            ],
            "text/latex": "A tibble: 3 × 5\n\\begin{tabular}{lllll}\n term & estimate & std.error & statistic & p.value\\\\\n <chr> & <dbl> & <dbl> & <dbl> & <dbl>\\\\\n\\hline\n\t (Intercept) & 0.324199564 & 0.144438990 & 2.244543 & 2.480430e-02\\\\\n\t treatment   & 0.902610917 & 0.174305713 & 5.178321 & 2.252514e-07\\\\\n\t history     & 0.001092682 & 0.000336606 & 3.246176 & 1.170872e-03\\\\\n\\end{tabular}\n",
            "text/markdown": "\nA tibble: 3 × 5\n\n| term &lt;chr&gt; | estimate &lt;dbl&gt; | std.error &lt;dbl&gt; | statistic &lt;dbl&gt; | p.value &lt;dbl&gt; |\n|---|---|---|---|---|\n| (Intercept) | 0.324199564 | 0.144438990 | 2.244543 | 2.480430e-02 |\n| treatment   | 0.902610917 | 0.174305713 | 5.178321 | 2.252514e-07 |\n| history     | 0.001092682 | 0.000336606 | 3.246176 | 1.170872e-03 |\n\n",
            "text/html": [
              "<table>\n",
              "<caption>A tibble: 3 × 5</caption>\n",
              "<thead>\n",
              "\t<tr><th scope=col>term</th><th scope=col>estimate</th><th scope=col>std.error</th><th scope=col>statistic</th><th scope=col>p.value</th></tr>\n",
              "\t<tr><th scope=col>&lt;chr&gt;</th><th scope=col>&lt;dbl&gt;</th><th scope=col>&lt;dbl&gt;</th><th scope=col>&lt;dbl&gt;</th><th scope=col>&lt;dbl&gt;</th></tr>\n",
              "</thead>\n",
              "<tbody>\n",
              "\t<tr><td>(Intercept)</td><td>0.324199564</td><td>0.144438990</td><td>2.244543</td><td>2.480430e-02</td></tr>\n",
              "\t<tr><td>treatment  </td><td>0.902610917</td><td>0.174305713</td><td>5.178321</td><td>2.252514e-07</td></tr>\n",
              "\t<tr><td>history    </td><td>0.001092682</td><td>0.000336606</td><td>3.246176</td><td>1.170872e-03</td></tr>\n",
              "</tbody>\n",
              "</table>\n"
            ]
          },
          "metadata": {
            "tags": []
          }
        }
      ]
    },
    {
      "cell_type": "markdown",
      "metadata": {
        "id": "r_wU8oh1pOEV",
        "colab_type": "text"
      },
      "source": [
        "treatmentの推定結果は0.9026109であり、その検定におけるp値も2.25e-07と非常に小さい値なので、帰無仮説（メール送信の効果はない）を棄却出来る。"
      ]
    },
    {
      "cell_type": "markdown",
      "metadata": {
        "id": "PAU4lRvd8EKU",
        "colab_type": "text"
      },
      "source": [
        "#共変量の追加による効果への作用"
      ]
    },
    {
      "cell_type": "code",
      "metadata": {
        "id": "OO91VmZR7HtI",
        "colab_type": "code",
        "colab": {
          "base_uri": "https://localhost:8080/",
          "height": 117
        },
        "outputId": "8d2cd183-290e-4d6a-d2c5-8431b47c95e9"
      },
      "source": [
        "## 推定されたパラメーターの取り出し\n",
        "biased_reg_coef <- tidy(biased_reg)\n",
        "\n",
        "# (7) RCTデータでの回帰分析とバイアスのあるデータでの回帰分析の比較\n",
        "## RCTデータでの単回帰\n",
        "rct_reg <- lm(data = male_df, formula = spend ~ treatment)\n",
        "rct_reg_coef <- tidy(rct_reg)\n",
        "rct_reg_coef"
      ],
      "execution_count": 7,
      "outputs": [
        {
          "output_type": "display_data",
          "data": {
            "text/plain": [
              "  term        estimate  std.error statistic p.value     \n",
              "1 (Intercept) 0.6527894 0.1027070 6.355841  2.093808e-10\n",
              "2 treatment   0.7698272 0.1452479 5.300090  1.163201e-07"
            ],
            "text/latex": "A tibble: 2 × 5\n\\begin{tabular}{lllll}\n term & estimate & std.error & statistic & p.value\\\\\n <chr> & <dbl> & <dbl> & <dbl> & <dbl>\\\\\n\\hline\n\t (Intercept) & 0.6527894 & 0.1027070 & 6.355841 & 2.093808e-10\\\\\n\t treatment   & 0.7698272 & 0.1452479 & 5.300090 & 1.163201e-07\\\\\n\\end{tabular}\n",
            "text/markdown": "\nA tibble: 2 × 5\n\n| term &lt;chr&gt; | estimate &lt;dbl&gt; | std.error &lt;dbl&gt; | statistic &lt;dbl&gt; | p.value &lt;dbl&gt; |\n|---|---|---|---|---|\n| (Intercept) | 0.6527894 | 0.1027070 | 6.355841 | 2.093808e-10 |\n| treatment   | 0.7698272 | 0.1452479 | 5.300090 | 1.163201e-07 |\n\n",
            "text/html": [
              "<table>\n",
              "<caption>A tibble: 2 × 5</caption>\n",
              "<thead>\n",
              "\t<tr><th scope=col>term</th><th scope=col>estimate</th><th scope=col>std.error</th><th scope=col>statistic</th><th scope=col>p.value</th></tr>\n",
              "\t<tr><th scope=col>&lt;chr&gt;</th><th scope=col>&lt;dbl&gt;</th><th scope=col>&lt;dbl&gt;</th><th scope=col>&lt;dbl&gt;</th><th scope=col>&lt;dbl&gt;</th></tr>\n",
              "</thead>\n",
              "<tbody>\n",
              "\t<tr><td>(Intercept)</td><td>0.6527894</td><td>0.1027070</td><td>6.355841</td><td>2.093808e-10</td></tr>\n",
              "\t<tr><td>treatment  </td><td>0.7698272</td><td>0.1452479</td><td>5.300090</td><td>1.163201e-07</td></tr>\n",
              "</tbody>\n",
              "</table>\n"
            ]
          },
          "metadata": {
            "tags": []
          }
        }
      ]
    },
    {
      "cell_type": "code",
      "metadata": {
        "id": "MlMiI19I8MuN",
        "colab_type": "code",
        "colab": {
          "base_uri": "https://localhost:8080/",
          "height": 117
        },
        "outputId": "dfe5e2bd-75ce-4753-8d11-ba9e6b1c9878"
      },
      "source": [
        "## バイアスのあるデータでの単回帰\n",
        "nonrct_reg <- lm(data = biased_data, formula = spend ~ treatment)\n",
        "nonrct_reg_coef <- tidy(nonrct_reg)\n",
        "nonrct_reg_coef"
      ],
      "execution_count": 8,
      "outputs": [
        {
          "output_type": "display_data",
          "data": {
            "text/plain": [
              "  term        estimate  std.error statistic p.value     \n",
              "1 (Intercept) 0.5483062 0.126891  4.321081  1.557365e-05\n",
              "2 treatment   0.9794465 0.172717  5.670817  1.433467e-08"
            ],
            "text/latex": "A tibble: 2 × 5\n\\begin{tabular}{lllll}\n term & estimate & std.error & statistic & p.value\\\\\n <chr> & <dbl> & <dbl> & <dbl> & <dbl>\\\\\n\\hline\n\t (Intercept) & 0.5483062 & 0.126891 & 4.321081 & 1.557365e-05\\\\\n\t treatment   & 0.9794465 & 0.172717 & 5.670817 & 1.433467e-08\\\\\n\\end{tabular}\n",
            "text/markdown": "\nA tibble: 2 × 5\n\n| term &lt;chr&gt; | estimate &lt;dbl&gt; | std.error &lt;dbl&gt; | statistic &lt;dbl&gt; | p.value &lt;dbl&gt; |\n|---|---|---|---|---|\n| (Intercept) | 0.5483062 | 0.126891 | 4.321081 | 1.557365e-05 |\n| treatment   | 0.9794465 | 0.172717 | 5.670817 | 1.433467e-08 |\n\n",
            "text/html": [
              "<table>\n",
              "<caption>A tibble: 2 × 5</caption>\n",
              "<thead>\n",
              "\t<tr><th scope=col>term</th><th scope=col>estimate</th><th scope=col>std.error</th><th scope=col>statistic</th><th scope=col>p.value</th></tr>\n",
              "\t<tr><th scope=col>&lt;chr&gt;</th><th scope=col>&lt;dbl&gt;</th><th scope=col>&lt;dbl&gt;</th><th scope=col>&lt;dbl&gt;</th><th scope=col>&lt;dbl&gt;</th></tr>\n",
              "</thead>\n",
              "<tbody>\n",
              "\t<tr><td>(Intercept)</td><td>0.5483062</td><td>0.126891</td><td>4.321081</td><td>1.557365e-05</td></tr>\n",
              "\t<tr><td>treatment  </td><td>0.9794465</td><td>0.172717</td><td>5.670817</td><td>1.433467e-08</td></tr>\n",
              "</tbody>\n",
              "</table>\n"
            ]
          },
          "metadata": {
            "tags": []
          }
        }
      ]
    },
    {
      "cell_type": "code",
      "metadata": {
        "id": "dDvnX2GNR-JR",
        "colab_type": "code",
        "colab": {
          "base_uri": "https://localhost:8080/",
          "height": 199
        },
        "outputId": "70c54cbc-c9e7-4b13-8567-243bf34e62b6"
      },
      "source": [
        "## バイアスのあるデータでの重回帰\n",
        "nonrct_mreg <- lm(data = biased_data,\n",
        "                  formula = spend ~ treatment + recency + channel + history)\n",
        "nonrct_mreg_coef <- tidy(nonrct_mreg)\n",
        "nonrct_mreg_coef"
      ],
      "execution_count": 9,
      "outputs": [
        {
          "output_type": "display_data",
          "data": {
            "text/plain": [
              "  term         estimate     std.error    statistic   p.value     \n",
              "1 (Intercept)   0.502412896 0.3793847254  1.32428341 1.854184e-01\n",
              "2 treatment     0.846575728 0.1784759605  4.74335998 2.111119e-06\n",
              "3 recency      -0.040266556 0.0259469894 -1.55187775 1.207014e-01\n",
              "4 channelPhone -0.001778911 0.3040193436 -0.00585131 9.953314e-01\n",
              "5 channelWeb    0.226159585 0.3034664353  0.74525403 4.561237e-01\n",
              "6 history       0.001029897 0.0003753754  2.74364500 6.079519e-03"
            ],
            "text/latex": "A tibble: 6 × 5\n\\begin{tabular}{lllll}\n term & estimate & std.error & statistic & p.value\\\\\n <chr> & <dbl> & <dbl> & <dbl> & <dbl>\\\\\n\\hline\n\t (Intercept)  &  0.502412896 & 0.3793847254 &  1.32428341 & 1.854184e-01\\\\\n\t treatment    &  0.846575728 & 0.1784759605 &  4.74335998 & 2.111119e-06\\\\\n\t recency      & -0.040266556 & 0.0259469894 & -1.55187775 & 1.207014e-01\\\\\n\t channelPhone & -0.001778911 & 0.3040193436 & -0.00585131 & 9.953314e-01\\\\\n\t channelWeb   &  0.226159585 & 0.3034664353 &  0.74525403 & 4.561237e-01\\\\\n\t history      &  0.001029897 & 0.0003753754 &  2.74364500 & 6.079519e-03\\\\\n\\end{tabular}\n",
            "text/markdown": "\nA tibble: 6 × 5\n\n| term &lt;chr&gt; | estimate &lt;dbl&gt; | std.error &lt;dbl&gt; | statistic &lt;dbl&gt; | p.value &lt;dbl&gt; |\n|---|---|---|---|---|\n| (Intercept)  |  0.502412896 | 0.3793847254 |  1.32428341 | 1.854184e-01 |\n| treatment    |  0.846575728 | 0.1784759605 |  4.74335998 | 2.111119e-06 |\n| recency      | -0.040266556 | 0.0259469894 | -1.55187775 | 1.207014e-01 |\n| channelPhone | -0.001778911 | 0.3040193436 | -0.00585131 | 9.953314e-01 |\n| channelWeb   |  0.226159585 | 0.3034664353 |  0.74525403 | 4.561237e-01 |\n| history      |  0.001029897 | 0.0003753754 |  2.74364500 | 6.079519e-03 |\n\n",
            "text/html": [
              "<table>\n",
              "<caption>A tibble: 6 × 5</caption>\n",
              "<thead>\n",
              "\t<tr><th scope=col>term</th><th scope=col>estimate</th><th scope=col>std.error</th><th scope=col>statistic</th><th scope=col>p.value</th></tr>\n",
              "\t<tr><th scope=col>&lt;chr&gt;</th><th scope=col>&lt;dbl&gt;</th><th scope=col>&lt;dbl&gt;</th><th scope=col>&lt;dbl&gt;</th><th scope=col>&lt;dbl&gt;</th></tr>\n",
              "</thead>\n",
              "<tbody>\n",
              "\t<tr><td>(Intercept) </td><td> 0.502412896</td><td>0.3793847254</td><td> 1.32428341</td><td>1.854184e-01</td></tr>\n",
              "\t<tr><td>treatment   </td><td> 0.846575728</td><td>0.1784759605</td><td> 4.74335998</td><td>2.111119e-06</td></tr>\n",
              "\t<tr><td>recency     </td><td>-0.040266556</td><td>0.0259469894</td><td>-1.55187775</td><td>1.207014e-01</td></tr>\n",
              "\t<tr><td>channelPhone</td><td>-0.001778911</td><td>0.3040193436</td><td>-0.00585131</td><td>9.953314e-01</td></tr>\n",
              "\t<tr><td>channelWeb  </td><td> 0.226159585</td><td>0.3034664353</td><td> 0.74525403</td><td>4.561237e-01</td></tr>\n",
              "\t<tr><td>history     </td><td> 0.001029897</td><td>0.0003753754</td><td> 2.74364500</td><td>6.079519e-03</td></tr>\n",
              "</tbody>\n",
              "</table>\n"
            ]
          },
          "metadata": {
            "tags": []
          }
        }
      ]
    },
    {
      "cell_type": "markdown",
      "metadata": {
        "id": "xcYkXl-VUjly",
        "colab_type": "text"
      },
      "source": [
        "共変量を加えることでtreatmentの値は0.84となり、セレクションバイアスの影響がより少ない結果を得られました。"
      ]
    },
    {
      "cell_type": "markdown",
      "metadata": {
        "id": "WtE0HXI6r-VN",
        "colab_type": "text"
      },
      "source": [
        "#OVBの確認"
      ]
    },
    {
      "cell_type": "code",
      "metadata": {
        "id": "7EydRyqcUc3t",
        "colab_type": "code",
        "colab": {}
      },
      "source": [
        "# (8) OVBの確認\n",
        "## (a) history抜きの回帰分析とパラメーターの取り出し\n",
        "short_coef <- biased_data %>%\n",
        "  lm(data = .,\n",
        "     formula = spend ~ treatment + recency + channel) %>%\n",
        "  tidy()\n",
        "\n",
        "## aの結果から介入効果に関するパラメーターのみを取り出す\n",
        "alpha_1 <- short_coef %>%\n",
        "  filter(term == \"treatment\") %>%\n",
        "  pull(estimate)\n",
        "\n",
        "## (b) historyを追加した回帰分析とパラメーターの取り出し\n",
        "long_coef <- biased_data %>%\n",
        "  lm(data = .,\n",
        "     formula = spend ~ treatment + recency + channel + history) %>%\n",
        "  tidy()\n",
        "\n",
        "## bの結果から介入とhistoryに関するパラメーターを取り出す\n",
        "beta_1 <- long_coef %>% filter(term == \"treatment\") %>% pull(estimate)\n",
        "beta_2 <- long_coef %>% filter(term == \"history\") %>% pull(estimate)\n",
        "\n",
        "## (c) 脱落した変数と介入変数での回帰分析\n",
        "omitted_coef <- biased_data %>%\n",
        "  lm(data = ., formula = history ~ treatment + channel + recency) %>%\n",
        "  tidy()\n",
        "## cの結果から介入変数に関するパラメーターを取り出す\n",
        "gamma_1 <- omitted_coef %>% filter(term == \"treatment\") %>% pull(estimate)"
      ],
      "execution_count": 10,
      "outputs": []
    },
    {
      "cell_type": "code",
      "metadata": {
        "id": "ZRIdUG9SAhDK",
        "colab_type": "code",
        "colab": {
          "base_uri": "https://localhost:8080/",
          "height": 51
        },
        "outputId": "6df42743-84d4-40f5-a038-bcff0a78ea74"
      },
      "source": [
        "beta_2*gamma_1\n",
        "alpha_1 - beta_1\n",
        "\n",
        "# (9) OVBの確認(broomを利用した場合)\n",
        "## broomの読み出し\n",
        "library(broom)\n",
        "\n",
        "## モデル式のベクトルを用意\n",
        "formula_vec <- c(spend ~ treatment + recency + channel, # モデルA\n",
        "               spend ~ treatment + recency + channel + history, # モデルB\n",
        "               history ~ treatment + channel + recency) # モデルC\n",
        "\n",
        "## formulaに名前を付ける\n",
        "names(formula_vec) <- paste(\"reg\", LETTERS[1:3], sep =\"_\")"
      ],
      "execution_count": 11,
      "outputs": [
        {
          "output_type": "display_data",
          "data": {
            "text/plain": [
              "[1] 0.02805398"
            ],
            "text/latex": "0.0280539805838665",
            "text/markdown": "0.0280539805838665",
            "text/html": [
              "0.0280539805838665"
            ]
          },
          "metadata": {
            "tags": []
          }
        },
        {
          "output_type": "display_data",
          "data": {
            "text/plain": [
              "[1] 0.02805398"
            ],
            "text/latex": "0.0280539805838663",
            "text/markdown": "0.0280539805838663",
            "text/html": [
              "0.0280539805838663"
            ]
          },
          "metadata": {
            "tags": []
          }
        }
      ]
    },
    {
      "cell_type": "code",
      "metadata": {
        "id": "Y0u75D-1Arw2",
        "colab_type": "code",
        "colab": {}
      },
      "source": [
        "## モデル式のデータフレーム化\n",
        "models = formula_vec %>%\n",
        "  enframe(name = \"model_index\", value = \"formula\")"
      ],
      "execution_count": 12,
      "outputs": []
    },
    {
      "cell_type": "code",
      "metadata": {
        "id": "XZEQm4-qAw0a",
        "colab_type": "code",
        "colab": {}
      },
      "source": [
        "## まとめて回帰分析を実行\n",
        "df_models <- models %>%\n",
        "  mutate(model = map(.x = formula, .f = lm, data = biased_data)) %>%\n",
        "  mutate(lm_result = map(.x = model, .f = tidy))\n",
        "\n",
        "## モデルの結果を整形\n",
        "df_results <- df_models %>%\n",
        "  mutate(formula = as.character(formula)) %>%\n",
        "  select(formula, model_index, lm_result) %>%\n",
        "  unnest(cols = lm_result)\n",
        "\n",
        "## モデルA,B,Cでのtreatmentのパラメータを抜き出す\n",
        "treatment_coef <- df_results %>%\n",
        "  filter(term == \"treatment\") %>%\n",
        "  pull(estimate)\n",
        "\n",
        "## モデルBからhistoryのパラメータを抜き出す\n",
        "history_coef <- df_results %>%\n",
        "  filter(model_index == \"reg_B\",\n",
        "         term == \"history\") %>%\n",
        "  pull(estimate)"
      ],
      "execution_count": 13,
      "outputs": []
    },
    {
      "cell_type": "code",
      "metadata": {
        "id": "tPeGD7oPPEbm",
        "colab_type": "code",
        "colab": {
          "base_uri": "https://localhost:8080/",
          "height": 51
        },
        "outputId": "260f8002-5719-4c38-edae-aab758663caa"
      },
      "source": [
        "## OVBの確認\n",
        "OVB <- history_coef*treatment_coef[3]\n",
        "coef_gap <- treatment_coef[1] - treatment_coef[2]\n",
        "OVB # beta_2*gamma_1\n",
        "coef_gap # alpha_1 - beta_1"
      ],
      "execution_count": 14,
      "outputs": [
        {
          "output_type": "display_data",
          "data": {
            "text/plain": [
              "[1] 0.02805398"
            ],
            "text/latex": "0.0280539805838665",
            "text/markdown": "0.0280539805838665",
            "text/html": [
              "0.0280539805838665"
            ]
          },
          "metadata": {
            "tags": []
          }
        },
        {
          "output_type": "display_data",
          "data": {
            "text/plain": [
              "[1] 0.02805398"
            ],
            "text/latex": "0.0280539805838663",
            "text/markdown": "0.0280539805838663",
            "text/html": [
              "0.0280539805838663"
            ]
          },
          "metadata": {
            "tags": []
          }
        }
      ]
    },
    {
      "cell_type": "code",
      "metadata": {
        "id": "r0tmIVqrQARg",
        "colab_type": "code",
        "colab": {}
      },
      "source": [
        ""
      ],
      "execution_count": 15,
      "outputs": []
    }
  ]
}