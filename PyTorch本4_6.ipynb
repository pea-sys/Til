{
  "nbformat": 4,
  "nbformat_minor": 0,
  "metadata": {
    "colab": {
      "name": "PyTorch本4-6.ipynb",
      "provenance": [],
      "authorship_tag": "ABX9TyMIrRboaUVRW7Afk1uREhxE",
      "include_colab_link": true
    },
    "kernelspec": {
      "name": "python3",
      "display_name": "Python 3"
    },
    "accelerator": "GPU"
  },
  "cells": [
    {
      "cell_type": "markdown",
      "metadata": {
        "id": "view-in-github",
        "colab_type": "text"
      },
      "source": [
        "<a href=\"https://colab.research.google.com/github/pea-sys/Til/blob/master/PyTorch%E6%9C%AC4_6.ipynb\" target=\"_parent\"><img src=\"https://colab.research.google.com/assets/colab-badge.svg\" alt=\"Open In Colab\"/></a>"
      ]
    },
    {
      "cell_type": "markdown",
      "metadata": {
        "id": "aI9_Krmr66ya",
        "colab_type": "text"
      },
      "source": [
        "# 3 4.6 学習と検証の実施\n",
        "本ファイルでは、OpenPoseの学習と検証の実施を行います。AWSのGPUマシンで計算します。\n",
        "p2.xlargeで45分ほどかかります。  \n",
        "\n",
        "学習目標  \n",
        "* OpenPoseの学習を実装できるようになる\n",
        "\n",
        "[写経元](https://github.com/YutaroOgawa/pytorch_advanced/blob/master/4_pose_estimation/4-6_OpenPose_training.ipynb)"
      ]
    },
    {
      "cell_type": "code",
      "metadata": {
        "id": "IdC-9CYX6Kcc",
        "colab_type": "code",
        "colab": {}
      },
      "source": [
        "import google.colab\n",
        "import googleapiclient.discovery\n",
        "import googleapiclient.http\n",
        "google.colab.auth.authenticate_user()\n",
        "drive_service = googleapiclient.discovery.build('drive', 'v3')"
      ],
      "execution_count": 0,
      "outputs": []
    },
    {
      "cell_type": "code",
      "metadata": {
        "id": "X0wWm5cq5wQY",
        "colab_type": "code",
        "colab": {
          "base_uri": "https://localhost:8080/",
          "height": 106
        },
        "outputId": "cc26d9f2-8a78-4910-b87e-6c7dc9e1d72d"
      },
      "source": [
        "!git clone https://github.com/YutaroOgawa/pytorch_advanced.git"
      ],
      "execution_count": 2,
      "outputs": [
        {
          "output_type": "stream",
          "text": [
            "Cloning into 'pytorch_advanced'...\n",
            "remote: Enumerating objects: 441, done.\u001b[K\n",
            "remote: Total 441 (delta 0), reused 0 (delta 0), pack-reused 441\u001b[K\n",
            "Receiving objects: 100% (441/441), 14.62 MiB | 16.51 MiB/s, done.\n",
            "Resolving deltas: 100% (231/231), done.\n"
          ],
          "name": "stdout"
        }
      ]
    },
    {
      "cell_type": "code",
      "metadata": {
        "id": "DspegoRv53Oc",
        "colab_type": "code",
        "colab": {
          "base_uri": "https://localhost:8080/",
          "height": 52
        },
        "outputId": "8652cb0b-ab8d-40da-9c0c-44788415692a"
      },
      "source": [
        "%cd pytorch_advanced/\n",
        "%cd 4_pose_estimation"
      ],
      "execution_count": 3,
      "outputs": [
        {
          "output_type": "stream",
          "text": [
            "/content/pytorch_advanced\n",
            "/content/pytorch_advanced/4_pose_estimation\n"
          ],
          "name": "stdout"
        }
      ]
    },
    {
      "cell_type": "code",
      "metadata": {
        "id": "2AMGp5gq5_9w",
        "colab_type": "code",
        "colab": {}
      },
      "source": [
        "import os\n",
        "import urllib.request\n",
        "import zipfile\n",
        "import tarfile"
      ],
      "execution_count": 0,
      "outputs": []
    },
    {
      "cell_type": "code",
      "metadata": {
        "id": "Cb42YSol6Bae",
        "colab_type": "code",
        "colab": {}
      },
      "source": [
        "# フォルダ「data」が存在しない場合は作成する\n",
        "data_dir = \"./data/\"\n",
        "if not os.path.exists(data_dir):\n",
        "    os.mkdir(data_dir)\n",
        "\n",
        "# フォルダ「weights」が存在しない場合は作成する\n",
        "weights_dir = \"./weights/\"\n",
        "if not os.path.exists(weights_dir):\n",
        "    os.mkdir(weights_dir)"
      ],
      "execution_count": 0,
      "outputs": []
    },
    {
      "cell_type": "code",
      "metadata": {
        "id": "J_afALWA6Ej5",
        "colab_type": "code",
        "colab": {}
      },
      "source": [
        "# MSCOCOの2014 Val images [41K/6GB]をダウンロード\n",
        "# 6GBのダウンロードと解凍なので時間がかかります（10分弱）\n",
        "url =  \"http://images.cocodataset.org/zips/val2014.zip\"\n",
        "target_path = os.path.join(data_dir, \"val2014.zip\") \n",
        "\n",
        "if not os.path.exists(target_path):\n",
        "    urllib.request.urlretrieve(url, target_path)\n",
        "    \n",
        "    zip = zipfile.ZipFile(target_path)\n",
        "    zip.extractall(data_dir)  # ZIPを解凍\n",
        "    zip.close()  # ZIPファイルをクローズ"
      ],
      "execution_count": 0,
      "outputs": []
    },
    {
      "cell_type": "code",
      "metadata": {
        "id": "_HHTzPY26GqA",
        "colab_type": "code",
        "colab": {
          "base_uri": "https://localhost:8080/",
          "height": 159
        },
        "outputId": "e7c446c4-ac78-492b-d393-1d098bae1df6"
      },
      "source": [
        "def gdrive_dl(filename):\n",
        "  upload_filename = filename\n",
        "\n",
        "  file_list = drive_service.files().list(q=\"name='\" + upload_filename + \"'\").execute().get('files')\n",
        "\n",
        "  # ファイル ID を取得します。\n",
        "  file_id = None\n",
        "  for file in file_list:\n",
        "    if file.get('name') == upload_filename:\n",
        "      file_id = file.get('id')\n",
        "      break\n",
        "\n",
        "  if file_id is None:\n",
        "    # ファイル ID を取得できなかった場合はエラーメッセージを出力します。\n",
        "    print(upload_filename + ' が見つかりません.')\n",
        "  else:\n",
        "    # colab 環境へファイルをアップロードします。\n",
        "    with open(upload_filename, 'wb') as f:\n",
        "      request = drive_service.files().get_media(fileId=file_id)\n",
        "      media = googleapiclient.http.MediaIoBaseDownload(f, request)\n",
        "\n",
        "      done = False\n",
        "      while not done:\n",
        "        progress_status, done = media.next_chunk()\n",
        "        print(100*progress_status.progress(), end=\"\")\n",
        "        print(\"%完了\")\n",
        "\n",
        "    print('GoogleドライブからColab環境へのファイル取り込みが完了しました.')\n",
        "    \n",
        "gdrive_dl(\"COCO.json\")\n",
        "gdrive_dl(\"mask.tar.gz\")"
      ],
      "execution_count": 7,
      "outputs": [
        {
          "output_type": "stream",
          "text": [
            "24.539609335739986%完了\n",
            "49.07921867147997%完了\n",
            "73.61882800721995%完了\n",
            "98.15843734295994%完了\n",
            "100.0%完了\n",
            "GoogleドライブからColab環境へのファイル取り込みが完了しました.\n",
            "100.0%完了\n",
            "GoogleドライブからColab環境へのファイル取り込みが完了しました.\n"
          ],
          "name": "stdout"
        }
      ]
    },
    {
      "cell_type": "code",
      "metadata": {
        "id": "H2IlXtBX6Nof",
        "colab_type": "code",
        "colab": {}
      },
      "source": [
        "# mask.tar.gzの解凍\n",
        "save_path = \"mask.tar.gz\"\n",
        "\n",
        "with tarfile.open(save_path, 'r:*') as tar:\n",
        "    tar.extractall(data_dir)\n"
      ],
      "execution_count": 0,
      "outputs": []
    },
    {
      "cell_type": "code",
      "metadata": {
        "id": "-MIys__JcM0M",
        "colab_type": "code",
        "colab": {}
      },
      "source": [
        "#with open('COCO.json', 'w') as f:\n",
        "#    f.write(data_dir + 'COCO.json')"
      ],
      "execution_count": 0,
      "outputs": []
    },
    {
      "cell_type": "code",
      "metadata": {
        "id": "_rzNoOJCcW_K",
        "colab_type": "code",
        "colab": {}
      },
      "source": [
        "#% cd .."
      ],
      "execution_count": 0,
      "outputs": []
    },
    {
      "cell_type": "code",
      "metadata": {
        "id": "EVH-nn0U6U9_",
        "colab_type": "code",
        "colab": {}
      },
      "source": [
        "# パッケージのimport\n",
        "import random\n",
        "import math\n",
        "import time\n",
        "import pandas as pd\n",
        "import numpy as np\n",
        "import torch\n",
        "import torch.utils.data as data\n",
        "import torch.nn as nn\n",
        "import torch.nn.functional as F\n",
        "import torch.optim as optim"
      ],
      "execution_count": 0,
      "outputs": []
    },
    {
      "cell_type": "code",
      "metadata": {
        "id": "Qxwwd2lG6Xhu",
        "colab_type": "code",
        "colab": {}
      },
      "source": [
        "# 初期設定\n",
        "# Setup seeds\n",
        "torch.manual_seed(1234)\n",
        "np.random.seed(1234)\n",
        "random.seed(1234)"
      ],
      "execution_count": 0,
      "outputs": []
    },
    {
      "cell_type": "code",
      "metadata": {
        "id": "LHGi5YfdXN7y",
        "colab_type": "code",
        "colab": {}
      },
      "source": [
        "#%cd .."
      ],
      "execution_count": 0,
      "outputs": []
    },
    {
      "cell_type": "code",
      "metadata": {
        "id": "gLl-3VzLXK0T",
        "colab_type": "code",
        "colab": {
          "base_uri": "https://localhost:8080/",
          "height": 230
        },
        "outputId": "44a65299-b225-4d58-f085-0c80c714f8dd"
      },
      "source": [
        "os.listdir()"
      ],
      "execution_count": 14,
      "outputs": [
        {
          "output_type": "execute_result",
          "data": {
            "text/plain": [
              "['4-2_DataLoader.ipynb',\n",
              " 'mask.tar.gz',\n",
              " 'weights',\n",
              " '4-6_OpenPose_training.ipynb',\n",
              " 'make_folders_and_data_downloads.ipynb',\n",
              " 'COCO.json',\n",
              " '4-5_TensorBoardX.ipynb',\n",
              " 'data',\n",
              " '4-3-4_NetworkModel.ipynb',\n",
              " 'utils',\n",
              " '.gitignore',\n",
              " '4-7_OpenPose_inference.ipynb']"
            ]
          },
          "metadata": {
            "tags": []
          },
          "execution_count": 14
        }
      ]
    },
    {
      "cell_type": "code",
      "metadata": {
        "id": "1el7vlbao20K",
        "colab_type": "code",
        "colab": {}
      },
      "source": [
        "import os.path as osp\n",
        "import json\n",
        "\n",
        "def make_datapath_list(rootpath):\n",
        "    \"\"\"\n",
        "    学習、検証の画像データとアノテーションデータ、マスクデータへのファイルパスリストを作成する。\n",
        "    \"\"\"\n",
        "\n",
        "    # アノテーションのJSONファイルを読み込む\n",
        "    json_path = osp.join('', 'COCO.json')#rootpath\n",
        "    with open(json_path) as data_file:\n",
        "        data_this = json.load(data_file)\n",
        "        data_json = data_this['root']\n",
        "\n",
        "    # indexを格納\n",
        "    num_samples = len(data_json)\n",
        "    train_indexes = []\n",
        "    val_indexes = []\n",
        "    for count in range(num_samples):\n",
        "        if data_json[count]['isValidation'] != 0.:\n",
        "            val_indexes.append(count)\n",
        "        else:\n",
        "            train_indexes.append(count)\n",
        "\n",
        "    # 画像ファイルパスを格納\n",
        "    train_img_list = list()\n",
        "    val_img_list = list()\n",
        "\n",
        "    for idx in train_indexes:\n",
        "        img_path = os.path.join(rootpath, data_json[idx]['img_paths'])\n",
        "        train_img_list.append(img_path)\n",
        "\n",
        "    for idx in val_indexes:\n",
        "        img_path = os.path.join(rootpath, data_json[idx]['img_paths'])\n",
        "        val_img_list.append(img_path)\n",
        "\n",
        "    # マスクデータのパスを格納\n",
        "    train_mask_list = []\n",
        "    val_mask_list = []\n",
        "\n",
        "    for idx in train_indexes:\n",
        "        img_idx = data_json[idx]['img_paths'][-16:-4]\n",
        "        anno_path = \"./data/mask/train2014/mask_COCO_tarin2014_\" + img_idx+'.jpg'\n",
        "        train_mask_list.append(anno_path)\n",
        "\n",
        "    for idx in val_indexes:\n",
        "        img_idx = data_json[idx]['img_paths'][-16:-4]\n",
        "        anno_path = \"./data/mask/val2014/mask_COCO_val2014_\" + img_idx+'.jpg'\n",
        "        val_mask_list.append(anno_path)\n",
        "\n",
        "    # アノテーションデータを格納\n",
        "    train_meta_list = list()\n",
        "    val_meta_list = list()\n",
        "\n",
        "    for idx in train_indexes:\n",
        "        train_meta_list.append(data_json[idx])\n",
        "\n",
        "    for idx in val_indexes:\n",
        "        val_meta_list.append(data_json[idx])\n",
        "\n",
        "    return train_img_list, train_mask_list, val_img_list, val_mask_list, train_meta_list, val_meta_list"
      ],
      "execution_count": 0,
      "outputs": []
    },
    {
      "cell_type": "code",
      "metadata": {
        "id": "RB3yTwhF6Zza",
        "colab_type": "code",
        "colab": {}
      },
      "source": [
        "from utils.dataloader import  DataTransform, COCOkeypointsDataset #make_datapath_list,\n",
        "\n",
        "# MS COCOのファイルパスリスト作成\n",
        "train_img_list, train_mask_list, val_img_list, val_mask_list, train_meta_list, val_meta_list = make_datapath_list(rootpath=\"./data/\")#\n",
        "\n",
        "# Dataset作成\n",
        "# 本書ではデータ量の問題から、trainをval_listで作成している点に注意\n",
        "train_dataset = COCOkeypointsDataset(\n",
        "    val_img_list, val_mask_list, val_meta_list, phase=\"train\", transform=DataTransform())\n",
        "\n",
        "# 今回は簡易な学習とし検証データは作成しない\n",
        "# val_dataset = CocokeypointsDataset(val_img_list, val_mask_list, val_meta_list, phase=\"val\", transform=DataTransform())\n",
        "\n",
        "# DataLoader作成\n",
        "batch_size = 32\n",
        "\n",
        "train_dataloader = data.DataLoader(\n",
        "    train_dataset, batch_size=batch_size, shuffle=True)\n",
        "\n",
        "# val_dataloader = data.DataLoader(\n",
        "#    val_dataset, batch_size=batch_size, shuffle=False)\n",
        "\n",
        "# 辞書型変数にまとめる\n",
        "# dataloaders_dict = {\"train\": train_dataloader, \"val\": val_dataloader}\n",
        "dataloaders_dict = {\"train\": train_dataloader, \"val\": None}"
      ],
      "execution_count": 0,
      "outputs": []
    },
    {
      "cell_type": "code",
      "metadata": {
        "id": "sDld-5UI6cIv",
        "colab_type": "code",
        "colab": {
          "base_uri": "https://localhost:8080/",
          "height": 52
        },
        "outputId": "5b102a71-67ff-4dff-8b23-136c62fcbf3a"
      },
      "source": [
        "from utils.openpose_net import OpenPoseNet\n",
        "net = OpenPoseNet()"
      ],
      "execution_count": 17,
      "outputs": [
        {
          "output_type": "stream",
          "text": [
            "Downloading: \"https://download.pytorch.org/models/vgg19-dcbb9e9d.pth\" to /root/.cache/torch/checkpoints/vgg19-dcbb9e9d.pth\n",
            "100%|██████████| 548M/548M [00:06<00:00, 87.1MB/s]\n"
          ],
          "name": "stderr"
        }
      ]
    },
    {
      "cell_type": "code",
      "metadata": {
        "id": "flVYGvUC6eZ_",
        "colab_type": "code",
        "colab": {}
      },
      "source": [
        "# 損失関数の設定\n",
        "class OpenPoseLoss(nn.Module):\n",
        "    \"\"\"OpenPoseの損失関数のクラスです。\"\"\"\n",
        "\n",
        "    def __init__(self):\n",
        "        super(OpenPoseLoss, self).__init__()\n",
        "\n",
        "    def forward(self, saved_for_loss, heatmap_target, heat_mask, paf_target, paf_mask):\n",
        "        \"\"\"\n",
        "        損失関数の計算。\n",
        "\n",
        "        Parameters\n",
        "        ----------\n",
        "        saved_for_loss : OpenPoseNetの出力(リスト)\n",
        "\n",
        "        heatmap_target : [num_batch, 19, 46, 46]\n",
        "            正解の部位のアノテーション情報\n",
        "\n",
        "        heatmap_mask : [num_batch, 19, 46, 46]\n",
        "            heatmap画像のmask\n",
        "\n",
        "        paf_target : [num_batch, 38, 46, 46]\n",
        "            正解のPAFのアノテーション情報\n",
        "\n",
        "        paf_mask : [num_batch, 38, 46, 46]\n",
        "            PAF画像のmask\n",
        "\n",
        "        Returns\n",
        "        -------\n",
        "        loss : テンソル\n",
        "            損失の値\n",
        "        \"\"\"\n",
        "\n",
        "        total_loss = 0\n",
        "        # ステージごとに計算します\n",
        "        for j in range(6):\n",
        "\n",
        "            # PAFsとheatmapsにおいて、マスクされている部分（paf_mask=0など）は無視させる\n",
        "            # PAFs\n",
        "            pred1 = saved_for_loss[2 * j] * paf_mask\n",
        "            gt1 = paf_target.float() * paf_mask\n",
        "\n",
        "            # heatmaps\n",
        "            pred2 = saved_for_loss[2 * j + 1] * heat_mask\n",
        "            gt2 = heatmap_target.float()*heat_mask\n",
        "\n",
        "            total_loss += F.mse_loss(pred1, gt1, reduction='mean') + \\\n",
        "                F.mse_loss(pred2, gt2, reduction='mean')\n",
        "\n",
        "        return total_loss\n",
        "\n",
        "\n",
        "criterion = OpenPoseLoss()"
      ],
      "execution_count": 0,
      "outputs": []
    },
    {
      "cell_type": "code",
      "metadata": {
        "id": "0bSogYVp6gLH",
        "colab_type": "code",
        "colab": {}
      },
      "source": [
        "optimizer = optim.SGD(net.parameters(), lr=1e-2,\n",
        "                      momentum=0.9,\n",
        "                      weight_decay=0.0001)"
      ],
      "execution_count": 0,
      "outputs": []
    },
    {
      "cell_type": "code",
      "metadata": {
        "id": "839ZnjOm6jz5",
        "colab_type": "code",
        "colab": {}
      },
      "source": [
        "# モデルを学習させる関数を作成\n",
        "\n",
        "\n",
        "def train_model(net, dataloaders_dict, criterion, optimizer, num_epochs):\n",
        "\n",
        "    # GPUが使えるかを確認\n",
        "    device = torch.device(\"cuda:0\" if torch.cuda.is_available() else \"cpu\")\n",
        "    print(\"使用デバイス：\", device)\n",
        "\n",
        "    # ネットワークをGPUへ\n",
        "    net.to(device)\n",
        "\n",
        "    # ネットワークがある程度固定であれば、高速化させる\n",
        "    torch.backends.cudnn.benchmark = True\n",
        "\n",
        "    # 画像の枚数\n",
        "    num_train_imgs = len(dataloaders_dict[\"train\"].dataset)\n",
        "    batch_size = dataloaders_dict[\"train\"].batch_size\n",
        "\n",
        "    # イテレーションカウンタをセット\n",
        "    iteration = 1\n",
        "\n",
        "    # epochのループ\n",
        "    for epoch in range(num_epochs):\n",
        "\n",
        "        # 開始時刻を保存\n",
        "        t_epoch_start = time.time()\n",
        "        t_iter_start = time.time()\n",
        "        epoch_train_loss = 0.0  # epochの損失和\n",
        "        epoch_val_loss = 0.0  # epochの損失和\n",
        "\n",
        "        print('-------------')\n",
        "        print('Epoch {}/{}'.format(epoch+1, num_epochs))\n",
        "        print('-------------')\n",
        "\n",
        "        # epochごとの訓練と検証のループ\n",
        "        for phase in ['train', 'val']:\n",
        "            if phase == 'train':\n",
        "                net.train()  # モデルを訓練モードに\n",
        "                optimizer.zero_grad()\n",
        "                print('（train）')\n",
        "\n",
        "            # 今回は検証はスキップ\n",
        "            else:\n",
        "                continue\n",
        "                # net.eval()   # モデルを検証モードに\n",
        "                # print('-------------')\n",
        "                # print('（val）')\n",
        "\n",
        "            # データローダーからminibatchずつ取り出すループ\n",
        "            for imges, heatmap_target, heat_mask, paf_target, paf_mask in dataloaders_dict[phase]:\n",
        "                # ミニバッチがサイズが1だと、バッチノーマライゼーションでエラーになるのでさける\n",
        "                if imges.size()[0] == 1:\n",
        "                    continue\n",
        "\n",
        "                # GPUが使えるならGPUにデータを送る\n",
        "                imges = imges.to(device)\n",
        "                heatmap_target = heatmap_target.to(device)\n",
        "                heat_mask = heat_mask.to(device)\n",
        "                paf_target = paf_target.to(device)\n",
        "                paf_mask = paf_mask.to(device)\n",
        "\n",
        "                # optimizerを初期化\n",
        "                optimizer.zero_grad()\n",
        "\n",
        "                # 順伝搬（forward）計算\n",
        "                with torch.set_grad_enabled(phase == 'train'):\n",
        "                    # (out6_1, out6_2)は使わないので _ で代替\n",
        "                    _, saved_for_loss = net(imges)\n",
        "\n",
        "                    loss = criterion(saved_for_loss, heatmap_target,\n",
        "                                     heat_mask, paf_target, paf_mask)\n",
        "                    del saved_for_loss\n",
        "                    # 訓練時はバックプロパゲーション\n",
        "                    if phase == 'train':\n",
        "                        loss.backward()\n",
        "                        optimizer.step()\n",
        "\n",
        "                        if (iteration % 10 == 0):  # 10iterに1度、lossを表示\n",
        "                            t_iter_finish = time.time()\n",
        "                            duration = t_iter_finish - t_iter_start\n",
        "                            print('イテレーション {} || Loss: {:.4f} || 10iter: {:.4f} sec.'.format(\n",
        "                                iteration, loss.item()/batch_size, duration))\n",
        "                            t_iter_start = time.time()\n",
        "\n",
        "                        epoch_train_loss += loss.item()\n",
        "                        iteration += 1\n",
        "\n",
        "                    # 検証時\n",
        "                    # else:\n",
        "                        #epoch_val_loss += loss.item()\n",
        "\n",
        "        # epochのphaseごとのlossと正解率\n",
        "        t_epoch_finish = time.time()\n",
        "        print('-------------')\n",
        "        print('epoch {} || Epoch_TRAIN_Loss:{:.4f} ||Epoch_VAL_Loss:{:.4f}'.format(\n",
        "            epoch+1, epoch_train_loss/num_train_imgs, 0))\n",
        "        print('timer:  {:.4f} sec.'.format(t_epoch_finish - t_epoch_start))\n",
        "        t_epoch_start = time.time()\n",
        "\n",
        "    # 最後のネットワークを保存する\n",
        "    torch.save(net.state_dict(), 'weights/openpose_net_' +\n",
        "               str(epoch+1) + '.pth')"
      ],
      "execution_count": 0,
      "outputs": []
    },
    {
      "cell_type": "code",
      "metadata": {
        "id": "MOxhlDP8m_0Q",
        "colab_type": "code",
        "colab": {
          "base_uri": "https://localhost:8080/",
          "height": 35
        },
        "outputId": "911e80ae-6e36-4140-e59c-dd8789c62a34"
      },
      "source": [
        "dataloaders_dict['train']"
      ],
      "execution_count": 21,
      "outputs": [
        {
          "output_type": "execute_result",
          "data": {
            "text/plain": [
              "<torch.utils.data.dataloader.DataLoader at 0x7f88ab245eb8>"
            ]
          },
          "metadata": {
            "tags": []
          },
          "execution_count": 21
        }
      ]
    },
    {
      "cell_type": "code",
      "metadata": {
        "id": "A4fOp-XV6luL",
        "colab_type": "code",
        "colab": {
          "base_uri": "https://localhost:8080/",
          "height": 817
        },
        "outputId": "a722940a-a847-43cc-e5b9-dbbbd97f1537"
      },
      "source": [
        "# 学習・検証を実行する\n",
        "num_epochs = 2\n",
        "train_model(net, dataloaders_dict, criterion, optimizer, num_epochs=num_epochs)"
      ],
      "execution_count": 22,
      "outputs": [
        {
          "output_type": "stream",
          "text": [
            "使用デバイス： cuda:0\n",
            "-------------\n",
            "Epoch 1/2\n",
            "-------------\n",
            "（train）\n",
            "イテレーション 10 || Loss: 0.0094 || 10iter: 68.2397 sec.\n",
            "イテレーション 20 || Loss: 0.0082 || 10iter: 54.6333 sec.\n",
            "イテレーション 30 || Loss: 0.0069 || 10iter: 51.5260 sec.\n",
            "イテレーション 40 || Loss: 0.0058 || 10iter: 56.3577 sec.\n",
            "イテレーション 50 || Loss: 0.0050 || 10iter: 56.0257 sec.\n",
            "イテレーション 60 || Loss: 0.0042 || 10iter: 55.9908 sec.\n",
            "イテレーション 70 || Loss: 0.0038 || 10iter: 57.2132 sec.\n",
            "イテレーション 80 || Loss: 0.0031 || 10iter: 56.8158 sec.\n",
            "イテレーション 90 || Loss: 0.0027 || 10iter: 57.3063 sec.\n",
            "イテレーション 100 || Loss: 0.0026 || 10iter: 58.1666 sec.\n",
            "イテレーション 110 || Loss: 0.0023 || 10iter: 57.2778 sec.\n",
            "イテレーション 120 || Loss: 0.0020 || 10iter: 55.6497 sec.\n",
            "イテレーション 130 || Loss: 0.0020 || 10iter: 55.6030 sec.\n",
            "イテレーション 140 || Loss: 0.0019 || 10iter: 57.8424 sec.\n",
            "イテレーション 150 || Loss: 0.0016 || 10iter: 55.6252 sec.\n",
            "-------------\n",
            "epoch 1 || Epoch_TRAIN_Loss:0.0043 ||Epoch_VAL_Loss:0.0000\n",
            "timer:  892.1738 sec.\n",
            "-------------\n",
            "Epoch 2/2\n",
            "-------------\n",
            "（train）\n",
            "イテレーション 160 || Loss: 0.0017 || 10iter: 41.1635 sec.\n",
            "イテレーション 170 || Loss: 0.0017 || 10iter: 55.5259 sec.\n",
            "イテレーション 180 || Loss: 0.0015 || 10iter: 56.4820 sec.\n",
            "イテレーション 190 || Loss: 0.0015 || 10iter: 54.4232 sec.\n",
            "イテレーション 200 || Loss: 0.0015 || 10iter: 55.1663 sec.\n",
            "イテレーション 210 || Loss: 0.0016 || 10iter: 56.0528 sec.\n",
            "イテレーション 220 || Loss: 0.0014 || 10iter: 55.8073 sec.\n",
            "イテレーション 230 || Loss: 0.0016 || 10iter: 54.9106 sec.\n",
            "イテレーション 240 || Loss: 0.0017 || 10iter: 54.2740 sec.\n",
            "イテレーション 250 || Loss: 0.0014 || 10iter: 54.9165 sec.\n",
            "イテレーション 260 || Loss: 0.0012 || 10iter: 57.8793 sec.\n",
            "イテレーション 270 || Loss: 0.0012 || 10iter: 56.4541 sec.\n",
            "イテレーション 280 || Loss: 0.0015 || 10iter: 55.1529 sec.\n",
            "イテレーション 290 || Loss: 0.0011 || 10iter: 55.8116 sec.\n",
            "イテレーション 300 || Loss: 0.0012 || 10iter: 56.1056 sec.\n",
            "-------------\n",
            "epoch 2 || Epoch_TRAIN_Loss:0.0015 ||Epoch_VAL_Loss:0.0000\n",
            "timer:  864.3357 sec.\n"
          ],
          "name": "stdout"
        }
      ]
    },
    {
      "cell_type": "code",
      "metadata": {
        "id": "jJBAWCFDm1FT",
        "colab_type": "code",
        "colab": {}
      },
      "source": [
        ""
      ],
      "execution_count": 0,
      "outputs": []
    }
  ]
}