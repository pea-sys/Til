{
  "nbformat": 4,
  "nbformat_minor": 0,
  "metadata": {
    "colab": {
      "name": "Alice.ipynb",
      "provenance": [],
      "collapsed_sections": [],
      "authorship_tag": "ABX9TyNpRKdnRJnw4oSzrxQGfYX2",
      "include_colab_link": true
    },
    "kernelspec": {
      "name": "python3",
      "display_name": "Python 3"
    }
  },
  "cells": [
    {
      "cell_type": "markdown",
      "metadata": {
        "id": "view-in-github",
        "colab_type": "text"
      },
      "source": [
        "<a href=\"https://colab.research.google.com/github/pea-sys/Til/blob/master/Alice.ipynb\" target=\"_parent\"><img src=\"https://colab.research.google.com/assets/colab-badge.svg\" alt=\"Open In Colab\"/></a>"
      ]
    },
    {
      "cell_type": "markdown",
      "metadata": {
        "id": "xqQk2bl2_n3V",
        "colab_type": "text"
      },
      "source": [
        "# シーザー暗号(Caesar ciphar) \n",
        "平文で使われているアルファベットを、一定の文字数だけ「ずらす」ことによって暗号化を行う\n",
        "\n",
        "Pythonでは13文字シフトするrot13が提供されている"
      ]
    },
    {
      "cell_type": "code",
      "metadata": {
        "id": "WFRAQkJ8-rBr",
        "colab_type": "code",
        "outputId": "ade7c292-7508-4e1c-ea95-5ecd155f3749",
        "colab": {
          "base_uri": "https://localhost:8080/",
          "height": 34
        }
      },
      "source": [
        "import codecs\n",
        "text = 'Hello'\n",
        "enc = codecs.encode(text, 'rot13')\n",
        "dec = codecs.decode(enc, 'rot13')\n",
        "print(text, '->',enc,'->',dec)"
      ],
      "execution_count": 1,
      "outputs": [
        {
          "output_type": "stream",
          "text": [
            "Hello -> Uryyb -> Hello\n"
          ],
          "name": "stdout"
        }
      ]
    },
    {
      "cell_type": "code",
      "metadata": {
        "id": "2hAzzWVAITbK",
        "colab_type": "code",
        "outputId": "93cc5164-4c4b-43cb-e9c5-0ccfc128b80c",
        "colab": {
          "base_uri": "https://localhost:8080/",
          "height": 34
        }
      },
      "source": [
        "#https://www.whyit.work/entry/2018/07/31/144050\n",
        "#シフト数を指定する場合は自作する必要あり(以下は数字シフトも含む)\n",
        "def caesar(s, n):\n",
        "    ns = []\n",
        "    for ch in s:\n",
        "        # A - Z\n",
        "        if ('A' <= ch and ch <= 'Z'):\n",
        "            ns.append(chr((ord(ch) - ord('A') - n) % 26 + ord('A')))\n",
        "        # a - z\n",
        "        elif ('a' <= ch and ch <= 'z'):\n",
        "            ns.append(chr((ord(ch) - ord('a') - n) % 26 + ord('a')))\n",
        "        # 0 - 9\n",
        "        elif ('0' <= ch and ch <= '9'):\n",
        "            ns.append(chr((ord(ch) - ord('0') - n) % 10 + ord('0')))\n",
        "        # no change for other characters\n",
        "        else:\n",
        "            ns.append(ch)\n",
        "    return \"\".join(ns)\n",
        "\n",
        "enc = caesar(text, 13)\n",
        "dec = caesar(enc, -13)\n",
        "print(text, '->',enc,'->',dec)"
      ],
      "execution_count": 2,
      "outputs": [
        {
          "output_type": "stream",
          "text": [
            "Hello -> Uryyb -> Hello\n"
          ],
          "name": "stdout"
        }
      ]
    },
    {
      "cell_type": "markdown",
      "metadata": {
        "id": "znefRZZ5OuMG",
        "colab_type": "text"
      },
      "source": [
        "#総当たりによる解読"
      ]
    },
    {
      "cell_type": "code",
      "metadata": {
        "id": "HQ7yGS4YO9UP",
        "colab_type": "code",
        "outputId": "0d64fdf2-d192-46b7-b51c-1831d2311ccb",
        "colab": {
          "base_uri": "https://localhost:8080/",
          "height": 34
        }
      },
      "source": [
        "for i in range(0,25):\n",
        "  dec = caesar(enc,i)\n",
        "  if text == dec:\n",
        "    print(\"シフト数\" + str(i))"
      ],
      "execution_count": 3,
      "outputs": [
        {
          "output_type": "stream",
          "text": [
            "シフト数13\n"
          ],
          "name": "stdout"
        }
      ]
    },
    {
      "cell_type": "markdown",
      "metadata": {
        "id": "Vnc8U43AKbb3",
        "colab_type": "text"
      },
      "source": [
        "数字と英語が複合している場合は若干強くなる(焼石に水)"
      ]
    },
    {
      "cell_type": "code",
      "metadata": {
        "id": "d-9anmtQHSLB",
        "colab_type": "code",
        "outputId": "0c21ac5f-dfb2-48d4-e5ec-56c2e1f0c39c",
        "colab": {
          "base_uri": "https://localhost:8080/",
          "height": 34
        }
      },
      "source": [
        "text = 'Hello123'\n",
        "enc = caesar(text, 13)\n",
        "for i in range(150):\n",
        "  dec = caesar(enc,i)\n",
        "  if text == dec:\n",
        "    print(\"シフト数\" + str(i))"
      ],
      "execution_count": 4,
      "outputs": [
        {
          "output_type": "stream",
          "text": [
            "シフト数117\n"
          ],
          "name": "stdout"
        }
      ]
    },
    {
      "cell_type": "markdown",
      "metadata": {
        "id": "hJEZEwqyLU7P",
        "colab_type": "text"
      },
      "source": [
        "# 単一換字字暗号\n",
        "平文を構成するアルファベットを別のアルファベットへ変換する暗号\n",
        "ある意味、シーザー暗号も単一換字暗号の一種\n",
        "\n"
      ]
    },
    {
      "cell_type": "code",
      "metadata": {
        "id": "2hC2WDIrKwg4",
        "colab_type": "code",
        "outputId": "f466aa74-e7ce-4d50-945f-c25ea8d053a3",
        "colab": {
          "base_uri": "https://localhost:8080/",
          "height": 68
        }
      },
      "source": [
        "#換字表　受信者と共有する必要がある\n",
        "sigma = {'a':'W', 'b':'Y', 'c':'H', 'd':'F', 'e':'X', 'f':'U', 'g':'M', 'h':'T', 'i':'J', 'j':'V', 'k':'S', 'l':'G','m':'E',\n",
        "         'n':'N', 'o':'B', 'p':'R', 'q':'D', 'r':'Z', 's':'L', 't':'Q', 'u':'A', 'v':'P', 'w':'C', 'x':'O', 'y':'K', 'z':'I'}\n",
        "\n",
        "def encryption(m):\n",
        "  c = [sigma[a] for a in m]\n",
        "  return c \n",
        "\n",
        "def decryption(c):\n",
        "  m = []\n",
        "  for a in c:\n",
        "    for key, value in sigma.items():\n",
        "      if value == a:\n",
        "        m.append(key)\n",
        "        break\n",
        "    else:\n",
        "      m.append('?')\n",
        "  return m\n",
        "      \n",
        "if __name__=='__main__':\n",
        "  print('暗号化(0) 復号(1) >> ', end='')\n",
        "  f = input()\n",
        "  print('文字列 >> ', end='')\n",
        "  s = input()\n",
        "  if f==1:\n",
        "    c = decryption(s)\n",
        "  else:\n",
        "    c = encryption(s)\n",
        "  print(''.join(c))"
      ],
      "execution_count": 21,
      "outputs": [
        {
          "output_type": "stream",
          "text": [
            "暗号化(0) 復号(1) >> 0\n",
            "文字列 >> helloworld\n",
            "TXGGBCBZGF\n"
          ],
          "name": "stdout"
        }
      ]
    },
    {
      "cell_type": "markdown",
      "metadata": {
        "id": "D0cmTNFoqWTz",
        "colab_type": "text"
      },
      "source": [
        "# 頻度分析による解読  \n",
        "[引用](https://etc.usf.edu/lit2go/21/the-adventures-of-huckleberry-finn/99/chapter-1/)"
      ]
    },
    {
      "cell_type": "code",
      "metadata": {
        "id": "otW1Lt8ngkCr",
        "colab_type": "code",
        "outputId": "d477b3db-831d-4950-99db-94cf2aa3203d",
        "colab": {
          "base_uri": "https://localhost:8080/",
          "height": 479
        }
      },
      "source": [
        "from collections import Counter\n",
        "import re\n",
        "text = r\"YOU don’t know about me without you have read a book by the name of The Adventures of Tom Sawyer; but that ain’t no matter. That book was made by Mr. Mark Twain, and he told the truth, mainly. There was things which he stretched, but mainly he told the truth. That is nothing. I never seen anybody but lied one time or another, without it was Aunt Polly, or the widow, or maybe Mary. Aunt Polly – Tom’s Aunt Polly, she is – and Mary, and the Widow Douglas is all told about in that book, which is mostly a true book, with some stretchers, as I said before.Now the way that the book winds up is this: Tom and me found the money that the robbers hid in the cave, and it made us rich. We got six thousand dollars apiece – all gold. It was an awful sight of money when it was piled up. Well, Judge Thatcher he took it and put it out at interest, and it fetched us a dollar a day apiece all the year round – more than a body could tell what to do with. The Widow Douglas she took me for her son, and allowed she would sivilize me; but it was rough living in the house all the time, considering how dismal regular and decent the widow was in all her ways; and so when I couldn’t stand it no longer I lit out. I got into my old rags and my sugar-hogshead again, and was free and satisfied. But Tom Sawyer he hunted me up and said he was going to start a band of robbers, and I might join if I would go back to the widow and be respectable. So I went back.The widow she cried over me, and called me a poor lost lamb, and she called me a lot of other names, too, but she never meant no harm by it. She put me in them new clothes again, and I couldn’t do nothing but sweat and sweat, and feel all cramped up. Well, then, the old thing commenced again. The widow rung a bell for supper, and you had to come to time. When you got to the table you couldn’t go right to eating, but you had to wait for the widow to tuck down her head and grumble a little over the victuals, though there warn’t really anything the matter with them, – that is, nothing only everything was cooked by itself. In a barrel of odds and ends it is different; things get mixed up, and the juice kind of swaps around, and the things go better.After supper she got out her book and learned me about Moses and the Bulrushers, and I was in a sweat to find out all about him; but by and by she let it out that Moses had been dead a considerable long time; so then I didn’t care no more about him, because I don’t take no stock in dead people.Pretty soon I wanted to smoke, and asked the widow to let me. But she wouldn’t. She said it was a mean practice and wasn’t clean, and I must try to not do it any more. That is just the way with some people. They get down on a thing when they don’t know nothing about it. Here she was a-bothering about Moses, which was no kin to her, and no use to any- body, being gone, you see, yet finding a power of fault with me for doing a thing that had some good in it. And she took snuff, too; of course that was all right, because she done it herself.Her sister, Miss Watson, a tolerable slim old maid, with goggles on, had just come to live with her, and took a set at me now with a spelling-book. She worked me middling hard for about an hour, and then the widow made her ease up. I couldn’t stood it much longer. Then for an hour it was deadly dull, and I was fidgety. Miss Watson would say, “Don’t put your feet up there, Huckleberry;” and “Don’t scrunch up like that, Huckleberry – set up straight;” and pretty soon she would say, “Don’t gap and stretch like that, Huckleberry – why don’t you try to be- have?” Then she told me all about the bad place, and I said I wished I was there. She got mad then, but I didn’t mean no harm. All I wanted was to go somewheres; all I wanted was a change, I warn’t particular. She said it was wicked to say what I said; said she wouldn’t say it for the whole world; she was going to live so as to go to the good place. Well, I couldn’t see no advantage in going where she was going, so I made up my mind I wouldn’t try for it. But I never said so, because it would only make trouble, and wouldn’t do no good.Now she had got a start, and she went on and told me all about the good place. She said all a body would have to do there was to go around all day long with a harp and sing, forever and ever. So I didn’t think much of it. But I never said so. I asked her if she reckoned Tom Sawyer would go there, and she said not by a considerable sight. I was glad about that, because I wanted him and me to be together.Miss Watson she kept pecking at me, and it got tiresome and lonesome. By and by they fetched the niggers in and had prayers, and then everybody was off to bed. I went up to my room with a piece of candle, and put it on the table. Then I set down in a chair by the window and tried to think of something cheerful, but it warn’t no use. I felt so lonesome I most wished I was dead. The stars were shining, and the leaves rustled in the woods ever so mournful; and I heard an owl, away off, who-whooing about some- body that was dead, and a whippowill and a dog cry- ing about somebody that was going to die; and the wind was trying to whisper something to me, and I couldn’t make out what it was, and so it made the cold shivers run over me. Then away out in the woods I heard that kind of a sound that a ghost makes when it wants to tell about something that’s on its mind and can’t make itself understood, and so can’t rest easy in its grave, and has to go about that way every night grieving. I got so down-hearted and scared I did wish I had some company. Pretty soon a spider went crawling up my shoulder, and I flipped it off and it lit in the candle; and before I could budge it was all shriveled up. I didn’t need anybody to tell me that that was an awful bad sign and would fetch me some bad luck, so I was scared and most shook the clothes off of me. I got up and turned around in my tracks three times and crossed my breast every time; and then I tied up a little lock of my hair with a thread to keep witches away. But I hadn’t no confidence. You do that when you’ve lost a horseshoe that you’ve found, instead of nailing it up over the door, but I hadn’t ever heard anybody say it was any way to keep off bad luck when you’d killed a spider.I set down again, a-shaking all over, and got out my pipe for a smoke; for the house was all as still as death now, and so the widow wouldn’t know. Well, after a long time I heard the clock away off in the town go boom – boom – boom – twelve licks; and all still again – stiller than ever. Pretty soon I heard a twig snap down in the dark amongst the trees – something was a stirring. I set still and listened. Directly I could just barely hear a “me-yow! me- yow!” down there. That was good! Says I, “me- yow! me-yow!” as soft as I could, and then I put out the light and scrambled out of the window on to the shed. Then I slipped down to the ground and crawled in among the trees, and, sure enough, there was Tom Sawyer waiting for me.\"\n",
        "regex = re.compile('[^a-zA-Z]')\n",
        "text = regex.sub('', text.lower()) \n",
        "text = encryption(text)\n",
        "text = \"\".join(text)\n",
        "print(text)\n",
        "sorted(Counter(regex.sub('', str(text))).items(), key=lambda x: -x[1])"
      ],
      "execution_count": 22,
      "outputs": [
        {
          "output_type": "stream",
          "text": [
            "KBAFBNQSNBCWYBAQEXCJQTBAQKBATWPXZXWFWYBBSYKQTXNWEXBUQTXWFPXNQAZXLBUQBELWCKXZYAQQTWQWJNQNBEWQQXZQTWQYBBSCWLEWFXYKEZEWZSQCWJNWNFTXQBGFQTXQZAQTEWJNGKQTXZXCWLQTJNMLCTJHTTXLQZXQHTXFYAQEWJNGKTXQBGFQTXQZAQTQTWQJLNBQTJNMJNXPXZLXXNWNKYBFKYAQGJXFBNXQJEXBZWNBQTXZCJQTBAQJQCWLWANQRBGGKBZQTXCJFBCBZEWKYXEWZKWANQRBGGKQBELWANQRBGGKLTXJLWNFEWZKWNFQTXCJFBCFBAMGWLJLWGGQBGFWYBAQJNQTWQYBBSCTJHTJLEBLQGKWQZAXYBBSCJQTLBEXLQZXQHTXZLWLJLWJFYXUBZXNBCQTXCWKQTWQQTXYBBSCJNFLARJLQTJLQBEWNFEXUBANFQTXEBNXKQTWQQTXZBYYXZLTJFJNQTXHWPXWNFJQEWFXALZJHTCXMBQLJOQTBALWNFFBGGWZLWRJXHXWGGMBGFJQCWLWNWCUAGLJMTQBUEBNXKCTXNJQCWLRJGXFARCXGGVAFMXQTWQHTXZTXQBBSJQWNFRAQJQBAQWQJNQXZXLQWNFJQUXQHTXFALWFBGGWZWFWKWRJXHXWGGQTXKXWZZBANFEBZXQTWNWYBFKHBAGFQXGGCTWQQBFBCJQTQTXCJFBCFBAMGWLLTXQBBSEXUBZTXZLBNWNFWGGBCXFLTXCBAGFLJPJGJIXEXYAQJQCWLZBAMTGJPJNMJNQTXTBALXWGGQTXQJEXHBNLJFXZJNMTBCFJLEWGZXMAGWZWNFFXHXNQQTXCJFBCCWLJNWGGTXZCWKLWNFLBCTXNJHBAGFNQLQWNFJQNBGBNMXZJGJQBAQJMBQJNQBEKBGFZWMLWNFEKLAMWZTBMLTXWFWMWJNWNFCWLUZXXWNFLWQJLUJXFYAQQBELWCKXZTXTANQXFEXARWNFLWJFTXCWLMBJNMQBLQWZQWYWNFBUZBYYXZLWNFJEJMTQVBJNJUJCBAGFMBYWHSQBQTXCJFBCWNFYXZXLRXHQWYGXLBJCXNQYWHSQTXCJFBCLTXHZJXFBPXZEXWNFHWGGXFEXWRBBZGBLQGWEYWNFLTXHWGGXFEXWGBQBUBQTXZNWEXLQBBYAQLTXNXPXZEXWNQNBTWZEYKJQLTXRAQEXJNQTXENXCHGBQTXLWMWJNWNFJHBAGFNQFBNBQTJNMYAQLCXWQWNFLCXWQWNFUXXGWGGHZWERXFARCXGGQTXNQTXBGFQTJNMHBEEXNHXFWMWJNQTXCJFBCZANMWYXGGUBZLARRXZWNFKBATWFQBHBEXQBQJEXCTXNKBAMBQQBQTXQWYGXKBAHBAGFNQMBZJMTQQBXWQJNMYAQKBATWFQBCWJQUBZQTXCJFBCQBQAHSFBCNTXZTXWFWNFMZAEYGXWGJQQGXBPXZQTXPJHQAWGLQTBAMTQTXZXCWZNQZXWGGKWNKQTJNMQTXEWQQXZCJQTQTXEQTWQJLNBQTJNMBNGKXPXZKQTJNMCWLHBBSXFYKJQLXGUJNWYWZZXGBUBFFLWNFXNFLJQJLFJUUXZXNQQTJNMLMXQEJOXFARWNFQTXVAJHXSJNFBULCWRLWZBANFWNFQTXQTJNMLMBYXQQXZWUQXZLARRXZLTXMBQBAQTXZYBBSWNFGXWZNXFEXWYBAQEBLXLWNFQTXYAGZALTXZLWNFJCWLJNWLCXWQQBUJNFBAQWGGWYBAQTJEYAQYKWNFYKLTXGXQJQBAQQTWQEBLXLTWFYXXNFXWFWHBNLJFXZWYGXGBNMQJEXLBQTXNJFJFNQHWZXNBEBZXWYBAQTJEYXHWALXJFBNQQWSXNBLQBHSJNFXWFRXBRGXRZXQQKLBBNJCWNQXFQBLEBSXWNFWLSXFQTXCJFBCQBGXQEXYAQLTXCBAGFNQLTXLWJFJQCWLWEXWNRZWHQJHXWNFCWLNQHGXWNWNFJEALQQZKQBNBQFBJQWNKEBZXQTWQJLVALQQTXCWKCJQTLBEXRXBRGXQTXKMXQFBCNBNWQTJNMCTXNQTXKFBNQSNBCNBQTJNMWYBAQJQTXZXLTXCWLWYBQTXZJNMWYBAQEBLXLCTJHTCWLNBSJNQBTXZWNFNBALXQBWNKYBFKYXJNMMBNXKBALXXKXQUJNFJNMWRBCXZBUUWAGQCJQTEXUBZFBJNMWQTJNMQTWQTWFLBEXMBBFJNJQWNFLTXQBBSLNAUUQBBBUHBAZLXQTWQCWLWGGZJMTQYXHWALXLTXFBNXJQTXZLXGUTXZLJLQXZEJLLCWQLBNWQBGXZWYGXLGJEBGFEWJFCJQTMBMMGXLBNTWFVALQHBEXQBGJPXCJQTTXZWNFQBBSWLXQWQEXNBCCJQTWLRXGGJNMYBBSLTXCBZSXFEXEJFFGJNMTWZFUBZWYBAQWNTBAZWNFQTXNQTXCJFBCEWFXTXZXWLXARJHBAGFNQLQBBFJQEAHTGBNMXZQTXNUBZWNTBAZJQCWLFXWFGKFAGGWNFJCWLUJFMXQKEJLLCWQLBNCBAGFLWKFBNQRAQKBAZUXXQARQTXZXTAHSGXYXZZKWNFFBNQLHZANHTARGJSXQTWQTAHSGXYXZZKLXQARLQZWJMTQWNFRZXQQKLBBNLTXCBAGFLWKFBNQMWRWNFLQZXQHTGJSXQTWQTAHSGXYXZZKCTKFBNQKBAQZKQBYXTWPXQTXNLTXQBGFEXWGGWYBAQQTXYWFRGWHXWNFJLWJFJCJLTXFJCWLQTXZXLTXMBQEWFQTXNYAQJFJFNQEXWNNBTWZEWGGJCWNQXFCWLQBMBLBEXCTXZXLWGGJCWNQXFCWLWHTWNMXJCWZNQRWZQJHAGWZLTXLWJFJQCWLCJHSXFQBLWKCTWQJLWJFLWJFLTXCBAGFNQLWKJQUBZQTXCTBGXCBZGFLTXCWLMBJNMQBGJPXLBWLQBMBQBQTXMBBFRGWHXCXGGJHBAGFNQLXXNBWFPWNQWMXJNMBJNMCTXZXLTXCWLMBJNMLBJEWFXAREKEJNFJCBAGFNQQZKUBZJQYAQJNXPXZLWJFLBYXHWALXJQCBAGFBNGKEWSXQZBAYGXWNFCBAGFNQFBNBMBBFNBCLTXTWFMBQWLQWZQWNFLTXCXNQBNWNFQBGFEXWGGWYBAQQTXMBBFRGWHXLTXLWJFWGGWYBFKCBAGFTWPXQBFBQTXZXCWLQBMBWZBANFWGGFWKGBNMCJQTWTWZRWNFLJNMUBZXPXZWNFXPXZLBJFJFNQQTJNSEAHTBUJQYAQJNXPXZLWJFLBJWLSXFTXZJULTXZXHSBNXFQBELWCKXZCBAGFMBQTXZXWNFLTXLWJFNBQYKWHBNLJFXZWYGXLJMTQJCWLMGWFWYBAQQTWQYXHWALXJCWNQXFTJEWNFEXQBYXQBMXQTXZEJLLCWQLBNLTXSXRQRXHSJNMWQEXWNFJQMBQQJZXLBEXWNFGBNXLBEXYKWNFYKQTXKUXQHTXFQTXNJMMXZLJNWNFTWFRZWKXZLWNFQTXNXPXZKYBFKCWLBUUQBYXFJCXNQARQBEKZBBECJQTWRJXHXBUHWNFGXWNFRAQJQBNQTXQWYGXQTXNJLXQFBCNJNWHTWJZYKQTXCJNFBCWNFQZJXFQBQTJNSBULBEXQTJNMHTXXZUAGYAQJQCWZNQNBALXJUXGQLBGBNXLBEXJEBLQCJLTXFJCWLFXWFQTXLQWZLCXZXLTJNJNMWNFQTXGXWPXLZALQGXFJNQTXCBBFLXPXZLBEBAZNUAGWNFJTXWZFWNBCGWCWKBUUCTBCTBBJNMWYBAQLBEXYBFKQTWQCWLFXWFWNFWCTJRRBCJGGWNFWFBMHZKJNMWYBAQLBEXYBFKQTWQCWLMBJNMQBFJXWNFQTXCJNFCWLQZKJNMQBCTJLRXZLBEXQTJNMQBEXWNFJHBAGFNQEWSXBAQCTWQJQCWLWNFLBJQEWFXQTXHBGFLTJPXZLZANBPXZEXQTXNWCWKBAQJNQTXCBBFLJTXWZFQTWQSJNFBUWLBANFQTWQWMTBLQEWSXLCTXNJQCWNQLQBQXGGWYBAQLBEXQTJNMQTWQLBNJQLEJNFWNFHWNQEWSXJQLXGUANFXZLQBBFWNFLBHWNQZXLQXWLKJNJQLMZWPXWNFTWLQBMBWYBAQQTWQCWKXPXZKNJMTQMZJXPJNMJMBQLBFBCNTXWZQXFWNFLHWZXFJFJFCJLTJTWFLBEXHBERWNKRZXQQKLBBNWLRJFXZCXNQHZWCGJNMAREKLTBAGFXZWNFJUGJRRXFJQBUUWNFJQGJQJNQTXHWNFGXWNFYXUBZXJHBAGFYAFMXJQCWLWGGLTZJPXGXFARJFJFNQNXXFWNKYBFKQBQXGGEXQTWQQTWQCWLWNWCUAGYWFLJMNWNFCBAGFUXQHTEXLBEXYWFGAHSLBJCWLLHWZXFWNFEBLQLTBBSQTXHGBQTXLBUUBUEXJMBQARWNFQAZNXFWZBANFJNEKQZWHSLQTZXXQJEXLWNFHZBLLXFEKYZXWLQXPXZKQJEXWNFQTXNJQJXFARWGJQQGXGBHSBUEKTWJZCJQTWQTZXWFQBSXXRCJQHTXLWCWKYAQJTWFNQNBHBNUJFXNHXKBAFBQTWQCTXNKBAPXGBLQWTBZLXLTBXQTWQKBAPXUBANFJNLQXWFBUNWJGJNMJQARBPXZQTXFBBZYAQJTWFNQXPXZTXWZFWNKYBFKLWKJQCWLWNKCWKQBSXXRBUUYWFGAHSCTXNKBAFSJGGXFWLRJFXZJLXQFBCNWMWJNWLTWSJNMWGGBPXZWNFMBQBAQEKRJRXUBZWLEBSXUBZQTXTBALXCWLWGGWLLQJGGWLFXWQTNBCWNFLBQTXCJFBCCBAGFNQSNBCCXGGWUQXZWGBNMQJEXJTXWZFQTXHGBHSWCWKBUUJNQTXQBCNMBYBBEYBBEYBBEQCXGPXGJHSLWNFWGGLQJGGWMWJNLQJGGXZQTWNXPXZRZXQQKLBBNJTXWZFWQCJMLNWRFBCNJNQTXFWZSWEBNMLQQTXQZXXLLBEXQTJNMCWLWLQJZZJNMJLXQLQJGGWNFGJLQXNXFFJZXHQGKJHBAGFVALQYWZXGKTXWZWEXKBCEXKBCFBCNQTXZXQTWQCWLMBBFLWKLJEXKBCEXKBCWLLBUQWLJHBAGFWNFQTXNJRAQBAQQTXGJMTQWNFLHZWEYGXFBAQBUQTXCJNFBCBNQBQTXLTXFQTXNJLGJRRXFFBCNQBQTXMZBANFWNFHZWCGXFJNWEBNMQTXQZXXLWNFLAZXXNBAMTQTXZXCWLQBELWCKXZCWJQJNMUBZEX\n"
          ],
          "name": "stdout"
        },
        {
          "output_type": "execute_result",
          "data": {
            "text/plain": [
              "[('X', 557),\n",
              " ('Q', 533),\n",
              " ('W', 478),\n",
              " ('B', 470),\n",
              " ('N', 369),\n",
              " ('J', 340),\n",
              " ('F', 337),\n",
              " ('L', 313),\n",
              " ('T', 306),\n",
              " ('Z', 222),\n",
              " ('G', 220),\n",
              " ('C', 197),\n",
              " ('A', 176),\n",
              " ('E', 139),\n",
              " ('M', 126),\n",
              " ('K', 116),\n",
              " ('Y', 105),\n",
              " ('H', 97),\n",
              " ('U', 75),\n",
              " ('R', 71),\n",
              " ('S', 56),\n",
              " ('P', 37),\n",
              " ('V', 6),\n",
              " ('O', 2),\n",
              " ('I', 1)]"
            ]
          },
          "metadata": {
            "tags": []
          },
          "execution_count": 22
        }
      ]
    },
    {
      "cell_type": "markdown",
      "metadata": {
        "id": "eJfitCddx8Nk",
        "colab_type": "text"
      },
      "source": [
        "[頻出度参考](http://www7.plala.or.jp/dvorakjp/hinshutu.htm#1)  \n",
        "英文の一般的な文章で最も頻度の高い文字はeなので、QかXのどちらかがeと仮定。Xをeに置き換えます。"
      ]
    },
    {
      "cell_type": "code",
      "metadata": {
        "id": "0EkFDKMvrtUO",
        "colab_type": "code",
        "outputId": "bbf1b0a4-b738-478e-df51-3022a856941f",
        "colab": {
          "base_uri": "https://localhost:8080/",
          "height": 54
        }
      },
      "source": [
        "attack = text.replace('X','e')\n",
        "attack"
      ],
      "execution_count": 23,
      "outputs": [
        {
          "output_type": "execute_result",
          "data": {
            "text/plain": [
              "'KBAFBNQSNBCWYBAQEeCJQTBAQKBATWPeZeWFWYBBSYKQTeNWEeBUQTeWFPeNQAZeLBUQBELWCKeZYAQQTWQWJNQNBEWQQeZQTWQYBBSCWLEWFeYKEZEWZSQCWJNWNFTeQBGFQTeQZAQTEWJNGKQTeZeCWLQTJNMLCTJHTTeLQZeQHTeFYAQEWJNGKTeQBGFQTeQZAQTQTWQJLNBQTJNMJNePeZLeeNWNKYBFKYAQGJeFBNeQJEeBZWNBQTeZCJQTBAQJQCWLWANQRBGGKBZQTeCJFBCBZEWKYeEWZKWANQRBGGKQBELWANQRBGGKLTeJLWNFEWZKWNFQTeCJFBCFBAMGWLJLWGGQBGFWYBAQJNQTWQYBBSCTJHTJLEBLQGKWQZAeYBBSCJQTLBEeLQZeQHTeZLWLJLWJFYeUBZeNBCQTeCWKQTWQQTeYBBSCJNFLARJLQTJLQBEWNFEeUBANFQTeEBNeKQTWQQTeZBYYeZLTJFJNQTeHWPeWNFJQEWFeALZJHTCeMBQLJOQTBALWNFFBGGWZLWRJeHeWGGMBGFJQCWLWNWCUAGLJMTQBUEBNeKCTeNJQCWLRJGeFARCeGGVAFMeQTWQHTeZTeQBBSJQWNFRAQJQBAQWQJNQeZeLQWNFJQUeQHTeFALWFBGGWZWFWKWRJeHeWGGQTeKeWZZBANFEBZeQTWNWYBFKHBAGFQeGGCTWQQBFBCJQTQTeCJFBCFBAMGWLLTeQBBSEeUBZTeZLBNWNFWGGBCeFLTeCBAGFLJPJGJIeEeYAQJQCWLZBAMTGJPJNMJNQTeTBALeWGGQTeQJEeHBNLJFeZJNMTBCFJLEWGZeMAGWZWNFFeHeNQQTeCJFBCCWLJNWGGTeZCWKLWNFLBCTeNJHBAGFNQLQWNFJQNBGBNMeZJGJQBAQJMBQJNQBEKBGFZWMLWNFEKLAMWZTBMLTeWFWMWJNWNFCWLUZeeWNFLWQJLUJeFYAQQBELWCKeZTeTANQeFEeARWNFLWJFTeCWLMBJNMQBLQWZQWYWNFBUZBYYeZLWNFJEJMTQVBJNJUJCBAGFMBYWHSQBQTeCJFBCWNFYeZeLReHQWYGeLBJCeNQYWHSQTeCJFBCLTeHZJeFBPeZEeWNFHWGGeFEeWRBBZGBLQGWEYWNFLTeHWGGeFEeWGBQBUBQTeZNWEeLQBBYAQLTeNePeZEeWNQNBTWZEYKJQLTeRAQEeJNQTeENeCHGBQTeLWMWJNWNFJHBAGFNQFBNBQTJNMYAQLCeWQWNFLCeWQWNFUeeGWGGHZWEReFARCeGGQTeNQTeBGFQTJNMHBEEeNHeFWMWJNQTeCJFBCZANMWYeGGUBZLARReZWNFKBATWFQBHBEeQBQJEeCTeNKBAMBQQBQTeQWYGeKBAHBAGFNQMBZJMTQQBeWQJNMYAQKBATWFQBCWJQUBZQTeCJFBCQBQAHSFBCNTeZTeWFWNFMZAEYGeWGJQQGeBPeZQTePJHQAWGLQTBAMTQTeZeCWZNQZeWGGKWNKQTJNMQTeEWQQeZCJQTQTeEQTWQJLNBQTJNMBNGKePeZKQTJNMCWLHBBSeFYKJQLeGUJNWYWZZeGBUBFFLWNFeNFLJQJLFJUUeZeNQQTJNMLMeQEJOeFARWNFQTeVAJHeSJNFBULCWRLWZBANFWNFQTeQTJNMLMBYeQQeZWUQeZLARReZLTeMBQBAQTeZYBBSWNFGeWZNeFEeWYBAQEBLeLWNFQTeYAGZALTeZLWNFJCWLJNWLCeWQQBUJNFBAQWGGWYBAQTJEYAQYKWNFYKLTeGeQJQBAQQTWQEBLeLTWFYeeNFeWFWHBNLJFeZWYGeGBNMQJEeLBQTeNJFJFNQHWZeNBEBZeWYBAQTJEYeHWALeJFBNQQWSeNBLQBHSJNFeWFReBRGeRZeQQKLBBNJCWNQeFQBLEBSeWNFWLSeFQTeCJFBCQBGeQEeYAQLTeCBAGFNQLTeLWJFJQCWLWEeWNRZWHQJHeWNFCWLNQHGeWNWNFJEALQQZKQBNBQFBJQWNKEBZeQTWQJLVALQQTeCWKCJQTLBEeReBRGeQTeKMeQFBCNBNWQTJNMCTeNQTeKFBNQSNBCNBQTJNMWYBAQJQTeZeLTeCWLWYBQTeZJNMWYBAQEBLeLCTJHTCWLNBSJNQBTeZWNFNBALeQBWNKYBFKYeJNMMBNeKBALeeKeQUJNFJNMWRBCeZBUUWAGQCJQTEeUBZFBJNMWQTJNMQTWQTWFLBEeMBBFJNJQWNFLTeQBBSLNAUUQBBBUHBAZLeQTWQCWLWGGZJMTQYeHWALeLTeFBNeJQTeZLeGUTeZLJLQeZEJLLCWQLBNWQBGeZWYGeLGJEBGFEWJFCJQTMBMMGeLBNTWFVALQHBEeQBGJPeCJQTTeZWNFQBBSWLeQWQEeNBCCJQTWLReGGJNMYBBSLTeCBZSeFEeEJFFGJNMTWZFUBZWYBAQWNTBAZWNFQTeNQTeCJFBCEWFeTeZeWLeARJHBAGFNQLQBBFJQEAHTGBNMeZQTeNUBZWNTBAZJQCWLFeWFGKFAGGWNFJCWLUJFMeQKEJLLCWQLBNCBAGFLWKFBNQRAQKBAZUeeQARQTeZeTAHSGeYeZZKWNFFBNQLHZANHTARGJSeQTWQTAHSGeYeZZKLeQARLQZWJMTQWNFRZeQQKLBBNLTeCBAGFLWKFBNQMWRWNFLQZeQHTGJSeQTWQTAHSGeYeZZKCTKFBNQKBAQZKQBYeTWPeQTeNLTeQBGFEeWGGWYBAQQTeYWFRGWHeWNFJLWJFJCJLTeFJCWLQTeZeLTeMBQEWFQTeNYAQJFJFNQEeWNNBTWZEWGGJCWNQeFCWLQBMBLBEeCTeZeLWGGJCWNQeFCWLWHTWNMeJCWZNQRWZQJHAGWZLTeLWJFJQCWLCJHSeFQBLWKCTWQJLWJFLWJFLTeCBAGFNQLWKJQUBZQTeCTBGeCBZGFLTeCWLMBJNMQBGJPeLBWLQBMBQBQTeMBBFRGWHeCeGGJHBAGFNQLeeNBWFPWNQWMeJNMBJNMCTeZeLTeCWLMBJNMLBJEWFeAREKEJNFJCBAGFNQQZKUBZJQYAQJNePeZLWJFLBYeHWALeJQCBAGFBNGKEWSeQZBAYGeWNFCBAGFNQFBNBMBBFNBCLTeTWFMBQWLQWZQWNFLTeCeNQBNWNFQBGFEeWGGWYBAQQTeMBBFRGWHeLTeLWJFWGGWYBFKCBAGFTWPeQBFBQTeZeCWLQBMBWZBANFWGGFWKGBNMCJQTWTWZRWNFLJNMUBZePeZWNFePeZLBJFJFNQQTJNSEAHTBUJQYAQJNePeZLWJFLBJWLSeFTeZJULTeZeHSBNeFQBELWCKeZCBAGFMBQTeZeWNFLTeLWJFNBQYKWHBNLJFeZWYGeLJMTQJCWLMGWFWYBAQQTWQYeHWALeJCWNQeFTJEWNFEeQBYeQBMeQTeZEJLLCWQLBNLTeSeRQReHSJNMWQEeWNFJQMBQQJZeLBEeWNFGBNeLBEeYKWNFYKQTeKUeQHTeFQTeNJMMeZLJNWNFTWFRZWKeZLWNFQTeNePeZKYBFKCWLBUUQBYeFJCeNQARQBEKZBBECJQTWRJeHeBUHWNFGeWNFRAQJQBNQTeQWYGeQTeNJLeQFBCNJNWHTWJZYKQTeCJNFBCWNFQZJeFQBQTJNSBULBEeQTJNMHTeeZUAGYAQJQCWZNQNBALeJUeGQLBGBNeLBEeJEBLQCJLTeFJCWLFeWFQTeLQWZLCeZeLTJNJNMWNFQTeGeWPeLZALQGeFJNQTeCBBFLePeZLBEBAZNUAGWNFJTeWZFWNBCGWCWKBUUCTBCTBBJNMWYBAQLBEeYBFKQTWQCWLFeWFWNFWCTJRRBCJGGWNFWFBMHZKJNMWYBAQLBEeYBFKQTWQCWLMBJNMQBFJeWNFQTeCJNFCWLQZKJNMQBCTJLReZLBEeQTJNMQBEeWNFJHBAGFNQEWSeBAQCTWQJQCWLWNFLBJQEWFeQTeHBGFLTJPeZLZANBPeZEeQTeNWCWKBAQJNQTeCBBFLJTeWZFQTWQSJNFBUWLBANFQTWQWMTBLQEWSeLCTeNJQCWNQLQBQeGGWYBAQLBEeQTJNMQTWQLBNJQLEJNFWNFHWNQEWSeJQLeGUANFeZLQBBFWNFLBHWNQZeLQeWLKJNJQLMZWPeWNFTWLQBMBWYBAQQTWQCWKePeZKNJMTQMZJePJNMJMBQLBFBCNTeWZQeFWNFLHWZeFJFJFCJLTJTWFLBEeHBERWNKRZeQQKLBBNWLRJFeZCeNQHZWCGJNMAREKLTBAGFeZWNFJUGJRReFJQBUUWNFJQGJQJNQTeHWNFGeWNFYeUBZeJHBAGFYAFMeJQCWLWGGLTZJPeGeFARJFJFNQNeeFWNKYBFKQBQeGGEeQTWQQTWQCWLWNWCUAGYWFLJMNWNFCBAGFUeQHTEeLBEeYWFGAHSLBJCWLLHWZeFWNFEBLQLTBBSQTeHGBQTeLBUUBUEeJMBQARWNFQAZNeFWZBANFJNEKQZWHSLQTZeeQJEeLWNFHZBLLeFEKYZeWLQePeZKQJEeWNFQTeNJQJeFARWGJQQGeGBHSBUEKTWJZCJQTWQTZeWFQBSeeRCJQHTeLWCWKYAQJTWFNQNBHBNUJFeNHeKBAFBQTWQCTeNKBAPeGBLQWTBZLeLTBeQTWQKBAPeUBANFJNLQeWFBUNWJGJNMJQARBPeZQTeFBBZYAQJTWFNQePeZTeWZFWNKYBFKLWKJQCWLWNKCWKQBSeeRBUUYWFGAHSCTeNKBAFSJGGeFWLRJFeZJLeQFBCNWMWJNWLTWSJNMWGGBPeZWNFMBQBAQEKRJReUBZWLEBSeUBZQTeTBALeCWLWGGWLLQJGGWLFeWQTNBCWNFLBQTeCJFBCCBAGFNQSNBCCeGGWUQeZWGBNMQJEeJTeWZFQTeHGBHSWCWKBUUJNQTeQBCNMBYBBEYBBEYBBEQCeGPeGJHSLWNFWGGLQJGGWMWJNLQJGGeZQTWNePeZRZeQQKLBBNJTeWZFWQCJMLNWRFBCNJNQTeFWZSWEBNMLQQTeQZeeLLBEeQTJNMCWLWLQJZZJNMJLeQLQJGGWNFGJLQeNeFFJZeHQGKJHBAGFVALQYWZeGKTeWZWEeKBCEeKBCFBCNQTeZeQTWQCWLMBBFLWKLJEeKBCEeKBCWLLBUQWLJHBAGFWNFQTeNJRAQBAQQTeGJMTQWNFLHZWEYGeFBAQBUQTeCJNFBCBNQBQTeLTeFQTeNJLGJRReFFBCNQBQTeMZBANFWNFHZWCGeFJNWEBNMQTeQZeeLWNFLAZeeNBAMTQTeZeCWLQBELWCKeZCWJQJNMUBZEe'"
            ]
          },
          "metadata": {
            "tags": []
          },
          "execution_count": 23
        }
      ]
    },
    {
      "cell_type": "markdown",
      "metadata": {
        "id": "wjOgV23U1XUt",
        "colab_type": "text"
      },
      "source": [
        "英語で最も頻度の高い単語はtheです。eで終わる3文字を探します。"
      ]
    },
    {
      "cell_type": "code",
      "metadata": {
        "id": "0Z6qrQM50gPQ",
        "colab_type": "code",
        "outputId": "aa2148c2-6457-4577-a02a-1f641a2e9f40",
        "colab": {
          "base_uri": "https://localhost:8080/",
          "height": 1000
        }
      },
      "source": [
        "sorted(Counter(re.findall('..e', attack)).items(), key=lambda x: -x[1])"
      ],
      "execution_count": 24,
      "outputs": [
        {
          "output_type": "execute_result",
          "data": {
            "text/plain": [
              "[('QTe', 91),\n",
              " ('LTe', 33),\n",
              " ('BEe', 18),\n",
              " ('FEe', 9),\n",
              " ('CTe', 9),\n",
              " ('ALe', 9),\n",
              " ('YGe', 9),\n",
              " ('BNe', 8),\n",
              " ('JEe', 8),\n",
              " ('QZe', 7),\n",
              " ('HTe', 7),\n",
              " ('NQe', 7),\n",
              " ('QEe', 6),\n",
              " ('WPe', 6),\n",
              " ('BZe', 6),\n",
              " ('JFe', 6),\n",
              " ('WFe', 5),\n",
              " ('ZTe', 5),\n",
              " ('BPe', 5),\n",
              " ('BSe', 5),\n",
              " ('NFe', 5),\n",
              " ('BYe', 5),\n",
              " ('WSe', 5),\n",
              " ('LQe', 5),\n",
              " ('WEe', 4),\n",
              " ('CKe', 4),\n",
              " ('ZLe', 4),\n",
              " ('FYe', 4),\n",
              " ('ZEe', 4),\n",
              " ('GGe', 4),\n",
              " ('LCe', 4),\n",
              " ('RRe', 4),\n",
              " ('WZe', 4),\n",
              " ('RZe', 4),\n",
              " ('JPe', 4),\n",
              " ('LFe', 4),\n",
              " ('JTe', 4),\n",
              " ('QQe', 3),\n",
              " ('FTe', 3),\n",
              " ('JNe', 3),\n",
              " ('RJe', 3),\n",
              " ('FMe', 3),\n",
              " ('NMe', 3),\n",
              " ('LRe', 3),\n",
              " ('ZJe', 3),\n",
              " ('QGe', 3),\n",
              " ('QLe', 3),\n",
              " ('FGe', 3),\n",
              " ('BLe', 3),\n",
              " ('BGe', 3),\n",
              " ('SGe', 3),\n",
              " ('WHe', 3),\n",
              " ('JLe', 3),\n",
              " ('AZe', 2),\n",
              " ('TTe', 2),\n",
              " ('KTe', 2),\n",
              " ('KYe', 2),\n",
              " ('YYe', 2),\n",
              " ('RCe', 2),\n",
              " ('BCe', 2),\n",
              " ('JCe', 2),\n",
              " ('ePe', 2),\n",
              " ('FUe', 2),\n",
              " ('NHe', 2),\n",
              " ('NTe', 2),\n",
              " ('JHe', 2),\n",
              " ('UQe', 2),\n",
              " ('ZNe', 2),\n",
              " ('RGe', 2),\n",
              " ('LSe', 2),\n",
              " ('TEe', 2),\n",
              " ('QYe', 2),\n",
              " ('WLe', 2),\n",
              " ('JSe', 2),\n",
              " ('JZe', 2),\n",
              " ('WKe', 2),\n",
              " ('BQe', 2),\n",
              " ('TZe', 2),\n",
              " ('APe', 2),\n",
              " ('CEe', 2),\n",
              " ('FPe', 1),\n",
              " ('GJe', 1),\n",
              " ('ZAe', 1),\n",
              " ('TCe', 1),\n",
              " ('JGe', 1),\n",
              " ('QUe', 1),\n",
              " ('FQe', 1),\n",
              " ('SEe', 1),\n",
              " ('JIe', 1),\n",
              " ('GZe', 1),\n",
              " ('FFe', 1),\n",
              " ('GTe', 1),\n",
              " ('UZe', 1),\n",
              " ('UJe', 1),\n",
              " ('ENe', 1),\n",
              " ('ERe', 1),\n",
              " ('EEe', 1),\n",
              " ('WYe', 1),\n",
              " ('QBe', 1),\n",
              " ('GKe', 1),\n",
              " ('ZZe', 1),\n",
              " ('UUe', 1),\n",
              " ('LMe', 1),\n",
              " ('JOe', 1),\n",
              " ('EYe', 1),\n",
              " ('FRe', 1),\n",
              " ('HGe', 1),\n",
              " ('KMe', 1),\n",
              " ('BTe', 1),\n",
              " ('eKe', 1),\n",
              " ('UTe', 1),\n",
              " ('MGe', 1),\n",
              " ('ZSe', 1),\n",
              " ('eZe', 1),\n",
              " ('ZUe', 1),\n",
              " ('KLe', 1),\n",
              " ('HSe', 1),\n",
              " ('WMe', 1),\n",
              " ('BMe', 1),\n",
              " ('QRe', 1),\n",
              " ('KUe', 1),\n",
              " ('MMe', 1),\n",
              " ('JUe', 1),\n",
              " ('FLe', 1),\n",
              " ('FJe', 1),\n",
              " ('ZQe', 1),\n",
              " ('ZCe', 1),\n",
              " ('GFe', 1),\n",
              " ('QNe', 1),\n",
              " ('GEe', 1),\n",
              " ('UEe', 1),\n",
              " ('LLe', 1),\n",
              " ('YZe', 1),\n",
              " ('QJe', 1),\n",
              " ('TBe', 1),\n",
              " ('JRe', 1),\n",
              " ('CCe', 1),\n",
              " ('QCe', 1),\n",
              " ('GPe', 1),\n",
              " ('WNe', 1),\n",
              " ('CGe', 1)]"
            ]
          },
          "metadata": {
            "tags": []
          },
          "execution_count": 24
        }
      ]
    },
    {
      "cell_type": "markdown",
      "metadata": {
        "id": "SzDiVoVA8wtC",
        "colab_type": "text"
      },
      "source": [
        "QTeが多いので、Q→t T→hへ置き換えます"
      ]
    },
    {
      "cell_type": "code",
      "metadata": {
        "id": "OWldN1pF3dRj",
        "colab_type": "code",
        "outputId": "df772bf1-c5e6-406f-b1b2-1bbaafb84537",
        "colab": {
          "base_uri": "https://localhost:8080/",
          "height": 54
        }
      },
      "source": [
        "attack = attack.replace('T','h')\n",
        "attack = attack.replace('Q','t')\n",
        "attack"
      ],
      "execution_count": 25,
      "outputs": [
        {
          "output_type": "execute_result",
          "data": {
            "text/plain": [
              "'KBAFBNtSNBCWYBAtEeCJthBAtKBAhWPeZeWFWYBBSYKtheNWEeBUtheWFPeNtAZeLBUtBELWCKeZYAtthWtWJNtNBEWtteZthWtYBBSCWLEWFeYKEZEWZStCWJNWNFhetBGFthetZAthEWJNGKtheZeCWLthJNMLChJHhheLtZetHheFYAtEWJNGKhetBGFthetZAththWtJLNBthJNMJNePeZLeeNWNKYBFKYAtGJeFBNetJEeBZWNBtheZCJthBAtJtCWLWANtRBGGKBZtheCJFBCBZEWKYeEWZKWANtRBGGKtBELWANtRBGGKLheJLWNFEWZKWNFtheCJFBCFBAMGWLJLWGGtBGFWYBAtJNthWtYBBSChJHhJLEBLtGKWtZAeYBBSCJthLBEeLtZetHheZLWLJLWJFYeUBZeNBCtheCWKthWttheYBBSCJNFLARJLthJLtBEWNFEeUBANFtheEBNeKthWttheZBYYeZLhJFJNtheHWPeWNFJtEWFeALZJHhCeMBtLJOthBALWNFFBGGWZLWRJeHeWGGMBGFJtCWLWNWCUAGLJMhtBUEBNeKCheNJtCWLRJGeFARCeGGVAFMethWtHheZhetBBSJtWNFRAtJtBAtWtJNteZeLtWNFJtUetHheFALWFBGGWZWFWKWRJeHeWGGtheKeWZZBANFEBZethWNWYBFKHBAGFteGGChWttBFBCJththeCJFBCFBAMGWLLhetBBSEeUBZheZLBNWNFWGGBCeFLheCBAGFLJPJGJIeEeYAtJtCWLZBAMhGJPJNMJNthehBALeWGGthetJEeHBNLJFeZJNMhBCFJLEWGZeMAGWZWNFFeHeNttheCJFBCCWLJNWGGheZCWKLWNFLBCheNJHBAGFNtLtWNFJtNBGBNMeZJGJtBAtJMBtJNtBEKBGFZWMLWNFEKLAMWZhBMLheWFWMWJNWNFCWLUZeeWNFLWtJLUJeFYAttBELWCKeZhehANteFEeARWNFLWJFheCWLMBJNMtBLtWZtWYWNFBUZBYYeZLWNFJEJMhtVBJNJUJCBAGFMBYWHStBtheCJFBCWNFYeZeLReHtWYGeLBJCeNtYWHStheCJFBCLheHZJeFBPeZEeWNFHWGGeFEeWRBBZGBLtGWEYWNFLheHWGGeFEeWGBtBUBtheZNWEeLtBBYAtLheNePeZEeWNtNBhWZEYKJtLheRAtEeJNtheENeCHGBtheLWMWJNWNFJHBAGFNtFBNBthJNMYAtLCeWtWNFLCeWtWNFUeeGWGGHZWEReFARCeGGtheNtheBGFthJNMHBEEeNHeFWMWJNtheCJFBCZANMWYeGGUBZLARReZWNFKBAhWFtBHBEetBtJEeCheNKBAMBttBthetWYGeKBAHBAGFNtMBZJMhttBeWtJNMYAtKBAhWFtBCWJtUBZtheCJFBCtBtAHSFBCNheZheWFWNFMZAEYGeWGJttGeBPeZthePJHtAWGLthBAMhtheZeCWZNtZeWGGKWNKthJNMtheEWtteZCJththeEthWtJLNBthJNMBNGKePeZKthJNMCWLHBBSeFYKJtLeGUJNWYWZZeGBUBFFLWNFeNFLJtJLFJUUeZeNtthJNMLMetEJOeFARWNFtheVAJHeSJNFBULCWRLWZBANFWNFthethJNMLMBYetteZWUteZLARReZLheMBtBAtheZYBBSWNFGeWZNeFEeWYBAtEBLeLWNFtheYAGZALheZLWNFJCWLJNWLCeWttBUJNFBAtWGGWYBAthJEYAtYKWNFYKLheGetJtBAtthWtEBLeLhWFYeeNFeWFWHBNLJFeZWYGeGBNMtJEeLBtheNJFJFNtHWZeNBEBZeWYBAthJEYeHWALeJFBNttWSeNBLtBHSJNFeWFReBRGeRZettKLBBNJCWNteFtBLEBSeWNFWLSeFtheCJFBCtBGetEeYAtLheCBAGFNtLheLWJFJtCWLWEeWNRZWHtJHeWNFCWLNtHGeWNWNFJEALttZKtBNBtFBJtWNKEBZethWtJLVALttheCWKCJthLBEeReBRGetheKMetFBCNBNWthJNMCheNtheKFBNtSNBCNBthJNMWYBAtJtheZeLheCWLWYBtheZJNMWYBAtEBLeLChJHhCWLNBSJNtBheZWNFNBALetBWNKYBFKYeJNMMBNeKBALeeKetUJNFJNMWRBCeZBUUWAGtCJthEeUBZFBJNMWthJNMthWthWFLBEeMBBFJNJtWNFLhetBBSLNAUUtBBBUHBAZLethWtCWLWGGZJMhtYeHWALeLheFBNeJtheZLeGUheZLJLteZEJLLCWtLBNWtBGeZWYGeLGJEBGFEWJFCJthMBMMGeLBNhWFVALtHBEetBGJPeCJthheZWNFtBBSWLetWtEeNBCCJthWLReGGJNMYBBSLheCBZSeFEeEJFFGJNMhWZFUBZWYBAtWNhBAZWNFtheNtheCJFBCEWFeheZeWLeARJHBAGFNtLtBBFJtEAHhGBNMeZtheNUBZWNhBAZJtCWLFeWFGKFAGGWNFJCWLUJFMetKEJLLCWtLBNCBAGFLWKFBNtRAtKBAZUeetARtheZehAHSGeYeZZKWNFFBNtLHZANHhARGJSethWthAHSGeYeZZKLetARLtZWJMhtWNFRZettKLBBNLheCBAGFLWKFBNtMWRWNFLtZetHhGJSethWthAHSGeYeZZKChKFBNtKBAtZKtBYehWPetheNLhetBGFEeWGGWYBAttheYWFRGWHeWNFJLWJFJCJLheFJCWLtheZeLheMBtEWFtheNYAtJFJFNtEeWNNBhWZEWGGJCWNteFCWLtBMBLBEeCheZeLWGGJCWNteFCWLWHhWNMeJCWZNtRWZtJHAGWZLheLWJFJtCWLCJHSeFtBLWKChWtJLWJFLWJFLheCBAGFNtLWKJtUBZtheChBGeCBZGFLheCWLMBJNMtBGJPeLBWLtBMBtBtheMBBFRGWHeCeGGJHBAGFNtLeeNBWFPWNtWMeJNMBJNMCheZeLheCWLMBJNMLBJEWFeAREKEJNFJCBAGFNttZKUBZJtYAtJNePeZLWJFLBYeHWALeJtCBAGFBNGKEWSetZBAYGeWNFCBAGFNtFBNBMBBFNBCLhehWFMBtWLtWZtWNFLheCeNtBNWNFtBGFEeWGGWYBAttheMBBFRGWHeLheLWJFWGGWYBFKCBAGFhWPetBFBtheZeCWLtBMBWZBANFWGGFWKGBNMCJthWhWZRWNFLJNMUBZePeZWNFePeZLBJFJFNtthJNSEAHhBUJtYAtJNePeZLWJFLBJWLSeFheZJULheZeHSBNeFtBELWCKeZCBAGFMBtheZeWNFLheLWJFNBtYKWHBNLJFeZWYGeLJMhtJCWLMGWFWYBAtthWtYeHWALeJCWNteFhJEWNFEetBYetBMetheZEJLLCWtLBNLheSeRtReHSJNMWtEeWNFJtMBttJZeLBEeWNFGBNeLBEeYKWNFYKtheKUetHheFtheNJMMeZLJNWNFhWFRZWKeZLWNFtheNePeZKYBFKCWLBUUtBYeFJCeNtARtBEKZBBECJthWRJeHeBUHWNFGeWNFRAtJtBNthetWYGetheNJLetFBCNJNWHhWJZYKtheCJNFBCWNFtZJeFtBthJNSBULBEethJNMHheeZUAGYAtJtCWZNtNBALeJUeGtLBGBNeLBEeJEBLtCJLheFJCWLFeWFtheLtWZLCeZeLhJNJNMWNFtheGeWPeLZALtGeFJNtheCBBFLePeZLBEBAZNUAGWNFJheWZFWNBCGWCWKBUUChBChBBJNMWYBAtLBEeYBFKthWtCWLFeWFWNFWChJRRBCJGGWNFWFBMHZKJNMWYBAtLBEeYBFKthWtCWLMBJNMtBFJeWNFtheCJNFCWLtZKJNMtBChJLReZLBEethJNMtBEeWNFJHBAGFNtEWSeBAtChWtJtCWLWNFLBJtEWFetheHBGFLhJPeZLZANBPeZEetheNWCWKBAtJNtheCBBFLJheWZFthWtSJNFBUWLBANFthWtWMhBLtEWSeLCheNJtCWNtLtBteGGWYBAtLBEethJNMthWtLBNJtLEJNFWNFHWNtEWSeJtLeGUANFeZLtBBFWNFLBHWNtZeLteWLKJNJtLMZWPeWNFhWLtBMBWYBAtthWtCWKePeZKNJMhtMZJePJNMJMBtLBFBCNheWZteFWNFLHWZeFJFJFCJLhJhWFLBEeHBERWNKRZettKLBBNWLRJFeZCeNtHZWCGJNMAREKLhBAGFeZWNFJUGJRReFJtBUUWNFJtGJtJNtheHWNFGeWNFYeUBZeJHBAGFYAFMeJtCWLWGGLhZJPeGeFARJFJFNtNeeFWNKYBFKtBteGGEethWtthWtCWLWNWCUAGYWFLJMNWNFCBAGFUetHhEeLBEeYWFGAHSLBJCWLLHWZeFWNFEBLtLhBBStheHGBtheLBUUBUEeJMBtARWNFtAZNeFWZBANFJNEKtZWHSLthZeetJEeLWNFHZBLLeFEKYZeWLtePeZKtJEeWNFtheNJtJeFARWGJttGeGBHSBUEKhWJZCJthWthZeWFtBSeeRCJtHheLWCWKYAtJhWFNtNBHBNUJFeNHeKBAFBthWtCheNKBAPeGBLtWhBZLeLhBethWtKBAPeUBANFJNLteWFBUNWJGJNMJtARBPeZtheFBBZYAtJhWFNtePeZheWZFWNKYBFKLWKJtCWLWNKCWKtBSeeRBUUYWFGAHSCheNKBAFSJGGeFWLRJFeZJLetFBCNWMWJNWLhWSJNMWGGBPeZWNFMBtBAtEKRJReUBZWLEBSeUBZthehBALeCWLWGGWLLtJGGWLFeWthNBCWNFLBtheCJFBCCBAGFNtSNBCCeGGWUteZWGBNMtJEeJheWZFtheHGBHSWCWKBUUJNthetBCNMBYBBEYBBEYBBEtCeGPeGJHSLWNFWGGLtJGGWMWJNLtJGGeZthWNePeZRZettKLBBNJheWZFWtCJMLNWRFBCNJNtheFWZSWEBNMLtthetZeeLLBEethJNMCWLWLtJZZJNMJLetLtJGGWNFGJLteNeFFJZeHtGKJHBAGFVALtYWZeGKheWZWEeKBCEeKBCFBCNtheZethWtCWLMBBFLWKLJEeKBCEeKBCWLLBUtWLJHBAGFWNFtheNJRAtBAttheGJMhtWNFLHZWEYGeFBAtBUtheCJNFBCBNtBtheLheFtheNJLGJRReFFBCNtBtheMZBANFWNFHZWCGeFJNWEBNMthetZeeLWNFLAZeeNBAMhtheZeCWLtBELWCKeZCWJtJNMUBZEe'"
            ]
          },
          "metadata": {
            "tags": []
          },
          "execution_count": 25
        }
      ]
    },
    {
      "cell_type": "markdown",
      "metadata": {
        "id": "IoX1PGPg_KVY",
        "colab_type": "text"
      },
      "source": [
        "文字の頻出度が大きいもので判明していないWを、頻出度表を参考にaに置き換えます。"
      ]
    },
    {
      "cell_type": "code",
      "metadata": {
        "id": "YS-_DCE_8_Rt",
        "colab_type": "code",
        "colab": {}
      },
      "source": [
        " attack = attack.replace('W','a')"
      ],
      "execution_count": 0,
      "outputs": []
    },
    {
      "cell_type": "markdown",
      "metadata": {
        "id": "z2L6UYosCA4v",
        "colab_type": "text"
      },
      "source": [
        "「thetZAththat」の表現が気になります。  \n",
        "the tZAth thatと読み替えると、単語頻出度でZAの頻出度に一致しそうなtruthが思いついたので、Z→r A→uに置き換えます。\n"
      ]
    },
    {
      "cell_type": "code",
      "metadata": {
        "id": "EFr1RbSr_qSp",
        "colab_type": "code",
        "outputId": "a525d30a-c3e3-4037-b8fb-c8edc2f7506a",
        "colab": {
          "base_uri": "https://localhost:8080/",
          "height": 54
        }
      },
      "source": [
        "attack = attack.replace('Z','r')\n",
        "attack = attack.replace('A','u')\n",
        "attack"
      ],
      "execution_count": 27,
      "outputs": [
        {
          "output_type": "execute_result",
          "data": {
            "text/plain": [
              "'KBuFBNtSNBCaYButEeCJthButKBuhaPereaFaYBBSYKtheNaEeBUtheaFPeNtureLBUtBELaCKerYutthataJNtNBEatterthatYBBSCaLEaFeYKErEarStCaJNaNFhetBGFthetruthEaJNGKthereCaLthJNMLChJHhheLtretHheFYutEaJNGKhetBGFthetruththatJLNBthJNMJNePerLeeNaNKYBFKYutGJeFBNetJEeBraNBtherCJthButJtCaLauNtRBGGKBrtheCJFBCBrEaKYeEarKauNtRBGGKtBELauNtRBGGKLheJLaNFEarKaNFtheCJFBCFBuMGaLJLaGGtBGFaYButJNthatYBBSChJHhJLEBLtGKatrueYBBSCJthLBEeLtretHherLaLJLaJFYeUBreNBCtheCaKthattheYBBSCJNFLuRJLthJLtBEaNFEeUBuNFtheEBNeKthattherBYYerLhJFJNtheHaPeaNFJtEaFeuLrJHhCeMBtLJOthBuLaNFFBGGarLaRJeHeaGGMBGFJtCaLaNaCUuGLJMhtBUEBNeKCheNJtCaLRJGeFuRCeGGVuFMethatHherhetBBSJtaNFRutJtButatJNtereLtaNFJtUetHheFuLaFBGGaraFaKaRJeHeaGGtheKearrBuNFEBrethaNaYBFKHBuGFteGGChattBFBCJththeCJFBCFBuMGaLLhetBBSEeUBrherLBNaNFaGGBCeFLheCBuGFLJPJGJIeEeYutJtCaLrBuMhGJPJNMJNthehBuLeaGGthetJEeHBNLJFerJNMhBCFJLEaGreMuGaraNFFeHeNttheCJFBCCaLJNaGGherCaKLaNFLBCheNJHBuGFNtLtaNFJtNBGBNMerJGJtButJMBtJNtBEKBGFraMLaNFEKLuMarhBMLheaFaMaJNaNFCaLUreeaNFLatJLUJeFYuttBELaCKerhehuNteFEeuRaNFLaJFheCaLMBJNMtBLtartaYaNFBUrBYYerLaNFJEJMhtVBJNJUJCBuGFMBYaHStBtheCJFBCaNFYereLReHtaYGeLBJCeNtYaHStheCJFBCLheHrJeFBPerEeaNFHaGGeFEeaRBBrGBLtGaEYaNFLheHaGGeFEeaGBtBUBtherNaEeLtBBYutLheNePerEeaNtNBharEYKJtLheRutEeJNtheENeCHGBtheLaMaJNaNFJHBuGFNtFBNBthJNMYutLCeataNFLCeataNFUeeGaGGHraEReFuRCeGGtheNtheBGFthJNMHBEEeNHeFaMaJNtheCJFBCruNMaYeGGUBrLuRReraNFKBuhaFtBHBEetBtJEeCheNKBuMBttBthetaYGeKBuHBuGFNtMBrJMhttBeatJNMYutKBuhaFtBCaJtUBrtheCJFBCtBtuHSFBCNherheaFaNFMruEYGeaGJttGeBPerthePJHtuaGLthBuMhthereCarNtreaGGKaNKthJNMtheEatterCJththeEthatJLNBthJNMBNGKePerKthJNMCaLHBBSeFYKJtLeGUJNaYarreGBUBFFLaNFeNFLJtJLFJUUereNtthJNMLMetEJOeFuRaNFtheVuJHeSJNFBULCaRLarBuNFaNFthethJNMLMBYetteraUterLuRRerLheMBtButherYBBSaNFGearNeFEeaYButEBLeLaNFtheYuGruLherLaNFJCaLJNaLCeattBUJNFButaGGaYButhJEYutYKaNFYKLheGetJtButthatEBLeLhaFYeeNFeaFaHBNLJFeraYGeGBNMtJEeLBtheNJFJFNtHareNBEBreaYButhJEYeHauLeJFBNttaSeNBLtBHSJNFeaFReBRGeRrettKLBBNJCaNteFtBLEBSeaNFaLSeFtheCJFBCtBGetEeYutLheCBuGFNtLheLaJFJtCaLaEeaNRraHtJHeaNFCaLNtHGeaNaNFJEuLttrKtBNBtFBJtaNKEBrethatJLVuLttheCaKCJthLBEeReBRGetheKMetFBCNBNathJNMCheNtheKFBNtSNBCNBthJNMaYButJthereLheCaLaYBtherJNMaYButEBLeLChJHhCaLNBSJNtBheraNFNBuLetBaNKYBFKYeJNMMBNeKBuLeeKetUJNFJNMaRBCerBUUauGtCJthEeUBrFBJNMathJNMthathaFLBEeMBBFJNJtaNFLhetBBSLNuUUtBBBUHBurLethatCaLaGGrJMhtYeHauLeLheFBNeJtherLeGUherLJLterEJLLCatLBNatBGeraYGeLGJEBGFEaJFCJthMBMMGeLBNhaFVuLtHBEetBGJPeCJthheraNFtBBSaLetatEeNBCCJthaLReGGJNMYBBSLheCBrSeFEeEJFFGJNMharFUBraYButaNhBuraNFtheNtheCJFBCEaFehereaLeuRJHBuGFNtLtBBFJtEuHhGBNMertheNUBraNhBurJtCaLFeaFGKFuGGaNFJCaLUJFMetKEJLLCatLBNCBuGFLaKFBNtRutKBurUeetuRtherehuHSGeYerrKaNFFBNtLHruNHhuRGJSethathuHSGeYerrKLetuRLtraJMhtaNFRrettKLBBNLheCBuGFLaKFBNtMaRaNFLtretHhGJSethathuHSGeYerrKChKFBNtKButrKtBYehaPetheNLhetBGFEeaGGaYButtheYaFRGaHeaNFJLaJFJCJLheFJCaLthereLheMBtEaFtheNYutJFJFNtEeaNNBharEaGGJCaNteFCaLtBMBLBEeChereLaGGJCaNteFCaLaHhaNMeJCarNtRartJHuGarLheLaJFJtCaLCJHSeFtBLaKChatJLaJFLaJFLheCBuGFNtLaKJtUBrtheChBGeCBrGFLheCaLMBJNMtBGJPeLBaLtBMBtBtheMBBFRGaHeCeGGJHBuGFNtLeeNBaFPaNtaMeJNMBJNMChereLheCaLMBJNMLBJEaFeuREKEJNFJCBuGFNttrKUBrJtYutJNePerLaJFLBYeHauLeJtCBuGFBNGKEaSetrBuYGeaNFCBuGFNtFBNBMBBFNBCLhehaFMBtaLtartaNFLheCeNtBNaNFtBGFEeaGGaYButtheMBBFRGaHeLheLaJFaGGaYBFKCBuGFhaPetBFBthereCaLtBMBarBuNFaGGFaKGBNMCJthaharRaNFLJNMUBrePeraNFePerLBJFJFNtthJNSEuHhBUJtYutJNePerLaJFLBJaLSeFherJULhereHSBNeFtBELaCKerCBuGFMBthereaNFLheLaJFNBtYKaHBNLJFeraYGeLJMhtJCaLMGaFaYButthatYeHauLeJCaNteFhJEaNFEetBYetBMetherEJLLCatLBNLheSeRtReHSJNMatEeaNFJtMBttJreLBEeaNFGBNeLBEeYKaNFYKtheKUetHheFtheNJMMerLJNaNFhaFRraKerLaNFtheNePerKYBFKCaLBUUtBYeFJCeNtuRtBEKrBBECJthaRJeHeBUHaNFGeaNFRutJtBNthetaYGetheNJLetFBCNJNaHhaJrYKtheCJNFBCaNFtrJeFtBthJNSBULBEethJNMHheerUuGYutJtCarNtNBuLeJUeGtLBGBNeLBEeJEBLtCJLheFJCaLFeaFtheLtarLCereLhJNJNMaNFtheGeaPeLruLtGeFJNtheCBBFLePerLBEBurNUuGaNFJhearFaNBCGaCaKBUUChBChBBJNMaYButLBEeYBFKthatCaLFeaFaNFaChJRRBCJGGaNFaFBMHrKJNMaYButLBEeYBFKthatCaLMBJNMtBFJeaNFtheCJNFCaLtrKJNMtBChJLRerLBEethJNMtBEeaNFJHBuGFNtEaSeButChatJtCaLaNFLBJtEaFetheHBGFLhJPerLruNBPerEetheNaCaKButJNtheCBBFLJhearFthatSJNFBUaLBuNFthataMhBLtEaSeLCheNJtCaNtLtBteGGaYButLBEethJNMthatLBNJtLEJNFaNFHaNtEaSeJtLeGUuNFerLtBBFaNFLBHaNtreLteaLKJNJtLMraPeaNFhaLtBMBaYButthatCaKePerKNJMhtMrJePJNMJMBtLBFBCNhearteFaNFLHareFJFJFCJLhJhaFLBEeHBERaNKRrettKLBBNaLRJFerCeNtHraCGJNMuREKLhBuGFeraNFJUGJRReFJtBUUaNFJtGJtJNtheHaNFGeaNFYeUBreJHBuGFYuFMeJtCaLaGGLhrJPeGeFuRJFJFNtNeeFaNKYBFKtBteGGEethatthatCaLaNaCUuGYaFLJMNaNFCBuGFUetHhEeLBEeYaFGuHSLBJCaLLHareFaNFEBLtLhBBStheHGBtheLBUUBUEeJMBtuRaNFturNeFarBuNFJNEKtraHSLthreetJEeLaNFHrBLLeFEKYreaLtePerKtJEeaNFtheNJtJeFuRaGJttGeGBHSBUEKhaJrCJthathreaFtBSeeRCJtHheLaCaKYutJhaFNtNBHBNUJFeNHeKBuFBthatCheNKBuPeGBLtahBrLeLhBethatKBuPeUBuNFJNLteaFBUNaJGJNMJtuRBPertheFBBrYutJhaFNtePerhearFaNKYBFKLaKJtCaLaNKCaKtBSeeRBUUYaFGuHSCheNKBuFSJGGeFaLRJFerJLetFBCNaMaJNaLhaSJNMaGGBPeraNFMBtButEKRJReUBraLEBSeUBrthehBuLeCaLaGGaLLtJGGaLFeathNBCaNFLBtheCJFBCCBuGFNtSNBCCeGGaUteraGBNMtJEeJhearFtheHGBHSaCaKBUUJNthetBCNMBYBBEYBBEYBBEtCeGPeGJHSLaNFaGGLtJGGaMaJNLtJGGerthaNePerRrettKLBBNJhearFatCJMLNaRFBCNJNtheFarSaEBNMLtthetreeLLBEethJNMCaLaLtJrrJNMJLetLtJGGaNFGJLteNeFFJreHtGKJHBuGFVuLtYareGKhearaEeKBCEeKBCFBCNtherethatCaLMBBFLaKLJEeKBCEeKBCaLLBUtaLJHBuGFaNFtheNJRutButtheGJMhtaNFLHraEYGeFButBUtheCJNFBCBNtBtheLheFtheNJLGJRReFFBCNtBtheMrBuNFaNFHraCGeFJNaEBNMthetreeLaNFLureeNBuMhthereCaLtBELaCKerCaJtJNMUBrEe'"
            ]
          },
          "metadata": {
            "tags": []
          },
          "execution_count": 27
        }
      ]
    },
    {
      "cell_type": "markdown",
      "metadata": {
        "id": "nRHBYCdXElHZ",
        "colab_type": "text"
      },
      "source": [
        "「aFPeNture」は「adventure」と予想できるのでF→d P→b N→nに置き換えます。"
      ]
    },
    {
      "cell_type": "code",
      "metadata": {
        "id": "-ost31VXCsm_",
        "colab_type": "code",
        "outputId": "406be3d8-40ab-41d8-fa55-9b16309e943d",
        "colab": {
          "base_uri": "https://localhost:8080/",
          "height": 54
        }
      },
      "source": [
        "attack = attack.replace('F','d')\n",
        "attack = attack.replace('P','b')\n",
        "attack = attack.replace('N','n')\n",
        "attack"
      ],
      "execution_count": 28,
      "outputs": [
        {
          "output_type": "execute_result",
          "data": {
            "text/plain": [
              "'KBudBntSnBCaYButEeCJthButKBuhabereadaYBBSYKthenaEeBUtheadbentureLBUtBELaCKerYutthataJntnBEatterthatYBBSCaLEadeYKErEarStCaJnandhetBGdthetruthEaJnGKthereCaLthJnMLChJHhheLtretHhedYutEaJnGKhetBGdthetruththatJLnBthJnMJneberLeenanKYBdKYutGJedBnetJEeBranBtherCJthButJtCaLauntRBGGKBrtheCJdBCBrEaKYeEarKauntRBGGKtBELauntRBGGKLheJLandEarKandtheCJdBCdBuMGaLJLaGGtBGdaYButJnthatYBBSChJHhJLEBLtGKatrueYBBSCJthLBEeLtretHherLaLJLaJdYeUBrenBCtheCaKthattheYBBSCJndLuRJLthJLtBEandEeUBundtheEBneKthattherBYYerLhJdJntheHabeandJtEadeuLrJHhCeMBtLJOthBuLanddBGGarLaRJeHeaGGMBGdJtCaLanaCUuGLJMhtBUEBneKChenJtCaLRJGeduRCeGGVudMethatHherhetBBSJtandRutJtButatJntereLtandJtUetHheduLadBGGaradaKaRJeHeaGGtheKearrBundEBrethanaYBdKHBuGdteGGChattBdBCJththeCJdBCdBuMGaLLhetBBSEeUBrherLBnandaGGBCedLheCBuGdLJbJGJIeEeYutJtCaLrBuMhGJbJnMJnthehBuLeaGGthetJEeHBnLJderJnMhBCdJLEaGreMuGaranddeHenttheCJdBCCaLJnaGGherCaKLandLBChenJHBuGdntLtandJtnBGBnMerJGJtButJMBtJntBEKBGdraMLandEKLuMarhBMLheadaMaJnandCaLUreeandLatJLUJedYuttBELaCKerhehuntedEeuRandLaJdheCaLMBJnMtBLtartaYandBUrBYYerLandJEJMhtVBJnJUJCBuGdMBYaHStBtheCJdBCandYereLReHtaYGeLBJCentYaHStheCJdBCLheHrJedBberEeandHaGGedEeaRBBrGBLtGaEYandLheHaGGedEeaGBtBUBthernaEeLtBBYutLheneberEeantnBharEYKJtLheRutEeJntheEneCHGBtheLaMaJnandJHBuGdntdBnBthJnMYutLCeatandLCeatandUeeGaGGHraEReduRCeGGthentheBGdthJnMHBEEenHedaMaJntheCJdBCrunMaYeGGUBrLuRRerandKBuhadtBHBEetBtJEeChenKBuMBttBthetaYGeKBuHBuGdntMBrJMhttBeatJnMYutKBuhadtBCaJtUBrtheCJdBCtBtuHSdBCnherheadandMruEYGeaGJttGeBberthebJHtuaGLthBuMhthereCarntreaGGKanKthJnMtheEatterCJththeEthatJLnBthJnMBnGKeberKthJnMCaLHBBSedYKJtLeGUJnaYarreGBUBddLandendLJtJLdJUUerentthJnMLMetEJOeduRandtheVuJHeSJndBULCaRLarBundandthethJnMLMBYetteraUterLuRRerLheMBtButherYBBSandGearnedEeaYButEBLeLandtheYuGruLherLandJCaLJnaLCeattBUJndButaGGaYButhJEYutYKandYKLheGetJtButthatEBLeLhadYeendeadaHBnLJderaYGeGBnMtJEeLBthenJdJdntHarenBEBreaYButhJEYeHauLeJdBnttaSenBLtBHSJndeadReBRGeRrettKLBBnJCantedtBLEBSeandaLSedtheCJdBCtBGetEeYutLheCBuGdntLheLaJdJtCaLaEeanRraHtJHeandCaLntHGeanandJEuLttrKtBnBtdBJtanKEBrethatJLVuLttheCaKCJthLBEeReBRGetheKMetdBCnBnathJnMChentheKdBntSnBCnBthJnMaYButJthereLheCaLaYBtherJnMaYButEBLeLChJHhCaLnBSJntBherandnBuLetBanKYBdKYeJnMMBneKBuLeeKetUJndJnMaRBCerBUUauGtCJthEeUBrdBJnMathJnMthathadLBEeMBBdJnJtandLhetBBSLnuUUtBBBUHBurLethatCaLaGGrJMhtYeHauLeLhedBneJtherLeGUherLJLterEJLLCatLBnatBGeraYGeLGJEBGdEaJdCJthMBMMGeLBnhadVuLtHBEetBGJbeCJthherandtBBSaLetatEenBCCJthaLReGGJnMYBBSLheCBrSedEeEJddGJnMhardUBraYButanhBurandthentheCJdBCEadehereaLeuRJHBuGdntLtBBdJtEuHhGBnMerthenUBranhBurJtCaLdeadGKduGGandJCaLUJdMetKEJLLCatLBnCBuGdLaKdBntRutKBurUeetuRtherehuHSGeYerrKanddBntLHrunHhuRGJSethathuHSGeYerrKLetuRLtraJMhtandRrettKLBBnLheCBuGdLaKdBntMaRandLtretHhGJSethathuHSGeYerrKChKdBntKButrKtBYehabethenLhetBGdEeaGGaYButtheYadRGaHeandJLaJdJCJLhedJCaLthereLheMBtEadthenYutJdJdntEeannBharEaGGJCantedCaLtBMBLBEeChereLaGGJCantedCaLaHhanMeJCarntRartJHuGarLheLaJdJtCaLCJHSedtBLaKChatJLaJdLaJdLheCBuGdntLaKJtUBrtheChBGeCBrGdLheCaLMBJnMtBGJbeLBaLtBMBtBtheMBBdRGaHeCeGGJHBuGdntLeenBadbantaMeJnMBJnMChereLheCaLMBJnMLBJEadeuREKEJndJCBuGdnttrKUBrJtYutJneberLaJdLBYeHauLeJtCBuGdBnGKEaSetrBuYGeandCBuGdntdBnBMBBdnBCLhehadMBtaLtartandLheCentBnandtBGdEeaGGaYButtheMBBdRGaHeLheLaJdaGGaYBdKCBuGdhabetBdBthereCaLtBMBarBundaGGdaKGBnMCJthaharRandLJnMUBreberandeberLBJdJdntthJnSEuHhBUJtYutJneberLaJdLBJaLSedherJULhereHSBnedtBELaCKerCBuGdMBthereandLheLaJdnBtYKaHBnLJderaYGeLJMhtJCaLMGadaYButthatYeHauLeJCantedhJEandEetBYetBMetherEJLLCatLBnLheSeRtReHSJnMatEeandJtMBttJreLBEeandGBneLBEeYKandYKtheKUetHhedthenJMMerLJnandhadRraKerLandtheneberKYBdKCaLBUUtBYedJCentuRtBEKrBBECJthaRJeHeBUHandGeandRutJtBnthetaYGethenJLetdBCnJnaHhaJrYKtheCJndBCandtrJedtBthJnSBULBEethJnMHheerUuGYutJtCarntnBuLeJUeGtLBGBneLBEeJEBLtCJLhedJCaLdeadtheLtarLCereLhJnJnMandtheGeabeLruLtGedJntheCBBdLeberLBEBurnUuGandJheardanBCGaCaKBUUChBChBBJnMaYButLBEeYBdKthatCaLdeadandaChJRRBCJGGandadBMHrKJnMaYButLBEeYBdKthatCaLMBJnMtBdJeandtheCJndCaLtrKJnMtBChJLRerLBEethJnMtBEeandJHBuGdntEaSeButChatJtCaLandLBJtEadetheHBGdLhJberLrunBberEethenaCaKButJntheCBBdLJheardthatSJndBUaLBundthataMhBLtEaSeLChenJtCantLtBteGGaYButLBEethJnMthatLBnJtLEJndandHantEaSeJtLeGUunderLtBBdandLBHantreLteaLKJnJtLMrabeandhaLtBMBaYButthatCaKeberKnJMhtMrJebJnMJMBtLBdBCnheartedandLHaredJdJdCJLhJhadLBEeHBERanKRrettKLBBnaLRJderCentHraCGJnMuREKLhBuGderandJUGJRRedJtBUUandJtGJtJntheHandGeandYeUBreJHBuGdYudMeJtCaLaGGLhrJbeGeduRJdJdntneedanKYBdKtBteGGEethatthatCaLanaCUuGYadLJMnandCBuGdUetHhEeLBEeYadGuHSLBJCaLLHaredandEBLtLhBBStheHGBtheLBUUBUEeJMBtuRandturnedarBundJnEKtraHSLthreetJEeLandHrBLLedEKYreaLteberKtJEeandthenJtJeduRaGJttGeGBHSBUEKhaJrCJthathreadtBSeeRCJtHheLaCaKYutJhadntnBHBnUJdenHeKBudBthatChenKBubeGBLtahBrLeLhBethatKBubeUBundJnLteadBUnaJGJnMJtuRBberthedBBrYutJhadnteberheardanKYBdKLaKJtCaLanKCaKtBSeeRBUUYadGuHSChenKBudSJGGedaLRJderJLetdBCnaMaJnaLhaSJnMaGGBberandMBtButEKRJReUBraLEBSeUBrthehBuLeCaLaGGaLLtJGGaLdeathnBCandLBtheCJdBCCBuGdntSnBCCeGGaUteraGBnMtJEeJheardtheHGBHSaCaKBUUJnthetBCnMBYBBEYBBEYBBEtCeGbeGJHSLandaGGLtJGGaMaJnLtJGGerthaneberRrettKLBBnJheardatCJMLnaRdBCnJnthedarSaEBnMLtthetreeLLBEethJnMCaLaLtJrrJnMJLetLtJGGandGJLteneddJreHtGKJHBuGdVuLtYareGKhearaEeKBCEeKBCdBCntherethatCaLMBBdLaKLJEeKBCEeKBCaLLBUtaLJHBuGdandthenJRutButtheGJMhtandLHraEYGedButBUtheCJndBCBntBtheLhedthenJLGJRReddBCntBtheMrBundandHraCGedJnaEBnMthetreeLandLureenBuMhthereCaLtBELaCKerCaJtJnMUBrEe'"
            ]
          },
          "metadata": {
            "tags": []
          },
          "execution_count": 28
        }
      ]
    },
    {
      "cell_type": "markdown",
      "metadata": {
        "id": "Vhy_w4k0NYji",
        "colab_type": "text"
      },
      "source": [
        "「Leen」はseenと予想し、L→sに置き換えます  \n",
        "「stretHh」はstretchと予想し、H→cに置き換えます  \n",
        "「readaYBBS」はread a bookと予想し、 Y→b,B→o S→k　に置き換えます"
      ]
    },
    {
      "cell_type": "code",
      "metadata": {
        "id": "i9dIfzL2Ji8F",
        "colab_type": "code",
        "outputId": "ff8e8ce9-97f1-487a-c384-02255f525324",
        "colab": {
          "base_uri": "https://localhost:8080/",
          "height": 54
        }
      },
      "source": [
        "attack = attack.replace('L','s')\n",
        "attack = attack.replace('H','c')\n",
        "attack = attack.replace('Y','b')\n",
        "attack = attack.replace('B','o')\n",
        "attack = attack.replace('S','k')\n",
        "attack"
      ],
      "execution_count": 29,
      "outputs": [
        {
          "output_type": "execute_result",
          "data": {
            "text/plain": [
              "'KoudontknoCaboutEeCJthoutKouhabereadabookbKthenaEeoUtheadbenturesoUtoEsaCKerbutthataJntnoEatterthatbookCasEadebKErEarktCaJnandhetoGdthetruthEaJnGKthereCasthJnMsChJchhestretchedbutEaJnGKhetoGdthetruththatJsnothJnMJneberseenanKbodKbutGJedonetJEeoranotherCJthoutJtCasauntRoGGKortheCJdoCorEaKbeEarKauntRoGGKtoEsauntRoGGKsheJsandEarKandtheCJdoCdouMGasJsaGGtoGdaboutJnthatbookChJchJsEostGKatruebookCJthsoEestretchersasJsaJdbeUorenoCtheCaKthatthebookCJndsuRJsthJstoEandEeUoundtheEoneKthattherobbershJdJnthecabeandJtEadeusrJchCeMotsJOthousanddoGGarsaRJeceaGGMoGdJtCasanaCUuGsJMhtoUEoneKChenJtCasRJGeduRCeGGVudMethatcherhetookJtandRutJtoutatJnterestandJtUetchedusadoGGaradaKaRJeceaGGtheKearroundEorethanabodKcouGdteGGChattodoCJththeCJdoCdouMGasshetookEeUorhersonandaGGoCedsheCouGdsJbJGJIeEebutJtCasrouMhGJbJnMJnthehouseaGGthetJEeconsJderJnMhoCdJsEaGreMuGaranddecenttheCJdoCCasJnaGGherCaKsandsoChenJcouGdntstandJtnoGonMerJGJtoutJMotJntoEKoGdraMsandEKsuMarhoMsheadaMaJnandCasUreeandsatJsUJedbuttoEsaCKerhehuntedEeuRandsaJdheCasMoJnMtostartabandoUrobbersandJEJMhtVoJnJUJCouGdMobacktotheCJdoCandberesRectabGesoJCentbacktheCJdoCshecrJedoberEeandcaGGedEeaRoorGostGaEbandshecaGGedEeaGotoUothernaEestoobutsheneberEeantnoharEbKJtsheRutEeJntheEneCcGothesaMaJnandJcouGdntdonothJnMbutsCeatandsCeatandUeeGaGGcraEReduRCeGGthentheoGdthJnMcoEEencedaMaJntheCJdoCrunMabeGGUorsuRRerandKouhadtocoEetotJEeChenKouMottothetabGeKoucouGdntMorJMhttoeatJnMbutKouhadtoCaJtUortheCJdoCtotuckdoCnherheadandMruEbGeaGJttGeoberthebJctuaGsthouMhthereCarntreaGGKanKthJnMtheEatterCJththeEthatJsnothJnMonGKeberKthJnMCascookedbKJtseGUJnabarreGoUoddsandendsJtJsdJUUerentthJnMsMetEJOeduRandtheVuJcekJndoUsCaRsaroundandthethJnMsMobetteraUtersuRRersheMotoutherbookandGearnedEeaboutEosesandthebuGrushersandJCasJnasCeattoUJndoutaGGabouthJEbutbKandbKsheGetJtoutthatEoseshadbeendeadaconsJderabGeGonMtJEesothenJdJdntcarenoEoreabouthJEbecauseJdonttakenostockJndeadReoRGeRrettKsoonJCantedtosEokeandaskedtheCJdoCtoGetEebutsheCouGdntshesaJdJtCasaEeanRractJceandCasntcGeanandJEusttrKtonotdoJtanKEorethatJsVusttheCaKCJthsoEeReoRGetheKMetdoCnonathJnMChentheKdontknoCnothJnMaboutJtheresheCasabotherJnMaboutEosesChJchCasnokJntoherandnousetoanKbodKbeJnMMoneKouseeKetUJndJnMaRoCeroUUauGtCJthEeUordoJnMathJnMthathadsoEeMoodJnJtandshetooksnuUUtoooUcoursethatCasaGGrJMhtbecauseshedoneJtherseGUhersJsterEJssCatsonatoGerabGesGJEoGdEaJdCJthMoMMGesonhadVustcoEetoGJbeCJthherandtookasetatEenoCCJthasReGGJnMbooksheCorkedEeEJddGJnMhardUoraboutanhourandthentheCJdoCEadehereaseuRJcouGdntstoodJtEuchGonMerthenUoranhourJtCasdeadGKduGGandJCasUJdMetKEJssCatsonCouGdsaKdontRutKourUeetuRtherehuckGeberrKanddontscrunchuRGJkethathuckGeberrKsetuRstraJMhtandRrettKsoonsheCouGdsaKdontMaRandstretchGJkethathuckGeberrKChKdontKoutrKtobehabethenshetoGdEeaGGaboutthebadRGaceandJsaJdJCJshedJCastheresheMotEadthenbutJdJdntEeannoharEaGGJCantedCastoMosoEeCheresaGGJCantedCasachanMeJCarntRartJcuGarshesaJdJtCasCJckedtosaKChatJsaJdsaJdsheCouGdntsaKJtUortheChoGeCorGdsheCasMoJnMtoGJbesoastoMototheMoodRGaceCeGGJcouGdntseenoadbantaMeJnMoJnMCheresheCasMoJnMsoJEadeuREKEJndJCouGdnttrKUorJtbutJnebersaJdsobecauseJtCouGdonGKEaketroubGeandCouGdntdonoMoodnoCshehadMotastartandsheCentonandtoGdEeaGGabouttheMoodRGaceshesaJdaGGabodKCouGdhabetodothereCastoMoaroundaGGdaKGonMCJthaharRandsJnMUoreberandebersoJdJdntthJnkEuchoUJtbutJnebersaJdsoJaskedherJUshereckonedtoEsaCKerCouGdMothereandshesaJdnotbKaconsJderabGesJMhtJCasMGadaboutthatbecauseJCantedhJEandEetobetoMetherEJssCatsonshekeRtReckJnMatEeandJtMottJresoEeandGonesoEebKandbKtheKUetchedthenJMMersJnandhadRraKersandtheneberKbodKCasoUUtobedJCentuRtoEKrooECJthaRJeceoUcandGeandRutJtonthetabGethenJsetdoCnJnachaJrbKtheCJndoCandtrJedtothJnkoUsoEethJnMcheerUuGbutJtCarntnouseJUeGtsoGonesoEeJEostCJshedJCasdeadthestarsCereshJnJnMandtheGeabesrustGedJntheCoodsebersoEournUuGandJheardanoCGaCaKoUUChoChooJnMaboutsoEebodKthatCasdeadandaChJRRoCJGGandadoMcrKJnMaboutsoEebodKthatCasMoJnMtodJeandtheCJndCastrKJnMtoChJsRersoEethJnMtoEeandJcouGdntEakeoutChatJtCasandsoJtEadethecoGdshJbersrunoberEethenaCaKoutJntheCoodsJheardthatkJndoUasoundthataMhostEakesChenJtCantstoteGGaboutsoEethJnMthatsonJtsEJndandcantEakeJtseGUunderstoodandsocantresteasKJnJtsMrabeandhastoMoaboutthatCaKeberKnJMhtMrJebJnMJMotsodoCnheartedandscaredJdJdCJshJhadsoEecoERanKRrettKsoonasRJderCentcraCGJnMuREKshouGderandJUGJRRedJtoUUandJtGJtJnthecandGeandbeUoreJcouGdbudMeJtCasaGGshrJbeGeduRJdJdntneedanKbodKtoteGGEethatthatCasanaCUuGbadsJMnandCouGdUetchEesoEebadGucksoJCasscaredandEostshookthecGothesoUUoUEeJMotuRandturnedaroundJnEKtracksthreetJEesandcrossedEKbreasteberKtJEeandthenJtJeduRaGJttGeGockoUEKhaJrCJthathreadtokeeRCJtchesaCaKbutJhadntnoconUJdenceKoudothatChenKoubeGostahorseshoethatKoubeUoundJnsteadoUnaJGJnMJtuRoberthedoorbutJhadnteberheardanKbodKsaKJtCasanKCaKtokeeRoUUbadGuckChenKoudkJGGedasRJderJsetdoCnaMaJnashakJnMaGGoberandMotoutEKRJReUorasEokeUorthehouseCasaGGasstJGGasdeathnoCandsotheCJdoCCouGdntknoCCeGGaUteraGonMtJEeJheardthecGockaCaKoUUJnthetoCnMobooEbooEbooEtCeGbeGJcksandaGGstJGGaMaJnstJGGerthaneberRrettKsoonJheardatCJMsnaRdoCnJnthedarkaEonMstthetreessoEethJnMCasastJrrJnMJsetstJGGandGJsteneddJrectGKJcouGdVustbareGKhearaEeKoCEeKoCdoCntherethatCasMoodsaKsJEeKoCEeKoCassoUtasJcouGdandthenJRutouttheGJMhtandscraEbGedoutoUtheCJndoContotheshedthenJsGJRReddoCntotheMroundandcraCGedJnaEonMthetreesandsureenouMhthereCastoEsaCKerCaJtJnMUorEe'"
            ]
          },
          "metadata": {
            "tags": []
          },
          "execution_count": 29
        }
      ]
    },
    {
      "cell_type": "markdown",
      "metadata": {
        "id": "5JE_gLZmOEt7",
        "colab_type": "text"
      },
      "source": [
        "ここまで来ると大分楽になりました。  \n",
        "「'youdontknoC'」はyou don't knowなのでC→w  \n",
        "「aboutEewJthou」はabount me withoutなのでE→m J→i"
      ]
    },
    {
      "cell_type": "code",
      "metadata": {
        "id": "tHmraiLeO_lW",
        "colab_type": "code",
        "outputId": "ac0e2ce0-7e1e-4e6a-809e-f72a042abd99",
        "colab": {
          "base_uri": "https://localhost:8080/",
          "height": 54
        }
      },
      "source": [
        "attack = attack.replace('K','y')\n",
        "attack = attack.replace('C','w')\n",
        "attack = attack.replace('E','m')\n",
        "attack = attack.replace('J','i')\n",
        "attack"
      ],
      "execution_count": 30,
      "outputs": [
        {
          "output_type": "execute_result",
          "data": {
            "text/plain": [
              "'youdontknowaboutmewithoutyouhabereadabookbythenameoUtheadbenturesoUtomsawyerbutthataintnomatterthatbookwasmadebymrmarktwainandhetoGdthetruthmainGytherewasthinMswhichhestretchedbutmainGyhetoGdthetruththatisnothinMineberseenanybodybutGiedonetimeoranotherwithoutitwasauntRoGGyorthewidowormaybemaryauntRoGGytomsauntRoGGysheisandmaryandthewidowdouMGasisaGGtoGdaboutinthatbookwhichismostGyatruebookwithsomestretchersasisaidbeUorenowthewaythatthebookwindsuRisthistomandmeUoundthemoneythattherobbershidinthecabeanditmadeusrichweMotsiOthousanddoGGarsaRieceaGGMoGditwasanawUuGsiMhtoUmoneywhenitwasRiGeduRweGGVudMethatcherhetookitandRutitoutatinterestanditUetchedusadoGGaradayaRieceaGGtheyearroundmorethanabodycouGdteGGwhattodowiththewidowdouMGasshetookmeUorhersonandaGGowedshewouGdsibiGiIemebutitwasrouMhGibinMinthehouseaGGthetimeconsiderinMhowdismaGreMuGaranddecentthewidowwasinaGGherwaysandsowhenicouGdntstanditnoGonMeriGitoutiMotintomyoGdraMsandmysuMarhoMsheadaMainandwasUreeandsatisUiedbuttomsawyerhehuntedmeuRandsaidhewasMoinMtostartabandoUrobbersandimiMhtVoiniUiwouGdMobacktothewidowandberesRectabGesoiwentbackthewidowshecriedobermeandcaGGedmeaRoorGostGambandshecaGGedmeaGotoUothernamestoobutshenebermeantnoharmbyitsheRutmeinthemnewcGothesaMainandicouGdntdonothinMbutsweatandsweatandUeeGaGGcramReduRweGGthentheoGdthinMcommencedaMainthewidowrunMabeGGUorsuRRerandyouhadtocometotimewhenyouMottothetabGeyoucouGdntMoriMhttoeatinMbutyouhadtowaitUorthewidowtotuckdownherheadandMrumbGeaGittGeoberthebictuaGsthouMhtherewarntreaGGyanythinMthematterwiththemthatisnothinMonGyeberythinMwascookedbyitseGUinabarreGoUoddsandendsitisdiUUerentthinMsMetmiOeduRandtheVuicekindoUswaRsaroundandthethinMsMobetteraUtersuRRersheMotoutherbookandGearnedmeaboutmosesandthebuGrushersandiwasinasweattoUindoutaGGabouthimbutbyandbysheGetitoutthatmoseshadbeendeadaconsiderabGeGonMtimesothenididntcarenomoreabouthimbecauseidonttakenostockindeadReoRGeRrettysooniwantedtosmokeandaskedthewidowtoGetmebutshewouGdntshesaiditwasameanRracticeandwasntcGeanandimusttrytonotdoitanymorethatisVustthewaywithsomeReoRGetheyMetdownonathinMwhentheydontknownothinMaboutithereshewasabotherinMaboutmoseswhichwasnokintoherandnousetoanybodybeinMMoneyouseeyetUindinMaRoweroUUauGtwithmeUordoinMathinMthathadsomeMoodinitandshetooksnuUUtoooUcoursethatwasaGGriMhtbecauseshedoneitherseGUhersistermisswatsonatoGerabGesGimoGdmaidwithMoMMGesonhadVustcometoGibewithherandtookasetatmenowwithasReGGinMbooksheworkedmemiddGinMhardUoraboutanhourandthenthewidowmadehereaseuRicouGdntstooditmuchGonMerthenUoranhouritwasdeadGyduGGandiwasUidMetymisswatsonwouGdsaydontRutyourUeetuRtherehuckGeberryanddontscrunchuRGikethathuckGeberrysetuRstraiMhtandRrettysoonshewouGdsaydontMaRandstretchGikethathuckGeberrywhydontyoutrytobehabethenshetoGdmeaGGaboutthebadRGaceandisaidiwishediwastheresheMotmadthenbutididntmeannoharmaGGiwantedwastoMosomewheresaGGiwantedwasachanMeiwarntRarticuGarshesaiditwaswickedtosaywhatisaidsaidshewouGdntsayitUorthewhoGeworGdshewasMoinMtoGibesoastoMototheMoodRGaceweGGicouGdntseenoadbantaMeinMoinMwhereshewasMoinMsoimadeuRmymindiwouGdnttryUoritbutinebersaidsobecauseitwouGdonGymaketroubGeandwouGdntdonoMoodnowshehadMotastartandshewentonandtoGdmeaGGabouttheMoodRGaceshesaidaGGabodywouGdhabetodotherewastoMoaroundaGGdayGonMwithaharRandsinMUoreberandebersoididntthinkmuchoUitbutinebersaidsoiaskedheriUshereckonedtomsawyerwouGdMothereandshesaidnotbyaconsiderabGesiMhtiwasMGadaboutthatbecauseiwantedhimandmetobetoMethermisswatsonshekeRtReckinMatmeanditMottiresomeandGonesomebyandbytheyUetchedtheniMMersinandhadRrayersandtheneberybodywasoUUtobediwentuRtomyroomwithaRieceoUcandGeandRutitonthetabGethenisetdowninachairbythewindowandtriedtothinkoUsomethinMcheerUuGbutitwarntnouseiUeGtsoGonesomeimostwishediwasdeadthestarswereshininMandtheGeabesrustGedinthewoodsebersomournUuGandiheardanowGawayoUUwhowhooinMaboutsomebodythatwasdeadandawhiRRowiGGandadoMcryinMaboutsomebodythatwasMoinMtodieandthewindwastryinMtowhisRersomethinMtomeandicouGdntmakeoutwhatitwasandsoitmadethecoGdshibersrunobermethenawayoutinthewoodsiheardthatkindoUasoundthataMhostmakeswhenitwantstoteGGaboutsomethinMthatsonitsmindandcantmakeitseGUunderstoodandsocantresteasyinitsMrabeandhastoMoaboutthatwayeberyniMhtMriebinMiMotsodownheartedandscaredididwishihadsomecomRanyRrettysoonasRiderwentcrawGinMuRmyshouGderandiUGiRReditoUUanditGitinthecandGeandbeUoreicouGdbudMeitwasaGGshribeGeduRididntneedanybodytoteGGmethatthatwasanawUuGbadsiMnandwouGdUetchmesomebadGucksoiwasscaredandmostshookthecGothesoUUoUmeiMotuRandturnedaroundinmytracksthreetimesandcrossedmybreasteberytimeandthenitieduRaGittGeGockoUmyhairwithathreadtokeeRwitchesawaybutihadntnoconUidenceyoudothatwhenyoubeGostahorseshoethatyoubeUoundinsteadoUnaiGinMituRoberthedoorbutihadnteberheardanybodysayitwasanywaytokeeRoUUbadGuckwhenyoudkiGGedasRiderisetdownaMainashakinMaGGoberandMotoutmyRiReUorasmokeUorthehousewasaGGasstiGGasdeathnowandsothewidowwouGdntknowweGGaUteraGonMtimeiheardthecGockawayoUUinthetownMoboomboomboomtweGbeGicksandaGGstiGGaMainstiGGerthaneberRrettysooniheardatwiMsnaRdowninthedarkamonMstthetreessomethinMwasastirrinMisetstiGGandGisteneddirectGyicouGdVustbareGyhearameyowmeyowdowntherethatwasMoodsaysimeyowmeyowassoUtasicouGdandtheniRutouttheGiMhtandscrambGedoutoUthewindowontotheshedthenisGiRReddowntotheMroundandcrawGedinamonMthetreesandsureenouMhtherewastomsawyerwaitinMUorme'"
            ]
          },
          "metadata": {
            "tags": []
          },
          "execution_count": 30
        }
      ]
    },
    {
      "cell_type": "markdown",
      "metadata": {
        "id": "OlXP7gpSSATt",
        "colab_type": "text"
      },
      "source": [
        "「nameoU」はname of なのでU→f  \n",
        "「waitinMforme」はwaiting for meなのでM→g  \n",
        "「Rretty」はprettrなのでR→p\n",
        "「candGe」はcandleなのでG→l"
      ]
    },
    {
      "cell_type": "code",
      "metadata": {
        "id": "vA56doCxR6tA",
        "colab_type": "code",
        "outputId": "443642a1-704c-44c9-fd9a-b37de15a39e7",
        "colab": {
          "base_uri": "https://localhost:8080/",
          "height": 54
        }
      },
      "source": [
        "attack = attack.replace('U','f')\n",
        "attack = attack.replace('M','g')\n",
        "attack = attack.replace('R','p')\n",
        "attack = attack.replace('G','l')\n",
        "attack"
      ],
      "execution_count": 31,
      "outputs": [
        {
          "output_type": "execute_result",
          "data": {
            "text/plain": [
              "'youdontknowaboutmewithoutyouhabereadabookbythenameoftheadbenturesoftomsawyerbutthataintnomatterthatbookwasmadebymrmarktwainandhetoldthetruthmainlytherewasthingswhichhestretchedbutmainlyhetoldthetruththatisnothingineberseenanybodybutliedonetimeoranotherwithoutitwasauntpollyorthewidowormaybemaryauntpollytomsauntpollysheisandmaryandthewidowdouglasisalltoldaboutinthatbookwhichismostlyatruebookwithsomestretchersasisaidbeforenowthewaythatthebookwindsupisthistomandmefoundthemoneythattherobbershidinthecabeanditmadeusrichwegotsiOthousanddollarsapieceallgolditwasanawfulsightofmoneywhenitwaspiledupwellVudgethatcherhetookitandputitoutatinterestanditfetchedusadollaradayapiecealltheyearroundmorethanabodycouldtellwhattodowiththewidowdouglasshetookmeforhersonandallowedshewouldsibiliIemebutitwasroughlibinginthehouseallthetimeconsideringhowdismalregularanddecentthewidowwasinallherwaysandsowhenicouldntstanditnolongerilitoutigotintomyoldragsandmysugarhogsheadagainandwasfreeandsatisfiedbuttomsawyerhehuntedmeupandsaidhewasgoingtostartabandofrobbersandimightVoinifiwouldgobacktothewidowandberespectablesoiwentbackthewidowshecriedobermeandcalledmeapoorlostlambandshecalledmealotofothernamestoobutshenebermeantnoharmbyitsheputmeinthemnewclothesagainandicouldntdonothingbutsweatandsweatandfeelallcrampedupwellthentheoldthingcommencedagainthewidowrungabellforsupperandyouhadtocometotimewhenyougottothetableyoucouldntgorighttoeatingbutyouhadtowaitforthewidowtotuckdownherheadandgrumblealittleoberthebictualsthoughtherewarntreallyanythingthematterwiththemthatisnothingonlyeberythingwascookedbyitselfinabarrelofoddsandendsitisdifferentthingsgetmiOedupandtheVuicekindofswapsaroundandthethingsgobetteraftersuppershegotoutherbookandlearnedmeaboutmosesandthebulrushersandiwasinasweattofindoutallabouthimbutbyandbysheletitoutthatmoseshadbeendeadaconsiderablelongtimesothenididntcarenomoreabouthimbecauseidonttakenostockindeadpeopleprettysooniwantedtosmokeandaskedthewidowtoletmebutshewouldntshesaiditwasameanpracticeandwasntcleanandimusttrytonotdoitanymorethatisVustthewaywithsomepeopletheygetdownonathingwhentheydontknownothingaboutithereshewasabotheringaboutmoseswhichwasnokintoherandnousetoanybodybeinggoneyouseeyetfindingapoweroffaultwithmefordoingathingthathadsomegoodinitandshetooksnufftooofcoursethatwasallrightbecauseshedoneitherselfhersistermisswatsonatolerableslimoldmaidwithgogglesonhadVustcometolibewithherandtookasetatmenowwithaspellingbooksheworkedmemiddlinghardforaboutanhourandthenthewidowmadehereaseupicouldntstooditmuchlongerthenforanhouritwasdeadlydullandiwasfidgetymisswatsonwouldsaydontputyourfeetuptherehuckleberryanddontscrunchuplikethathuckleberrysetupstraightandprettysoonshewouldsaydontgapandstretchlikethathuckleberrywhydontyoutrytobehabethenshetoldmeallaboutthebadplaceandisaidiwishediwasthereshegotmadthenbutididntmeannoharmalliwantedwastogosomewheresalliwantedwasachangeiwarntparticularshesaiditwaswickedtosaywhatisaidsaidshewouldntsayitforthewholeworldshewasgoingtolibesoastogotothegoodplacewellicouldntseenoadbantageingoingwhereshewasgoingsoimadeupmymindiwouldnttryforitbutinebersaidsobecauseitwouldonlymaketroubleandwouldntdonogoodnowshehadgotastartandshewentonandtoldmeallaboutthegoodplaceshesaidallabodywouldhabetodotherewastogoaroundalldaylongwithaharpandsingforeberandebersoididntthinkmuchofitbutinebersaidsoiaskedherifshereckonedtomsawyerwouldgothereandshesaidnotbyaconsiderablesightiwasgladaboutthatbecauseiwantedhimandmetobetogethermisswatsonshekeptpeckingatmeanditgottiresomeandlonesomebyandbytheyfetchedtheniggersinandhadprayersandtheneberybodywasofftobediwentuptomyroomwithapieceofcandleandputitonthetablethenisetdowninachairbythewindowandtriedtothinkofsomethingcheerfulbutitwarntnouseifeltsolonesomeimostwishediwasdeadthestarswereshiningandtheleabesrustledinthewoodsebersomournfulandiheardanowlawayoffwhowhooingaboutsomebodythatwasdeadandawhippowillandadogcryingaboutsomebodythatwasgoingtodieandthewindwastryingtowhispersomethingtomeandicouldntmakeoutwhatitwasandsoitmadethecoldshibersrunobermethenawayoutinthewoodsiheardthatkindofasoundthataghostmakeswhenitwantstotellaboutsomethingthatsonitsmindandcantmakeitselfunderstoodandsocantresteasyinitsgrabeandhastogoaboutthatwayeberynightgriebingigotsodownheartedandscaredididwishihadsomecompanyprettysoonaspiderwentcrawlingupmyshoulderandiflippeditoffanditlitinthecandleandbeforeicouldbudgeitwasallshribeledupididntneedanybodytotellmethatthatwasanawfulbadsignandwouldfetchmesomebadlucksoiwasscaredandmostshooktheclothesoffofmeigotupandturnedaroundinmytracksthreetimesandcrossedmybreasteberytimeandthenitiedupalittlelockofmyhairwithathreadtokeepwitchesawaybutihadntnoconfidenceyoudothatwhenyoubelostahorseshoethatyoubefoundinsteadofnailingitupoberthedoorbutihadnteberheardanybodysayitwasanywaytokeepoffbadluckwhenyoudkilledaspiderisetdownagainashakingalloberandgotoutmypipeforasmokeforthehousewasallasstillasdeathnowandsothewidowwouldntknowwellafteralongtimeiheardtheclockawayoffinthetowngoboomboomboomtwelbelicksandallstillagainstillerthaneberprettysooniheardatwigsnapdowninthedarkamongstthetreessomethingwasastirringisetstillandlisteneddirectlyicouldVustbarelyhearameyowmeyowdowntherethatwasgoodsaysimeyowmeyowassoftasicouldandtheniputoutthelightandscrambledoutofthewindowontotheshedthenislippeddowntothegroundandcrawledinamongthetreesandsureenoughtherewastomsawyerwaitingforme'"
            ]
          },
          "metadata": {
            "tags": []
          },
          "execution_count": 31
        }
      ]
    },
    {
      "cell_type": "markdown",
      "metadata": {
        "id": "sJpHV5wfUqHa",
        "colab_type": "text"
      },
      "source": [
        "概ね解読終了しました。原文知っているので楽なのもありますが、解読自体は十分に可能だと思います。個人的にはBERTあたりを応用すれば結構簡単に解読できそうに感じた。  誤字・脱字にもある程度対応出来そうです。  \n",
        "A→u  \n",
        "B→o  \n",
        "C→w  \n",
        "D  \n",
        "E→m  \n",
        "F→d  \n",
        "G→l  \n",
        "H→c  \n",
        "I  \n",
        "J→i  \n",
        "K→y  \n",
        "L→s  \n",
        "M→g  \n",
        "N→n    \n",
        "O  \n",
        "P→b    \n",
        "Q→t  \n",
        "R→p  \n",
        "S→k  \n",
        "T→h  \n",
        "U→f  \n",
        "V  \n",
        "W→a  \n",
        "X→e  \n",
        "Y→b  \n",
        "Z→r    \n"
      ]
    },
    {
      "cell_type": "markdown",
      "metadata": {
        "id": "sDaFf545fH4X",
        "colab_type": "text"
      },
      "source": [
        "# Enigma\n",
        "[ソースコード転用元](https://qiita.com/deaikei/items/01e962c4c15b2efcc84f)"
      ]
    },
    {
      "cell_type": "code",
      "metadata": {
        "id": "WYiLNXd9TTfX",
        "colab_type": "code",
        "colab": {}
      },
      "source": [
        "import random\n",
        "import pandas as pd\n",
        "\n",
        "class Enigma:\n",
        "    def __init__(self, characters, initial_rots=[0,0,0], seeds=[0,1,2,3,4]):        \n",
        "        self.characters = characters\n",
        "        self.char_num = len(characters) \n",
        "        self.seeds = seeds\n",
        "        self.initial_rots = initial_rots[:]\n",
        "        # mechanical parts\n",
        "        # enigma machine is composed of three parts: \n",
        "        # plug board, scrumbler and reflector\n",
        "        self.plug_board = self._make_converter(seeds[0]) # plug board does not rotate\n",
        "        self.scrumbler_1 = self._make_converter(seeds[1]) # scrumblers rotate each time a character is encoded\n",
        "        self.scrumbler_2 = self._make_converter(seeds[2])\n",
        "        self.scrumbler_3 = self._make_converter(seeds[3])\n",
        "        self.reflector = self._make_reflector(seeds[4]) # reflector does not rotate\n",
        "        # number of rotations for each scrumblers\n",
        "        self.rot_1 = 0\n",
        "        self.rot_2 = 0\n",
        "        self.rot_3 = 0\n",
        "        # initialize settings for the scrumblers\n",
        "        scrumblers = [self.scrumbler_1, self.scrumbler_2, self.scrumbler_3]\n",
        "        for i in range(len(scrumblers)):\n",
        "            while initial_rots[i]:\n",
        "                self._rotate_scrumbler(scrumblers[i])\n",
        "                initial_rots[i] -= 1\n",
        "\n",
        "    # make a plug board or a scrumbler\n",
        "    def _make_converter(self, i=0):\n",
        "        char_in = self.characters[:]\n",
        "        char_out = self.characters[:]\n",
        "        random.seed(i)\n",
        "        random.shuffle(char_out)\n",
        "        return pd.DataFrame({'in':char_in, 'out':char_out})\n",
        "\n",
        "    # make a reflector \n",
        "    def _make_reflector(self, i=0):\n",
        "        char = self.characters[:]\n",
        "        if self.char_num % 2 != 0:\n",
        "            raise Exception('Length of characters must be an even nmber.')        \n",
        "        random.seed(i)\n",
        "        random.shuffle(char)\n",
        "        char_1 = char[:self.char_num//2]\n",
        "        char_2 = char[self.char_num//2:]\n",
        "        df_1 = pd.DataFrame({'in':char_1, 'out':char_2})\n",
        "        df_2 = pd.DataFrame({'in':char_2, 'out':char_1})\n",
        "        return pd.concat([df_1, df_2], axis=0).reset_index(drop=True)    \n",
        "\n",
        "    # rotate a scrunbler        \n",
        "    def _rotate_scrumbler(self, scrumbler):\n",
        "        for col in scrumbler.columns:\n",
        "            x = list(scrumbler[col].copy())\n",
        "            x.append(x.pop(0))\n",
        "            scrumbler[col] = x\n",
        "\n",
        "    # rotate scrumblers and update parameters\n",
        "    def _rotate(self):\n",
        "        if (self.rot_1 + 1) % self.char_num != 0:\n",
        "            self._rotate_scrumbler(self.scrumbler_1)\n",
        "            self.rot_1 += 1\n",
        "        elif (self.rot_2 + 1) % self.char_num != 0:\n",
        "            self._rotate_scrumbler(self.scrumbler_1)\n",
        "            self._rotate_scrumbler(self.scrumbler_2)\n",
        "            self.rot_1 += 1\n",
        "            self.rot_2 += 1\n",
        "        else:\n",
        "            self._rotate_scrumbler(self.scrumbler_1)\n",
        "            self._rotate_scrumbler(self.scrumbler_2)\n",
        "            self._rotate_scrumbler(self.scrumbler_3)\n",
        "            self.rot_1 += 1\n",
        "            self.rot_2 += 1\n",
        "            self.rot_3 += 1\n",
        "\n",
        "    # initialize settings for the scrumblers \n",
        "    def set_rotations(self, rots=None):\n",
        "        if type(rots) == str or type(rots) == str:\n",
        "            raise Exception('set_rotations() dose not take strings')\n",
        "        if rots==None:\n",
        "            self.__init__(characters=self.characters, initial_rots=self.initial_rots, seeds=self.seeds)\n",
        "        else: \n",
        "            old_rots = self.initial_rots[:] \n",
        "            self.__init__(characters=self.characters, initial_rots=rots, seeds=self.seeds)\n",
        "            self.initial_rots = old_rots    \n",
        "\n",
        "    # transmit a signal \n",
        "    def _transmit(self, scrumbler, port):\n",
        "        code = scrumbler.loc[port, 'in']\n",
        "        return scrumbler.index[scrumbler['out'] == code][0]\n",
        "\n",
        "    def _inverse_transmit(self, scrumbler, port):\n",
        "        code = scrumbler.loc[port, 'out']\n",
        "        return scrumbler.index[scrumbler['in'] == code][0]\n",
        "\n",
        "    # encode a character\n",
        "    def _encode_character(self, ch):\n",
        "        port = self.plug_board.index[self.plug_board['out'] == ch][0]\n",
        "        # forward transmit\n",
        "        port = self._transmit(self.scrumbler_1, port)\n",
        "        port = self._transmit(self.scrumbler_2, port)\n",
        "        port = self._transmit(self.scrumbler_3, port)\n",
        "        # reflection\n",
        "        port = self._transmit(self.reflector, port)\n",
        "        # backward transmit\n",
        "        port = self._inverse_transmit(self.scrumbler_3, port)\n",
        "        port = self._inverse_transmit(self.scrumbler_2, port)\n",
        "        port = self._inverse_transmit(self.scrumbler_1, port)\n",
        "\n",
        "        return self.plug_board.loc[port, 'out']\n",
        "\n",
        "    # encode a string\n",
        "    def encode(self, string):\n",
        "        code_string = ''\n",
        "        for ch in string:\n",
        "            code_string += self._encode_character(ch)\n",
        "            self._rotate()\n",
        "        return code_string\n",
        "\n",
        "# character set  \n",
        "alphabet = ['a', 'b', 'c', 'd', 'e', 'f', 'g', 'h', 'i', 'j', 'k', \n",
        "              'l', 'm', 'n', 'o', 'p', 'q', 'r', 's', 't', 'u', 'v', \n",
        "              'w', 'x', 'y', 'z', ' ', '?']"
      ],
      "execution_count": 0,
      "outputs": []
    },
    {
      "cell_type": "code",
      "metadata": {
        "id": "JVB52Zfyf6-E",
        "colab_type": "code",
        "outputId": "5c8b05ed-5643-490e-8244-b6be95d0f897",
        "colab": {
          "base_uri": "https://localhost:8080/",
          "height": 68
        }
      },
      "source": [
        "# デフォルトの文字セットをいれておいた\n",
        "print(alphabet)\n",
        "# エニグマインスタンス作成\n",
        "en = Enigma(characters=alphabet)\n",
        "# 暗号化\n",
        "hirabun = 'i am a cat'\n",
        "# 暗号化\n",
        "angou = en.encode(hirabun)\n",
        "print(angou)\n",
        "# 設定の初期化\n",
        "en.set_rotations()\n",
        "# 復号化\n",
        "print(en.encode(angou))"
      ],
      "execution_count": 33,
      "outputs": [
        {
          "output_type": "stream",
          "text": [
            "['a', 'b', 'c', 'd', 'e', 'f', 'g', 'h', 'i', 'j', 'k', 'l', 'm', 'n', 'o', 'p', 'q', 'r', 's', 't', 'u', 'v', 'w', 'x', 'y', 'z', ' ', '?']\n",
            "tkgsyotiwq\n",
            "i am a cat\n"
          ],
          "name": "stdout"
        }
      ]
    },
    {
      "cell_type": "code",
      "metadata": {
        "id": "FfxkMpqqgUeC",
        "colab_type": "code",
        "colab": {}
      },
      "source": [
        ""
      ],
      "execution_count": 0,
      "outputs": []
    }
  ]
}