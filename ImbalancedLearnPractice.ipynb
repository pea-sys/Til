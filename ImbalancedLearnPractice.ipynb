{
  "nbformat": 4,
  "nbformat_minor": 0,
  "metadata": {
    "colab": {
      "name": "ImbalancedLearnPractice.ipynb",
      "version": "0.3.2",
      "provenance": [],
      "include_colab_link": true
    },
    "kernelspec": {
      "name": "python3",
      "display_name": "Python 3"
    }
  },
  "cells": [
    {
      "cell_type": "markdown",
      "metadata": {
        "id": "view-in-github",
        "colab_type": "text"
      },
      "source": [
        "<a href=\"https://colab.research.google.com/github/pea-sys/Til/blob/master/ImbalancedLearnPractice.ipynb\" target=\"_parent\"><img src=\"https://colab.research.google.com/assets/colab-badge.svg\" alt=\"Open In Colab\"/></a>"
      ]
    },
    {
      "cell_type": "markdown",
      "metadata": {
        "id": "_Uu6Fl2pqfT8",
        "colab_type": "text"
      },
      "source": [
        "## 不均衡データからモデル作成する際に役立つimbalanced-learnの練習\n",
        "\n",
        "### 動機\n",
        "Kaggleでクレジットカードの不正利用を検出するコンペに参加している。  \n",
        "クレジットカード決済データセットの場合、負例99% 正例1%など非常に偏りのあるデータになる。\n",
        "クレジットカードに限らず、異常を検知するような課題の場合、このような不均衡なデータセットが多くを占める。\n",
        "このようなデータセットの取り扱い方を、実装レベルで学んでいなかったので、\n",
        "これを機に学ぶこととする。  \n",
        "\n",
        "\n",
        "\n",
        "[公式](https://imbalanced-learn.org/en/stable/install.html)\n",
        "\n",
        "### 前提条件\n",
        "The imbalanced-learn package requires the following dependencies:\n",
        "\n",
        "numpy (>=1.11)  \n",
        "scipy (>=0.17)  \n",
        "scikit-learn (>=0.21)  \n",
        "keras 2 (optional)  \n",
        "tensorflow (optional)  "
      ]
    },
    {
      "cell_type": "code",
      "metadata": {
        "id": "fxqpFv7MqUP_",
        "colab_type": "code",
        "colab": {}
      },
      "source": [
        "import numpy as np\n",
        "import scipy as sp\n",
        "import sklearn as sl"
      ],
      "execution_count": 0,
      "outputs": []
    },
    {
      "cell_type": "code",
      "metadata": {
        "id": "yP05W1k3sbiz",
        "colab_type": "code",
        "colab": {
          "base_uri": "https://localhost:8080/",
          "height": 35
        },
        "outputId": "bcefe622-5303-474c-968a-9a7f6bab8a67"
      },
      "source": [
        "print('numpy=',np.__version__,'scipy=',sp.__version__,'sklearn=',sl.__version__)"
      ],
      "execution_count": 3,
      "outputs": [
        {
          "output_type": "stream",
          "text": [
            "numpy= 1.16.4 scipy= 1.3.0 sklearn= 0.21.3\n"
          ],
          "name": "stdout"
        }
      ]
    },
    {
      "cell_type": "markdown",
      "metadata": {
        "id": "CkRMm09PqW0I",
        "colab_type": "text"
      },
      "source": [
        "前提条件問題なし\n",
        "\n",
        "### インストール"
      ]
    },
    {
      "cell_type": "code",
      "metadata": {
        "id": "lu5TvQXfsihD",
        "colab_type": "code",
        "colab": {
          "base_uri": "https://localhost:8080/",
          "height": 230
        },
        "outputId": "6603c07e-3732-4e60-d27e-744313d2ced2"
      },
      "source": [
        "!pip install -U imbalanced-learn"
      ],
      "execution_count": 4,
      "outputs": [
        {
          "output_type": "stream",
          "text": [
            "Collecting imbalanced-learn\n",
            "\u001b[?25l  Downloading https://files.pythonhosted.org/packages/e6/62/08c14224a7e242df2cef7b312d2ef821c3931ec9b015ff93bb52ec8a10a3/imbalanced_learn-0.5.0-py3-none-any.whl (173kB)\n",
            "\r\u001b[K     |██                              | 10kB 12.9MB/s eta 0:00:01\r\u001b[K     |███▉                            | 20kB 3.4MB/s eta 0:00:01\r\u001b[K     |█████▊                          | 30kB 4.9MB/s eta 0:00:01\r\u001b[K     |███████▋                        | 40kB 3.1MB/s eta 0:00:01\r\u001b[K     |█████████▌                      | 51kB 3.8MB/s eta 0:00:01\r\u001b[K     |███████████▍                    | 61kB 4.6MB/s eta 0:00:01\r\u001b[K     |█████████████▎                  | 71kB 5.2MB/s eta 0:00:01\r\u001b[K     |███████████████▏                | 81kB 5.9MB/s eta 0:00:01\r\u001b[K     |█████████████████               | 92kB 6.6MB/s eta 0:00:01\r\u001b[K     |███████████████████             | 102kB 5.1MB/s eta 0:00:01\r\u001b[K     |████████████████████▉           | 112kB 5.1MB/s eta 0:00:01\r\u001b[K     |██████████████████████▊         | 122kB 5.1MB/s eta 0:00:01\r\u001b[K     |████████████████████████▋       | 133kB 5.1MB/s eta 0:00:01\r\u001b[K     |██████████████████████████▌     | 143kB 5.1MB/s eta 0:00:01\r\u001b[K     |████████████████████████████▍   | 153kB 5.1MB/s eta 0:00:01\r\u001b[K     |██████████████████████████████▎ | 163kB 5.1MB/s eta 0:00:01\r\u001b[K     |████████████████████████████████| 174kB 5.1MB/s \n",
            "\u001b[?25hRequirement already satisfied, skipping upgrade: joblib>=0.11 in /usr/local/lib/python3.6/dist-packages (from imbalanced-learn) (0.13.2)\n",
            "Requirement already satisfied, skipping upgrade: scikit-learn>=0.21 in /usr/local/lib/python3.6/dist-packages (from imbalanced-learn) (0.21.3)\n",
            "Requirement already satisfied, skipping upgrade: numpy>=1.11 in /usr/local/lib/python3.6/dist-packages (from imbalanced-learn) (1.16.4)\n",
            "Requirement already satisfied, skipping upgrade: scipy>=0.17 in /usr/local/lib/python3.6/dist-packages (from imbalanced-learn) (1.3.0)\n",
            "Installing collected packages: imbalanced-learn\n",
            "  Found existing installation: imbalanced-learn 0.4.3\n",
            "    Uninstalling imbalanced-learn-0.4.3:\n",
            "      Successfully uninstalled imbalanced-learn-0.4.3\n",
            "Successfully installed imbalanced-learn-0.5.0\n"
          ],
          "name": "stdout"
        }
      ]
    },
    {
      "cell_type": "markdown",
      "metadata": {
        "id": "XZlc-9QDsyJP",
        "colab_type": "text"
      },
      "source": [
        "### 2.Over-sampling\n",
        "\n",
        "#### 2.1. A practical guide\n",
        "[異なるオーバーサンプリングアルゴリズムの比較](https://imbalanced-learn.org/en/stable/auto_examples/over-sampling/plot_comparison_over_sampling.html#sphx-glr-auto-examples-over-sampling-plot-comparison-over-sampling-py)\n",
        "\n",
        "#### 2.1.1. Naive random over-sampling\n",
        "少数クラスの新しいサンプルを生成する。\n",
        "現在利用可能なサンプルを置き換えてランダムにサンプリングすることによって  新しいサンプルを生成する"
      ]
    },
    {
      "cell_type": "code",
      "metadata": {
        "id": "f5aA3jmBsuHj",
        "colab_type": "code",
        "colab": {
          "base_uri": "https://localhost:8080/",
          "height": 52
        },
        "outputId": "23edfb94-b97f-457f-ee90-7eedddddccff"
      },
      "source": [
        "from sklearn.datasets import make_classification\n",
        "X, y = make_classification(n_samples=5000, n_features=2, n_informative=2,\n",
        "                           n_redundant=0, n_repeated=0, n_classes=3,\n",
        "                           n_clusters_per_class=1,\n",
        "                           weights=[0.01, 0.05, 0.94],\n",
        "                           class_sep=0.8, random_state=0)\n",
        "from imblearn.over_sampling import RandomOverSampler\n",
        "ros = RandomOverSampler(random_state=0)\n",
        "X_resampled, y_resampled = ros.fit_resample(X, y)\n",
        "from collections import Counter\n",
        "print(sorted(Counter(y_resampled).items()))"
      ],
      "execution_count": 5,
      "outputs": [
        {
          "output_type": "stream",
          "text": [
            "Using TensorFlow backend.\n"
          ],
          "name": "stderr"
        },
        {
          "output_type": "stream",
          "text": [
            "[(0, 4674), (1, 4674), (2, 4674)]\n"
          ],
          "name": "stdout"
        }
      ]
    },
    {
      "cell_type": "code",
      "metadata": {
        "id": "zATs82NCs7f7",
        "colab_type": "code",
        "colab": {
          "base_uri": "https://localhost:8080/",
          "height": 88
        },
        "outputId": "bae8940a-9f0f-4ce5-dacb-f979b406184d"
      },
      "source": [
        "from sklearn.svm import LinearSVC\n",
        "clf = LinearSVC()\n",
        "clf.fit(X_resampled, y_resampled) # doctest : +ELLIPSIS"
      ],
      "execution_count": 6,
      "outputs": [
        {
          "output_type": "execute_result",
          "data": {
            "text/plain": [
              "LinearSVC(C=1.0, class_weight=None, dual=True, fit_intercept=True,\n",
              "          intercept_scaling=1, loss='squared_hinge', max_iter=1000,\n",
              "          multi_class='ovr', penalty='l2', random_state=None, tol=0.0001,\n",
              "          verbose=0)"
            ]
          },
          "metadata": {
            "tags": []
          },
          "execution_count": 6
        }
      ]
    },
    {
      "cell_type": "markdown",
      "metadata": {
        "id": "BGMr8L7lw6_Y",
        "colab_type": "text"
      },
      "source": [
        "# 工事中"
      ]
    },
    {
      "cell_type": "code",
      "metadata": {
        "id": "p9Sm4yQout88",
        "colab_type": "code",
        "colab": {}
      },
      "source": [
        ""
      ],
      "execution_count": 0,
      "outputs": []
    }
  ]
}