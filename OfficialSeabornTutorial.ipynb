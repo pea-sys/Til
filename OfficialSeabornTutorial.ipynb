{
  "nbformat": 4,
  "nbformat_minor": 0,
  "metadata": {
    "colab": {
      "name": "OfficialSeabornTutorial.ipynb",
      "version": "0.3.2",
      "provenance": [],
      "include_colab_link": true
    },
    "kernelspec": {
      "name": "python3",
      "display_name": "Python 3"
    }
  },
  "cells": [
    {
      "cell_type": "markdown",
      "metadata": {
        "id": "view-in-github",
        "colab_type": "text"
      },
      "source": [
        "<a href=\"https://colab.research.google.com/github/pea-sys/Til/blob/master/OfficialSeabornTutorial.ipynb\" target=\"_parent\"><img src=\"https://colab.research.google.com/assets/colab-badge.svg\" alt=\"Open In Colab\"/></a>"
      ]
    },
    {
      "cell_type": "markdown",
      "metadata": {
        "id": "LDBQleZ2DrQS",
        "colab_type": "text"
      },
      "source": [
        "## Motivation\n",
        "業務で機械学習を利用した新機能を画策中  \n",
        "現在も１つ提案している。職場において機械学習の理解者がゼロなので、\n",
        "アウトプットの説明力を強化する必要があると感じる。企画も通りやすくなる。  \n",
        "取り合えず、serbornの様々な図の表現方法を学ぶことで資料（データ）の説明力を強化したい。  \n",
        "\n",
        "[参考URL](https://seaborn.pydata.org/tutorial.html)\n"
      ]
    }
  ]
}