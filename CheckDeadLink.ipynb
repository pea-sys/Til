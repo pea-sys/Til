{
  "nbformat": 4,
  "nbformat_minor": 0,
  "metadata": {
    "colab": {
      "provenance": [],
      "collapsed_sections": [],
      "authorship_tag": "ABX9TyMBFDYmoZt1WP+2na6Ha7Qr",
      "include_colab_link": true
    },
    "kernelspec": {
      "name": "python3",
      "display_name": "Python 3"
    },
    "language_info": {
      "name": "python"
    }
  },
  "cells": [
    {
      "cell_type": "markdown",
      "metadata": {
        "id": "view-in-github",
        "colab_type": "text"
      },
      "source": [
        "<a href=\"https://colab.research.google.com/github/pea-sys/Til/blob/master/CheckDeadLink.ipynb\" target=\"_parent\"><img src=\"https://colab.research.google.com/assets/colab-badge.svg\" alt=\"Open In Colab\"/></a>"
      ]
    },
    {
      "cell_type": "markdown",
      "source": [
        "# デッドリンクのチェックを行うリポジトリクローン"
      ],
      "metadata": {
        "id": "pYO4siyMn0WR"
      }
    },
    {
      "cell_type": "code",
      "source": [
        "!git clone https://github.com/TheAlgorithms/Algorithms-Explanation.git"
      ],
      "metadata": {
        "colab": {
          "base_uri": "https://localhost:8080/"
        },
        "id": "QWYSPqXsR9DP",
        "outputId": "e68924cb-9577-4b5c-ed0a-e809a4da7beb"
      },
      "execution_count": null,
      "outputs": [
        {
          "output_type": "stream",
          "name": "stdout",
          "text": [
            "Cloning into 'Algorithms-Explanation'...\n",
            "remote: Enumerating objects: 1428, done.\u001b[K\n",
            "remote: Counting objects: 100% (1428/1428), done.\u001b[K\n",
            "remote: Compressing objects: 100% (692/692), done.\u001b[K\n",
            "remote: Total 1428 (delta 651), reused 1340 (delta 634), pack-reused 0\u001b[K\n",
            "Receiving objects: 100% (1428/1428), 86.07 MiB | 38.00 MiB/s, done.\n",
            "Resolving deltas: 100% (651/651), done.\n",
            "Cloning into 'website'...\n",
            "remote: Enumerating objects: 4215, done.\u001b[K\n",
            "remote: Counting objects: 100% (247/247), done.\u001b[K\n",
            "remote: Compressing objects: 100% (120/120), done.\u001b[K\n",
            "remote: Total 4215 (delta 125), reused 234 (delta 121), pack-reused 3968\u001b[K\n",
            "Receiving objects: 100% (4215/4215), 5.68 MiB | 25.17 MiB/s, done.\n",
            "Resolving deltas: 100% (2432/2432), done.\n"
          ]
        }
      ]
    },
    {
      "cell_type": "markdown",
      "source": [
        "## チェック機能を持ったソフトをインストール\n",
        "[deadlink](https://github.com/nschloe/deadlink)"
      ],
      "metadata": {
        "id": "pNaVAdUOn7Oc"
      }
    },
    {
      "cell_type": "code",
      "source": [
        "!pip install deadlink"
      ],
      "metadata": {
        "colab": {
          "base_uri": "https://localhost:8080/"
        },
        "id": "jhItsKQRSU55",
        "outputId": "a92119e4-8a05-4678-da5e-53ca5a4c7a5d"
      },
      "execution_count": null,
      "outputs": [
        {
          "output_type": "stream",
          "name": "stdout",
          "text": [
            "Looking in indexes: https://pypi.org/simple, https://us-python.pkg.dev/colab-wheels/public/simple/\n",
            "Collecting deadlink\n",
            "  Downloading deadlink-0.5.0-py3-none-any.whl (10 kB)\n",
            "Collecting rich\n",
            "  Downloading rich-12.6.0-py3-none-any.whl (237 kB)\n",
            "\u001b[K     |████████████████████████████████| 237 kB 5.1 MB/s \n",
            "\u001b[?25hRequirement already satisfied: toml in /usr/local/lib/python3.7/dist-packages (from deadlink) (0.10.2)\n",
            "Requirement already satisfied: appdirs in /usr/local/lib/python3.7/dist-packages (from deadlink) (1.4.4)\n",
            "Collecting httpx>=0.20.0\n",
            "  Downloading httpx-0.23.0-py3-none-any.whl (84 kB)\n",
            "\u001b[K     |████████████████████████████████| 84 kB 3.3 MB/s \n",
            "\u001b[?25hCollecting httpcore<0.16.0,>=0.15.0\n",
            "  Downloading httpcore-0.15.0-py3-none-any.whl (68 kB)\n",
            "\u001b[K     |████████████████████████████████| 68 kB 5.5 MB/s \n",
            "\u001b[?25hCollecting sniffio\n",
            "  Downloading sniffio-1.3.0-py3-none-any.whl (10 kB)\n",
            "Requirement already satisfied: certifi in /usr/local/lib/python3.7/dist-packages (from httpx>=0.20.0->deadlink) (2022.6.15)\n",
            "Collecting rfc3986[idna2008]<2,>=1.3\n",
            "  Downloading rfc3986-1.5.0-py2.py3-none-any.whl (31 kB)\n",
            "Collecting anyio==3.*\n",
            "  Downloading anyio-3.6.1-py3-none-any.whl (80 kB)\n",
            "\u001b[K     |████████████████████████████████| 80 kB 7.3 MB/s \n",
            "\u001b[?25hCollecting h11<0.13,>=0.11\n",
            "  Downloading h11-0.12.0-py3-none-any.whl (54 kB)\n",
            "\u001b[K     |████████████████████████████████| 54 kB 2.9 MB/s \n",
            "\u001b[?25hRequirement already satisfied: idna>=2.8 in /usr/local/lib/python3.7/dist-packages (from anyio==3.*->httpcore<0.16.0,>=0.15.0->httpx>=0.20.0->deadlink) (2.10)\n",
            "Requirement already satisfied: typing-extensions in /usr/local/lib/python3.7/dist-packages (from anyio==3.*->httpcore<0.16.0,>=0.15.0->httpx>=0.20.0->deadlink) (4.1.1)\n",
            "Collecting commonmark<0.10.0,>=0.9.0\n",
            "  Downloading commonmark-0.9.1-py2.py3-none-any.whl (51 kB)\n",
            "\u001b[K     |████████████████████████████████| 51 kB 6.1 MB/s \n",
            "\u001b[?25hRequirement already satisfied: pygments<3.0.0,>=2.6.0 in /usr/local/lib/python3.7/dist-packages (from rich->deadlink) (2.6.1)\n",
            "Installing collected packages: sniffio, rfc3986, h11, anyio, httpcore, commonmark, rich, httpx, deadlink\n",
            "Successfully installed anyio-3.6.1 commonmark-0.9.1 deadlink-0.5.0 h11-0.12.0 httpcore-0.15.0 httpx-0.23.0 rfc3986-1.5.0 rich-12.6.0 sniffio-1.3.0\n"
          ]
        }
      ]
    },
    {
      "cell_type": "code",
      "source": [
        "!deadlink check Algorithms-Explanation -a https://github.com/TheAlgorithms/Java/"
      ],
      "metadata": {
        "colab": {
          "base_uri": "https://localhost:8080/"
        },
        "id": "RmqXqSvCShUw",
        "outputId": "b441cb1f-ae87-49f1-b322-498a973dd2e9"
      },
      "execution_count": null,
      "outputs": [
        {
          "output_type": "stream",
          "name": "stdout",
          "text": [
            "Found 0 unique URLs in 133 files (ignored 0 files, 283 URLs)\n",
            "\u001b[?25l\r\u001b[2KChecking... \u001b[90m━━━━━━━━━━━━━━━━━━━━━━━━━━━━━━━━━━━━━━━━\u001b[0m \u001b[35m  0%\u001b[0m \u001b[36m-:--:--\u001b[0m\r\u001b[2KChecking... \u001b[90m━━━━━━━━━━━━━━━━━━━━━━━━━━━━━━━━━━━━━━━━\u001b[0m \u001b[35m  0%\u001b[0m \u001b[36m-:--:--\u001b[0m\r\u001b[2KChecking... \u001b[90m━━━━━━━━━━━━━━━━━━━━━━━━━━━━━━━━━━━━━━━━\u001b[0m \u001b[35m  0%\u001b[0m \u001b[36m-:--:--\u001b[0m\n",
            "\u001b[?25h"
          ]
        }
      ]
    },
    {
      "cell_type": "markdown",
      "source": [
        "問題のあるリンクを出力する。  \n",
        "また、同じリンクが複数個所に記載されていても、  \n",
        "試行は一回のみなのでWebサイトへの時間あたりのアクセス制限に引っかかりにくい。  \n",
        "問題のあるurlを記載しているファイルをGrep検索で見つけ出す必要はある。"
      ],
      "metadata": {
        "id": "fJR6n2o-EojJ"
      }
    },
    {
      "cell_type": "markdown",
      "source": [
        "## チェック機能を持ったソフトをインストール2  \n",
        "[md-links](https://github.774.gs/raulingg/md-links)  \n",
        "※今回はmdリンクのみチェックするのでこれで十分"
      ],
      "metadata": {
        "id": "8irtyzi-oSRW"
      }
    },
    {
      "cell_type": "code",
      "source": [
        "!npm install -g @raulingg/md-links"
      ],
      "metadata": {
        "colab": {
          "base_uri": "https://localhost:8080/"
        },
        "id": "QPfmZjNeSl-2",
        "outputId": "e144baa8-6e49-47ae-cf71-3493fa6096f4"
      },
      "execution_count": null,
      "outputs": [
        {
          "output_type": "stream",
          "name": "stdout",
          "text": [
            "\u001b[K\u001b[?25h/tools/node/bin/md-links -> /tools/node/lib/node_modules/@raulingg/md-links/dist/cli.js\n",
            "+ @raulingg/md-links@0.5.2\n",
            "added 6 packages from 6 contributors in 2.071s\n"
          ]
        }
      ]
    },
    {
      "cell_type": "code",
      "source": [
        "!md-links Algorithms-Explanation/en/ --validate"
      ],
      "metadata": {
        "colab": {
          "base_uri": "https://localhost:8080/"
        },
        "id": "zrHZkSgEhpwn",
        "outputId": "3e193df5-0894-4d76-fe32-c1a7dd9e0780"
      },
      "execution_count": null,
      "outputs": [
        {
          "output_type": "stream",
          "name": "stdout",
          "text": [
            "Error: ENOENT: no such file or directory, stat '/content/https:/github.com/TheAlgorithms/Javascript'\n",
            "\u001b[90m    at Object.statSync (fs.js:1086:3)\u001b[39m\n",
            "    at findMarkdownFiles (/tools/node/lib/node_modules/\u001b[4m@raulingg\u001b[24m/md-links/dist/util/index.js:39:22)\n",
            "    at module.exports (/tools/node/lib/node_modules/\u001b[4m@raulingg\u001b[24m/md-links/dist/mdLinks.js:69:55)\n",
            "    at Object.<anonymous> (/tools/node/lib/node_modules/\u001b[4m@raulingg\u001b[24m/md-links/dist/cli.js:56:22)\n",
            "\u001b[90m    at Module._compile (internal/modules/cjs/loader.js:1063:30)\u001b[39m\n",
            "\u001b[90m    at Object.Module._extensions..js (internal/modules/cjs/loader.js:1092:10)\u001b[39m\n",
            "\u001b[90m    at Module.load (internal/modules/cjs/loader.js:928:32)\u001b[39m\n",
            "\u001b[90m    at Function.Module._load (internal/modules/cjs/loader.js:769:14)\u001b[39m\n",
            "\u001b[90m    at Function.executeUserEntryPoint [as runMain] (internal/modules/run_main.js:72:12)\u001b[39m\n",
            "\u001b[90m    at internal/main/run_main_module.js:17:47\u001b[39m {\n",
            "  errno: \u001b[33m-2\u001b[39m,\n",
            "  syscall: \u001b[32m'stat'\u001b[39m,\n",
            "  code: \u001b[32m'ENOENT'\u001b[39m,\n",
            "  path: \u001b[32m'/content/https:/github.com/TheAlgorithms/Javascript'\u001b[39m\n",
            "}\n",
            "Try \"@raulingg/md-links --help\" to see available commands and options\n"
          ]
        }
      ]
    },
    {
      "cell_type": "markdown",
      "source": [
        "時間当たりのURLアクセス回数制限に引っかかり、コード429が返される。\n",
        "特定のページリンクが大量に埋め込まれている場合は、deadlinkライブラリの方が使い勝手が良い。\n",
        "ただし、どのファイルにURLが記載されているか分かりやすい。"
      ],
      "metadata": {
        "id": "aBJqOpFtwGpH"
      }
    }
  ]
}