{
  "nbformat": 4,
  "nbformat_minor": 0,
  "metadata": {
    "colab": {
      "name": "PyTorch -Tutorials-BegginerBlitz.ipynb",
      "provenance": [],
      "collapsed_sections": [
        "wNaUiB3lNYrT",
        "47b1QhZ_OSnC",
        "9gaUCe3fb6iK",
        "fRW0HWTScEwP",
        "uHMEjCW-lXkT",
        "pimCsEY_8YYH",
        "6jFPfFV2ByLH",
        "XpRoqyrKGDr3",
        "DwUenXj0LEIB",
        "H8T4_qspNexU",
        "csYhOAI-fnSd",
        "m0fM1izmgExn",
        "vk5f4uCkhjo_",
        "mREjkwl6hwun",
        "pt5JnGF3iBIA",
        "uGl6U-_0iQFQ"
      ],
      "authorship_tag": "ABX9TyPdXJ245FUo+jILb7N2ctVx",
      "include_colab_link": true
    },
    "kernelspec": {
      "name": "python3",
      "display_name": "Python 3"
    },
    "accelerator": "GPU",
    "widgets": {
      "application/vnd.jupyter.widget-state+json": {
        "36f8f094043542c3bf0c48b3a9017950": {
          "model_module": "@jupyter-widgets/controls",
          "model_name": "HBoxModel",
          "state": {
            "_view_name": "HBoxView",
            "_dom_classes": [],
            "_model_name": "HBoxModel",
            "_view_module": "@jupyter-widgets/controls",
            "_model_module_version": "1.5.0",
            "_view_count": null,
            "_view_module_version": "1.5.0",
            "box_style": "",
            "layout": "IPY_MODEL_c00eb0a1d6a64706987a93c7027f79ba",
            "_model_module": "@jupyter-widgets/controls",
            "children": [
              "IPY_MODEL_d51e058d31094f9ba5700c031b517e97",
              "IPY_MODEL_3c91c4bc850146b0970000922212a1d9"
            ]
          }
        },
        "c00eb0a1d6a64706987a93c7027f79ba": {
          "model_module": "@jupyter-widgets/base",
          "model_name": "LayoutModel",
          "state": {
            "_view_name": "LayoutView",
            "grid_template_rows": null,
            "right": null,
            "justify_content": null,
            "_view_module": "@jupyter-widgets/base",
            "overflow": null,
            "_model_module_version": "1.2.0",
            "_view_count": null,
            "flex_flow": null,
            "width": null,
            "min_width": null,
            "border": null,
            "align_items": null,
            "bottom": null,
            "_model_module": "@jupyter-widgets/base",
            "top": null,
            "grid_column": null,
            "overflow_y": null,
            "overflow_x": null,
            "grid_auto_flow": null,
            "grid_area": null,
            "grid_template_columns": null,
            "flex": null,
            "_model_name": "LayoutModel",
            "justify_items": null,
            "grid_row": null,
            "max_height": null,
            "align_content": null,
            "visibility": null,
            "align_self": null,
            "height": null,
            "min_height": null,
            "padding": null,
            "grid_auto_rows": null,
            "grid_gap": null,
            "max_width": null,
            "order": null,
            "_view_module_version": "1.2.0",
            "grid_template_areas": null,
            "object_position": null,
            "object_fit": null,
            "grid_auto_columns": null,
            "margin": null,
            "display": null,
            "left": null
          }
        },
        "d51e058d31094f9ba5700c031b517e97": {
          "model_module": "@jupyter-widgets/controls",
          "model_name": "IntProgressModel",
          "state": {
            "_view_name": "ProgressView",
            "style": "IPY_MODEL_9051d504cb56453fa903382c5dc54be7",
            "_dom_classes": [],
            "description": "",
            "_model_name": "IntProgressModel",
            "bar_style": "info",
            "max": 1,
            "_view_module": "@jupyter-widgets/controls",
            "_model_module_version": "1.5.0",
            "value": 1,
            "_view_count": null,
            "_view_module_version": "1.5.0",
            "orientation": "horizontal",
            "min": 0,
            "description_tooltip": null,
            "_model_module": "@jupyter-widgets/controls",
            "layout": "IPY_MODEL_baa3a144a94949399a88b29626e5e18d"
          }
        },
        "3c91c4bc850146b0970000922212a1d9": {
          "model_module": "@jupyter-widgets/controls",
          "model_name": "HTMLModel",
          "state": {
            "_view_name": "HTMLView",
            "style": "IPY_MODEL_f937a4c1694c4e7aab6ddc5b2d551c94",
            "_dom_classes": [],
            "description": "",
            "_model_name": "HTMLModel",
            "placeholder": "​",
            "_view_module": "@jupyter-widgets/controls",
            "_model_module_version": "1.5.0",
            "value": "170500096it [00:30, 14819212.79it/s]",
            "_view_count": null,
            "_view_module_version": "1.5.0",
            "description_tooltip": null,
            "_model_module": "@jupyter-widgets/controls",
            "layout": "IPY_MODEL_61e1ddc4be6e4eb4bbe0876844c8c73d"
          }
        },
        "9051d504cb56453fa903382c5dc54be7": {
          "model_module": "@jupyter-widgets/controls",
          "model_name": "ProgressStyleModel",
          "state": {
            "_view_name": "StyleView",
            "_model_name": "ProgressStyleModel",
            "description_width": "",
            "_view_module": "@jupyter-widgets/base",
            "_model_module_version": "1.5.0",
            "_view_count": null,
            "_view_module_version": "1.2.0",
            "bar_color": null,
            "_model_module": "@jupyter-widgets/controls"
          }
        },
        "baa3a144a94949399a88b29626e5e18d": {
          "model_module": "@jupyter-widgets/base",
          "model_name": "LayoutModel",
          "state": {
            "_view_name": "LayoutView",
            "grid_template_rows": null,
            "right": null,
            "justify_content": null,
            "_view_module": "@jupyter-widgets/base",
            "overflow": null,
            "_model_module_version": "1.2.0",
            "_view_count": null,
            "flex_flow": null,
            "width": null,
            "min_width": null,
            "border": null,
            "align_items": null,
            "bottom": null,
            "_model_module": "@jupyter-widgets/base",
            "top": null,
            "grid_column": null,
            "overflow_y": null,
            "overflow_x": null,
            "grid_auto_flow": null,
            "grid_area": null,
            "grid_template_columns": null,
            "flex": null,
            "_model_name": "LayoutModel",
            "justify_items": null,
            "grid_row": null,
            "max_height": null,
            "align_content": null,
            "visibility": null,
            "align_self": null,
            "height": null,
            "min_height": null,
            "padding": null,
            "grid_auto_rows": null,
            "grid_gap": null,
            "max_width": null,
            "order": null,
            "_view_module_version": "1.2.0",
            "grid_template_areas": null,
            "object_position": null,
            "object_fit": null,
            "grid_auto_columns": null,
            "margin": null,
            "display": null,
            "left": null
          }
        },
        "f937a4c1694c4e7aab6ddc5b2d551c94": {
          "model_module": "@jupyter-widgets/controls",
          "model_name": "DescriptionStyleModel",
          "state": {
            "_view_name": "StyleView",
            "_model_name": "DescriptionStyleModel",
            "description_width": "",
            "_view_module": "@jupyter-widgets/base",
            "_model_module_version": "1.5.0",
            "_view_count": null,
            "_view_module_version": "1.2.0",
            "_model_module": "@jupyter-widgets/controls"
          }
        },
        "61e1ddc4be6e4eb4bbe0876844c8c73d": {
          "model_module": "@jupyter-widgets/base",
          "model_name": "LayoutModel",
          "state": {
            "_view_name": "LayoutView",
            "grid_template_rows": null,
            "right": null,
            "justify_content": null,
            "_view_module": "@jupyter-widgets/base",
            "overflow": null,
            "_model_module_version": "1.2.0",
            "_view_count": null,
            "flex_flow": null,
            "width": null,
            "min_width": null,
            "border": null,
            "align_items": null,
            "bottom": null,
            "_model_module": "@jupyter-widgets/base",
            "top": null,
            "grid_column": null,
            "overflow_y": null,
            "overflow_x": null,
            "grid_auto_flow": null,
            "grid_area": null,
            "grid_template_columns": null,
            "flex": null,
            "_model_name": "LayoutModel",
            "justify_items": null,
            "grid_row": null,
            "max_height": null,
            "align_content": null,
            "visibility": null,
            "align_self": null,
            "height": null,
            "min_height": null,
            "padding": null,
            "grid_auto_rows": null,
            "grid_gap": null,
            "max_width": null,
            "order": null,
            "_view_module_version": "1.2.0",
            "grid_template_areas": null,
            "object_position": null,
            "object_fit": null,
            "grid_auto_columns": null,
            "margin": null,
            "display": null,
            "left": null
          }
        }
      }
    }
  },
  "cells": [
    {
      "cell_type": "markdown",
      "metadata": {
        "id": "view-in-github",
        "colab_type": "text"
      },
      "source": [
        "<a href=\"https://colab.research.google.com/github/pea-sys/Til/blob/master/PyTorch_Tutorials_BegginerBlitz.ipynb\" target=\"_parent\"><img src=\"https://colab.research.google.com/assets/colab-badge.svg\" alt=\"Open In Colab\"/></a>"
      ]
    },
    {
      "cell_type": "markdown",
      "metadata": {
        "id": "Om1kJzreKiKZ",
        "colab_type": "text"
      },
      "source": [
        "[Original](https://pytorch.org/tutorials/beginner/deep_learning_60min_blitz.html)\n",
        "# Getting Started\n"
      ]
    },
    {
      "cell_type": "markdown",
      "metadata": {
        "id": "EiIpwE_5Kky4",
        "colab_type": "text"
      },
      "source": [
        "# Tensors"
      ]
    },
    {
      "cell_type": "code",
      "metadata": {
        "id": "6TqsKXemKLIx",
        "colab_type": "code",
        "colab": {}
      },
      "source": [
        "from __future__ import print_function\n",
        "import torch"
      ],
      "execution_count": 0,
      "outputs": []
    },
    {
      "cell_type": "markdown",
      "metadata": {
        "id": "ugZoc8QSKwCB",
        "colab_type": "text"
      },
      "source": [
        "初期化されていないマトリックスが宣言されていますが、使用される前に明確な既知の値が含まれていません。初期化されていないマトリックスが作成されると、その時点で割り当てられたメモリにあった値が初期値として表示されます。"
      ]
    },
    {
      "cell_type": "code",
      "metadata": {
        "id": "nbrppXGdKoWD",
        "colab_type": "code",
        "outputId": "96bead5d-ee73-4c64-a1b9-7e815f0a2ef8",
        "colab": {
          "base_uri": "https://localhost:8080/",
          "height": 106
        }
      },
      "source": [
        "x = torch.empty(5, 3)\n",
        "print(x)"
      ],
      "execution_count": 2,
      "outputs": [
        {
          "output_type": "stream",
          "text": [
            "tensor([[3.4053e-36, 0.0000e+00, 0.0000e+00],\n",
            "        [0.0000e+00, 0.0000e+00, 0.0000e+00],\n",
            "        [0.0000e+00, 0.0000e+00, 2.8026e-45],\n",
            "        [0.0000e+00, 1.1210e-44, 0.0000e+00],\n",
            "        [1.4013e-45, 0.0000e+00, 0.0000e+00]])\n"
          ],
          "name": "stdout"
        }
      ]
    },
    {
      "cell_type": "code",
      "metadata": {
        "id": "L5Nk2qKXKzHM",
        "colab_type": "code",
        "outputId": "337ed11c-0380-4b2f-8644-974ddc5ae91e",
        "colab": {
          "base_uri": "https://localhost:8080/",
          "height": 106
        }
      },
      "source": [
        "x = torch.rand(5, 3)\n",
        "print(x)"
      ],
      "execution_count": 3,
      "outputs": [
        {
          "output_type": "stream",
          "text": [
            "tensor([[0.6833, 0.8213, 0.0148],\n",
            "        [0.5770, 0.4337, 0.6391],\n",
            "        [0.0227, 0.6080, 0.0616],\n",
            "        [0.0816, 0.6485, 0.8664],\n",
            "        [0.1652, 0.8055, 0.3425]])\n"
          ],
          "name": "stdout"
        }
      ]
    },
    {
      "cell_type": "markdown",
      "metadata": {
        "id": "w7D3nEsqK8e5",
        "colab_type": "text"
      },
      "source": [
        "\n",
        "ゼロで満たされたdtype longの行列を作成します。"
      ]
    },
    {
      "cell_type": "code",
      "metadata": {
        "id": "sVGsBB6GK2Pa",
        "colab_type": "code",
        "outputId": "d1524d6d-d0ac-471a-b486-e7832398f526",
        "colab": {
          "base_uri": "https://localhost:8080/",
          "height": 106
        }
      },
      "source": [
        "x = torch.zeros(5, 3, dtype=torch.long)\n",
        "print(x)"
      ],
      "execution_count": 4,
      "outputs": [
        {
          "output_type": "stream",
          "text": [
            "tensor([[0, 0, 0],\n",
            "        [0, 0, 0],\n",
            "        [0, 0, 0],\n",
            "        [0, 0, 0],\n",
            "        [0, 0, 0]])\n"
          ],
          "name": "stdout"
        }
      ]
    },
    {
      "cell_type": "markdown",
      "metadata": {
        "id": "2hUvjjtsLEV2",
        "colab_type": "text"
      },
      "source": [
        "\n",
        "データからテンソルを直接構築します。"
      ]
    },
    {
      "cell_type": "code",
      "metadata": {
        "id": "myPlubYDK_S6",
        "colab_type": "code",
        "outputId": "ab93b2fc-598b-46ca-e19e-ad571ae81ab3",
        "colab": {
          "base_uri": "https://localhost:8080/",
          "height": 35
        }
      },
      "source": [
        "x = torch.tensor([5.5, 3])\n",
        "print(x)"
      ],
      "execution_count": 5,
      "outputs": [
        {
          "output_type": "stream",
          "text": [
            "tensor([5.5000, 3.0000])\n"
          ],
          "name": "stdout"
        }
      ]
    },
    {
      "cell_type": "markdown",
      "metadata": {
        "id": "uLSoYDt1LTRw",
        "colab_type": "text"
      },
      "source": [
        "または、既存のテンソルに基づいてテンソルを作成します。ユーザーが新しい値を提供しない限り,これらのメソッドは、入力テンソルのプロパティを再利用します。"
      ]
    },
    {
      "cell_type": "code",
      "metadata": {
        "id": "5RNQ-Nf7LGyS",
        "colab_type": "code",
        "outputId": "53ee617c-5d4f-4c92-901c-7ff7d7fcfa93",
        "colab": {
          "base_uri": "https://localhost:8080/",
          "height": 195
        }
      },
      "source": [
        "x = x.new_ones(5, 3, dtype=torch.double)      # new_* methods take in sizes\n",
        "print(x)\n",
        "\n",
        "x = torch.randn_like(x, dtype=torch.float)    # override dtype!\n",
        "print(x)                                      # result has the same size"
      ],
      "execution_count": 6,
      "outputs": [
        {
          "output_type": "stream",
          "text": [
            "tensor([[1., 1., 1.],\n",
            "        [1., 1., 1.],\n",
            "        [1., 1., 1.],\n",
            "        [1., 1., 1.],\n",
            "        [1., 1., 1.]], dtype=torch.float64)\n",
            "tensor([[-1.0737,  0.7733, -1.7551],\n",
            "        [-0.5004, -1.2820,  1.3587],\n",
            "        [-0.3883,  1.3063, -0.3548],\n",
            "        [-0.2154,  0.4203, -0.8156],\n",
            "        [ 0.4530,  0.1988, -0.8683]])\n"
          ],
          "name": "stdout"
        }
      ]
    },
    {
      "cell_type": "code",
      "metadata": {
        "id": "jJBPyrH1LlsM",
        "colab_type": "code",
        "outputId": "8069108c-98b4-47c8-dc6b-78bd0d0a65aa",
        "colab": {
          "base_uri": "https://localhost:8080/",
          "height": 35
        }
      },
      "source": [
        "print(x.size())"
      ],
      "execution_count": 7,
      "outputs": [
        {
          "output_type": "stream",
          "text": [
            "torch.Size([5, 3])\n"
          ],
          "name": "stdout"
        }
      ]
    },
    {
      "cell_type": "markdown",
      "metadata": {
        "id": "ljbRq8VNL2tR",
        "colab_type": "text"
      },
      "source": [
        "# Operations"
      ]
    },
    {
      "cell_type": "markdown",
      "metadata": {
        "id": "95rRXH_0L8mR",
        "colab_type": "text"
      },
      "source": [
        "操作には複数の構文があります。次の例では、加算操作を見ていきます。"
      ]
    },
    {
      "cell_type": "code",
      "metadata": {
        "id": "CfkE64y2LyxQ",
        "colab_type": "code",
        "outputId": "1bec12ff-ba68-48aa-f743-8153ef6397b1",
        "colab": {
          "base_uri": "https://localhost:8080/",
          "height": 106
        }
      },
      "source": [
        "y = torch.rand(5, 3)\n",
        "print(x + y)"
      ],
      "execution_count": 8,
      "outputs": [
        {
          "output_type": "stream",
          "text": [
            "tensor([[-0.1478,  1.1331, -0.8321],\n",
            "        [ 0.1914, -1.0335,  2.3528],\n",
            "        [ 0.4262,  2.2252,  0.4037],\n",
            "        [-0.1270,  1.1167, -0.2670],\n",
            "        [ 0.8721,  0.5668, -0.6724]])\n"
          ],
          "name": "stdout"
        }
      ]
    },
    {
      "cell_type": "code",
      "metadata": {
        "id": "eAXnHVEgL_0U",
        "colab_type": "code",
        "outputId": "55cff904-7297-44fe-d944-d380c4de88f5",
        "colab": {
          "base_uri": "https://localhost:8080/",
          "height": 106
        }
      },
      "source": [
        "print(torch.add(x, y))"
      ],
      "execution_count": 9,
      "outputs": [
        {
          "output_type": "stream",
          "text": [
            "tensor([[-0.1478,  1.1331, -0.8321],\n",
            "        [ 0.1914, -1.0335,  2.3528],\n",
            "        [ 0.4262,  2.2252,  0.4037],\n",
            "        [-0.1270,  1.1167, -0.2670],\n",
            "        [ 0.8721,  0.5668, -0.6724]])\n"
          ],
          "name": "stdout"
        }
      ]
    },
    {
      "cell_type": "markdown",
      "metadata": {
        "id": "1oHve4-PMQke",
        "colab_type": "text"
      },
      "source": [
        "引数として出力テンソルを提供する"
      ]
    },
    {
      "cell_type": "code",
      "metadata": {
        "id": "6UyJmNJkMGR9",
        "colab_type": "code",
        "outputId": "e0d4dba0-5f24-4609-ef65-de811f7b2250",
        "colab": {
          "base_uri": "https://localhost:8080/",
          "height": 106
        }
      },
      "source": [
        "result = torch.empty(5, 3)\n",
        "torch.add(x, y, out=result)\n",
        "print(result)"
      ],
      "execution_count": 10,
      "outputs": [
        {
          "output_type": "stream",
          "text": [
            "tensor([[-0.1478,  1.1331, -0.8321],\n",
            "        [ 0.1914, -1.0335,  2.3528],\n",
            "        [ 0.4262,  2.2252,  0.4037],\n",
            "        [-0.1270,  1.1167, -0.2670],\n",
            "        [ 0.8721,  0.5668, -0.6724]])\n"
          ],
          "name": "stdout"
        }
      ]
    },
    {
      "cell_type": "markdown",
      "metadata": {
        "id": "xmUCeaM8MeGz",
        "colab_type": "text"
      },
      "source": [
        "Addition: in-place"
      ]
    },
    {
      "cell_type": "code",
      "metadata": {
        "id": "7VzoFfxOML8i",
        "colab_type": "code",
        "outputId": "202b5f89-9989-4d01-9194-3c191cb44e08",
        "colab": {
          "base_uri": "https://localhost:8080/",
          "height": 106
        }
      },
      "source": [
        "# adds x to y\n",
        "y.add_(x)\n",
        "print(y)"
      ],
      "execution_count": 11,
      "outputs": [
        {
          "output_type": "stream",
          "text": [
            "tensor([[-0.1478,  1.1331, -0.8321],\n",
            "        [ 0.1914, -1.0335,  2.3528],\n",
            "        [ 0.4262,  2.2252,  0.4037],\n",
            "        [-0.1270,  1.1167, -0.2670],\n",
            "        [ 0.8721,  0.5668, -0.6724]])\n"
          ],
          "name": "stdout"
        }
      ]
    },
    {
      "cell_type": "markdown",
      "metadata": {
        "id": "Qwq2fAfoMoFJ",
        "colab_type": "text"
      },
      "source": [
        "標準のNumPyのようなインデックス作成は、すべての添え字で使用できます"
      ]
    },
    {
      "cell_type": "code",
      "metadata": {
        "id": "CnjzTfyIMhkg",
        "colab_type": "code",
        "outputId": "5318314a-3b60-47e4-924a-cade72360b66",
        "colab": {
          "base_uri": "https://localhost:8080/",
          "height": 35
        }
      },
      "source": [
        "print(x[:, 1])"
      ],
      "execution_count": 12,
      "outputs": [
        {
          "output_type": "stream",
          "text": [
            "tensor([ 0.7733, -1.2820,  1.3063,  0.4203,  0.1988])\n"
          ],
          "name": "stdout"
        }
      ]
    },
    {
      "cell_type": "markdown",
      "metadata": {
        "id": "zoiooi4xNARP",
        "colab_type": "text"
      },
      "source": [
        "サイズ変更：テンソルのサイズ変更/形状変更を行う場合は、torch.viewを使用できます。"
      ]
    },
    {
      "cell_type": "code",
      "metadata": {
        "id": "U70XGr-oMqf-",
        "colab_type": "code",
        "outputId": "5fbde34e-c91d-4a7b-c545-e15abb9b0570",
        "colab": {
          "base_uri": "https://localhost:8080/",
          "height": 35
        }
      },
      "source": [
        "x = torch.randn(4, 4)\n",
        "y = x.view(16)\n",
        "z = x.view(-1, 8)  # the size -1 is inferred from other dimensions\n",
        "print(x.size(), y.size(), z.size())"
      ],
      "execution_count": 13,
      "outputs": [
        {
          "output_type": "stream",
          "text": [
            "torch.Size([4, 4]) torch.Size([16]) torch.Size([2, 8])\n"
          ],
          "name": "stdout"
        }
      ]
    },
    {
      "cell_type": "markdown",
      "metadata": {
        "id": "fP_Jp01gNNVn",
        "colab_type": "text"
      },
      "source": [
        "1つの要素のテンソルがある場合、.item（）を使用してPythonの数値として値を取得します"
      ]
    },
    {
      "cell_type": "code",
      "metadata": {
        "id": "QQdTEn6kNDmk",
        "colab_type": "code",
        "outputId": "a5267fc6-0378-4df8-e5ba-c620e9fa7759",
        "colab": {
          "base_uri": "https://localhost:8080/",
          "height": 52
        }
      },
      "source": [
        "x = torch.randn(1)\n",
        "print(x)\n",
        "print(x.item())"
      ],
      "execution_count": 14,
      "outputs": [
        {
          "output_type": "stream",
          "text": [
            "tensor([-0.4781])\n",
            "-0.47805556654930115\n"
          ],
          "name": "stdout"
        }
      ]
    },
    {
      "cell_type": "markdown",
      "metadata": {
        "id": "wNaUiB3lNYrT",
        "colab_type": "text"
      },
      "source": [
        "# NumPy Bridge"
      ]
    },
    {
      "cell_type": "markdown",
      "metadata": {
        "id": "cFEhPoFuNd6W",
        "colab_type": "text"
      },
      "source": [
        "トーチテンソルをNumPy配列に、またはその逆に変換するのは簡単です。\n",
        "\n",
        "トーチテンソルとNumPyアレイは、基礎となるメモリ位置を共有し（トーチテンソルがCPU上にある場合）、一方を変更すると他方も変更されます。"
      ]
    },
    {
      "cell_type": "markdown",
      "metadata": {
        "id": "3UBpjBKMNiNx",
        "colab_type": "text"
      },
      "source": [
        "トーチテンソルからNumPy配列への変換"
      ]
    },
    {
      "cell_type": "code",
      "metadata": {
        "id": "WgwKWxCyNQJJ",
        "colab_type": "code",
        "outputId": "9be1b438-0ee6-42ba-91a0-f8a12f9cd9c5",
        "colab": {
          "base_uri": "https://localhost:8080/",
          "height": 0
        }
      },
      "source": [
        "a = torch.ones(5)\n",
        "print(a)"
      ],
      "execution_count": 15,
      "outputs": [
        {
          "output_type": "stream",
          "text": [
            "tensor([1., 1., 1., 1., 1.])\n"
          ],
          "name": "stdout"
        }
      ]
    },
    {
      "cell_type": "code",
      "metadata": {
        "id": "-UzHOM7tNlPQ",
        "colab_type": "code",
        "outputId": "b322e6d6-17cd-40f3-ec21-574426070776",
        "colab": {
          "base_uri": "https://localhost:8080/",
          "height": 0
        }
      },
      "source": [
        "b = a.numpy()\n",
        "print(b)"
      ],
      "execution_count": 16,
      "outputs": [
        {
          "output_type": "stream",
          "text": [
            "[1. 1. 1. 1. 1.]\n"
          ],
          "name": "stdout"
        }
      ]
    },
    {
      "cell_type": "markdown",
      "metadata": {
        "id": "mPXQHUCKNy8S",
        "colab_type": "text"
      },
      "source": [
        "\n",
        "numpy配列の値の変化をご覧ください。"
      ]
    },
    {
      "cell_type": "code",
      "metadata": {
        "id": "CBQweo49NnCN",
        "colab_type": "code",
        "outputId": "02e9a24e-20d5-4f88-e3dd-eb6de4253290",
        "colab": {
          "base_uri": "https://localhost:8080/",
          "height": 0
        }
      },
      "source": [
        "a.add_(1)\n",
        "print(a)\n",
        "print(b)"
      ],
      "execution_count": 17,
      "outputs": [
        {
          "output_type": "stream",
          "text": [
            "tensor([2., 2., 2., 2., 2.])\n",
            "[2. 2. 2. 2. 2.]\n"
          ],
          "name": "stdout"
        }
      ]
    },
    {
      "cell_type": "markdown",
      "metadata": {
        "id": "6acvZ6b3N9e1",
        "colab_type": "text"
      },
      "source": [
        "\n",
        "NumPy配列をトーチテンソルに変換"
      ]
    },
    {
      "cell_type": "markdown",
      "metadata": {
        "id": "cwDummC8OLkY",
        "colab_type": "text"
      },
      "source": [
        "\n",
        "np配列を変更すると、トーチテンソルがどのように自動的に変更されたかをご覧ください"
      ]
    },
    {
      "cell_type": "code",
      "metadata": {
        "id": "gJ4U4ugVN1UX",
        "colab_type": "code",
        "outputId": "90e28696-6ede-4b0a-bec8-a7a73c03a2f5",
        "colab": {
          "base_uri": "https://localhost:8080/",
          "height": 0
        }
      },
      "source": [
        "import numpy as np\n",
        "a = np.ones(5)\n",
        "b = torch.from_numpy(a)\n",
        "np.add(a, 1, out=a)\n",
        "print(a)\n",
        "print(b)"
      ],
      "execution_count": 18,
      "outputs": [
        {
          "output_type": "stream",
          "text": [
            "[2. 2. 2. 2. 2.]\n",
            "tensor([2., 2., 2., 2., 2.], dtype=torch.float64)\n"
          ],
          "name": "stdout"
        }
      ]
    },
    {
      "cell_type": "markdown",
      "metadata": {
        "id": "47b1QhZ_OSnC",
        "colab_type": "text"
      },
      "source": [
        "# CUDA Tensors"
      ]
    },
    {
      "cell_type": "markdown",
      "metadata": {
        "id": "gP3vX18SOYKX",
        "colab_type": "text"
      },
      "source": [
        "\n",
        ".toメソッドを使用して、テンソルを任意のデバイスに移動できます。"
      ]
    },
    {
      "cell_type": "code",
      "metadata": {
        "id": "nj2qIMD5OOnU",
        "colab_type": "code",
        "outputId": "85fdfb74-8e87-4aa4-f3e2-5876d9ad2dc6",
        "colab": {
          "base_uri": "https://localhost:8080/",
          "height": 0
        }
      },
      "source": [
        "# let us run this cell only if CUDA is available\n",
        "# We will use ``torch.device`` objects to move tensors in and out of GPU\n",
        "if torch.cuda.is_available():\n",
        "    device = torch.device(\"cuda\")          # a CUDA device object\n",
        "    y = torch.ones_like(x, device=device)  # directly create a tensor on GPU\n",
        "    x = x.to(device)                       # or just use strings ``.to(\"cuda\")``\n",
        "    z = x + y\n",
        "    print(z)\n",
        "    print(z.to(\"cpu\", torch.double))       # ``.to`` can also change dtype together!"
      ],
      "execution_count": 19,
      "outputs": [
        {
          "output_type": "stream",
          "text": [
            "tensor([0.5219], device='cuda:0')\n",
            "tensor([0.5219], dtype=torch.float64)\n"
          ],
          "name": "stdout"
        }
      ]
    },
    {
      "cell_type": "markdown",
      "metadata": {
        "id": "9gaUCe3fb6iK",
        "colab_type": "text"
      },
      "source": [
        "# AUTOGRAD: AUTOMATIC DIFFERENTIATION"
      ]
    },
    {
      "cell_type": "markdown",
      "metadata": {
        "id": "co0XvXskcCX3",
        "colab_type": "text"
      },
      "source": [
        "PyTorchのすべてのニューラルネットワークの中心は、autogradパッケージです。最初にこれを簡単に見てみましょう。次に、最初のニューラルネットワークのトレーニングに進みます。\n",
        "\n",
        "autogradパッケージは、Tensorのすべての操作を自動的に区別します。これは、実行ごとに定義されるフレームワークです。つまり、コードの実行方法によってbackpropが定義され、すべての反復が異なる場合があります。"
      ]
    },
    {
      "cell_type": "markdown",
      "metadata": {
        "id": "fRW0HWTScEwP",
        "colab_type": "text"
      },
      "source": [
        "# Tensor"
      ]
    },
    {
      "cell_type": "markdown",
      "metadata": {
        "id": "FFDaMLetjJRR",
        "colab_type": "text"
      },
      "source": [
        "\n",
        "torch.Tensorは、パッケージの中心的なクラスです。属性.requires_gradをTrueに設定すると、すべての操作の追跡が開始されます。計算が終了したら、.backward（）を呼び出して、すべての勾配を自動的に計算できます。このテンソルの勾配は.grad属性に蓄積されます。\n",
        "\n",
        "テンソルが履歴を追跡しないようにするには、.detach（）を呼び出して計算履歴からデタッチし、将来の計算が追跡されないようにします。\n",
        "\n",
        "履歴の追跡（およびメモリの使用）を防ぐために、torch.no_grad（）：でコードブロックをラップすることもできます。モデルには、requires_grad = Trueのトレーニング可能なパラメーターがありますが、勾配は必要ないため、モデルを評価する際に特に役立ちます。\n",
        "\n",
        "autogradの実装に非常に重要なもう1つのクラス、Functionがあります。\n",
        "\n",
        "テンソルと関数は相互接続され、計算の完全な履歴をエンコードする非循環グラフを構築します。各テンソルには、Tensorを作成したFunctionを参照する.grad_fn属性があります（ユーザーが作成したTensorを除く-grad_fnはNoneです）。\n",
        "\n",
        "導関数を計算する場合は、Tensorで.backward（）を呼び出すことができます。 Tensorがスカラーの場合（つまり、1つの要素のデータを保持する場合）、backward（）に引数を指定する必要はありませんが、要素がさらにある場合は、一致する形状のテンソルである勾配引数を指定する必要があります。"
      ]
    },
    {
      "cell_type": "code",
      "metadata": {
        "id": "4x25XOB5OcVJ",
        "colab_type": "code",
        "colab": {}
      },
      "source": [
        "import torch"
      ],
      "execution_count": 0,
      "outputs": []
    },
    {
      "cell_type": "markdown",
      "metadata": {
        "id": "QFflb5h4jlp8",
        "colab_type": "text"
      },
      "source": [
        "テンソルを作成し、requires_grad = Trueを設定して計算を追跡します"
      ]
    },
    {
      "cell_type": "code",
      "metadata": {
        "id": "MDFyFI55jMcf",
        "colab_type": "code",
        "outputId": "4b12f69d-f21c-4a2d-b736-a469d6627f94",
        "colab": {
          "base_uri": "https://localhost:8080/",
          "height": 0
        }
      },
      "source": [
        "x = torch.ones(2, 2, requires_grad=True)\n",
        "print(x)"
      ],
      "execution_count": 21,
      "outputs": [
        {
          "output_type": "stream",
          "text": [
            "tensor([[1., 1.],\n",
            "        [1., 1.]], requires_grad=True)\n"
          ],
          "name": "stdout"
        }
      ]
    },
    {
      "cell_type": "markdown",
      "metadata": {
        "id": "VReB3fD1juge",
        "colab_type": "text"
      },
      "source": [
        "\n",
        "テンソル操作を行う"
      ]
    },
    {
      "cell_type": "code",
      "metadata": {
        "id": "1wKU9E6CjpMt",
        "colab_type": "code",
        "outputId": "99fc748b-418f-4281-a6c8-5883baf0dfd0",
        "colab": {
          "base_uri": "https://localhost:8080/",
          "height": 0
        }
      },
      "source": [
        "y = x + 2\n",
        "print(y)"
      ],
      "execution_count": 22,
      "outputs": [
        {
          "output_type": "stream",
          "text": [
            "tensor([[3., 3.],\n",
            "        [3., 3.]], grad_fn=<AddBackward0>)\n"
          ],
          "name": "stdout"
        }
      ]
    },
    {
      "cell_type": "markdown",
      "metadata": {
        "id": "t50Cz4sJkQWQ",
        "colab_type": "text"
      },
      "source": [
        "yは操作の結果として作成されたため、grad_fnがあります。"
      ]
    },
    {
      "cell_type": "code",
      "metadata": {
        "id": "QnFBvO-mkLZ9",
        "colab_type": "code",
        "outputId": "73c55310-0291-40e2-e520-981988a9b932",
        "colab": {
          "base_uri": "https://localhost:8080/",
          "height": 0
        }
      },
      "source": [
        "print(y.grad_fn)"
      ],
      "execution_count": 23,
      "outputs": [
        {
          "output_type": "stream",
          "text": [
            "<AddBackward0 object at 0x7fcde4d4d860>\n"
          ],
          "name": "stdout"
        }
      ]
    },
    {
      "cell_type": "markdown",
      "metadata": {
        "id": "U8K9gJ_vkds7",
        "colab_type": "text"
      },
      "source": [
        "yでさらに操作を行う"
      ]
    },
    {
      "cell_type": "code",
      "metadata": {
        "id": "r54H6DVJkWO4",
        "colab_type": "code",
        "outputId": "144d48db-08b5-4fb1-fe14-65fabef830f7",
        "colab": {
          "base_uri": "https://localhost:8080/",
          "height": 0
        }
      },
      "source": [
        "z = y * y * 3\n",
        "out = z.mean()\n",
        "\n",
        "print(z, out)"
      ],
      "execution_count": 24,
      "outputs": [
        {
          "output_type": "stream",
          "text": [
            "tensor([[27., 27.],\n",
            "        [27., 27.]], grad_fn=<MulBackward0>) tensor(27., grad_fn=<MeanBackward0>)\n"
          ],
          "name": "stdout"
        }
      ]
    },
    {
      "cell_type": "markdown",
      "metadata": {
        "id": "Eb3roSywlA2F",
        "colab_type": "text"
      },
      "source": [
        ".requires_grad_（...）は、既存のTensorのrequire_gradフラグをその場で変更します。入力フラグは、指定されていない場合のデフォルトのFalseです。"
      ]
    },
    {
      "cell_type": "code",
      "metadata": {
        "id": "r8-EJcSUkwBZ",
        "colab_type": "code",
        "outputId": "78f0bc42-c8ed-430b-e373-2216ddf8c476",
        "colab": {
          "base_uri": "https://localhost:8080/",
          "height": 0
        }
      },
      "source": [
        "a = torch.randn(2, 2)\n",
        "a = ((a * 3) / (a - 1))\n",
        "print(a.requires_grad)\n",
        "a.requires_grad_(True)\n",
        "print(a.requires_grad)\n",
        "b = (a * a).sum()\n",
        "print(b.grad_fn)"
      ],
      "execution_count": 25,
      "outputs": [
        {
          "output_type": "stream",
          "text": [
            "False\n",
            "True\n",
            "<SumBackward0 object at 0x7fcddc7131d0>\n"
          ],
          "name": "stdout"
        }
      ]
    },
    {
      "cell_type": "markdown",
      "metadata": {
        "id": "uHMEjCW-lXkT",
        "colab_type": "text"
      },
      "source": [
        "# Gradients"
      ]
    },
    {
      "cell_type": "markdown",
      "metadata": {
        "id": "e2Asd5lblbC8",
        "colab_type": "text"
      },
      "source": [
        "outには単一のスカラーが含まれているため、out.backward（）はout.backward（torch.tensor（1。））と同等です。"
      ]
    },
    {
      "cell_type": "code",
      "metadata": {
        "id": "3TJq_xi9lMAQ",
        "colab_type": "code",
        "colab": {}
      },
      "source": [
        "out.backward()"
      ],
      "execution_count": 0,
      "outputs": []
    },
    {
      "cell_type": "markdown",
      "metadata": {
        "id": "xI3vE2F1wAd8",
        "colab_type": "text"
      },
      "source": [
        "Print gradients d(out)/dx"
      ]
    },
    {
      "cell_type": "code",
      "metadata": {
        "id": "-FIgIeVwl8en",
        "colab_type": "code",
        "outputId": "6d17edca-503f-403d-9cdf-fc78dcf074a9",
        "colab": {
          "base_uri": "https://localhost:8080/",
          "height": 0
        }
      },
      "source": [
        "print(x.grad)"
      ],
      "execution_count": 27,
      "outputs": [
        {
          "output_type": "stream",
          "text": [
            "tensor([[4.5000, 4.5000],\n",
            "        [4.5000, 4.5000]])\n"
          ],
          "name": "stdout"
        }
      ]
    },
    {
      "cell_type": "markdown",
      "metadata": {
        "id": "0rT1w13Pxofw",
        "colab_type": "text"
      },
      "source": [
        "\n",
        "ベクトルヤコビ積のこの特性により、非スカラー出力を持つモデルに外部勾配を供給することが非常に便利になります。\n",
        "次に、ベクトルヤコビ積の例を見てみましょう。"
      ]
    },
    {
      "cell_type": "code",
      "metadata": {
        "id": "7JhZ-09axtSL",
        "colab_type": "code",
        "outputId": "e971e2e3-c1d0-43cd-8c2d-181fa9897fc5",
        "colab": {
          "base_uri": "https://localhost:8080/",
          "height": 0
        }
      },
      "source": [
        "x = torch.randn(3, requires_grad=True)\n",
        "\n",
        "y = x * 2\n",
        "while y.data.norm() < 1000:\n",
        "    y = y * 2\n",
        "\n",
        "print(y)"
      ],
      "execution_count": 28,
      "outputs": [
        {
          "output_type": "stream",
          "text": [
            "tensor([-1081.8945,  -593.1576,  -854.6824], grad_fn=<MulBackward0>)\n"
          ],
          "name": "stdout"
        }
      ]
    },
    {
      "cell_type": "markdown",
      "metadata": {
        "id": "gIgsdkDF573Q",
        "colab_type": "text"
      },
      "source": [
        "この場合、yはスカラーではなくなりました。 torch.autogradは完全なヤコビアンを直接計算できませんでしたが、ベクトルとヤコビアンの積だけが必要な場合は、単にベクトルを引数として逆方向に渡します。"
      ]
    },
    {
      "cell_type": "code",
      "metadata": {
        "id": "un18AJScxwC0",
        "colab_type": "code",
        "outputId": "be54fa6e-9761-4195-b7ea-6a1c8ea5e171",
        "colab": {
          "base_uri": "https://localhost:8080/",
          "height": 0
        }
      },
      "source": [
        "v = torch.tensor([0.1, 1.0, 0.0001], dtype=torch.float)\n",
        "y.backward(v)\n",
        "\n",
        "print(x.grad)"
      ],
      "execution_count": 29,
      "outputs": [
        {
          "output_type": "stream",
          "text": [
            "tensor([2.0480e+02, 2.0480e+03, 2.0480e-01])\n"
          ],
          "name": "stdout"
        }
      ]
    },
    {
      "cell_type": "markdown",
      "metadata": {
        "id": "snazpz3g66oG",
        "colab_type": "text"
      },
      "source": [
        "また、コードブロックをtorch.no_grad（）でラップすることにより、.requires_grad = TrueでTensorの履歴の追跡からautogradを停止することもできます。"
      ]
    },
    {
      "cell_type": "code",
      "metadata": {
        "id": "yDm7LIne6Pq9",
        "colab_type": "code",
        "outputId": "119e2dee-61bd-48c5-b943-c141bca7091e",
        "colab": {
          "base_uri": "https://localhost:8080/",
          "height": 0
        }
      },
      "source": [
        "print(x.requires_grad)\n",
        "print((x ** 2).requires_grad)\n",
        "\n",
        "with torch.no_grad():\n",
        "    print((x ** 2).requires_grad)"
      ],
      "execution_count": 30,
      "outputs": [
        {
          "output_type": "stream",
          "text": [
            "True\n",
            "True\n",
            "False\n"
          ],
          "name": "stdout"
        }
      ]
    },
    {
      "cell_type": "code",
      "metadata": {
        "id": "LBQSUe4f7G2M",
        "colab_type": "code",
        "outputId": "9c1e16fa-e7d3-49f6-8ed3-7a92afe0f3e1",
        "colab": {
          "base_uri": "https://localhost:8080/",
          "height": 0
        }
      },
      "source": [
        "print(x.requires_grad)\n",
        "y = x.detach()\n",
        "print(y.requires_grad)\n",
        "print(x.eq(y).all())"
      ],
      "execution_count": 31,
      "outputs": [
        {
          "output_type": "stream",
          "text": [
            "True\n",
            "False\n",
            "tensor(True)\n"
          ],
          "name": "stdout"
        }
      ]
    },
    {
      "cell_type": "markdown",
      "metadata": {
        "id": "pimCsEY_8YYH",
        "colab_type": "text"
      },
      "source": [
        "# NEURAL NETWORKS"
      ]
    },
    {
      "cell_type": "markdown",
      "metadata": {
        "id": "eORCqImI9Vya",
        "colab_type": "text"
      },
      "source": [
        "ニューラルネットワークは、torch.nnパッケージを使用して構築できます。\n",
        "\n",
        "autogradを垣間見ると、nnはautogradに依存してモデルを定義し、モデルを区別します。 nn.Moduleにはレイヤーと、出力を返すforward（input）メソッドが含まれます。\n",
        "\n",
        "たとえば、数字画像を分類するこのネットワークを見てください："
      ]
    },
    {
      "cell_type": "markdown",
      "metadata": {
        "id": "Fvbv_nShBKQl",
        "colab_type": "text"
      },
      "source": [
        "これは、単純なフィードフォワードネットワークです。入力を受け取り、いくつかのレイヤーを次々に通過させ、最終的に出力を提供します。\n",
        "\n",
        "ニューラルネットワークの一般的なトレーニング手順は次のとおりです。\n",
        "\n",
        "* 学習可能なパラメーター（または重み）を持つニューラルネットワークを定義する\n",
        "* 入力のデータセットを反復処理する\n",
        "* ネットワークを介した入力の処理\n",
        "* 損失を計算します（出力が正しいことからどれくらい離れているか）\n",
        "* 勾配をネットワークのパラメーターに伝播します\n",
        "* 通常、単純な更新ルールを使用して、ネットワークの重みを更新します：weight = weight-learning_rate * gradient"
      ]
    },
    {
      "cell_type": "markdown",
      "metadata": {
        "id": "6jFPfFV2ByLH",
        "colab_type": "text"
      },
      "source": [
        "# Define the network"
      ]
    },
    {
      "cell_type": "code",
      "metadata": {
        "id": "_Q4H9ymMBACp",
        "colab_type": "code",
        "outputId": "29305828-2db6-4b8b-900b-907ab9fd7416",
        "colab": {
          "base_uri": "https://localhost:8080/",
          "height": 0
        }
      },
      "source": [
        "import torch\n",
        "import torch.nn as nn\n",
        "import torch.nn.functional as F\n",
        "\n",
        "\n",
        "class Net(nn.Module):\n",
        "\n",
        "    def __init__(self):\n",
        "        super(Net, self).__init__()\n",
        "        # 1 input image channel, 6 output channels, 3x3 square convolution\n",
        "        # kernel\n",
        "        self.conv1 = nn.Conv2d(1, 6, 3)\n",
        "        self.conv2 = nn.Conv2d(6, 16, 3)\n",
        "        # an affine operation: y = Wx + b\n",
        "        self.fc1 = nn.Linear(16 * 6 * 6, 120)  # 6*6 from image dimension\n",
        "        self.fc2 = nn.Linear(120, 84)\n",
        "        self.fc3 = nn.Linear(84, 10)\n",
        "\n",
        "    def forward(self, x):\n",
        "        # Max pooling over a (2, 2) window\n",
        "        x = F.max_pool2d(F.relu(self.conv1(x)), (2, 2))\n",
        "        # If the size is a square you can only specify a single number\n",
        "        x = F.max_pool2d(F.relu(self.conv2(x)), 2)\n",
        "        x = x.view(-1, self.num_flat_features(x))\n",
        "        x = F.relu(self.fc1(x))\n",
        "        x = F.relu(self.fc2(x))\n",
        "        x = self.fc3(x)\n",
        "        return x\n",
        "\n",
        "    def num_flat_features(self, x):\n",
        "        size = x.size()[1:]  # all dimensions except the batch dimension\n",
        "        num_features = 1\n",
        "        for s in size:\n",
        "            num_features *= s\n",
        "        return num_features\n",
        "\n",
        "\n",
        "net = Net()\n",
        "print(net)"
      ],
      "execution_count": 32,
      "outputs": [
        {
          "output_type": "stream",
          "text": [
            "Net(\n",
            "  (conv1): Conv2d(1, 6, kernel_size=(3, 3), stride=(1, 1))\n",
            "  (conv2): Conv2d(6, 16, kernel_size=(3, 3), stride=(1, 1))\n",
            "  (fc1): Linear(in_features=576, out_features=120, bias=True)\n",
            "  (fc2): Linear(in_features=120, out_features=84, bias=True)\n",
            "  (fc3): Linear(in_features=84, out_features=10, bias=True)\n",
            ")\n"
          ],
          "name": "stdout"
        }
      ]
    },
    {
      "cell_type": "markdown",
      "metadata": {
        "id": "pQPdTvwCFGt5",
        "colab_type": "text"
      },
      "source": [
        "フォワード関数を定義するだけで、autogradを使用してバックワード関数（勾配が計算される）が自動的に定義されます。 forward関数で任意のTensor操作を使用できます。/"
      ]
    },
    {
      "cell_type": "code",
      "metadata": {
        "id": "fpN1SB6jEndf",
        "colab_type": "code",
        "outputId": "90e0de85-f8f7-4cd2-8b75-9ca5445aeeda",
        "colab": {
          "base_uri": "https://localhost:8080/",
          "height": 0
        }
      },
      "source": [
        "params = list(net.parameters())\n",
        "print(len(params))\n",
        "print(params[0].size())  # conv1's .weight"
      ],
      "execution_count": 33,
      "outputs": [
        {
          "output_type": "stream",
          "text": [
            "10\n",
            "torch.Size([6, 1, 3, 3])\n"
          ],
          "name": "stdout"
        }
      ]
    },
    {
      "cell_type": "markdown",
      "metadata": {
        "id": "7mmOLlwPFsCH",
        "colab_type": "text"
      },
      "source": [
        "ランダムな32x32入力を試してみましょう。注：このネット（LeNet）の予想入力サイズは32x32です。 MNISTデータセットでこのネットを使用するには、データセットから32x32に画像のサイズを変更してください。"
      ]
    },
    {
      "cell_type": "code",
      "metadata": {
        "id": "u99yZb86FKju",
        "colab_type": "code",
        "outputId": "8687ba63-c859-45e4-f9a6-3e3c6ed8b019",
        "colab": {
          "base_uri": "https://localhost:8080/",
          "height": 0
        }
      },
      "source": [
        "input = torch.randn(1, 1, 32, 32)\n",
        "out = net(input)\n",
        "print(out)"
      ],
      "execution_count": 34,
      "outputs": [
        {
          "output_type": "stream",
          "text": [
            "tensor([[-0.0629, -0.0274,  0.1297,  0.0747, -0.0738,  0.0802, -0.0427, -0.0321,\n",
            "         -0.0746, -0.0661]], grad_fn=<AddmmBackward>)\n"
          ],
          "name": "stdout"
        }
      ]
    },
    {
      "cell_type": "markdown",
      "metadata": {
        "id": "2wLGlk1xFz9y",
        "colab_type": "text"
      },
      "source": [
        "すべてのパラメーターの勾配バッファーをゼロにし、ランダム勾配でバックプロップします："
      ]
    },
    {
      "cell_type": "code",
      "metadata": {
        "id": "lGYULjyUFuom",
        "colab_type": "code",
        "colab": {}
      },
      "source": [
        "net.zero_grad()\n",
        "out.backward(torch.randn(1, 10))"
      ],
      "execution_count": 0,
      "outputs": []
    },
    {
      "cell_type": "markdown",
      "metadata": {
        "id": "XpRoqyrKGDr3",
        "colab_type": "text"
      },
      "source": [
        "# Loss Function"
      ]
    },
    {
      "cell_type": "markdown",
      "metadata": {
        "id": "MS8svvpMHIN7",
        "colab_type": "text"
      },
      "source": [
        "損失関数は、入力（出力、ターゲット）のペアを受け取り、出力がターゲットからどれだけ離れているかを推定する値を計算します。\n",
        "\n",
        "nnパッケージにはいくつかの異なる損失関数があります。単純な損失は、nn.MSELossです。これは、入力とターゲット間の平均二乗誤差を計算します。"
      ]
    },
    {
      "cell_type": "code",
      "metadata": {
        "id": "bfwKCEGCHVc-",
        "colab_type": "code",
        "outputId": "de1c4780-7914-4778-d033-1888e2847ac3",
        "colab": {
          "base_uri": "https://localhost:8080/",
          "height": 0
        }
      },
      "source": [
        "output = net(input)\n",
        "target = torch.randn(10)  # a dummy target, for example\n",
        "print(target)\n",
        "target = target.view(1, -1)  # make it the same shape as output\n",
        "print(target)\n",
        "criterion = nn.MSELoss()\n",
        "\n",
        "loss = criterion(output, target)\n",
        "print(loss)"
      ],
      "execution_count": 36,
      "outputs": [
        {
          "output_type": "stream",
          "text": [
            "tensor([ 0.3710, -1.0748, -0.0938,  0.8789,  0.0684,  1.5615, -0.0418,  2.5326,\n",
            "        -0.1765,  0.0957])\n",
            "tensor([[ 0.3710, -1.0748, -0.0938,  0.8789,  0.0684,  1.5615, -0.0418,  2.5326,\n",
            "         -0.1765,  0.0957]])\n",
            "tensor(1.0811, grad_fn=<MseLossBackward>)\n"
          ],
          "name": "stdout"
        }
      ]
    },
    {
      "cell_type": "markdown",
      "metadata": {
        "id": "_lqUQ-xYIVJD",
        "colab_type": "text"
      },
      "source": [
        "ここで、.grad_fn属性を使用して逆方向の損失を追跡すると、次のような計算のグラフが表示されます。\n",
        "\n",
        "input -> conv2d -> relu -> maxpool2d -> conv2d -> relu -> maxpool2d\n",
        "      -> view -> linear -> relu -> linear -> relu -> linear\n",
        "      -> MSELoss\n",
        "      -> loss"
      ]
    },
    {
      "cell_type": "markdown",
      "metadata": {
        "id": "K7dARQK6JA-f",
        "colab_type": "text"
      },
      "source": [
        "したがって、loss.backward（）を呼び出すと、グラフ全体がw.r.tと区別されます。損失と、requires_grad = Trueを持つグラフ内のすべてのTensorには、勾配とともに.grad Tensorが蓄積されます。\n",
        "\n",
        "例として、後方にいくつかのステップをたどってみましょう。"
      ]
    },
    {
      "cell_type": "code",
      "metadata": {
        "id": "AGWWFxL2HMVu",
        "colab_type": "code",
        "outputId": "e5c4a07b-9e2f-4466-9069-91032dd0941c",
        "colab": {
          "base_uri": "https://localhost:8080/",
          "height": 0
        }
      },
      "source": [
        "print(loss.grad_fn)  # MSELoss\n",
        "print(loss.grad_fn.next_functions[0][0])  # Linear\n",
        "print(loss.grad_fn.next_functions[0][0].next_functions[0][0])  # ReLU"
      ],
      "execution_count": 37,
      "outputs": [
        {
          "output_type": "stream",
          "text": [
            "<MseLossBackward object at 0x7fcddc713da0>\n",
            "<AddmmBackward object at 0x7fcddc7131d0>\n",
            "<AccumulateGrad object at 0x7fcddc713da0>\n"
          ],
          "name": "stdout"
        }
      ]
    },
    {
      "cell_type": "markdown",
      "metadata": {
        "id": "DwUenXj0LEIB",
        "colab_type": "text"
      },
      "source": [
        "# Backprop"
      ]
    },
    {
      "cell_type": "markdown",
      "metadata": {
        "id": "0an6rgnyLKxg",
        "colab_type": "text"
      },
      "source": [
        "\n",
        "エラーを逆伝播するために必要なのは、loss.backward（）だけです。ただし、既存のグラデーションをクリアする必要があります。クリアしないと、既存のグラデーションにグラデーションが蓄積されます。\n",
        "\n",
        "ここで、loss.backward（）を呼び出し、逆方向の前後のconv1のバイアス勾配を見てみましょう。"
      ]
    },
    {
      "cell_type": "code",
      "metadata": {
        "id": "9WlrUkjbJn3g",
        "colab_type": "code",
        "outputId": "04570874-5ba5-4390-e6dc-1042eae2ebd0",
        "colab": {
          "base_uri": "https://localhost:8080/",
          "height": 0
        }
      },
      "source": [
        "net.zero_grad()     # zeroes the gradient buffers of all parameters\n",
        "\n",
        "print('conv1.bias.grad before backward')\n",
        "print(net.conv1.bias.grad)\n",
        "\n",
        "loss.backward()\n",
        "\n",
        "print('conv1.bias.grad after backward')\n",
        "print(net.conv1.bias.grad)"
      ],
      "execution_count": 38,
      "outputs": [
        {
          "output_type": "stream",
          "text": [
            "conv1.bias.grad before backward\n",
            "tensor([0., 0., 0., 0., 0., 0.])\n",
            "conv1.bias.grad after backward\n",
            "tensor([-0.0213, -0.0054, -0.0005, -0.0050,  0.0015, -0.0032])\n"
          ],
          "name": "stdout"
        }
      ]
    },
    {
      "cell_type": "markdown",
      "metadata": {
        "id": "H8T4_qspNexU",
        "colab_type": "text"
      },
      "source": [
        "# Update the weights"
      ]
    },
    {
      "cell_type": "markdown",
      "metadata": {
        "id": "3TKfR7fCN_O2",
        "colab_type": "text"
      },
      "source": [
        "実際に使用される最も単純な更新ルールは、確率的勾配降下法（SGD）です。\n",
        "\n",
        "重み=重み-learning_rate *勾配"
      ]
    },
    {
      "cell_type": "code",
      "metadata": {
        "id": "OxVob-ebMv0E",
        "colab_type": "code",
        "colab": {}
      },
      "source": [
        "learning_rate = 0.01\n",
        "for f in net.parameters():\n",
        "    f.data.sub_(f.grad.data * learning_rate)"
      ],
      "execution_count": 0,
      "outputs": []
    },
    {
      "cell_type": "markdown",
      "metadata": {
        "id": "GIlgdyEjZ1dF",
        "colab_type": "text"
      },
      "source": [
        "ただし、ニューラルネットワークを使用する場合は、SGD、Nesterov-SGD、Adam、RMSPropなどのさまざまな更新ルールを使用する必要があります。これを有効にするために、これらすべてのメソッドを実装する小さなパッケージtorch.optimを構築しました。使い方はとても簡単です。"
      ]
    },
    {
      "cell_type": "code",
      "metadata": {
        "id": "IGXYr41CZvdV",
        "colab_type": "code",
        "colab": {}
      },
      "source": [
        "import torch.optim as optim\n",
        "\n",
        "# create your optimizer\n",
        "optimizer = optim.SGD(net.parameters(), lr=0.01)\n",
        "\n",
        "# in your training loop:\n",
        "optimizer.zero_grad()   # zero the gradient buffers\n",
        "output = net(input)\n",
        "loss = criterion(output, target)\n",
        "loss.backward()\n",
        "optimizer.step()    # Does the update"
      ],
      "execution_count": 0,
      "outputs": []
    },
    {
      "cell_type": "markdown",
      "metadata": {
        "id": "csYhOAI-fnSd",
        "colab_type": "text"
      },
      "source": [
        "# TRAINING A CLASSIFIER"
      ]
    },
    {
      "cell_type": "markdown",
      "metadata": {
        "id": "qYaiCngDfxMG",
        "colab_type": "text"
      },
      "source": [
        "ニューラルネットワークを定義し、損失を計算し、ネットワークの重みを更新する方法を見てきました。\n",
        "\n",
        "データはどうですか？\n",
        "一般に、画像、テキスト、オーディオ、またはビデオのデータを処理する必要がある場合、numpy配列にデータをロードする標準のPythonパッケージを使用できます。次に、この配列をtorch。* Tensorに変換できます。\n",
        "\n",
        "画像の場合、Pillow、OpenCVなどのパッケージが便利です\n",
        "オーディオの場合、scipyやlibrosaなどのパッケージ\n",
        "テキストの場合は、生のPythonまたはCythonベースの読み込み、またはNLTKとSpaCyが便利です\n",
        "具体的には、ビジョンのために、Imagenet、CIFAR10、MNISTなどの一般的なデータセットのデータローダーと、イメージのデータトランスフォーマー、つまり、torchvision.datasetsおよびtorch.utils.data.DataLoaderを含むtorchvisionというパッケージを作成しました。\n",
        "\n",
        "これにより、非常に便利になり、定型的なコードを書く必要がなくなります。"
      ]
    },
    {
      "cell_type": "markdown",
      "metadata": {
        "id": "7Zjp1y1WgAap",
        "colab_type": "text"
      },
      "source": [
        "このチュートリアルでは、CIFAR10データセットを使用します。 「飛行機」、「自動車」、「鳥」、「猫」、「鹿」、「犬」、「カエル」、「馬」、「船」、「トラック」のクラスがあります。 CIFAR-10の画像のサイズは3x32x32です。つまり、サイズが32x32ピクセルの3チャンネルカラー画像です。"
      ]
    },
    {
      "cell_type": "markdown",
      "metadata": {
        "id": "m0fM1izmgExn",
        "colab_type": "text"
      },
      "source": [
        "# Training an image classifier\n",
        "\n",
        "次の手順を順番に実行します。\n",
        "\n",
        "torchvisionを使用してCIFAR10トレーニングおよびテストデータセットを読み込み、正規化する\n",
        "\n",
        "1.  畳み込みニューラルネットワークを定義する\n",
        "2.  損失関数を定義する\n",
        "3.  トレーニングデータでネットワークをトレーニングする\n",
        "4.  テストデータでネットワークをテストする\n",
        "\n",
        "# 1. Loading and normalizing CIFAR10\n",
        "\n",
        "トーチビジョンを使用すると、CIFAR10を非常に簡単にロードできます"
      ]
    },
    {
      "cell_type": "code",
      "metadata": {
        "id": "wUK4x1pFZ5Hi",
        "colab_type": "code",
        "colab": {}
      },
      "source": [
        "import torch\n",
        "import torchvision\n",
        "import torchvision.transforms as transforms"
      ],
      "execution_count": 0,
      "outputs": []
    },
    {
      "cell_type": "markdown",
      "metadata": {
        "id": "PU7M1gIFgx6-",
        "colab_type": "text"
      },
      "source": [
        "トーチビジョンデータセットの出力は、範囲[0、1]のPILImage画像です。それらを正規化された範囲[-1、1]のテンソルに変換します。   \n",
        ".. 注意：Windowsで実行しているときにBrokenPipeErrorが発生する場合は、設定してみてください\n",
        "torch.utils.data.DataLoader（）のnum_workerを0にします。"
      ]
    },
    {
      "cell_type": "code",
      "metadata": {
        "id": "zGdfjuJygs-7",
        "colab_type": "code",
        "outputId": "460b01e2-af9e-4153-bc50-c1cac1e3c7fe",
        "colab": {
          "base_uri": "https://localhost:8080/",
          "height": 0,
          "referenced_widgets": [
            "36f8f094043542c3bf0c48b3a9017950",
            "c00eb0a1d6a64706987a93c7027f79ba",
            "d51e058d31094f9ba5700c031b517e97",
            "3c91c4bc850146b0970000922212a1d9",
            "9051d504cb56453fa903382c5dc54be7",
            "baa3a144a94949399a88b29626e5e18d",
            "f937a4c1694c4e7aab6ddc5b2d551c94",
            "61e1ddc4be6e4eb4bbe0876844c8c73d"
          ]
        }
      },
      "source": [
        "transform = transforms.Compose(\n",
        "    [transforms.ToTensor(),\n",
        "     transforms.Normalize((0.5, 0.5, 0.5), (0.5, 0.5, 0.5))])\n",
        "\n",
        "trainset = torchvision.datasets.CIFAR10(root='./data', train=True,\n",
        "                                        download=True, transform=transform)\n",
        "trainloader = torch.utils.data.DataLoader(trainset, batch_size=4,\n",
        "                                          shuffle=True, num_workers=2)\n",
        "\n",
        "testset = torchvision.datasets.CIFAR10(root='./data', train=False,\n",
        "                                       download=True, transform=transform)\n",
        "testloader = torch.utils.data.DataLoader(testset, batch_size=4,\n",
        "                                         shuffle=False, num_workers=2)\n",
        "\n",
        "classes = ('plane', 'car', 'bird', 'cat',\n",
        "           'deer', 'dog', 'frog', 'horse', 'ship', 'truck')"
      ],
      "execution_count": 42,
      "outputs": [
        {
          "output_type": "stream",
          "text": [
            "Downloading https://www.cs.toronto.edu/~kriz/cifar-10-python.tar.gz to ./data/cifar-10-python.tar.gz\n"
          ],
          "name": "stdout"
        },
        {
          "output_type": "display_data",
          "data": {
            "application/vnd.jupyter.widget-view+json": {
              "model_id": "36f8f094043542c3bf0c48b3a9017950",
              "version_minor": 0,
              "version_major": 2
            },
            "text/plain": [
              "HBox(children=(IntProgress(value=1, bar_style='info', max=1), HTML(value='')))"
            ]
          },
          "metadata": {
            "tags": []
          }
        },
        {
          "output_type": "stream",
          "text": [
            "Extracting ./data/cifar-10-python.tar.gz to ./data\n",
            "Files already downloaded and verified\n"
          ],
          "name": "stdout"
        }
      ]
    },
    {
      "cell_type": "markdown",
      "metadata": {
        "id": "f0bMctfBhVIm",
        "colab_type": "text"
      },
      "source": [
        "いくつかのトレーニング画像をお楽しみください。"
      ]
    },
    {
      "cell_type": "code",
      "metadata": {
        "id": "u0pfOpF4hNHH",
        "colab_type": "code",
        "outputId": "e4a0edef-a004-4105-9513-e5e66f3839cc",
        "colab": {
          "base_uri": "https://localhost:8080/",
          "height": 0
        }
      },
      "source": [
        "import matplotlib.pyplot as plt\n",
        "import numpy as np\n",
        "\n",
        "# functions to show an image\n",
        "\n",
        "\n",
        "def imshow(img):\n",
        "    img = img / 2 + 0.5     # unnormalize\n",
        "    npimg = img.numpy()\n",
        "    plt.imshow(np.transpose(npimg, (1, 2, 0)))\n",
        "    plt.show()\n",
        "\n",
        "\n",
        "# get some random training images\n",
        "dataiter = iter(trainloader)\n",
        "images, labels = dataiter.next()\n",
        "\n",
        "# show images\n",
        "imshow(torchvision.utils.make_grid(images))\n",
        "# print labels\n",
        "print(' '.join('%5s' % classes[labels[j]] for j in range(4)))"
      ],
      "execution_count": 43,
      "outputs": [
        {
          "output_type": "display_data",
          "data": {
            "image/png": "[encoded data removed]",
            "text/plain": [
              "<Figure size 432x288 with 1 Axes>"
            ]
          },
          "metadata": {
            "tags": []
          }
        },
        {
          "output_type": "stream",
          "text": [
            "  car  deer   cat horse\n"
          ],
          "name": "stdout"
        }
      ]
    },
    {
      "cell_type": "markdown",
      "metadata": {
        "id": "vk5f4uCkhjo_",
        "colab_type": "text"
      },
      "source": [
        "# 2. Define a Convolutional Neural Network"
      ]
    },
    {
      "cell_type": "markdown",
      "metadata": {
        "id": "DXXZQn0ThqNy",
        "colab_type": "text"
      },
      "source": [
        "前にニューラルネットワークセクションからニューラルネットワークをコピーし、（定義された1チャンネル画像ではなく）3チャンネル画像を取得するように変更します。"
      ]
    },
    {
      "cell_type": "code",
      "metadata": {
        "id": "6JjOlidPhZNG",
        "colab_type": "code",
        "colab": {}
      },
      "source": [
        "import torch.nn as nn\n",
        "import torch.nn.functional as F\n",
        "\n",
        "\n",
        "class Net(nn.Module):\n",
        "    def __init__(self):\n",
        "        super(Net, self).__init__()\n",
        "        self.conv1 = nn.Conv2d(3, 6, 5)\n",
        "        self.pool = nn.MaxPool2d(2, 2)\n",
        "        self.conv2 = nn.Conv2d(6, 16, 5)\n",
        "        self.fc1 = nn.Linear(16 * 5 * 5, 120)\n",
        "        self.fc2 = nn.Linear(120, 84)\n",
        "        self.fc3 = nn.Linear(84, 10)\n",
        "\n",
        "    def forward(self, x):\n",
        "        x = self.pool(F.relu(self.conv1(x)))\n",
        "        x = self.pool(F.relu(self.conv2(x)))\n",
        "        x = x.view(-1, 16 * 5 * 5)\n",
        "        x = F.relu(self.fc1(x))\n",
        "        x = F.relu(self.fc2(x))\n",
        "        x = self.fc3(x)\n",
        "        return x\n",
        "\n",
        "\n",
        "net = Net()"
      ],
      "execution_count": 0,
      "outputs": []
    },
    {
      "cell_type": "markdown",
      "metadata": {
        "id": "mREjkwl6hwun",
        "colab_type": "text"
      },
      "source": [
        "# 3 3. Define a Loss function and optimizer"
      ]
    },
    {
      "cell_type": "markdown",
      "metadata": {
        "id": "OCrLFti_hwc1",
        "colab_type": "text"
      },
      "source": [
        "\n",
        "運動量のある分類クロスエントロピー損失とSGDを使用しましょう"
      ]
    },
    {
      "cell_type": "code",
      "metadata": {
        "id": "52h-XvhlhuFt",
        "colab_type": "code",
        "colab": {}
      },
      "source": [
        "import torch.optim as optim\n",
        "\n",
        "criterion = nn.CrossEntropyLoss()\n",
        "optimizer = optim.SGD(net.parameters(), lr=0.001, momentum=0.9)"
      ],
      "execution_count": 0,
      "outputs": []
    },
    {
      "cell_type": "markdown",
      "metadata": {
        "id": "pt5JnGF3iBIA",
        "colab_type": "text"
      },
      "source": [
        "# 4. Train the network\n",
        "これは、物事が面白くなり始めるときです。データイテレータをループし、入力をネットワークに送り、最適化するだけです。"
      ]
    },
    {
      "cell_type": "code",
      "metadata": {
        "id": "BEQ-QLuRh8rT",
        "colab_type": "code",
        "outputId": "ca50da1d-eba2-4741-8351-33f37ff81d31",
        "colab": {
          "base_uri": "https://localhost:8080/",
          "height": 0
        }
      },
      "source": [
        "for epoch in range(2):  # loop over the dataset multiple times\n",
        "\n",
        "    running_loss = 0.0\n",
        "    for i, data in enumerate(trainloader, 0):\n",
        "        # get the inputs; data is a list of [inputs, labels]\n",
        "        inputs, labels = data\n",
        "\n",
        "        # zero the parameter gradients\n",
        "        optimizer.zero_grad()\n",
        "\n",
        "        # forward + backward + optimize\n",
        "        outputs = net(inputs)\n",
        "        loss = criterion(outputs, labels)\n",
        "        loss.backward()\n",
        "        optimizer.step()\n",
        "\n",
        "        # print statistics\n",
        "        running_loss += loss.item()\n",
        "        if i % 2000 == 1999:    # print every 2000 mini-batches\n",
        "            print('[%d, %5d] loss: %.3f' %\n",
        "                  (epoch + 1, i + 1, running_loss / 2000))\n",
        "            running_loss = 0.0\n",
        "\n",
        "print('Finished Training')"
      ],
      "execution_count": 46,
      "outputs": [
        {
          "output_type": "stream",
          "text": [
            "[1,  2000] loss: 2.206\n",
            "[1,  4000] loss: 1.903\n",
            "[1,  6000] loss: 1.692\n",
            "[1,  8000] loss: 1.627\n",
            "[1, 10000] loss: 1.565\n",
            "[1, 12000] loss: 1.488\n",
            "[2,  2000] loss: 1.417\n",
            "[2,  4000] loss: 1.387\n",
            "[2,  6000] loss: 1.360\n",
            "[2,  8000] loss: 1.352\n",
            "[2, 10000] loss: 1.316\n",
            "[2, 12000] loss: 1.309\n",
            "Finished Training\n"
          ],
          "name": "stdout"
        }
      ]
    },
    {
      "cell_type": "code",
      "metadata": {
        "id": "jtTiWwtniJ9G",
        "colab_type": "code",
        "colab": {}
      },
      "source": [
        "PATH = './cifar_net.pth'\n",
        "torch.save(net.state_dict(), PATH)"
      ],
      "execution_count": 0,
      "outputs": []
    },
    {
      "cell_type": "markdown",
      "metadata": {
        "id": "uGl6U-_0iQFQ",
        "colab_type": "text"
      },
      "source": [
        "# 5. Test the network on the test data\n",
        "トレーニングデータセットで2パスのネットワークをトレーニングしました。ただし、ネットワークが何かを学習したかどうかを確認する必要があります。\n",
        "\n",
        "これを確認するには、ニューラルネットワークが出力するクラスラベルを予測し、グラウンドトゥルースと照合します。予測が正しい場合、サンプルを正しい予測のリストに追加します。\n",
        "\n",
        "さて、最初のステップ。テストセットの画像を表示して、慣れてみましょう。"
      ]
    },
    {
      "cell_type": "code",
      "metadata": {
        "id": "6FrBWzfbiUEZ",
        "colab_type": "code",
        "outputId": "47fbaac4-2ac9-4cb8-ee25-6bf90d38807d",
        "colab": {
          "base_uri": "https://localhost:8080/",
          "height": 0
        }
      },
      "source": [
        "dataiter = iter(testloader)\n",
        "images, labels = dataiter.next()\n",
        "\n",
        "# print images\n",
        "imshow(torchvision.utils.make_grid(images))\n",
        "print('GroundTruth: ', ' '.join('%5s' % classes[labels[j]] for j in range(4)))"
      ],
      "execution_count": 48,
      "outputs": [
        {
          "output_type": "display_data",
          "data": {
            "image/png": "[encoded data removed]",
            "text/plain": [
              "<Figure size 432x288 with 1 Axes>"
            ]
          },
          "metadata": {
            "tags": []
          }
        },
        {
          "output_type": "stream",
          "text": [
            "GroundTruth:    cat  ship  ship plane\n"
          ],
          "name": "stdout"
        }
      ]
    },
    {
      "cell_type": "markdown",
      "metadata": {
        "id": "18hmnAMYilRQ",
        "colab_type": "text"
      },
      "source": [
        "次に、保存したモデルをロードし直します（注：モデルの保存と再ロードはここでは必要ありません。その方法を説明するためだけに行いました）。"
      ]
    },
    {
      "cell_type": "code",
      "metadata": {
        "id": "GM0UAflyidql",
        "colab_type": "code",
        "outputId": "87165235-b8be-4a16-b04d-e6c1dd1da630",
        "colab": {
          "base_uri": "https://localhost:8080/",
          "height": 0
        }
      },
      "source": [
        "net = Net()\n",
        "net.load_state_dict(torch.load(PATH))"
      ],
      "execution_count": 49,
      "outputs": [
        {
          "output_type": "execute_result",
          "data": {
            "text/plain": [
              "<All keys matched successfully>"
            ]
          },
          "metadata": {
            "tags": []
          },
          "execution_count": 49
        }
      ]
    },
    {
      "cell_type": "markdown",
      "metadata": {
        "id": "cCcQDVZxivlZ",
        "colab_type": "text"
      },
      "source": [
        "では、ニューラルネットワークが上記の例をどのように考えているのか見てみましょう。"
      ]
    },
    {
      "cell_type": "code",
      "metadata": {
        "id": "AQvflcyJipii",
        "colab_type": "code",
        "colab": {}
      },
      "source": [
        "outputs = net(images)"
      ],
      "execution_count": 0,
      "outputs": []
    },
    {
      "cell_type": "markdown",
      "metadata": {
        "id": "dl_JnxBni17t",
        "colab_type": "text"
      },
      "source": [
        "出力は、10クラスのエネルギーです。クラスのエネルギーが高いほど、ネットワークはその画像が特定のクラスのものであると考えます。それでは、最高のエネルギーのインデックスを取得しましょう。"
      ]
    },
    {
      "cell_type": "code",
      "metadata": {
        "id": "p2RnRhY6ixoI",
        "colab_type": "code",
        "outputId": "249cf4b4-6cbe-4abb-d2fd-e6bf52085ef3",
        "colab": {
          "base_uri": "https://localhost:8080/",
          "height": 0
        }
      },
      "source": [
        "_, predicted = torch.max(outputs, 1)\n",
        "\n",
        "print('Predicted: ', ' '.join('%5s' % classes[predicted[j]]\n",
        "                              for j in range(4)))"
      ],
      "execution_count": 51,
      "outputs": [
        {
          "output_type": "stream",
          "text": [
            "Predicted:    cat   car   car  ship\n"
          ],
          "name": "stdout"
        }
      ]
    },
    {
      "cell_type": "markdown",
      "metadata": {
        "id": "iiSTq37QjDt4",
        "colab_type": "text"
      },
      "source": [
        "結果はかなり良いようです。\n",
        "\n",
        "ネットワークがデータセット全体でどのように機能するかを見てみましょう。"
      ]
    },
    {
      "cell_type": "code",
      "metadata": {
        "id": "geds3MvUi49F",
        "colab_type": "code",
        "outputId": "0b6fb465-eb80-41fb-a009-f7628e319249",
        "colab": {
          "base_uri": "https://localhost:8080/",
          "height": 0
        }
      },
      "source": [
        "correct = 0\n",
        "total = 0\n",
        "with torch.no_grad():\n",
        "    for data in testloader:\n",
        "        images, labels = data\n",
        "        outputs = net(images)\n",
        "        _, predicted = torch.max(outputs.data, 1)\n",
        "        total += labels.size(0)\n",
        "        correct += (predicted == labels).sum().item()\n",
        "\n",
        "print('Accuracy of the network on the 10000 test images: %d %%' % (\n",
        "    100 * correct / total))"
      ],
      "execution_count": 52,
      "outputs": [
        {
          "output_type": "stream",
          "text": [
            "Accuracy of the network on the 10000 test images: 51 %\n"
          ],
          "name": "stdout"
        }
      ]
    },
    {
      "cell_type": "markdown",
      "metadata": {
        "id": "h0q46WvejMbA",
        "colab_type": "text"
      },
      "source": [
        "これは、10％の精度（10個のクラスからランダムにクラスを選択する）である偶然よりもはるかに良いように見えます。ネットワークが何かを学んだようです。\n",
        "\n",
        "うーん、うまく機能したクラスとうまく機能しなかったクラスは何ですか："
      ]
    },
    {
      "cell_type": "code",
      "metadata": {
        "id": "qjeQuCNXjHLx",
        "colab_type": "code",
        "outputId": "7d82d6b6-9b84-47e9-c97d-a1b23665a165",
        "colab": {
          "base_uri": "https://localhost:8080/",
          "height": 0
        }
      },
      "source": [
        "class_correct = list(0. for i in range(10))\n",
        "class_total = list(0. for i in range(10))\n",
        "with torch.no_grad():\n",
        "    for data in testloader:\n",
        "        images, labels = data\n",
        "        outputs = net(images)\n",
        "        _, predicted = torch.max(outputs, 1)\n",
        "        c = (predicted == labels).squeeze()\n",
        "        for i in range(4):\n",
        "            label = labels[i]\n",
        "            class_correct[label] += c[i].item()\n",
        "            class_total[label] += 1\n",
        "\n",
        "\n",
        "for i in range(10):\n",
        "    print('Accuracy of %5s : %2d %%' % (\n",
        "        classes[i], 100 * class_correct[i] / class_total[i]))"
      ],
      "execution_count": 53,
      "outputs": [
        {
          "output_type": "stream",
          "text": [
            "Accuracy of plane : 62 %\n",
            "Accuracy of   car : 81 %\n",
            "Accuracy of  bird : 34 %\n",
            "Accuracy of   cat : 32 %\n",
            "Accuracy of  deer : 27 %\n",
            "Accuracy of   dog : 40 %\n",
            "Accuracy of  frog : 77 %\n",
            "Accuracy of horse : 43 %\n",
            "Accuracy of  ship : 61 %\n",
            "Accuracy of truck : 59 %\n"
          ],
          "name": "stdout"
        }
      ]
    },
    {
      "cell_type": "markdown",
      "metadata": {
        "id": "IZASA2NgjUJi",
        "colab_type": "text"
      },
      "source": [
        "さて、次は何ですか？\n",
        "\n",
        "これらのニューラルネットワークをGPUで実行するにはどうすればよいですか？"
      ]
    },
    {
      "cell_type": "markdown",
      "metadata": {
        "id": "G-KR_0mxjWuL",
        "colab_type": "text"
      },
      "source": [
        "# Training on GPU\n",
        "TensorをGPUに転送するのと同じように、ニューラルネットをGPUに転送します。\n",
        "\n",
        "CUDAを利用できる場合、最初に表示されるcudaデバイスとしてデバイスを定義しましょう。"
      ]
    },
    {
      "cell_type": "code",
      "metadata": {
        "id": "XUEYwwoljPsm",
        "colab_type": "code",
        "outputId": "c1029b8b-cf53-4909-80dd-115ce70c2ad0",
        "colab": {
          "base_uri": "https://localhost:8080/",
          "height": 35
        }
      },
      "source": [
        "device = torch.device(\"cuda:0\" if torch.cuda.is_available() else \"cpu\")\n",
        "\n",
        "# Assuming that we are on a CUDA machine, this should print a CUDA device:\n",
        "\n",
        "print(device)"
      ],
      "execution_count": 54,
      "outputs": [
        {
          "output_type": "stream",
          "text": [
            "cuda:0\n"
          ],
          "name": "stdout"
        }
      ]
    },
    {
      "cell_type": "markdown",
      "metadata": {
        "id": "DWgQ1KtdjhO_",
        "colab_type": "text"
      },
      "source": [
        "このセクションの残りの部分では、デバイスがCUDAデバイスであると想定しています。\n",
        "\n",
        "次に、これらのメソッドはすべてのモジュールを再帰的に調べて、パラメーターとバッファーをCUDAテンソルに変換します。"
      ]
    },
    {
      "cell_type": "code",
      "metadata": {
        "id": "rjLhLrDwjde-",
        "colab_type": "code",
        "outputId": "60212f5e-232f-4436-acc5-31919157a4c6",
        "colab": {
          "base_uri": "https://localhost:8080/",
          "height": 159
        }
      },
      "source": [
        "net.to(device)"
      ],
      "execution_count": 55,
      "outputs": [
        {
          "output_type": "execute_result",
          "data": {
            "text/plain": [
              "Net(\n",
              "  (conv1): Conv2d(3, 6, kernel_size=(5, 5), stride=(1, 1))\n",
              "  (pool): MaxPool2d(kernel_size=2, stride=2, padding=0, dilation=1, ceil_mode=False)\n",
              "  (conv2): Conv2d(6, 16, kernel_size=(5, 5), stride=(1, 1))\n",
              "  (fc1): Linear(in_features=400, out_features=120, bias=True)\n",
              "  (fc2): Linear(in_features=120, out_features=84, bias=True)\n",
              "  (fc3): Linear(in_features=84, out_features=10, bias=True)\n",
              ")"
            ]
          },
          "metadata": {
            "tags": []
          },
          "execution_count": 55
        }
      ]
    },
    {
      "cell_type": "markdown",
      "metadata": {
        "id": "zsPWeCxHjnjl",
        "colab_type": "text"
      },
      "source": [
        "\n",
        "すべてのステップで入力とターゲットもGPUに送信する必要があることに注意してください。"
      ]
    },
    {
      "cell_type": "code",
      "metadata": {
        "id": "lXo3StuMjjHc",
        "colab_type": "code",
        "colab": {}
      },
      "source": [
        "inputs, labels = data[0].to(device), data[1].to(device)"
      ],
      "execution_count": 0,
      "outputs": []
    },
    {
      "cell_type": "markdown",
      "metadata": {
        "id": "Y0DakDh-jtYY",
        "colab_type": "text"
      },
      "source": [
        "CPUと比較して大幅な高速化に気付かないのはなぜですか？あなたのネットワークは本当に小さいから"
      ]
    },
    {
      "cell_type": "markdown",
      "metadata": {
        "id": "peEDn5jhYekV",
        "colab_type": "text"
      },
      "source": [
        "# OPTIONAL: DATA PARALLELISM\n",
        "このチュートリアルでは、DataParallelを使用して複数のGPUを使用する方法を学習します。\n",
        "\n",
        "PyTorchでGPUを使用するのは非常に簡単です。モデルをGPUに配置できます。  \n",
        "\n",
        "\n",
        "```\n",
        "device = torch.device(\"cuda:0\")\n",
        "model.to(device)\n",
        "```\n",
        "次に、すべてのテンソルをGPUにコピーできます。\n",
        "\n",
        "\n",
        "```\n",
        "mytensor = my_tensor.to(device)\n",
        "```\n",
        "\n",
        "my_tensor.to（device）を呼び出すだけで、my_tensorを書き換える代わりに、GPUでmy_tensorの新しいコピーが返されることに注意してください。新しいテンソルに割り当てて、GPUでそのテンソルを使用する必要があります。\n",
        "\n",
        "複数のGPUで前方伝播、後方伝播を実行するのは自然です。ただし、Pytorchはデフォルトで1つのGPUのみを使用します。 DataParallelを使用してモデルを並列実行することにより、複数のGPUで操作を簡単に実行できます。\n",
        "\n",
        "\n",
        "```\n",
        "model = nn.DataParallel(model)\n",
        "```\n",
        "\n",
        "これが、このチュートリアルの背後にあるコアです。以下で詳しく説明します。\n",
        "\n",
        "\n",
        "\n"
      ]
    },
    {
      "cell_type": "markdown",
      "metadata": {
        "id": "8sG4WFN3Zbo3",
        "colab_type": "text"
      },
      "source": [
        "# Imports and parameters\n",
        "PyTorchモジュールをインポートし、パラメーターを定義します。"
      ]
    },
    {
      "cell_type": "code",
      "metadata": {
        "id": "5_hlocFZYf0K",
        "colab_type": "code",
        "colab": {}
      },
      "source": [
        "import torch\n",
        "import torch.nn as nn\n",
        "from torch.utils.data import Dataset, DataLoader\n",
        "\n",
        "# Parameters and DataLoaders\n",
        "input_size = 5\n",
        "output_size = 2\n",
        "\n",
        "batch_size = 30\n",
        "data_size = 100"
      ],
      "execution_count": 0,
      "outputs": []
    },
    {
      "cell_type": "code",
      "metadata": {
        "id": "0TtqQ4NKYnBP",
        "colab_type": "code",
        "colab": {}
      },
      "source": [
        "device = torch.device(\"cuda:0\" if torch.cuda.is_available() else \"cpu\")"
      ],
      "execution_count": 0,
      "outputs": []
    },
    {
      "cell_type": "markdown",
      "metadata": {
        "id": "pd4yLBr2ZlrB",
        "colab_type": "text"
      },
      "source": [
        "# Dummy DataSet\n",
        "ダミー（ランダム）データセットを作成します。あなただけのgetitemを実装する必要があります"
      ]
    },
    {
      "cell_type": "code",
      "metadata": {
        "id": "H_bMXG21ZjYb",
        "colab_type": "code",
        "colab": {}
      },
      "source": [
        "class RandomDataset(Dataset):\n",
        "\n",
        "    def __init__(self, size, length):\n",
        "        self.len = length\n",
        "        self.data = torch.randn(length, size)\n",
        "\n",
        "    def __getitem__(self, index):\n",
        "        return self.data[index]\n",
        "\n",
        "    def __len__(self):\n",
        "        return self.len\n",
        "\n",
        "rand_loader = DataLoader(dataset=RandomDataset(input_size, data_size),\n",
        "                         batch_size=batch_size, shuffle=True)\n"
      ],
      "execution_count": 0,
      "outputs": []
    },
    {
      "cell_type": "markdown",
      "metadata": {
        "id": "VOfzQZVEZyYQ",
        "colab_type": "text"
      },
      "source": [
        "# Simple Model\n",
        "デモでは、モデルは入力を取得し、線形演算を実行し、出力を生成します。ただし、任意のモデル（CNN、RNN、Capsule Netなど）でDataParallelを使用できます。\n",
        "\n",
        "入力および出力テンソルのサイズを監視するために、モデル内にprintステートメントを配置しました。バッチランク0で印刷されるものに注意してください。"
      ]
    },
    {
      "cell_type": "code",
      "metadata": {
        "id": "N6x4JNRHZsT2",
        "colab_type": "code",
        "colab": {}
      },
      "source": [
        "class Model(nn.Module):\n",
        "    # Our model\n",
        "\n",
        "    def __init__(self, input_size, output_size):\n",
        "        super(Model, self).__init__()\n",
        "        self.fc = nn.Linear(input_size, output_size)\n",
        "\n",
        "    def forward(self, input):\n",
        "        output = self.fc(input)\n",
        "        print(\"\\tIn Model: input size\", input.size(),\n",
        "              \"output size\", output.size())\n",
        "\n",
        "        return output"
      ],
      "execution_count": 0,
      "outputs": []
    },
    {
      "cell_type": "markdown",
      "metadata": {
        "id": "8cuMSOPsZ_C_",
        "colab_type": "text"
      },
      "source": [
        "# Create Model and DataParallel\n",
        "これはチュートリアルの中心部分です。まず、モデルインスタンスを作成し、複数のGPUがあるかどうかを確認する必要があります。複数のGPUがある場合、nn.DataParallelを使用してモデルをラップできます。次に、model.to（device）によってGPUにモデルを配置できます"
      ]
    },
    {
      "cell_type": "code",
      "metadata": {
        "id": "NT7ZZoCqZ8sU",
        "colab_type": "code",
        "outputId": "8022fa97-1351-4513-ab09-1a00665ac703",
        "colab": {
          "base_uri": "https://localhost:8080/",
          "height": 70
        }
      },
      "source": [
        "model = Model(input_size, output_size)\n",
        "if torch.cuda.device_count() > 1:\n",
        "  print(\"Let's use\", torch.cuda.device_count(), \"GPUs!\")\n",
        "  # dim = 0 [30, xxx] -> [10, ...], [10, ...], [10, ...] on 3 GPUs\n",
        "  model = nn.DataParallel(model)\n",
        "\n",
        "model.to(device)"
      ],
      "execution_count": 61,
      "outputs": [
        {
          "output_type": "execute_result",
          "data": {
            "text/plain": [
              "Model(\n",
              "  (fc): Linear(in_features=5, out_features=2, bias=True)\n",
              ")"
            ]
          },
          "metadata": {
            "tags": []
          },
          "execution_count": 61
        }
      ]
    },
    {
      "cell_type": "markdown",
      "metadata": {
        "id": "hO0OSa1RbCOW",
        "colab_type": "text"
      },
      "source": [
        "# Run the Model\n",
        "これで、入力テンソルと出力テンソルのサイズを確認できます。"
      ]
    },
    {
      "cell_type": "code",
      "metadata": {
        "id": "CDdP18_wa_a1",
        "colab_type": "code",
        "outputId": "9a922a08-6384-465e-9173-ee10ce9dc822",
        "colab": {
          "base_uri": "https://localhost:8080/",
          "height": 159
        }
      },
      "source": [
        "for data in rand_loader:\n",
        "    input = data.to(device)\n",
        "    output = model(input)\n",
        "    print(\"Outside: input size\", input.size(),\n",
        "          \"output_size\", output.size())"
      ],
      "execution_count": 62,
      "outputs": [
        {
          "output_type": "stream",
          "text": [
            "\tIn Model: input size torch.Size([30, 5]) output size torch.Size([30, 2])\n",
            "Outside: input size torch.Size([30, 5]) output_size torch.Size([30, 2])\n",
            "\tIn Model: input size torch.Size([30, 5]) output size torch.Size([30, 2])\n",
            "Outside: input size torch.Size([30, 5]) output_size torch.Size([30, 2])\n",
            "\tIn Model: input size torch.Size([30, 5]) output size torch.Size([30, 2])\n",
            "Outside: input size torch.Size([30, 5]) output_size torch.Size([30, 2])\n",
            "\tIn Model: input size torch.Size([10, 5]) output size torch.Size([10, 2])\n",
            "Outside: input size torch.Size([10, 5]) output_size torch.Size([10, 2])\n"
          ],
          "name": "stdout"
        }
      ]
    },
    {
      "cell_type": "code",
      "metadata": {
        "id": "mL7-1uuoeqj_",
        "colab_type": "code",
        "colab": {
          "base_uri": "https://localhost:8080/",
          "height": 1000
        },
        "outputId": "1b68c4f7-8253-45dc-9d42-216d99beb40d"
      },
      "source": [
        "!apt-get install lshw\n",
        "!lshw"
      ],
      "execution_count": 65,
      "outputs": [
        {
          "output_type": "stream",
          "text": [
            "Reading package lists... Done\n",
            "Building dependency tree       \n",
            "Reading state information... Done\n",
            "lshw is already the newest version (02.18-0.1ubuntu6.18.04.1).\n",
            "The following package was automatically installed and is no longer required:\n",
            "  libnvidia-common-430\n",
            "Use 'apt autoremove' to remove it.\n",
            "0 upgraded, 0 newly installed, 0 to remove and 25 not upgraded.\n",
            "609afeaa60b3\n",
            "    description: Computer\n",
            "    width: 64 bits\n",
            "    capabilities: smp vsyscall32\n",
            "  *-core\n",
            "       description: Motherboard\n",
            "       physical id: 0\n",
            "     *-memory\n",
            "          description: System memory\n",
            "          physical id: 0\n",
            "          size: 12GiB\n",
            "     *-cpu\n",
            "          product: Intel(R) Xeon(R) CPU @ 2.20GHz\n",
            "          vendor: Intel Corp.\n",
            "          physical id: 1\n",
            "          bus info: cpu@0\n",
            "          width: 64 bits\n",
            "          capabilities: fpu fpu_exception wp vme de pse tsc msr pae mce cx8 apic sep mtrr pge mca cmov pat pse36 clflush mmx fxsr sse sse2 ss ht syscall nx pdpe1gb rdtscp x86-64 constant_tsc rep_good nopl xtopology nonstop_tsc cpuid tsc_known_freq pni pclmulqdq ssse3 fma cx16 pcid sse4_1 sse4_2 x2apic movbe popcnt aes xsave avx f16c rdrand hypervisor lahf_lm abm 3dnowprefetch invpcid_single ssbd ibrs ibpb stibp fsgsbase tsc_adjust bmi1 hle avx2 smep bmi2 erms invpcid rtm rdseed adx smap xsaveopt arat md_clear arch_capabilities\n",
            "     *-pci\n",
            "          description: Host bridge\n",
            "          product: 440FX - 82441FX PMC [Natoma]\n",
            "          vendor: Intel Corporation\n",
            "          physical id: 100\n",
            "          bus info: pci@0000:00:00.0\n",
            "          version: 02\n",
            "          width: 32 bits\n",
            "          clock: 33MHz\n",
            "        *-isa\n",
            "             description: ISA bridge\n",
            "             product: 82371AB/EB/MB PIIX4 ISA\n",
            "             vendor: Intel Corporation\n",
            "             physical id: 1\n",
            "             bus info: pci@0000:00:01.0\n",
            "             version: 03\n",
            "             width: 32 bits\n",
            "             clock: 33MHz\n",
            "             capabilities: isa\n",
            "             configuration: latency=0\n",
            "        *-bridge UNCLAIMED\n",
            "             description: Bridge\n",
            "             product: 82371AB/EB/MB PIIX4 ACPI\n",
            "             vendor: Intel Corporation\n",
            "             physical id: 1.3\n",
            "             bus info: pci@0000:00:01.3\n",
            "             version: 03\n",
            "             width: 32 bits\n",
            "             clock: 33MHz\n",
            "             capabilities: bridge\n",
            "             configuration: latency=0\n",
            "        *-generic:0\n",
            "             description: Non-VGA unclassified device\n",
            "             product: Virtio SCSI\n",
            "             vendor: Red Hat, Inc.\n",
            "             physical id: 3\n",
            "             bus info: pci@0000:00:03.0\n",
            "             version: 00\n",
            "             width: 32 bits\n",
            "             clock: 33MHz\n",
            "             capabilities: msix bus_master cap_list\n",
            "             configuration: driver=virtio-pci latency=0\n",
            "             resources: irq:11 ioport:c000(size=64) memory:fd000000-fd00007f\n",
            "           *-virtio0 UNCLAIMED\n",
            "                description: Virtual I/O device\n",
            "                physical id: 0\n",
            "                bus info: virtio@0\n",
            "                configuration: driver=virtio_scsi\n",
            "        *-display\n",
            "             description: 3D controller\n",
            "             product: GP104GL [Tesla P4]\n",
            "             vendor: NVIDIA Corporation\n",
            "             physical id: 4\n",
            "             bus info: pci@0000:00:04.0\n",
            "             version: a1\n",
            "             width: 64 bits\n",
            "             clock: 33MHz\n",
            "             capabilities: msi pm bus_master cap_list\n",
            "             configuration: driver=nvidia latency=0\n",
            "             resources: irq:35 memory:fc000000-fcffffff memory:d0000000-dfffffff memory:e0000000-e1ffffff\n",
            "        *-network\n",
            "             description: Ethernet controller\n",
            "             product: Virtio network device\n",
            "             vendor: Red Hat, Inc.\n",
            "             physical id: 5\n",
            "             bus info: pci@0000:00:05.0\n",
            "             version: 00\n",
            "             width: 32 bits\n",
            "             clock: 33MHz\n",
            "             capabilities: msix bus_master cap_list\n",
            "             configuration: driver=virtio-pci latency=0\n",
            "             resources: irq:10 ioport:c040(size=64) memory:fd001000-fd00107f\n",
            "           *-virtio1 UNCLAIMED\n",
            "                description: Virtual I/O device\n",
            "                physical id: 0\n",
            "                bus info: virtio@1\n",
            "                configuration: driver=virtio_net\n",
            "        *-generic:1\n",
            "             description: Unclassified device\n",
            "             product: Virtio RNG\n",
            "             vendor: Red Hat, Inc.\n",
            "             physical id: 6\n",
            "             bus info: pci@0000:00:06.0\n",
            "             version: 00\n",
            "             width: 32 bits\n",
            "             clock: 33MHz\n",
            "             capabilities: msix bus_master cap_list\n",
            "             configuration: driver=virtio-pci latency=0\n",
            "             resources: irq:10 ioport:c080(size=32) memory:fd002000-fd00203f\n",
            "           *-virtio2 UNCLAIMED\n",
            "                description: Virtual I/O device\n",
            "                physical id: 0\n",
            "                bus info: virtio@2\n",
            "                configuration: driver=virtio_rng\n",
            "  *-network\n",
            "       description: Ethernet interface\n",
            "       physical id: 1\n",
            "       logical name: eth0\n",
            "       serial: 02:42:ac:1c:00:02\n",
            "       size: 10Gbit/s\n",
            "       capabilities: ethernet physical\n",
            "       configuration: autonegotiation=off broadcast=yes driver=veth driverversion=1.0 duplex=full ip=172.28.0.2 link=yes multicast=yes port=twisted pair speed=10Gbit/s\n"
          ],
          "name": "stdout"
        }
      ]
    },
    {
      "cell_type": "markdown",
      "metadata": {
        "id": "l1I-Uh2CeEgq",
        "colab_type": "text"
      },
      "source": [
        "# Results\n",
        "GPUがないか、1つのGPUがある場合、30の入力と30の出力をバッチ処理すると、モデルは30を取得し、予想どおり30を出力します。ただし、複数のGPUがある場合は、このような結果を得ることができます。"
      ]
    },
    {
      "cell_type": "code",
      "metadata": {
        "id": "3oDnvdFJeSOy",
        "colab_type": "code",
        "colab": {}
      },
      "source": [
        ""
      ],
      "execution_count": 0,
      "outputs": []
    }
  ]
}