{
 "cells": [
  {
   "cell_type": "markdown",
   "metadata": {},
   "source": [
    "# 概要\n",
    "\n",
    "Twitterの位置情報をfoliumにマッピング出来るかなという思いつきから、<br>\n",
    "Twitter APIを取り合えず触ってみることにした。<br>\n",
    "例え、位置情報が取れなくても新たな知見になれば、それで良しとする。\n",
    "\n",
    "##### 参考URL\n",
    "* [公式Document](https://developer.twitter.com/en/docs)\n",
    "* [公式和訳](http://westplain.sakuraweb.com/)\n",
    "* [Qiita1](https://qiita.com/bakira/items/00743d10ec42993f85eb)\n",
    "* [Qiita2](https://qiita.com/ogrew/items/0b267f57b8aaa24f1b73)\n",
    "* [OAuth](https://ja.wikipedia.org/wiki/OAuth)"
   ]
  },
  {
   "cell_type": "markdown",
   "metadata": {},
   "source": [
    "## 始め方\n",
    "\n",
    "#### 1.開発者アカウントの登録\n",
    "まず[ここ](https://developer.twitter.com/en/apps)からTwitter開発アカウントを登録する<br>\n",
    "登録する際は、英語で200文字以上動機の記載等する必要がある<br>\n",
    "私は英語いまいちなので、Google翻訳を使った。<br>\n",
    "質問もいくつかあり回答必須。<br>\n",
    "ただし、すぐに登録が承認されたので自動判定していると思う。<br>\n",
    "何かあったら嫌なのできちんと答えておいた<br>\n",
    "\n",
    "#### 2.開発するアプリケーションの登録\n",
    "\n",
    "アプリケーション登録して<br>\n",
    "Twitterにアクセスするためのキーとトークンを取得する必要がある。\n",
    "* Consumer Key\n",
    "* Consumer Secret\n",
    "* Access Token(アプリケーション用のID)\n",
    "* Access Token Secret(アプリケーション用のパス)\n",
    "\n",
    "※上記はアップロード出来ないため、TwitterConfig.pyファイルに定義\n",
    "\n",
    "#### 利用制限\n",
    "* ツイートとリツイート（合算値）：3時間で300件\n",
    "* いいね：24時間で1000件\n",
    "* フォロー：24時間で1000件\n",
    "* ダイレクトメッセージ：24時間で1万5000件\n",
    "\n",
    "#### 提供APIとツール\n",
    "* Standard APIs\n",
    "* Premium APIs\n",
    "* Enterprise APIs\n",
    "* Ads APIs\n",
    "* Twitter for websites<BR>\n",
    "    \n",
    "今回は無償のStandard APIsのみを使用<BR>\n",
    "詳細は[ここ](https://developer.twitter.com/en/pricing)を参照\n",
    "    \n",
    "#### 3.開発"
   ]
  },
  {
   "cell_type": "markdown",
   "metadata": {},
   "source": [
    "## Import"
   ]
  },
  {
   "cell_type": "code",
   "execution_count": 67,
   "metadata": {},
   "outputs": [],
   "source": [
    "import json, TwitterConfig #標準のjsonモジュールとconfig.pyの読み込み\n",
    "from requests_oauthlib import OAuth1Session #OAuthのライブラリの読み込み\n",
    "#from IPython.core.debugger import Pdb; Pdb().set_trace()\n",
    "CK = TwitterConfig.CONSUMER_KEY\n",
    "CS = TwitterConfig.CONSUMER_SECRET\n",
    "AT = TwitterConfig.ACCESS_TOKEN\n",
    "ATS = TwitterConfig.ACCESS_TOKEN_SECRET\n",
    "twitter = OAuth1Session(CK, CS, AT, ATS) #認証処理 数時間すると認証が切れるらしい"
   ]
  },
  {
   "cell_type": "code",
   "execution_count": 68,
   "metadata": {},
   "outputs": [],
   "source": [
    "from enum import IntEnum\n",
    "# TwitterAPI 結果コード\n",
    "class TwtResCode(IntEnum):\n",
    "    OK = 200,\n",
    "    NotModified = 304,\n",
    "    BadRequest = 400,\n",
    "    Unauthorized = 401,\n",
    "    Forbidden = 403,\n",
    "    NotFound= 404,\n",
    "    NotAcceptable=406,\n",
    "    Gone = 410,\n",
    "    EnhanceYourCalm = 420,\n",
    "    UnprocessableEntity=422,\n",
    "    TooManyRequests = 429,\n",
    "    InternalServerError = 500,\n",
    "    BadGateway = 502,\n",
    "    ServiceUnavailable = 503,\n",
    "    GatewayTimeout= 504"
   ]
  },
  {
   "cell_type": "markdown",
   "metadata": {},
   "source": [
    "## Tweet"
   ]
  },
  {
   "cell_type": "code",
   "execution_count": 17,
   "metadata": {},
   "outputs": [
    {
     "name": "stdout",
     "output_type": "stream",
     "text": [
      "何をつぶやきますか?\n",
      ">> Test By TwitterAPI\n",
      "----------------------------------------------------\n",
      "Succeed!\n"
     ]
    }
   ],
   "source": [
    "url = \"https://api.twitter.com/1.1/statuses/update.json\"\n",
    "\n",
    "print(\"何をつぶやきますか?\")\n",
    "tweet = input('>> ')\n",
    "print('----------------------------------------------------')\n",
    "\n",
    "params = {\"status\" : tweet}\n",
    "\n",
    "req = twitter.post(url, params = params)\n",
    "\n",
    "if req.status_code == TwtResCode.OK:\n",
    "    print(\"Succeed!\")\n",
    "else:\n",
    "    print(\"ERROR : %d\"% req.status_code)"
   ]
  },
  {
   "cell_type": "markdown",
   "metadata": {},
   "source": [
    "## Favorites"
   ]
  },
  {
   "cell_type": "code",
   "execution_count": 63,
   "metadata": {},
   "outputs": [
    {
     "name": "stdout",
     "output_type": "stream",
     "text": [
      "フォボりたいTweetIDを入力してください\n",
      ">> 1149407582488059909\n",
      "----------------------------------------------------\n",
      "https://twitter.com/Twitter/status/1149407582488059909を いいね しました\n"
     ]
    }
   ],
   "source": [
    "url = \"https://api.twitter.com/1.1/favorites/create.json\"\n",
    "\n",
    "print(\"フォボりたいTweetIDを入力してください\")\n",
    "tweet_id = input('>> ')\n",
    "print('----------------------------------------------------')\n",
    "\n",
    "params = {'id' : tweet_id}\n",
    "req = twitter.post(url, params = params)\n",
    "    \n",
    "if req.status_code == TwtResCode.OK:\n",
    "    print('https://twitter.com/Twitter/status/'+tweet_id+'を いいね しました')\n",
    "else:\n",
    "    print(\"ERROR : %d\"% req.status_code)\n",
    "    "
   ]
  },
  {
   "cell_type": "markdown",
   "metadata": {},
   "source": [
    "## Lookup(発話)"
   ]
  },
  {
   "cell_type": "code",
   "execution_count": 71,
   "metadata": {},
   "outputs": [
    {
     "data": {
      "text/html": [
       "<div>\n",
       "<style scoped>\n",
       "    .dataframe tbody tr th:only-of-type {\n",
       "        vertical-align: middle;\n",
       "    }\n",
       "\n",
       "    .dataframe tbody tr th {\n",
       "        vertical-align: top;\n",
       "    }\n",
       "\n",
       "    .dataframe thead th {\n",
       "        text-align: right;\n",
       "    }\n",
       "</style>\n",
       "<table border=\"1\" class=\"dataframe\">\n",
       "  <thead>\n",
       "    <tr style=\"text-align: right;\">\n",
       "      <th></th>\n",
       "      <th>0</th>\n",
       "    </tr>\n",
       "  </thead>\n",
       "  <tbody>\n",
       "    <tr>\n",
       "      <th>contributors</th>\n",
       "      <td>NaN</td>\n",
       "    </tr>\n",
       "    <tr>\n",
       "      <th>coordinates</th>\n",
       "      <td>{'type': 'Point', 'coordinates': [139.70053828, 35.69045138]}</td>\n",
       "    </tr>\n",
       "    <tr>\n",
       "      <th>created_at</th>\n",
       "      <td>2019-05-05 10:25:06</td>\n",
       "    </tr>\n",
       "    <tr>\n",
       "      <th>entities</th>\n",
       "      <td>{'hashtags': [], 'symbols': [], 'user_mentions': [{'screen_name': 'JREast_official', 'name': 'JR東日本（公式）', 'id': 3104527237, 'id_str': '3104527237', 'indices': [16, 32]}], 'urls': [{'url': 'https:/...</td>\n",
       "    </tr>\n",
       "    <tr>\n",
       "      <th>favorite_count</th>\n",
       "      <td>0</td>\n",
       "    </tr>\n",
       "    <tr>\n",
       "      <th>favorited</th>\n",
       "      <td>False</td>\n",
       "    </tr>\n",
       "    <tr>\n",
       "      <th>geo</th>\n",
       "      <td>{'type': 'Point', 'coordinates': [35.69045138, 139.70053828]}</td>\n",
       "    </tr>\n",
       "    <tr>\n",
       "      <th>id</th>\n",
       "      <td>1124983352187027457</td>\n",
       "    </tr>\n",
       "    <tr>\n",
       "      <th>id_str</th>\n",
       "      <td>1124983352187027456</td>\n",
       "    </tr>\n",
       "    <tr>\n",
       "      <th>in_reply_to_screen_name</th>\n",
       "      <td>NaN</td>\n",
       "    </tr>\n",
       "    <tr>\n",
       "      <th>in_reply_to_status_id</th>\n",
       "      <td>NaN</td>\n",
       "    </tr>\n",
       "    <tr>\n",
       "      <th>in_reply_to_status_id_str</th>\n",
       "      <td>NaN</td>\n",
       "    </tr>\n",
       "    <tr>\n",
       "      <th>in_reply_to_user_id</th>\n",
       "      <td>NaN</td>\n",
       "    </tr>\n",
       "    <tr>\n",
       "      <th>in_reply_to_user_id_str</th>\n",
       "      <td>NaN</td>\n",
       "    </tr>\n",
       "    <tr>\n",
       "      <th>is_quote_status</th>\n",
       "      <td>False</td>\n",
       "    </tr>\n",
       "    <tr>\n",
       "      <th>lang</th>\n",
       "      <td>ja</td>\n",
       "    </tr>\n",
       "    <tr>\n",
       "      <th>place</th>\n",
       "      <td>{'id': '7ee61f505fdfdf5c', 'url': 'https://api.twitter.com/1.1/geo/id/7ee61f505fdfdf5c.json', 'place_type': 'city', 'name': '新宿区', 'full_name': '東京 新宿区', 'country_code': 'JP', 'country': '日本', 'co...</td>\n",
       "    </tr>\n",
       "    <tr>\n",
       "      <th>possibly_sensitive</th>\n",
       "      <td>False</td>\n",
       "    </tr>\n",
       "    <tr>\n",
       "      <th>retweet_count</th>\n",
       "      <td>0</td>\n",
       "    </tr>\n",
       "    <tr>\n",
       "      <th>retweeted</th>\n",
       "      <td>False</td>\n",
       "    </tr>\n",
       "    <tr>\n",
       "      <th>source</th>\n",
       "      <td>&lt;a href=\"http://foursquare.com\" rel=\"nofollow\"&gt;Foursquare&lt;/a&gt;</td>\n",
       "    </tr>\n",
       "    <tr>\n",
       "      <th>text</th>\n",
       "      <td>I'm at JR 新宿駅 - @jreast_official in 新宿区, 東京都 https://t.co/j8LzLE5VkR</td>\n",
       "    </tr>\n",
       "    <tr>\n",
       "      <th>truncated</th>\n",
       "      <td>False</td>\n",
       "    </tr>\n",
       "    <tr>\n",
       "      <th>user</th>\n",
       "      <td>{'id': 2438620777, 'id_str': '2438620777', 'name': 'ただの位置情報', 'screen_name': 'yu_forsman', 'location': 'TOKYO', 'description': 'その辺にいる大学生より外見的に少し老けて見える平凡な大学生だった社会人。只々Swamる垢とかしてるけど生きてます。', 'url': N...</td>\n",
       "    </tr>\n",
       "  </tbody>\n",
       "</table>\n",
       "</div>"
      ],
      "text/plain": [
       "                                                                                                                                                                                                                                 0\n",
       "contributors                                                                                                                                                                                                                   NaN\n",
       "coordinates                                                                                                                                                          {'type': 'Point', 'coordinates': [139.70053828, 35.69045138]}\n",
       "created_at                                                                                                                                                                                                     2019-05-05 10:25:06\n",
       "entities                   {'hashtags': [], 'symbols': [], 'user_mentions': [{'screen_name': 'JREast_official', 'name': 'JR東日本（公式）', 'id': 3104527237, 'id_str': '3104527237', 'indices': [16, 32]}], 'urls': [{'url': 'https:/...\n",
       "favorite_count                                                                                                                                                                                                                   0\n",
       "favorited                                                                                                                                                                                                                    False\n",
       "geo                                                                                                                                                                  {'type': 'Point', 'coordinates': [35.69045138, 139.70053828]}\n",
       "id                                                                                                                                                                                                             1124983352187027457\n",
       "id_str                                                                                                                                                                                                         1124983352187027456\n",
       "in_reply_to_screen_name                                                                                                                                                                                                        NaN\n",
       "in_reply_to_status_id                                                                                                                                                                                                          NaN\n",
       "in_reply_to_status_id_str                                                                                                                                                                                                      NaN\n",
       "in_reply_to_user_id                                                                                                                                                                                                            NaN\n",
       "in_reply_to_user_id_str                                                                                                                                                                                                        NaN\n",
       "is_quote_status                                                                                                                                                                                                              False\n",
       "lang                                                                                                                                                                                                                            ja\n",
       "place                      {'id': '7ee61f505fdfdf5c', 'url': 'https://api.twitter.com/1.1/geo/id/7ee61f505fdfdf5c.json', 'place_type': 'city', 'name': '新宿区', 'full_name': '東京 新宿区', 'country_code': 'JP', 'country': '日本', 'co...\n",
       "possibly_sensitive                                                                                                                                                                                                           False\n",
       "retweet_count                                                                                                                                                                                                                    0\n",
       "retweeted                                                                                                                                                                                                                    False\n",
       "source                                                                                                                                                               <a href=\"http://foursquare.com\" rel=\"nofollow\">Foursquare</a>\n",
       "text                                                                                                                                                          I'm at JR 新宿駅 - @jreast_official in 新宿区, 東京都 https://t.co/j8LzLE5VkR\n",
       "truncated                                                                                                                                                                                                                    False\n",
       "user                       {'id': 2438620777, 'id_str': '2438620777', 'name': 'ただの位置情報', 'screen_name': 'yu_forsman', 'location': 'TOKYO', 'description': 'その辺にいる大学生より外見的に少し老けて見える平凡な大学生だった社会人。只々Swamる垢とかしてるけど生きてます。', 'url': N..."
      ]
     },
     "execution_count": 71,
     "metadata": {},
     "output_type": "execute_result"
    }
   ],
   "source": [
    "import pandas as pd\n",
    "url = 'https://api.twitter.com/1.1/statuses/lookup.json'\n",
    "TweetID = 1124983352187027457\n",
    "res = twitter.get(url, params = {'id':TweetID})\n",
    "if res.status_code != TwtResCode.OK:\n",
    "    print(\"ERROR : %d\"% res.status_code)\n",
    "pd.set_option(\"display.max_colwidth\", 200)\n",
    "df = pd.read_json(res.text)\n",
    "df.T"
   ]
  },
  {
   "cell_type": "markdown",
   "metadata": {},
   "source": [
    "位置情報を示していそうな項目はcoordinatesとgeoかな。\n",
    "少し前にfolium使ったので折角なので寄り道してマッピングしてみる。"
   ]
  },
  {
   "cell_type": "code",
   "execution_count": 7,
   "metadata": {},
   "outputs": [
    {
     "data": {
      "text/html": [
       "<div style=\"width:100%;\"><div style=\"position:relative;width:100%;height:0;padding-bottom:60%;\"><iframe src=\"data:text/html;charset=utf-8;base64,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\" style=\"position:absolute;width:100%;height:100%;left:0;top:0;border:none !important;\" allowfullscreen webkitallowfullscreen mozallowfullscreen></iframe></div></div>"
      ],
      "text/plain": [
       "<folium.folium.Map at 0x24e55f73f28>"
      ]
     },
     "execution_count": 7,
     "metadata": {},
     "output_type": "execute_result"
    }
   ],
   "source": [
    "import folium\n",
    "import ast\n",
    "import re\n",
    "tooltip = 'Click me!'\n",
    "coordinates = re.findall(r'\\[.+?\\]', str(df.coordinates))[0]\n",
    "m = folium.Map(location=[coordinates.split(',')[1][:-1],coordinates.split(',')[0][1:]],zoom_start=20)\n",
    "folium.Marker(m.location, popup='<i>TweetID='+f\"{TweetID}\"+'</i>',tooltip=tooltip).add_to(m)\n",
    "m"
   ]
  },
  {
   "cell_type": "markdown",
   "metadata": {},
   "source": [
    "## Get Tweet timelines\n",
    "クライアントアプリケーションが1回の要求で取得できるタイムラインの量には制限がある。<BR>\n",
    "したがって、アプリケーションは、より完全なリストを作成するためにタイムラインの結果を反復処理する必要がある。<br>"
   ]
  },
  {
   "cell_type": "code",
   "execution_count": 18,
   "metadata": {},
   "outputs": [
    {
     "name": "stdout",
     "output_type": "stream",
     "text": [
      "NITORI::@pea47581220 ごめんなさい‼️今回はハズレです😭\n",
      "しかし、\n",
      "7/10まで毎日当たるチャンス🎊\n",
      "またチャレンジしてくださいね♪\n",
      "\n",
      "さらに、写真投稿キャンペーン同時開催中🎊\n",
      "ニトリ商品券2000円分がもらえるWチャンス🎁… https://t.co/bfj9KZdaHa\n",
      "Sat Jun 29 09:42:11 +0000 2019\n",
      "*******************************************\n",
      "NITORI::@pea47581220 ごめんなさい‼️今回はハズレです😭\n",
      "しかし、\n",
      "7/10まで毎日当たるチャンス🎊\n",
      "またチャレンジしてくださいね♪\n",
      "\n",
      "さらに、写真投稿キャンペーン同時開催中🎊\n",
      "ニトリ商品券2000円分がもらえるWチャンス🎁… https://t.co/nByoXAdpdh\n",
      "Sat Jun 29 09:41:20 +0000 2019\n",
      "*******************************************\n",
      "NITORI::@pea47581220 ごめんなさい‼️今回はハズレです😭\n",
      "しかし、\n",
      "7/10まで毎日当たるチャンス🎊\n",
      "またチャレンジしてくださいね♪\n",
      "\n",
      "さらに、写真投稿キャンペーン同時開催中🎊\n",
      "ニトリ商品券2000円分がもらえるWチャンス🎁… https://t.co/TtsIBOHKso\n",
      "Fri Jun 28 22:03:03 +0000 2019\n",
      "*******************************************\n"
     ]
    }
   ],
   "source": [
    "#url = \"https://api.twitter.com/1.1/statuses/user_timeline.json\" #タイムライン取得エンドポイント\n",
    "url = \"https://api.twitter.com/1.1/statuses/mentions_timeline.json\" #認証ユーザーに関する最新の20のTweet\n",
    "#url = \"https://api.twitter.com/1.1/statuses/home_timeline.json\" #ホームページ最新の20のTweet\n",
    "\n",
    "params ={'count' : 10} #取得数\n",
    "res = twitter.get(url, params = params)\n",
    "\n",
    "if res.status_code == TwtResCode.OK: #正常通信出来た場合\n",
    "    timelines = json.loads(res.text) #レスポンスからタイムラインリストを取得\n",
    "    for line in timelines: #タイムラインリストをループ処理\n",
    "        print(line['user']['name']+'::'+line['text'])\n",
    "        print(line['created_at'])\n",
    "        print('*******************************************')\n",
    "else: #正常通信出来なかった場合\n",
    "    print(\"Failed: %d\" % res.status_code)"
   ]
  },
  {
   "cell_type": "markdown",
   "metadata": {},
   "source": [
    "## Search"
   ]
  },
  {
   "cell_type": "code",
   "execution_count": 19,
   "metadata": {},
   "outputs": [
    {
     "name": "stdout",
     "output_type": "stream",
     "text": [
      "何を調べますか?\n",
      ">> Coursera\n",
      "----------------------------------------------------\n",
      "Javarevisited::RT @javinpaul: 10 of the Best Tensorflow Courses to Learn Machine Learning from Coursera and Udemy \n",
      "https://t.co/5dlg6byWQf\n",
      "\n",
      "via DEV Commun…\n",
      "Sat Jul 13 13:06:59 +0000 2019\n",
      "----------------------------------------------------\n",
      "Javarevisited::RT @javinpaul: \"10 of the Best Tensorflow Courses to Learn Machine Learning from Coursera and Udemy\" by @javinpaul #DEVcommunity https://t.…\n",
      "Sat Jul 13 13:06:53 +0000 2019\n",
      "----------------------------------------------------\n",
      "Skarra::RT @HQawiyy: 16 Amazing Places to Learn Something New Every Day\n",
      "\n",
      "1. CodeAcademy\n",
      "2. Udemy\n",
      "3. Khan Academy\n",
      "4. Spreeder\n",
      "5. Platzi\n",
      "6. BigThink…\n",
      "Sat Jul 13 13:05:34 +0000 2019\n",
      "----------------------------------------------------\n",
      "Melanie::@CynthiasParadox @coursera Thank you very much ❤️ it's this course: https://t.co/RuuVk3baOP\n",
      "Sat Jul 13 13:03:12 +0000 2019\n",
      "----------------------------------------------------\n",
      "Manvi Kakkar::https://t.co/J6nJlWweZg\n",
      "https://t.co/L9GN7R4sHH\n",
      "https://t.co/iavSGUOrgT\n",
      "https://t.co/DHLYS1Ar7Q… https://t.co/7FU9iYDGit\n",
      "Sat Jul 13 12:57:30 +0000 2019\n",
      "----------------------------------------------------\n"
     ]
    }
   ],
   "source": [
    "url = \"https://api.twitter.com/1.1/search/tweets.json\"\n",
    "\n",
    "print(\"何を調べますか?\")\n",
    "keyword = input('>> ')\n",
    "print('----------------------------------------------------')\n",
    "\n",
    "\n",
    "params = {'q' : keyword, 'count' : 5}\n",
    "\n",
    "res = twitter.get(url, params = params)\n",
    "\n",
    "if res.status_code == TwtResCode.OK:\n",
    "    search_timeline = json.loads(res.text)\n",
    "    for tweet in search_timeline['statuses']:\n",
    "        print(tweet['user']['name'] + '::' + tweet['text'])\n",
    "        print(tweet['created_at'])\n",
    "        print('----------------------------------------------------')\n",
    "else:\n",
    "    print(\"ERROR: %d\" % res.status_code)"
   ]
  },
  {
   "cell_type": "markdown",
   "metadata": {},
   "source": [
    "## Filter\n",
    "フォローしてるユーザーの投稿が自動で流れてくるやつ。<br>\n",
    "実行に時間がかかるので省略する。ていうか終わらない？"
   ]
  },
  {
   "cell_type": "code",
   "execution_count": 13,
   "metadata": {},
   "outputs": [],
   "source": [
    "#url = \"https://stream.twitter.com/1.1/statuses/filter.json\"\n",
    "#res = twitter.post(url,data=dict(track=\"coursera\"), stream=True)"
   ]
  },
  {
   "cell_type": "markdown",
   "metadata": {},
   "source": [
    "## Get Trend/Place\n",
    "各地のトレンドを取得できる。\n",
    "地域の指定はYahooが定めたwoeidを指定<br>\n",
    "\n",
    "#### 参考URL\n",
    "[日本のwoeid](https://lab.syncer.jp/Document/Japanese-prefecture-woeid/)<br>\n",
    "[woeidとは](https://en.wikipedia.org/wiki/WOEID)"
   ]
  },
  {
   "cell_type": "code",
   "execution_count": 65,
   "metadata": {},
   "outputs": [
    {
     "name": "stdout",
     "output_type": "stream",
     "text": [
      "Aqours\n",
      "SEAMO\n",
      "ココロオドル\n",
      "中居くん\n",
      "オールスター\n",
      "腹筋太鼓\n",
      "#nhkらじらー\n",
      "アクア\n",
      "#nitiasa\n",
      "#precure\n",
      "#リュウソウジャー\n",
      "アナザークウガ\n",
      "ウォズ\n",
      "#ゲゲゲの鬼太郎\n",
      "シューイチ\n",
      "NEW電王\n",
      "ミハルくん\n",
      "ヘイセイバー\n",
      "漢字75文字\n",
      "MEGAMAX\n",
      "加古川くん\n",
      "プルンス\n",
      "十五祭初日\n",
      "タイムジャッカー\n",
      "オーズの映画\n",
      "海東さん\n",
      "ビッグサイト\n",
      "雨の日曜日\n",
      "おはりょー\n",
      "小川航基\n",
      "Wアーマー\n",
      "えれなさん\n",
      "海東大樹\n",
      "FLOW\n",
      "#あなたは取り囲まれて生きている\n",
      "#サンデーモーニング\n",
      "#ジオウ\n",
      "#がっちりマンデー\n",
      "#RAS神戸DAY2\n",
      "#日曜討論\n",
      "#性格と特徴からあなたが何歳か当てる\n",
      "#戸山香澄生誕祭2019\n",
      "#shu1tv\n",
      "#水溜りボンドANN0\n",
      "#tge897\n"
     ]
    }
   ],
   "source": [
    "import urllib3\n",
    "import sys\n",
    "url=\"https://api.twitter.com/1.1/trends/place.json\"\n",
    "params = {'id' : 1118370}\n",
    "res = twitter.get(url, params = params)\n",
    "if res.status_code == TwtResCode.OK:\n",
    "    trend = json.loads(res.text)[0]\n",
    "    for tweet in trend['trends']:\n",
    "        print(tweet['name'])\n",
    "else:\n",
    "    print(\"ERROR: %d\" % res.status_code)"
   ]
  },
  {
   "cell_type": "markdown",
   "metadata": {},
   "source": [
    "## Upload media"
   ]
  },
  {
   "cell_type": "code",
   "execution_count": null,
   "metadata": {},
   "outputs": [],
   "source": [
    "url_media = \"https://upload.twitter.com/1.1/media/upload.json\"\n",
    "url_text = \"https://api.twitter.com/1.1/statuses/update.json\"\n",
    "\n",
    "print(\"添付画像の名前を入力(png形式のみ)\")\n",
    "media_name = input('>> ')\n",
    "print('-----------------------------------')\n",
    "\n",
    "files = {\"media\" : open(media_name+\".png\", 'rb')}\n",
    "req_media = twitter.post(url_media, files = files)\n",
    "\n",
    "if req_media.status_code != TwtResCode.OK:\n",
    "    print(\"MEDIA UPLOAD FAILED... %s\", req_media.text)\n",
    "    exit()\n",
    "\n",
    "media_id = json.loads(req_media.text)['media_id']\n",
    "print(\"MEDIA ID: %d\" % media_id)\n",
    "\n",
    "print(\"何をつぶやきますか？\")\n",
    "tweet = input('>> ')\n",
    "print('-----------------------------------')\n",
    "\n",
    "params = {\"status\" : tweet, \"media_ids\" : [media_id]}\n",
    "req_media = twitter.post(url_text, params = params)\n",
    "\n",
    "if req_media.status_code != TwtResCode.OK:\n",
    "    print(\"TEXT UPLOAD FAILED... %s\", req_text.text)\n",
    "    exit()\n",
    "\n",
    "print(\"SUCCEED!\")"
   ]
  },
  {
   "cell_type": "markdown",
   "metadata": {},
   "source": [
    "#### 感想\n",
    "割とコピペで動かない所もあった。APIの仕様が変わっているようだ。<br>\n",
    "無償での利用だと制限がきついイメージ。<br>\n",
    "仕事で使う際には各結果コードに対する振る舞いとかも調査する必要があると思うけど、Webエンジニアではないのでノウハウがない。\n",
    "Pythonにも列挙体があることを初めて知った（マジックナンバー嫌いなのでうれしい）。"
   ]
  }
 ],
 "metadata": {
  "kernelspec": {
   "display_name": "Python 3",
   "language": "python",
   "name": "python3"
  },
  "language_info": {
   "codemirror_mode": {
    "name": "ipython",
    "version": 3
   },
   "file_extension": ".py",
   "mimetype": "text/x-python",
   "name": "python",
   "nbconvert_exporter": "python",
   "pygments_lexer": "ipython3",
   "version": "3.7.3"
  }
 },
 "nbformat": 4,
 "nbformat_minor": 2
}
