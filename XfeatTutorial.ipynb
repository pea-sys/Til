{
  "nbformat": 4,
  "nbformat_minor": 0,
  "metadata": {
    "colab": {
      "name": "XfeatTutorial.ipynb",
      "provenance": [],
      "collapsed_sections": [],
      "authorship_tag": "ABX9TyNxvoZwFNoO01GPdwLUSnAw",
      "include_colab_link": true
    },
    "kernelspec": {
      "name": "python3",
      "display_name": "Python 3"
    }
  },
  "cells": [
    {
      "cell_type": "markdown",
      "metadata": {
        "id": "view-in-github",
        "colab_type": "text"
      },
      "source": [
        "<a href=\"https://colab.research.google.com/github/pea-sys/Til/blob/master/XfeatTutorial.ipynb\" target=\"_parent\"><img src=\"https://colab.research.google.com/assets/colab-badge.svg\" alt=\"Open In Colab\"/></a>"
      ]
    },
    {
      "cell_type": "markdown",
      "metadata": {
        "id": "QDqnoEyhwMuw",
        "colab_type": "text"
      },
      "source": [
        "pfnetが開発した特徴量エンジニアリングのライブラリ xfeatのTutorialの写経です。  \n",
        "気に入ったら、テーブルコンペで使う目論見。  \n",
        "大きいデータで試さないと分からないが、恐らく最適化も頑張っていると思われる。\n",
        "[参考](https://github.com/pfnet-research/xfeat/blob/master/_docs/xfeat_slides.pdf)"
      ]
    },
    {
      "cell_type": "code",
      "metadata": {
        "id": "DHfvOPrHycvu",
        "colab_type": "code",
        "colab": {
          "base_uri": "https://localhost:8080/",
          "height": 35
        },
        "outputId": "7dacbc43-25f8-489d-f6ab-9af79159ca11"
      },
      "source": [
        "!pip install -q https://github.com/pfnet-research/xfeat/archive/master.zip"
      ],
      "execution_count": 23,
      "outputs": [
        {
          "output_type": "stream",
          "text": [
            "  Building wheel for xfeat (setup.py) ... \u001b[?25l\u001b[?25hdone\n"
          ],
          "name": "stdout"
        }
      ]
    },
    {
      "cell_type": "code",
      "metadata": {
        "id": "1m_OmGmpzmZY",
        "colab_type": "code",
        "colab": {}
      },
      "source": [
        "import seaborn as sns\n",
        "import pandas as pd\n",
        "import xfeat\n",
        "from xfeat import SelectCategorical, LabelEncoder, Pipeline\n",
        "import numpy as np"
      ],
      "execution_count": 24,
      "outputs": []
    },
    {
      "cell_type": "code",
      "metadata": {
        "id": "BKQ4_nvx6KWm",
        "colab_type": "code",
        "colab": {
          "base_uri": "https://localhost:8080/",
          "height": 464
        },
        "outputId": "24c0e107-78fe-483a-e812-cb822c2685de"
      },
      "source": [
        "sns.get_dataset_names()"
      ],
      "execution_count": 25,
      "outputs": [
        {
          "output_type": "stream",
          "text": [
            "/usr/local/lib/python3.6/dist-packages/seaborn/utils.py:384: UserWarning:\n",
            "\n",
            "No parser was explicitly specified, so I'm using the best available HTML parser for this system (\"lxml\"). This usually isn't a problem, but if you run this code on another system, or in a different virtual environment, it may use a different parser and behave differently.\n",
            "\n",
            "The code that caused this warning is on line 384 of the file /usr/local/lib/python3.6/dist-packages/seaborn/utils.py. To get rid of this warning, pass the additional argument 'features=\"lxml\"' to the BeautifulSoup constructor.\n",
            "\n",
            "\n"
          ],
          "name": "stderr"
        },
        {
          "output_type": "execute_result",
          "data": {
            "text/plain": [
              "['anscombe',\n",
              " 'attention',\n",
              " 'brain_networks',\n",
              " 'car_crashes',\n",
              " 'diamonds',\n",
              " 'dots',\n",
              " 'exercise',\n",
              " 'flights',\n",
              " 'fmri',\n",
              " 'gammas',\n",
              " 'geyser',\n",
              " 'iris',\n",
              " 'mpg',\n",
              " 'penguins',\n",
              " 'planets',\n",
              " 'tips',\n",
              " 'titanic']"
            ]
          },
          "metadata": {
            "tags": []
          },
          "execution_count": 25
        }
      ]
    },
    {
      "cell_type": "code",
      "metadata": {
        "id": "AgfkoIjb3r6X",
        "colab_type": "code",
        "colab": {
          "base_uri": "https://localhost:8080/",
          "height": 194
        },
        "outputId": "e18ba44d-c148-4ece-d730-5fc115301f7c"
      },
      "source": [
        "df = sns.load_dataset('diamonds')\n",
        "df.head()"
      ],
      "execution_count": 26,
      "outputs": [
        {
          "output_type": "execute_result",
          "data": {
            "text/html": [
              "<div>\n",
              "<style scoped>\n",
              "    .dataframe tbody tr th:only-of-type {\n",
              "        vertical-align: middle;\n",
              "    }\n",
              "\n",
              "    .dataframe tbody tr th {\n",
              "        vertical-align: top;\n",
              "    }\n",
              "\n",
              "    .dataframe thead th {\n",
              "        text-align: right;\n",
              "    }\n",
              "</style>\n",
              "<table border=\"1\" class=\"dataframe\">\n",
              "  <thead>\n",
              "    <tr style=\"text-align: right;\">\n",
              "      <th></th>\n",
              "      <th>carat</th>\n",
              "      <th>cut</th>\n",
              "      <th>color</th>\n",
              "      <th>clarity</th>\n",
              "      <th>depth</th>\n",
              "      <th>table</th>\n",
              "      <th>price</th>\n",
              "      <th>x</th>\n",
              "      <th>y</th>\n",
              "      <th>z</th>\n",
              "    </tr>\n",
              "  </thead>\n",
              "  <tbody>\n",
              "    <tr>\n",
              "      <th>0</th>\n",
              "      <td>0.23</td>\n",
              "      <td>Ideal</td>\n",
              "      <td>E</td>\n",
              "      <td>SI2</td>\n",
              "      <td>61.5</td>\n",
              "      <td>55.0</td>\n",
              "      <td>326</td>\n",
              "      <td>3.95</td>\n",
              "      <td>3.98</td>\n",
              "      <td>2.43</td>\n",
              "    </tr>\n",
              "    <tr>\n",
              "      <th>1</th>\n",
              "      <td>0.21</td>\n",
              "      <td>Premium</td>\n",
              "      <td>E</td>\n",
              "      <td>SI1</td>\n",
              "      <td>59.8</td>\n",
              "      <td>61.0</td>\n",
              "      <td>326</td>\n",
              "      <td>3.89</td>\n",
              "      <td>3.84</td>\n",
              "      <td>2.31</td>\n",
              "    </tr>\n",
              "    <tr>\n",
              "      <th>2</th>\n",
              "      <td>0.23</td>\n",
              "      <td>Good</td>\n",
              "      <td>E</td>\n",
              "      <td>VS1</td>\n",
              "      <td>56.9</td>\n",
              "      <td>65.0</td>\n",
              "      <td>327</td>\n",
              "      <td>4.05</td>\n",
              "      <td>4.07</td>\n",
              "      <td>2.31</td>\n",
              "    </tr>\n",
              "    <tr>\n",
              "      <th>3</th>\n",
              "      <td>0.29</td>\n",
              "      <td>Premium</td>\n",
              "      <td>I</td>\n",
              "      <td>VS2</td>\n",
              "      <td>62.4</td>\n",
              "      <td>58.0</td>\n",
              "      <td>334</td>\n",
              "      <td>4.20</td>\n",
              "      <td>4.23</td>\n",
              "      <td>2.63</td>\n",
              "    </tr>\n",
              "    <tr>\n",
              "      <th>4</th>\n",
              "      <td>0.31</td>\n",
              "      <td>Good</td>\n",
              "      <td>J</td>\n",
              "      <td>SI2</td>\n",
              "      <td>63.3</td>\n",
              "      <td>58.0</td>\n",
              "      <td>335</td>\n",
              "      <td>4.34</td>\n",
              "      <td>4.35</td>\n",
              "      <td>2.75</td>\n",
              "    </tr>\n",
              "  </tbody>\n",
              "</table>\n",
              "</div>"
            ],
            "text/plain": [
              "   carat      cut color clarity  depth  table  price     x     y     z\n",
              "0   0.23    Ideal     E     SI2   61.5   55.0    326  3.95  3.98  2.43\n",
              "1   0.21  Premium     E     SI1   59.8   61.0    326  3.89  3.84  2.31\n",
              "2   0.23     Good     E     VS1   56.9   65.0    327  4.05  4.07  2.31\n",
              "3   0.29  Premium     I     VS2   62.4   58.0    334  4.20  4.23  2.63\n",
              "4   0.31     Good     J     SI2   63.3   58.0    335  4.34  4.35  2.75"
            ]
          },
          "metadata": {
            "tags": []
          },
          "execution_count": 26
        }
      ]
    },
    {
      "cell_type": "code",
      "metadata": {
        "id": "Y7ISzp2Tq-Cy",
        "colab_type": "code",
        "colab": {
          "base_uri": "https://localhost:8080/",
          "height": 319
        },
        "outputId": "337bd467-05a7-4e5f-a8e7-2f3d9293410a"
      },
      "source": [
        "df.info()"
      ],
      "execution_count": 27,
      "outputs": [
        {
          "output_type": "stream",
          "text": [
            "<class 'pandas.core.frame.DataFrame'>\n",
            "RangeIndex: 53940 entries, 0 to 53939\n",
            "Data columns (total 10 columns):\n",
            " #   Column   Non-Null Count  Dtype  \n",
            "---  ------   --------------  -----  \n",
            " 0   carat    53940 non-null  float64\n",
            " 1   cut      53940 non-null  object \n",
            " 2   color    53940 non-null  object \n",
            " 3   clarity  53940 non-null  object \n",
            " 4   depth    53940 non-null  float64\n",
            " 5   table    53940 non-null  float64\n",
            " 6   price    53940 non-null  int64  \n",
            " 7   x        53940 non-null  float64\n",
            " 8   y        53940 non-null  float64\n",
            " 9   z        53940 non-null  float64\n",
            "dtypes: float64(6), int64(1), object(3)\n",
            "memory usage: 4.1+ MB\n"
          ],
          "name": "stdout"
        }
      ]
    },
    {
      "cell_type": "code",
      "metadata": {
        "id": "cV0EOXkhv_1Y",
        "colab_type": "code",
        "colab": {}
      },
      "source": [
        "# Serialize the original csv file into the feather file format.\n",
        "# For simplicity, we assume that train and test are concatenated to perform feature engineering.\n",
        "xfeat.utils.compress_df(df).to_feather(\"data.ftr\")"
      ],
      "execution_count": 28,
      "outputs": []
    },
    {
      "cell_type": "code",
      "metadata": {
        "id": "yA3aLcpqxbai",
        "colab_type": "code",
        "colab": {
          "base_uri": "https://localhost:8080/",
          "height": 194
        },
        "outputId": "19a28fb4-f324-49a1-ae80-9c560053cd30"
      },
      "source": [
        "# Check the serialized data.\n",
        "df = pd.read_feather(\"data.ftr\")\n",
        "df.head()"
      ],
      "execution_count": 29,
      "outputs": [
        {
          "output_type": "execute_result",
          "data": {
            "text/html": [
              "<div>\n",
              "<style scoped>\n",
              "    .dataframe tbody tr th:only-of-type {\n",
              "        vertical-align: middle;\n",
              "    }\n",
              "\n",
              "    .dataframe tbody tr th {\n",
              "        vertical-align: top;\n",
              "    }\n",
              "\n",
              "    .dataframe thead th {\n",
              "        text-align: right;\n",
              "    }\n",
              "</style>\n",
              "<table border=\"1\" class=\"dataframe\">\n",
              "  <thead>\n",
              "    <tr style=\"text-align: right;\">\n",
              "      <th></th>\n",
              "      <th>carat</th>\n",
              "      <th>cut</th>\n",
              "      <th>color</th>\n",
              "      <th>clarity</th>\n",
              "      <th>depth</th>\n",
              "      <th>table</th>\n",
              "      <th>price</th>\n",
              "      <th>x</th>\n",
              "      <th>y</th>\n",
              "      <th>z</th>\n",
              "    </tr>\n",
              "  </thead>\n",
              "  <tbody>\n",
              "    <tr>\n",
              "      <th>0</th>\n",
              "      <td>0.23</td>\n",
              "      <td>Ideal</td>\n",
              "      <td>E</td>\n",
              "      <td>SI2</td>\n",
              "      <td>61.500000</td>\n",
              "      <td>55.0</td>\n",
              "      <td>326</td>\n",
              "      <td>3.95</td>\n",
              "      <td>3.98</td>\n",
              "      <td>2.43</td>\n",
              "    </tr>\n",
              "    <tr>\n",
              "      <th>1</th>\n",
              "      <td>0.21</td>\n",
              "      <td>Premium</td>\n",
              "      <td>E</td>\n",
              "      <td>SI1</td>\n",
              "      <td>59.799999</td>\n",
              "      <td>61.0</td>\n",
              "      <td>326</td>\n",
              "      <td>3.89</td>\n",
              "      <td>3.84</td>\n",
              "      <td>2.31</td>\n",
              "    </tr>\n",
              "    <tr>\n",
              "      <th>2</th>\n",
              "      <td>0.23</td>\n",
              "      <td>Good</td>\n",
              "      <td>E</td>\n",
              "      <td>VS1</td>\n",
              "      <td>56.900002</td>\n",
              "      <td>65.0</td>\n",
              "      <td>327</td>\n",
              "      <td>4.05</td>\n",
              "      <td>4.07</td>\n",
              "      <td>2.31</td>\n",
              "    </tr>\n",
              "    <tr>\n",
              "      <th>3</th>\n",
              "      <td>0.29</td>\n",
              "      <td>Premium</td>\n",
              "      <td>I</td>\n",
              "      <td>VS2</td>\n",
              "      <td>62.400002</td>\n",
              "      <td>58.0</td>\n",
              "      <td>334</td>\n",
              "      <td>4.20</td>\n",
              "      <td>4.23</td>\n",
              "      <td>2.63</td>\n",
              "    </tr>\n",
              "    <tr>\n",
              "      <th>4</th>\n",
              "      <td>0.31</td>\n",
              "      <td>Good</td>\n",
              "      <td>J</td>\n",
              "      <td>SI2</td>\n",
              "      <td>63.299999</td>\n",
              "      <td>58.0</td>\n",
              "      <td>335</td>\n",
              "      <td>4.34</td>\n",
              "      <td>4.35</td>\n",
              "      <td>2.75</td>\n",
              "    </tr>\n",
              "  </tbody>\n",
              "</table>\n",
              "</div>"
            ],
            "text/plain": [
              "   carat      cut color clarity      depth  table  price     x     y     z\n",
              "0   0.23    Ideal     E     SI2  61.500000   55.0    326  3.95  3.98  2.43\n",
              "1   0.21  Premium     E     SI1  59.799999   61.0    326  3.89  3.84  2.31\n",
              "2   0.23     Good     E     VS1  56.900002   65.0    327  4.05  4.07  2.31\n",
              "3   0.29  Premium     I     VS2  62.400002   58.0    334  4.20  4.23  2.63\n",
              "4   0.31     Good     J     SI2  63.299999   58.0    335  4.34  4.35  2.75"
            ]
          },
          "metadata": {
            "tags": []
          },
          "execution_count": 29
        }
      ]
    },
    {
      "cell_type": "code",
      "metadata": {
        "id": "ifw6Fohcq3kj",
        "colab_type": "code",
        "colab": {
          "base_uri": "https://localhost:8080/",
          "height": 319
        },
        "outputId": "27b36df1-66f6-4052-d545-c35441e0b4c3"
      },
      "source": [
        "df.info()"
      ],
      "execution_count": 30,
      "outputs": [
        {
          "output_type": "stream",
          "text": [
            "<class 'pandas.core.frame.DataFrame'>\n",
            "RangeIndex: 53940 entries, 0 to 53939\n",
            "Data columns (total 10 columns):\n",
            " #   Column   Non-Null Count  Dtype  \n",
            "---  ------   --------------  -----  \n",
            " 0   carat    53940 non-null  float32\n",
            " 1   cut      53940 non-null  object \n",
            " 2   color    53940 non-null  object \n",
            " 3   clarity  53940 non-null  object \n",
            " 4   depth    53940 non-null  float32\n",
            " 5   table    53940 non-null  float32\n",
            " 6   price    53940 non-null  int16  \n",
            " 7   x        53940 non-null  float32\n",
            " 8   y        53940 non-null  float32\n",
            " 9   z        53940 non-null  float32\n",
            "dtypes: float32(6), int16(1), object(3)\n",
            "memory usage: 2.6+ MB\n"
          ],
          "name": "stdout"
        }
      ]
    },
    {
      "cell_type": "markdown",
      "metadata": {
        "id": "XCNeIXa85AZx",
        "colab_type": "text"
      },
      "source": [
        "# カテゴリカラム\n",
        "xfeatのデータ変換クラスは、入力としてDataFrameを使用し、出力としてDataFrameを使用します。pandasとcuDFの両方のDataFrameをサポートしています。\n",
        "\n",
        "xfeat.SelectCategoricalは、入力データフレームからカテゴリデータの列のみを抽出します。\n",
        "\n",
        "xfeat.Pipelineは、データ変換オブジェクトを順次結合します。"
      ]
    },
    {
      "cell_type": "code",
      "metadata": {
        "id": "7-R7v2HV4imF",
        "colab_type": "code",
        "colab": {
          "base_uri": "https://localhost:8080/",
          "height": 194
        },
        "outputId": "f76c6dd5-5f39-4ca7-a8f2-c81e72aafacb"
      },
      "source": [
        "xfeat.SelectCategorical().fit_transform(df).head()"
      ],
      "execution_count": 31,
      "outputs": [
        {
          "output_type": "execute_result",
          "data": {
            "text/html": [
              "<div>\n",
              "<style scoped>\n",
              "    .dataframe tbody tr th:only-of-type {\n",
              "        vertical-align: middle;\n",
              "    }\n",
              "\n",
              "    .dataframe tbody tr th {\n",
              "        vertical-align: top;\n",
              "    }\n",
              "\n",
              "    .dataframe thead th {\n",
              "        text-align: right;\n",
              "    }\n",
              "</style>\n",
              "<table border=\"1\" class=\"dataframe\">\n",
              "  <thead>\n",
              "    <tr style=\"text-align: right;\">\n",
              "      <th></th>\n",
              "      <th>cut</th>\n",
              "      <th>color</th>\n",
              "      <th>clarity</th>\n",
              "    </tr>\n",
              "  </thead>\n",
              "  <tbody>\n",
              "    <tr>\n",
              "      <th>0</th>\n",
              "      <td>Ideal</td>\n",
              "      <td>E</td>\n",
              "      <td>SI2</td>\n",
              "    </tr>\n",
              "    <tr>\n",
              "      <th>1</th>\n",
              "      <td>Premium</td>\n",
              "      <td>E</td>\n",
              "      <td>SI1</td>\n",
              "    </tr>\n",
              "    <tr>\n",
              "      <th>2</th>\n",
              "      <td>Good</td>\n",
              "      <td>E</td>\n",
              "      <td>VS1</td>\n",
              "    </tr>\n",
              "    <tr>\n",
              "      <th>3</th>\n",
              "      <td>Premium</td>\n",
              "      <td>I</td>\n",
              "      <td>VS2</td>\n",
              "    </tr>\n",
              "    <tr>\n",
              "      <th>4</th>\n",
              "      <td>Good</td>\n",
              "      <td>J</td>\n",
              "      <td>SI2</td>\n",
              "    </tr>\n",
              "  </tbody>\n",
              "</table>\n",
              "</div>"
            ],
            "text/plain": [
              "       cut color clarity\n",
              "0    Ideal     E     SI2\n",
              "1  Premium     E     SI1\n",
              "2     Good     E     VS1\n",
              "3  Premium     I     VS2\n",
              "4     Good     J     SI2"
            ]
          },
          "metadata": {
            "tags": []
          },
          "execution_count": 31
        }
      ]
    },
    {
      "cell_type": "code",
      "metadata": {
        "id": "55Nakbni6p6O",
        "colab_type": "code",
        "colab": {}
      },
      "source": [
        "# Takes categorical columns from the data frame and performs label encoding on them.\n",
        "# The converted data is stored in the column with suffix defined in `output_suffix`.\n",
        "# By defining `output_suffix=\"\"`, it is possible to store the result in the same column.\n",
        "encoder = Pipeline([\n",
        "    SelectCategorical(exclude_cols=[]),\n",
        "    LabelEncoder(output_suffix=\"\"),\n",
        "])"
      ],
      "execution_count": 40,
      "outputs": []
    },
    {
      "cell_type": "code",
      "metadata": {
        "id": "v2s7SC5b657d",
        "colab_type": "code",
        "colab": {
          "base_uri": "https://localhost:8080/",
          "height": 194
        },
        "outputId": "a2ac9367-0d6e-4896-a3c9-1ebee637a9e4"
      },
      "source": [
        "encoder.fit_transform(df).head()"
      ],
      "execution_count": 41,
      "outputs": [
        {
          "output_type": "execute_result",
          "data": {
            "text/html": [
              "<div>\n",
              "<style scoped>\n",
              "    .dataframe tbody tr th:only-of-type {\n",
              "        vertical-align: middle;\n",
              "    }\n",
              "\n",
              "    .dataframe tbody tr th {\n",
              "        vertical-align: top;\n",
              "    }\n",
              "\n",
              "    .dataframe thead th {\n",
              "        text-align: right;\n",
              "    }\n",
              "</style>\n",
              "<table border=\"1\" class=\"dataframe\">\n",
              "  <thead>\n",
              "    <tr style=\"text-align: right;\">\n",
              "      <th></th>\n",
              "      <th>cut</th>\n",
              "      <th>color</th>\n",
              "      <th>clarity</th>\n",
              "    </tr>\n",
              "  </thead>\n",
              "  <tbody>\n",
              "    <tr>\n",
              "      <th>0</th>\n",
              "      <td>0</td>\n",
              "      <td>0</td>\n",
              "      <td>0</td>\n",
              "    </tr>\n",
              "    <tr>\n",
              "      <th>1</th>\n",
              "      <td>1</td>\n",
              "      <td>0</td>\n",
              "      <td>1</td>\n",
              "    </tr>\n",
              "    <tr>\n",
              "      <th>2</th>\n",
              "      <td>2</td>\n",
              "      <td>0</td>\n",
              "      <td>2</td>\n",
              "    </tr>\n",
              "    <tr>\n",
              "      <th>3</th>\n",
              "      <td>1</td>\n",
              "      <td>1</td>\n",
              "      <td>3</td>\n",
              "    </tr>\n",
              "    <tr>\n",
              "      <th>4</th>\n",
              "      <td>2</td>\n",
              "      <td>2</td>\n",
              "      <td>0</td>\n",
              "    </tr>\n",
              "  </tbody>\n",
              "</table>\n",
              "</div>"
            ],
            "text/plain": [
              "   cut  color  clarity\n",
              "0    0      0        0\n",
              "1    1      0        1\n",
              "2    2      0        2\n",
              "3    1      1        3\n",
              "4    2      2        0"
            ]
          },
          "metadata": {
            "tags": []
          },
          "execution_count": 41
        }
      ]
    },
    {
      "cell_type": "markdown",
      "metadata": {
        "id": "BGpT1_sRtdja",
        "colab_type": "text"
      },
      "source": [
        "xfeat.cat_encoder.ConcatCombinationは、入力されたカラムを結合して新しいカラムを作成します。"
      ]
    },
    {
      "cell_type": "code",
      "metadata": {
        "id": "UsJGrcfa7gV7",
        "colab_type": "code",
        "colab": {
          "base_uri": "https://localhost:8080/",
          "height": 194
        },
        "outputId": "95b69313-f6cb-4e49-dc71-0a0e4bc6e14c"
      },
      "source": [
        "from xfeat import ConcatCombination\n",
        "\n",
        "\n",
        "encoder = Pipeline([\n",
        "    SelectCategorical(exclude_cols=[]),\n",
        "\n",
        "    # If there are many categorical columns,\n",
        "    # users can specify the columns to be combined with `input_cols` kwargs.\n",
        "    # `r=2` specifies the number of columns to combine the columns.\n",
        "    ConcatCombination(drop_origin=True, output_suffix=\"\", r=2),\n",
        "    \n",
        "    LabelEncoder(output_suffix=\"\"),\n",
        "])\n",
        "encoder.fit_transform(df).head()"
      ],
      "execution_count": 50,
      "outputs": [
        {
          "output_type": "execute_result",
          "data": {
            "text/html": [
              "<div>\n",
              "<style scoped>\n",
              "    .dataframe tbody tr th:only-of-type {\n",
              "        vertical-align: middle;\n",
              "    }\n",
              "\n",
              "    .dataframe tbody tr th {\n",
              "        vertical-align: top;\n",
              "    }\n",
              "\n",
              "    .dataframe thead th {\n",
              "        text-align: right;\n",
              "    }\n",
              "</style>\n",
              "<table border=\"1\" class=\"dataframe\">\n",
              "  <thead>\n",
              "    <tr style=\"text-align: right;\">\n",
              "      <th></th>\n",
              "      <th>cutcolor</th>\n",
              "      <th>cutclarity</th>\n",
              "      <th>colorclarity</th>\n",
              "    </tr>\n",
              "  </thead>\n",
              "  <tbody>\n",
              "    <tr>\n",
              "      <th>0</th>\n",
              "      <td>0</td>\n",
              "      <td>0</td>\n",
              "      <td>0</td>\n",
              "    </tr>\n",
              "    <tr>\n",
              "      <th>1</th>\n",
              "      <td>1</td>\n",
              "      <td>1</td>\n",
              "      <td>1</td>\n",
              "    </tr>\n",
              "    <tr>\n",
              "      <th>2</th>\n",
              "      <td>2</td>\n",
              "      <td>2</td>\n",
              "      <td>2</td>\n",
              "    </tr>\n",
              "    <tr>\n",
              "      <th>3</th>\n",
              "      <td>3</td>\n",
              "      <td>3</td>\n",
              "      <td>3</td>\n",
              "    </tr>\n",
              "    <tr>\n",
              "      <th>4</th>\n",
              "      <td>4</td>\n",
              "      <td>4</td>\n",
              "      <td>4</td>\n",
              "    </tr>\n",
              "  </tbody>\n",
              "</table>\n",
              "</div>"
            ],
            "text/plain": [
              "   cutcolor  cutclarity  colorclarity\n",
              "0         0           0             0\n",
              "1         1           1             1\n",
              "2         2           2             2\n",
              "3         3           3             3\n",
              "4         4           4             4"
            ]
          },
          "metadata": {
            "tags": []
          },
          "execution_count": 50
        }
      ]
    },
    {
      "cell_type": "markdown",
      "metadata": {
        "id": "nm0JT178umcH",
        "colab_type": "text"
      },
      "source": [
        "# 数値コラム\n",
        "xfeat.SelectNumericalは、入力データフレームから数値データの列のみを抽出します。\n",
        "\n",
        "xfeat.ArithmeticCombinationsは、算術的な組み合わせを適用して新しい列を作成します。"
      ]
    },
    {
      "cell_type": "code",
      "metadata": {
        "id": "x1ZgMNNst7_B",
        "colab_type": "code",
        "colab": {
          "base_uri": "https://localhost:8080/",
          "height": 194
        },
        "outputId": "2537749d-218c-4eac-a1f0-a9f2e6cbfc2a"
      },
      "source": [
        "from xfeat import SelectNumerical\n",
        "\n",
        "SelectNumerical(exclude_cols=['z']).fit_transform(df).head()"
      ],
      "execution_count": 53,
      "outputs": [
        {
          "output_type": "execute_result",
          "data": {
            "text/html": [
              "<div>\n",
              "<style scoped>\n",
              "    .dataframe tbody tr th:only-of-type {\n",
              "        vertical-align: middle;\n",
              "    }\n",
              "\n",
              "    .dataframe tbody tr th {\n",
              "        vertical-align: top;\n",
              "    }\n",
              "\n",
              "    .dataframe thead th {\n",
              "        text-align: right;\n",
              "    }\n",
              "</style>\n",
              "<table border=\"1\" class=\"dataframe\">\n",
              "  <thead>\n",
              "    <tr style=\"text-align: right;\">\n",
              "      <th></th>\n",
              "      <th>carat</th>\n",
              "      <th>depth</th>\n",
              "      <th>table</th>\n",
              "      <th>price</th>\n",
              "      <th>x</th>\n",
              "      <th>y</th>\n",
              "    </tr>\n",
              "  </thead>\n",
              "  <tbody>\n",
              "    <tr>\n",
              "      <th>0</th>\n",
              "      <td>0.23</td>\n",
              "      <td>61.500000</td>\n",
              "      <td>55.0</td>\n",
              "      <td>326</td>\n",
              "      <td>3.95</td>\n",
              "      <td>3.98</td>\n",
              "    </tr>\n",
              "    <tr>\n",
              "      <th>1</th>\n",
              "      <td>0.21</td>\n",
              "      <td>59.799999</td>\n",
              "      <td>61.0</td>\n",
              "      <td>326</td>\n",
              "      <td>3.89</td>\n",
              "      <td>3.84</td>\n",
              "    </tr>\n",
              "    <tr>\n",
              "      <th>2</th>\n",
              "      <td>0.23</td>\n",
              "      <td>56.900002</td>\n",
              "      <td>65.0</td>\n",
              "      <td>327</td>\n",
              "      <td>4.05</td>\n",
              "      <td>4.07</td>\n",
              "    </tr>\n",
              "    <tr>\n",
              "      <th>3</th>\n",
              "      <td>0.29</td>\n",
              "      <td>62.400002</td>\n",
              "      <td>58.0</td>\n",
              "      <td>334</td>\n",
              "      <td>4.20</td>\n",
              "      <td>4.23</td>\n",
              "    </tr>\n",
              "    <tr>\n",
              "      <th>4</th>\n",
              "      <td>0.31</td>\n",
              "      <td>63.299999</td>\n",
              "      <td>58.0</td>\n",
              "      <td>335</td>\n",
              "      <td>4.34</td>\n",
              "      <td>4.35</td>\n",
              "    </tr>\n",
              "  </tbody>\n",
              "</table>\n",
              "</div>"
            ],
            "text/plain": [
              "   carat      depth  table  price     x     y\n",
              "0   0.23  61.500000   55.0    326  3.95  3.98\n",
              "1   0.21  59.799999   61.0    326  3.89  3.84\n",
              "2   0.23  56.900002   65.0    327  4.05  4.07\n",
              "3   0.29  62.400002   58.0    334  4.20  4.23\n",
              "4   0.31  63.299999   58.0    335  4.34  4.35"
            ]
          },
          "metadata": {
            "tags": []
          },
          "execution_count": 53
        }
      ]
    },
    {
      "cell_type": "code",
      "metadata": {
        "id": "tJWo-ib1vWRq",
        "colab_type": "code",
        "colab": {
          "base_uri": "https://localhost:8080/",
          "height": 194
        },
        "outputId": "85010f77-1871-4ae5-dd8b-4004468df11c"
      },
      "source": [
        "from xfeat import ArithmeticCombinations\n",
        "\n",
        "encoder = Pipeline([\n",
        "    SelectNumerical(exclude_cols=[\"z\"]),\n",
        "    ArithmeticCombinations(\n",
        "        drop_origin=True,\n",
        "        operator=\"*\",\n",
        "        r=2,\n",
        "        output_suffix=\"\",\n",
        "    ),\n",
        "])\n",
        "encoder.fit_transform(df).head()"
      ],
      "execution_count": 55,
      "outputs": [
        {
          "output_type": "execute_result",
          "data": {
            "text/html": [
              "<div>\n",
              "<style scoped>\n",
              "    .dataframe tbody tr th:only-of-type {\n",
              "        vertical-align: middle;\n",
              "    }\n",
              "\n",
              "    .dataframe tbody tr th {\n",
              "        vertical-align: top;\n",
              "    }\n",
              "\n",
              "    .dataframe thead th {\n",
              "        text-align: right;\n",
              "    }\n",
              "</style>\n",
              "<table border=\"1\" class=\"dataframe\">\n",
              "  <thead>\n",
              "    <tr style=\"text-align: right;\">\n",
              "      <th></th>\n",
              "      <th>caratdepth</th>\n",
              "      <th>carattable</th>\n",
              "      <th>caratprice</th>\n",
              "      <th>caratx</th>\n",
              "      <th>caraty</th>\n",
              "      <th>depthtable</th>\n",
              "      <th>depthprice</th>\n",
              "      <th>depthx</th>\n",
              "      <th>depthy</th>\n",
              "      <th>tableprice</th>\n",
              "      <th>tablex</th>\n",
              "      <th>tabley</th>\n",
              "      <th>pricex</th>\n",
              "      <th>pricey</th>\n",
              "      <th>xy</th>\n",
              "    </tr>\n",
              "  </thead>\n",
              "  <tbody>\n",
              "    <tr>\n",
              "      <th>0</th>\n",
              "      <td>14.145000</td>\n",
              "      <td>12.650001</td>\n",
              "      <td>74.980003</td>\n",
              "      <td>0.9085</td>\n",
              "      <td>0.9154</td>\n",
              "      <td>3382.500000</td>\n",
              "      <td>20049.000000</td>\n",
              "      <td>242.925003</td>\n",
              "      <td>244.770004</td>\n",
              "      <td>17930.0</td>\n",
              "      <td>217.250000</td>\n",
              "      <td>218.899994</td>\n",
              "      <td>1287.700073</td>\n",
              "      <td>1297.479980</td>\n",
              "      <td>15.721001</td>\n",
              "    </tr>\n",
              "    <tr>\n",
              "      <th>1</th>\n",
              "      <td>12.558000</td>\n",
              "      <td>12.809999</td>\n",
              "      <td>68.459999</td>\n",
              "      <td>0.8169</td>\n",
              "      <td>0.8064</td>\n",
              "      <td>3647.800049</td>\n",
              "      <td>19494.798828</td>\n",
              "      <td>232.622009</td>\n",
              "      <td>229.631989</td>\n",
              "      <td>19886.0</td>\n",
              "      <td>237.290009</td>\n",
              "      <td>234.239990</td>\n",
              "      <td>1268.140015</td>\n",
              "      <td>1251.839966</td>\n",
              "      <td>14.937600</td>\n",
              "    </tr>\n",
              "    <tr>\n",
              "      <th>2</th>\n",
              "      <td>13.087001</td>\n",
              "      <td>14.950000</td>\n",
              "      <td>75.209999</td>\n",
              "      <td>0.9315</td>\n",
              "      <td>0.9361</td>\n",
              "      <td>3698.500000</td>\n",
              "      <td>18606.300781</td>\n",
              "      <td>230.445023</td>\n",
              "      <td>231.583023</td>\n",
              "      <td>21255.0</td>\n",
              "      <td>263.250000</td>\n",
              "      <td>264.550018</td>\n",
              "      <td>1324.350098</td>\n",
              "      <td>1330.890015</td>\n",
              "      <td>16.483501</td>\n",
              "    </tr>\n",
              "    <tr>\n",
              "      <th>3</th>\n",
              "      <td>18.096001</td>\n",
              "      <td>16.820000</td>\n",
              "      <td>96.860001</td>\n",
              "      <td>1.2180</td>\n",
              "      <td>1.2267</td>\n",
              "      <td>3619.200195</td>\n",
              "      <td>20841.599609</td>\n",
              "      <td>262.079987</td>\n",
              "      <td>263.951996</td>\n",
              "      <td>19372.0</td>\n",
              "      <td>243.599991</td>\n",
              "      <td>245.339996</td>\n",
              "      <td>1402.799927</td>\n",
              "      <td>1412.819946</td>\n",
              "      <td>17.765999</td>\n",
              "    </tr>\n",
              "    <tr>\n",
              "      <th>4</th>\n",
              "      <td>19.622999</td>\n",
              "      <td>17.980000</td>\n",
              "      <td>103.849998</td>\n",
              "      <td>1.3454</td>\n",
              "      <td>1.3485</td>\n",
              "      <td>3671.399902</td>\n",
              "      <td>21205.500000</td>\n",
              "      <td>274.722015</td>\n",
              "      <td>275.354980</td>\n",
              "      <td>19430.0</td>\n",
              "      <td>251.720001</td>\n",
              "      <td>252.299988</td>\n",
              "      <td>1453.900024</td>\n",
              "      <td>1457.250000</td>\n",
              "      <td>18.879000</td>\n",
              "    </tr>\n",
              "  </tbody>\n",
              "</table>\n",
              "</div>"
            ],
            "text/plain": [
              "   caratdepth  carattable  caratprice  ...       pricex       pricey         xy\n",
              "0   14.145000   12.650001   74.980003  ...  1287.700073  1297.479980  15.721001\n",
              "1   12.558000   12.809999   68.459999  ...  1268.140015  1251.839966  14.937600\n",
              "2   13.087001   14.950000   75.209999  ...  1324.350098  1330.890015  16.483501\n",
              "3   18.096001   16.820000   96.860001  ...  1402.799927  1412.819946  17.765999\n",
              "4   19.622999   17.980000  103.849998  ...  1453.900024  1457.250000  18.879000\n",
              "\n",
              "[5 rows x 15 columns]"
            ]
          },
          "metadata": {
            "tags": []
          },
          "execution_count": 55
        }
      ]
    },
    {
      "cell_type": "markdown",
      "metadata": {
        "id": "UU6yEnrJv6fw",
        "colab_type": "text"
      },
      "source": [
        "# Lambda Encoder\n",
        "xfeat.LambdaEncoderはラムダ関数を引数に取り、データフレームの列を変換します。"
      ]
    },
    {
      "cell_type": "code",
      "metadata": {
        "id": "dXkF2YzoviNG",
        "colab_type": "code",
        "colab": {
          "base_uri": "https://localhost:8080/",
          "height": 194
        },
        "outputId": "22e62c4d-8c0c-41cf-a3ad-536eea072042"
      },
      "source": [
        "from xfeat import LambdaEncoder\n",
        "import numpy as np\n",
        "\n",
        "\n",
        "encoder = Pipeline([\n",
        "    SelectNumerical(exclude_cols=[\"z\"]),\n",
        "    ArithmeticCombinations(\n",
        "        drop_origin=True,\n",
        "        operator=\"*\",\n",
        "        r=2,\n",
        "        output_suffix=\"\",\n",
        "    ),\n",
        "\n",
        "    LambdaEncoder(\n",
        "        lambda x: x-1,\n",
        "        output_prefix=\"\",\n",
        "        output_suffix=\"\",\n",
        "        drop_origin=True,\n",
        "    ),\n",
        "])\n",
        "\n",
        "encoder.fit_transform(df).head()"
      ],
      "execution_count": 62,
      "outputs": [
        {
          "output_type": "execute_result",
          "data": {
            "text/html": [
              "<div>\n",
              "<style scoped>\n",
              "    .dataframe tbody tr th:only-of-type {\n",
              "        vertical-align: middle;\n",
              "    }\n",
              "\n",
              "    .dataframe tbody tr th {\n",
              "        vertical-align: top;\n",
              "    }\n",
              "\n",
              "    .dataframe thead th {\n",
              "        text-align: right;\n",
              "    }\n",
              "</style>\n",
              "<table border=\"1\" class=\"dataframe\">\n",
              "  <thead>\n",
              "    <tr style=\"text-align: right;\">\n",
              "      <th></th>\n",
              "      <th>caratdepth</th>\n",
              "      <th>carattable</th>\n",
              "      <th>caratprice</th>\n",
              "      <th>caratx</th>\n",
              "      <th>caraty</th>\n",
              "      <th>depthtable</th>\n",
              "      <th>depthprice</th>\n",
              "      <th>depthx</th>\n",
              "      <th>depthy</th>\n",
              "      <th>tableprice</th>\n",
              "      <th>tablex</th>\n",
              "      <th>tabley</th>\n",
              "      <th>pricex</th>\n",
              "      <th>pricey</th>\n",
              "      <th>xy</th>\n",
              "    </tr>\n",
              "  </thead>\n",
              "  <tbody>\n",
              "    <tr>\n",
              "      <th>0</th>\n",
              "      <td>13.145000</td>\n",
              "      <td>11.650001</td>\n",
              "      <td>73.980003</td>\n",
              "      <td>-0.0915</td>\n",
              "      <td>-0.0846</td>\n",
              "      <td>3381.500000</td>\n",
              "      <td>20048.000000</td>\n",
              "      <td>241.925003</td>\n",
              "      <td>243.770004</td>\n",
              "      <td>17929.0</td>\n",
              "      <td>216.250000</td>\n",
              "      <td>217.899994</td>\n",
              "      <td>1286.700073</td>\n",
              "      <td>1296.479980</td>\n",
              "      <td>14.721001</td>\n",
              "    </tr>\n",
              "    <tr>\n",
              "      <th>1</th>\n",
              "      <td>11.558000</td>\n",
              "      <td>11.809999</td>\n",
              "      <td>67.459999</td>\n",
              "      <td>-0.1831</td>\n",
              "      <td>-0.1936</td>\n",
              "      <td>3646.800049</td>\n",
              "      <td>19493.798828</td>\n",
              "      <td>231.622009</td>\n",
              "      <td>228.631989</td>\n",
              "      <td>19885.0</td>\n",
              "      <td>236.290009</td>\n",
              "      <td>233.239990</td>\n",
              "      <td>1267.140015</td>\n",
              "      <td>1250.839966</td>\n",
              "      <td>13.937600</td>\n",
              "    </tr>\n",
              "    <tr>\n",
              "      <th>2</th>\n",
              "      <td>12.087001</td>\n",
              "      <td>13.950000</td>\n",
              "      <td>74.209999</td>\n",
              "      <td>-0.0685</td>\n",
              "      <td>-0.0639</td>\n",
              "      <td>3697.500000</td>\n",
              "      <td>18605.300781</td>\n",
              "      <td>229.445023</td>\n",
              "      <td>230.583023</td>\n",
              "      <td>21254.0</td>\n",
              "      <td>262.250000</td>\n",
              "      <td>263.550018</td>\n",
              "      <td>1323.350098</td>\n",
              "      <td>1329.890015</td>\n",
              "      <td>15.483501</td>\n",
              "    </tr>\n",
              "    <tr>\n",
              "      <th>3</th>\n",
              "      <td>17.096001</td>\n",
              "      <td>15.820000</td>\n",
              "      <td>95.860001</td>\n",
              "      <td>0.2180</td>\n",
              "      <td>0.2267</td>\n",
              "      <td>3618.200195</td>\n",
              "      <td>20840.599609</td>\n",
              "      <td>261.079987</td>\n",
              "      <td>262.951996</td>\n",
              "      <td>19371.0</td>\n",
              "      <td>242.599991</td>\n",
              "      <td>244.339996</td>\n",
              "      <td>1401.799927</td>\n",
              "      <td>1411.819946</td>\n",
              "      <td>16.765999</td>\n",
              "    </tr>\n",
              "    <tr>\n",
              "      <th>4</th>\n",
              "      <td>18.622999</td>\n",
              "      <td>16.980000</td>\n",
              "      <td>102.849998</td>\n",
              "      <td>0.3454</td>\n",
              "      <td>0.3485</td>\n",
              "      <td>3670.399902</td>\n",
              "      <td>21204.500000</td>\n",
              "      <td>273.722015</td>\n",
              "      <td>274.354980</td>\n",
              "      <td>19429.0</td>\n",
              "      <td>250.720001</td>\n",
              "      <td>251.299988</td>\n",
              "      <td>1452.900024</td>\n",
              "      <td>1456.250000</td>\n",
              "      <td>17.879000</td>\n",
              "    </tr>\n",
              "  </tbody>\n",
              "</table>\n",
              "</div>"
            ],
            "text/plain": [
              "   caratdepth  carattable  caratprice  ...       pricex       pricey         xy\n",
              "0   13.145000   11.650001   73.980003  ...  1286.700073  1296.479980  14.721001\n",
              "1   11.558000   11.809999   67.459999  ...  1267.140015  1250.839966  13.937600\n",
              "2   12.087001   13.950000   74.209999  ...  1323.350098  1329.890015  15.483501\n",
              "3   17.096001   15.820000   95.860001  ...  1401.799927  1411.819946  16.765999\n",
              "4   18.622999   16.980000  102.849998  ...  1452.900024  1456.250000  17.879000\n",
              "\n",
              "[5 rows x 15 columns]"
            ]
          },
          "metadata": {
            "tags": []
          },
          "execution_count": 62
        }
      ]
    },
    {
      "cell_type": "markdown",
      "metadata": {
        "id": "mHcrH6lw1089",
        "colab_type": "text"
      },
      "source": [
        "#Serialize/Deserialize\n",
        "エンコーダのパラメータをPickleでシリアライズ/デシリアライズすることができます。"
      ]
    },
    {
      "cell_type": "code",
      "metadata": {
        "id": "vLuh7aiAwSix",
        "colab_type": "code",
        "colab": {
          "base_uri": "https://localhost:8080/",
          "height": 194
        },
        "outputId": "97995758-b09b-4d4b-b4cc-d2f034915f6f"
      },
      "source": [
        "import pickle\n",
        "\n",
        "df_train = pd.read_feather(\"data.ftr\").head(10)\n",
        "df_test = pd.read_feather(\"data.ftr\").tail(10)\n",
        "\n",
        "encoder = Pipeline([\n",
        "    SelectCategorical(exclude_cols=[]),\n",
        "    LabelEncoder(output_suffix=\"\"),\n",
        "])\n",
        "df_train_encoded = encoder.fit_transform(df_train)\n",
        "\n",
        "with open(\"label_encoder.pkl\", \"wb\") as f:\n",
        "    pickle.dump(encoder, f)\n",
        "    \n",
        "df_train_encoded.head()"
      ],
      "execution_count": 66,
      "outputs": [
        {
          "output_type": "execute_result",
          "data": {
            "text/html": [
              "<div>\n",
              "<style scoped>\n",
              "    .dataframe tbody tr th:only-of-type {\n",
              "        vertical-align: middle;\n",
              "    }\n",
              "\n",
              "    .dataframe tbody tr th {\n",
              "        vertical-align: top;\n",
              "    }\n",
              "\n",
              "    .dataframe thead th {\n",
              "        text-align: right;\n",
              "    }\n",
              "</style>\n",
              "<table border=\"1\" class=\"dataframe\">\n",
              "  <thead>\n",
              "    <tr style=\"text-align: right;\">\n",
              "      <th></th>\n",
              "      <th>cut</th>\n",
              "      <th>color</th>\n",
              "      <th>clarity</th>\n",
              "    </tr>\n",
              "  </thead>\n",
              "  <tbody>\n",
              "    <tr>\n",
              "      <th>0</th>\n",
              "      <td>0</td>\n",
              "      <td>0</td>\n",
              "      <td>0</td>\n",
              "    </tr>\n",
              "    <tr>\n",
              "      <th>1</th>\n",
              "      <td>1</td>\n",
              "      <td>0</td>\n",
              "      <td>1</td>\n",
              "    </tr>\n",
              "    <tr>\n",
              "      <th>2</th>\n",
              "      <td>2</td>\n",
              "      <td>0</td>\n",
              "      <td>2</td>\n",
              "    </tr>\n",
              "    <tr>\n",
              "      <th>3</th>\n",
              "      <td>1</td>\n",
              "      <td>1</td>\n",
              "      <td>3</td>\n",
              "    </tr>\n",
              "    <tr>\n",
              "      <th>4</th>\n",
              "      <td>2</td>\n",
              "      <td>2</td>\n",
              "      <td>0</td>\n",
              "    </tr>\n",
              "  </tbody>\n",
              "</table>\n",
              "</div>"
            ],
            "text/plain": [
              "   cut  color  clarity\n",
              "0    0      0        0\n",
              "1    1      0        1\n",
              "2    2      0        2\n",
              "3    1      1        3\n",
              "4    2      2        0"
            ]
          },
          "metadata": {
            "tags": []
          },
          "execution_count": 66
        }
      ]
    },
    {
      "cell_type": "code",
      "metadata": {
        "id": "fRzcYXsf2bSw",
        "colab_type": "code",
        "colab": {
          "base_uri": "https://localhost:8080/",
          "height": 194
        },
        "outputId": "dd22d0e3-3485-4c86-c245-bbf7cabbda88"
      },
      "source": [
        "with open(\"label_encoder.pkl\", \"rb\") as f:\n",
        "    encoder = pickle.load(f)\n",
        "\n",
        "encoder.transform(df_test).head()"
      ],
      "execution_count": 67,
      "outputs": [
        {
          "output_type": "execute_result",
          "data": {
            "text/html": [
              "<div>\n",
              "<style scoped>\n",
              "    .dataframe tbody tr th:only-of-type {\n",
              "        vertical-align: middle;\n",
              "    }\n",
              "\n",
              "    .dataframe tbody tr th {\n",
              "        vertical-align: top;\n",
              "    }\n",
              "\n",
              "    .dataframe thead th {\n",
              "        text-align: right;\n",
              "    }\n",
              "</style>\n",
              "<table border=\"1\" class=\"dataframe\">\n",
              "  <thead>\n",
              "    <tr style=\"text-align: right;\">\n",
              "      <th></th>\n",
              "      <th>cut</th>\n",
              "      <th>color</th>\n",
              "      <th>clarity</th>\n",
              "    </tr>\n",
              "  </thead>\n",
              "  <tbody>\n",
              "    <tr>\n",
              "      <th>53930</th>\n",
              "      <td>1</td>\n",
              "      <td>0</td>\n",
              "      <td>1</td>\n",
              "    </tr>\n",
              "    <tr>\n",
              "      <th>53931</th>\n",
              "      <td>1</td>\n",
              "      <td>-1</td>\n",
              "      <td>1</td>\n",
              "    </tr>\n",
              "    <tr>\n",
              "      <th>53932</th>\n",
              "      <td>3</td>\n",
              "      <td>0</td>\n",
              "      <td>3</td>\n",
              "    </tr>\n",
              "    <tr>\n",
              "      <th>53933</th>\n",
              "      <td>3</td>\n",
              "      <td>0</td>\n",
              "      <td>3</td>\n",
              "    </tr>\n",
              "    <tr>\n",
              "      <th>53934</th>\n",
              "      <td>1</td>\n",
              "      <td>-1</td>\n",
              "      <td>1</td>\n",
              "    </tr>\n",
              "  </tbody>\n",
              "</table>\n",
              "</div>"
            ],
            "text/plain": [
              "       cut  color  clarity\n",
              "53930    1      0        1\n",
              "53931    1     -1        1\n",
              "53932    3      0        3\n",
              "53933    3      0        3\n",
              "53934    1     -1        1"
            ]
          },
          "metadata": {
            "tags": []
          },
          "execution_count": 67
        }
      ]
    },
    {
      "cell_type": "code",
      "metadata": {
        "id": "6wCIBekg3a-b",
        "colab_type": "code",
        "colab": {}
      },
      "source": [
        ""
      ],
      "execution_count": null,
      "outputs": []
    }
  ]
}