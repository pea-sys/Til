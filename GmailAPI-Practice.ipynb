{
 "cells": [
  {
   "cell_type": "markdown",
   "metadata": {},
   "source": [
    "# 概要\n",
    "この前Twitter APIに触ってみた。今回はそれに引き続き、知識が横展開出来そうなGmailAPIを触ってみることにした。<br>\n",
    "[ここ](https://console.developers.google.com/flows/enableapi?apiid=gmail&pli=1)で認証情報を作成\n",
    "\n",
    "#### インストール\n",
    "pip install --upgrade google-api-python-client google-auth-httplib2 google-auth-oauthlib\n",
    "\n",
    "##### 参考URL\n",
    "* [公式Document](https://developers.google.com/gmail/api/quickstart/python)\n",
    "* [SCOPEの設定](https://developers.google.com/gmail/api/auth/scopes)\n"
   ]
  },
  {
   "cell_type": "markdown",
   "metadata": {},
   "source": [
    "#### QuickStart\n",
    "公式の[Set up the sample](https://developers.google.com/gmail/api/quickstart/python)を実行するとエラーが出た。<br>\n",
    "実行環境がC:\\Users配下であったため、\\U以降の文字列がエスケープシーケンスとして扱われた。<br>\n",
    "指定パスを書き換えてプレフィックスに'r'を付ければok。<br>\n",
    "実行するとGoogleアカウントを選択する画面が出るので選択する。<br>\n",
    "するとブラウザが開く<br>\n",
    "\n",
    "「このアプリは確認されていません。このアプリは、Google による確認が済んでいません。<br>\n",
    "よく知っている信頼できるデベロッパーの場合に限り続行してください。」と表示される。<br>\n",
    "下の方にリンク「アプリ名（安全ではないページ）に移動」と表示されているのでリンククリック。<br>\n",
    "アプリケーションにアクセス許可を与える確認メッセージが表示される。\n",
    "\n",
    "「The authentication flow has completed, you may close this window.」と表示されたら開発準備完了。"
   ]
  },
  {
   "cell_type": "markdown",
   "metadata": {},
   "source": [
    "#### Serviceインスタンス作成"
   ]
  },
  {
   "cell_type": "code",
   "execution_count": 57,
   "metadata": {},
   "outputs": [],
   "source": [
    "def getServiceInstance():\n",
    "    \"\"\"Shows basic usage of the Gmail API.\n",
    "    Lists the user's Gmail labels.\n",
    "    \"\"\"\n",
    "    creds = None\n",
    "    # The file token.pickle stores the user's access and refresh tokens, and is\n",
    "    # created automatically when the authorization flow completes for the first\n",
    "    # time.\n",
    "    if os.path.exists('token.pickle'):\n",
    "        with open('token.pickle', 'rb') as token:\n",
    "            creds = pickle.load(token)\n",
    "    # If there are no (valid) credentials available, let the user log in.\n",
    "    if not creds or not creds.valid:\n",
    "        if creds and creds.expired and creds.refresh_token:\n",
    "            creds.refresh(Request())\n",
    "        else:\n",
    "            flow = InstalledAppFlow.from_client_secrets_file(\n",
    "                r'C:\\Users\\XXXXXXX\\AppData\\Roaming\\Microsoft\\Windows\\Start Menu\\Programs\\Anaconda3 (64-bit)\\credentials.json', SCOPES)\n",
    "            creds = flow.run_local_server()\n",
    "        # Save the credentials for the next run\n",
    "        with open('token.pickle', 'wb') as token:\n",
    "            pickle.dump(creds, token)\n",
    "\n",
    "    return build('gmail', 'v1', credentials=creds)"
   ]
  },
  {
   "cell_type": "markdown",
   "metadata": {},
   "source": [
    "#### Draft"
   ]
  },
  {
   "cell_type": "code",
   "execution_count": 58,
   "metadata": {},
   "outputs": [],
   "source": [
    "import base64\n",
    "def draft(service, to_address, subject, body):\n",
    "    \n",
    "    message = MIMEMultipart()\n",
    "    message['to'] = to_address\n",
    "    message['from'] = 'me'\n",
    "    message['subject'] = subject\n",
    "\n",
    "    msg = MIMEText(body)\n",
    "    message.attach(msg)\n",
    "\n",
    "    raw = base64.urlsafe_b64encode(message.as_bytes())\n",
    "    raw = raw.decode()\n",
    "    message_body = {'raw': raw}\n",
    "\n",
    "    create_draft(service, 'me', message_body)"
   ]
  },
  {
   "cell_type": "code",
   "execution_count": 62,
   "metadata": {},
   "outputs": [
    {
     "name": "stdout",
     "output_type": "stream",
     "text": [
      "Draft id: r-6700808622318172887\n",
      "Draft message: {'id': '16bf5fbc5bbb0706', 'threadId': '16bf5fbc5bbb0706', 'labelIds': ['DRAFT']}\n"
     ]
    }
   ],
   "source": [
    "Myaddress='XXXXXX@gmail.com'\n",
    "message = create_message(Myaddress, Myaddress, 'subject', 'Hello')\n",
    "draft(getServiceInstance(),Myaddress,\"test\",'本文')"
   ]
  },
  {
   "cell_type": "markdown",
   "metadata": {},
   "source": [
    "#### Get"
   ]
  },
  {
   "cell_type": "code",
   "execution_count": 63,
   "metadata": {},
   "outputs": [],
   "source": [
    "def getMessageList(DateFrom,DateTo,MessageFrom):\n",
    "        service = getServiceInstance()\n",
    "\n",
    "        MessageList = []\n",
    "\n",
    "        query = ''\n",
    "\n",
    "        if DateFrom != None and DateFrom !=\"\":\n",
    "            query += 'after:' + DateFrom + ' '\n",
    "        if DateTo != None  and DateTo !=\"\":\n",
    "            query += 'before:' + DateTo + ' '\n",
    "        if MessageFrom != None and MessageFrom !=\"\":\n",
    "            query += 'From:' + MessageFrom + ' '\n",
    "\n",
    "        messageIDlist = service.users().messages().list(userId='me',maxResults=10,q=query).execute()\n",
    "        if messageIDlist['resultSizeEstimate'] == 0: \n",
    "            print(\"Message is not found\")\n",
    "            return MessageList\n",
    "        for message in messageIDlist['messages']:\n",
    "            row = {}\n",
    "            row['ID'] = message['id']\n",
    "            MessageDetail = service.users().messages().get(userId='me',id=message['id']).execute()\n",
    "            for header in MessageDetail['payload']['headers']:\n",
    "                if header['name'] == 'Date':\n",
    "                    row['Date'] = header['value'] \n",
    "                elif header['name'] == 'From':\n",
    "                    row['From'] = header['value']\n",
    "                elif header['name'] == 'Subject':\n",
    "                    row['Subject'] = header['value']\n",
    "            MessageList.append(row)\n",
    "        return MessageList"
   ]
  },
  {
   "cell_type": "code",
   "execution_count": 64,
   "metadata": {},
   "outputs": [
    {
     "name": "stdout",
     "output_type": "stream",
     "text": [
      "アマゾン、純利益63％増　初の30億ドル台\n",
      "IoT機器、防御を義務化　サイバー攻撃入り口封じ\n",
      "ゴーン元会長、潔白主張　強気崩さず「正当な決裁」\n",
      "ゴーン元会長、潔白主張　強気崩さず「正当な決裁」\n",
      "日産ゴーン元会長、逮捕後初のインタビュー\n",
      "アップル、中国発のスマホ不振　19年も減収避けられず\n",
      "アップル、10～12月0.5％減益　９四半期ぶり減収減益\n",
      "「１円スマホ」駆け込み販売　セット値引き禁止前に\n",
      "景気回復「戦後最長の可能性」　１月の月例経済報告\n",
      "企業の格下げ　 世界で増加\n"
     ]
    }
   ],
   "source": [
    "messages = getMessageList(DateFrom='2019-01-01',DateTo='2019-02-01',MessageFrom='nikkei-news@mx.nikkei.com')\n",
    "for message in messages:\n",
    "        print(message['Subject'])"
   ]
  },
  {
   "cell_type": "markdown",
   "metadata": {},
   "source": [
    "### 感想\n",
    "取り合えずgmailの下書きと受信トレイの検索をやってみた。\n",
    "Python2系と3系の違いから、コピペで動かないような所があった。\n",
    "Pythonは便利なのだが、インストールするべきライブラリが多すぎて詳細なデバッグが難しいように感じた。\n",
    "大体StackOverFlowとか公式githubのIssueの方法をトライアンドエラーで動かして、動作したらOKとしているが、\n",
    "こんなことは現在の職場でやってたら当然ながらレビューは通らないと思われる。\n",
    "企業としてプログラム製品の品質を担保するとき、Pythonではどのようなアプローチがされているのか興味ある。\n",
    "\n",
    "後は気になるのがLINE APIとgoogleドライブやスプレッドシートなどのAPIかな。\n",
    "ちょっとやりたいKaggleコンペがあったので、今回はこのへんで。"
   ]
  }
 ],
 "metadata": {
  "kernelspec": {
   "display_name": "Python 3",
   "language": "python",
   "name": "python3"
  },
  "language_info": {
   "codemirror_mode": {
    "name": "ipython",
    "version": 3
   },
   "file_extension": ".py",
   "mimetype": "text/x-python",
   "name": "python",
   "nbconvert_exporter": "python",
   "pygments_lexer": "ipython3",
   "version": "3.7.3"
  }
 },
 "nbformat": 4,
 "nbformat_minor": 2
}
