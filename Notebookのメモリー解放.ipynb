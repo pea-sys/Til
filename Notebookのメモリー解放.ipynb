{
  "nbformat": 4,
  "nbformat_minor": 0,
  "metadata": {
    "colab": {
      "provenance": [],
      "authorship_tag": "ABX9TyNHMOaHQL4cONFwVNhkSYBI",
      "include_colab_link": true
    },
    "kernelspec": {
      "name": "python3",
      "display_name": "Python 3"
    },
    "language_info": {
      "name": "python"
    }
  },
  "cells": [
    {
      "cell_type": "markdown",
      "metadata": {
        "id": "view-in-github",
        "colab_type": "text"
      },
      "source": [
        "<a href=\"https://colab.research.google.com/github/pea-sys/Til/blob/master/Notebook%E3%81%AE%E3%83%A1%E3%83%A2%E3%83%AA%E3%83%BC%E8%A7%A3%E6%94%BE.ipynb\" target=\"_parent\"><img src=\"https://colab.research.google.com/assets/colab-badge.svg\" alt=\"Open In Colab\"/></a>"
      ]
    },
    {
      "cell_type": "markdown",
      "source": [
        "こちらのノートブックの記載内容を試してみます\n",
        "\n",
        "https://www.kaggle.com/code/chumajin/memory-leakage-check?scriptVersionId=185373287"
      ],
      "metadata": {
        "id": "PtxCAlEHWVfW"
      }
    },
    {
      "cell_type": "code",
      "execution_count": 1,
      "metadata": {
        "id": "2IbWvNJ7VJLZ"
      },
      "outputs": [],
      "source": [
        "import pandas as pd\n",
        "import numpy as np\n",
        "import gc\n",
        "import time"
      ]
    },
    {
      "cell_type": "code",
      "source": [
        "!free -h"
      ],
      "metadata": {
        "id": "g27YTIkja9vf",
        "outputId": "81c81d99-729b-4c23-cce4-3dd86c6889f6",
        "colab": {
          "base_uri": "https://localhost:8080/"
        }
      },
      "execution_count": 2,
      "outputs": [
        {
          "output_type": "stream",
          "name": "stdout",
          "text": [
            "               total        used        free      shared  buff/cache   available\n",
            "Mem:            12Gi       587Mi       8.1Gi       1.0Mi       4.0Gi        11Gi\n",
            "Swap:             0B          0B          0B\n"
          ]
        }
      ]
    },
    {
      "cell_type": "code",
      "source": [
        "df = pd.DataFrame(np.arange(100000000).reshape(10000, 10000))"
      ],
      "metadata": {
        "id": "CPc-vpXTX1HA"
      },
      "execution_count": 3,
      "outputs": []
    },
    {
      "cell_type": "code",
      "source": [
        "!free -h"
      ],
      "metadata": {
        "colab": {
          "base_uri": "https://localhost:8080/"
        },
        "id": "FE6O4vn0X65e",
        "outputId": "05cfd2f9-bee3-4d9a-b8f7-d3092889a134"
      },
      "execution_count": 4,
      "outputs": [
        {
          "output_type": "stream",
          "name": "stdout",
          "text": [
            "               total        used        free      shared  buff/cache   available\n",
            "Mem:            12Gi       1.3Gi       7.3Gi       1.0Mi       4.0Gi        10Gi\n",
            "Swap:             0B          0B          0B\n"
          ]
        }
      ]
    },
    {
      "cell_type": "code",
      "source": [
        "print(df)"
      ],
      "metadata": {
        "colab": {
          "base_uri": "https://localhost:8080/"
        },
        "id": "IPKFQiNSYWI3",
        "outputId": "82ab986f-530c-406f-a132-c1bf8b046729"
      },
      "execution_count": 5,
      "outputs": [
        {
          "output_type": "stream",
          "name": "stdout",
          "text": [
            "          0         1         2         3         4         5         6     \\\n",
            "0            0         1         2         3         4         5         6   \n",
            "1        10000     10001     10002     10003     10004     10005     10006   \n",
            "2        20000     20001     20002     20003     20004     20005     20006   \n",
            "3        30000     30001     30002     30003     30004     30005     30006   \n",
            "4        40000     40001     40002     40003     40004     40005     40006   \n",
            "...        ...       ...       ...       ...       ...       ...       ...   \n",
            "9995  99950000  99950001  99950002  99950003  99950004  99950005  99950006   \n",
            "9996  99960000  99960001  99960002  99960003  99960004  99960005  99960006   \n",
            "9997  99970000  99970001  99970002  99970003  99970004  99970005  99970006   \n",
            "9998  99980000  99980001  99980002  99980003  99980004  99980005  99980006   \n",
            "9999  99990000  99990001  99990002  99990003  99990004  99990005  99990006   \n",
            "\n",
            "          7         8         9     ...      9990      9991      9992  \\\n",
            "0            7         8         9  ...      9990      9991      9992   \n",
            "1        10007     10008     10009  ...     19990     19991     19992   \n",
            "2        20007     20008     20009  ...     29990     29991     29992   \n",
            "3        30007     30008     30009  ...     39990     39991     39992   \n",
            "4        40007     40008     40009  ...     49990     49991     49992   \n",
            "...        ...       ...       ...  ...       ...       ...       ...   \n",
            "9995  99950007  99950008  99950009  ...  99959990  99959991  99959992   \n",
            "9996  99960007  99960008  99960009  ...  99969990  99969991  99969992   \n",
            "9997  99970007  99970008  99970009  ...  99979990  99979991  99979992   \n",
            "9998  99980007  99980008  99980009  ...  99989990  99989991  99989992   \n",
            "9999  99990007  99990008  99990009  ...  99999990  99999991  99999992   \n",
            "\n",
            "          9993      9994      9995      9996      9997      9998      9999  \n",
            "0         9993      9994      9995      9996      9997      9998      9999  \n",
            "1        19993     19994     19995     19996     19997     19998     19999  \n",
            "2        29993     29994     29995     29996     29997     29998     29999  \n",
            "3        39993     39994     39995     39996     39997     39998     39999  \n",
            "4        49993     49994     49995     49996     49997     49998     49999  \n",
            "...        ...       ...       ...       ...       ...       ...       ...  \n",
            "9995  99959993  99959994  99959995  99959996  99959997  99959998  99959999  \n",
            "9996  99969993  99969994  99969995  99969996  99969997  99969998  99969999  \n",
            "9997  99979993  99979994  99979995  99979996  99979997  99979998  99979999  \n",
            "9998  99989993  99989994  99989995  99989996  99989997  99989998  99989999  \n",
            "9999  99999993  99999994  99999995  99999996  99999997  99999998  99999999  \n",
            "\n",
            "[10000 rows x 10000 columns]\n"
          ]
        }
      ]
    },
    {
      "cell_type": "code",
      "source": [
        "del df\n",
        "gc.collect()"
      ],
      "metadata": {
        "id": "3Ku2b2wyYrGR",
        "colab": {
          "base_uri": "https://localhost:8080/"
        },
        "outputId": "dc49de10-664e-4e0b-a811-8d04b324c89b"
      },
      "execution_count": 6,
      "outputs": [
        {
          "output_type": "execute_result",
          "data": {
            "text/plain": [
              "0"
            ]
          },
          "metadata": {},
          "execution_count": 6
        }
      ]
    },
    {
      "cell_type": "code",
      "source": [
        "!free -h"
      ],
      "metadata": {
        "colab": {
          "base_uri": "https://localhost:8080/"
        },
        "id": "gdlQM3HxYwgO",
        "outputId": "f0af7bea-27d8-41eb-9959-d0d054ce3e6a"
      },
      "execution_count": 7,
      "outputs": [
        {
          "output_type": "stream",
          "name": "stdout",
          "text": [
            "               total        used        free      shared  buff/cache   available\n",
            "Mem:            12Gi       1.3Gi       7.3Gi       1.0Mi       4.0Gi        10Gi\n",
            "Swap:             0B          0B          0B\n"
          ]
        }
      ]
    },
    {
      "cell_type": "code",
      "source": [
        "pd.DataFrame(np.arange(100000000).reshape(10000, 10000))"
      ],
      "metadata": {
        "id": "5Pn7M27wa3ob",
        "colab": {
          "base_uri": "https://localhost:8080/",
          "height": 444
        },
        "outputId": "db0abdba-c380-48cd-9921-17aee329aa3e"
      },
      "execution_count": 8,
      "outputs": [
        {
          "output_type": "execute_result",
          "data": {
            "text/plain": [
              "          0         1         2         3         4         5         6     \\\n",
              "0            0         1         2         3         4         5         6   \n",
              "1        10000     10001     10002     10003     10004     10005     10006   \n",
              "2        20000     20001     20002     20003     20004     20005     20006   \n",
              "3        30000     30001     30002     30003     30004     30005     30006   \n",
              "4        40000     40001     40002     40003     40004     40005     40006   \n",
              "...        ...       ...       ...       ...       ...       ...       ...   \n",
              "9995  99950000  99950001  99950002  99950003  99950004  99950005  99950006   \n",
              "9996  99960000  99960001  99960002  99960003  99960004  99960005  99960006   \n",
              "9997  99970000  99970001  99970002  99970003  99970004  99970005  99970006   \n",
              "9998  99980000  99980001  99980002  99980003  99980004  99980005  99980006   \n",
              "9999  99990000  99990001  99990002  99990003  99990004  99990005  99990006   \n",
              "\n",
              "          7         8         9     ...      9990      9991      9992  \\\n",
              "0            7         8         9  ...      9990      9991      9992   \n",
              "1        10007     10008     10009  ...     19990     19991     19992   \n",
              "2        20007     20008     20009  ...     29990     29991     29992   \n",
              "3        30007     30008     30009  ...     39990     39991     39992   \n",
              "4        40007     40008     40009  ...     49990     49991     49992   \n",
              "...        ...       ...       ...  ...       ...       ...       ...   \n",
              "9995  99950007  99950008  99950009  ...  99959990  99959991  99959992   \n",
              "9996  99960007  99960008  99960009  ...  99969990  99969991  99969992   \n",
              "9997  99970007  99970008  99970009  ...  99979990  99979991  99979992   \n",
              "9998  99980007  99980008  99980009  ...  99989990  99989991  99989992   \n",
              "9999  99990007  99990008  99990009  ...  99999990  99999991  99999992   \n",
              "\n",
              "          9993      9994      9995      9996      9997      9998      9999  \n",
              "0         9993      9994      9995      9996      9997      9998      9999  \n",
              "1        19993     19994     19995     19996     19997     19998     19999  \n",
              "2        29993     29994     29995     29996     29997     29998     29999  \n",
              "3        39993     39994     39995     39996     39997     39998     39999  \n",
              "4        49993     49994     49995     49996     49997     49998     49999  \n",
              "...        ...       ...       ...       ...       ...       ...       ...  \n",
              "9995  99959993  99959994  99959995  99959996  99959997  99959998  99959999  \n",
              "9996  99969993  99969994  99969995  99969996  99969997  99969998  99969999  \n",
              "9997  99979993  99979994  99979995  99979996  99979997  99979998  99979999  \n",
              "9998  99989993  99989994  99989995  99989996  99989997  99989998  99989999  \n",
              "9999  99999993  99999994  99999995  99999996  99999997  99999998  99999999  \n",
              "\n",
              "[10000 rows x 10000 columns]"
            ],
            "text/html": [
              "\n",
              "  <div id=\"df-554c9bce-a2a4-4831-9472-7f763d86d11c\" class=\"colab-df-container\">\n",
              "    <div>\n",
              "<style scoped>\n",
              "    .dataframe tbody tr th:only-of-type {\n",
              "        vertical-align: middle;\n",
              "    }\n",
              "\n",
              "    .dataframe tbody tr th {\n",
              "        vertical-align: top;\n",
              "    }\n",
              "\n",
              "    .dataframe thead th {\n",
              "        text-align: right;\n",
              "    }\n",
              "</style>\n",
              "<table border=\"1\" class=\"dataframe\">\n",
              "  <thead>\n",
              "    <tr style=\"text-align: right;\">\n",
              "      <th></th>\n",
              "      <th>0</th>\n",
              "      <th>1</th>\n",
              "      <th>2</th>\n",
              "      <th>3</th>\n",
              "      <th>4</th>\n",
              "      <th>5</th>\n",
              "      <th>6</th>\n",
              "      <th>7</th>\n",
              "      <th>8</th>\n",
              "      <th>9</th>\n",
              "      <th>...</th>\n",
              "      <th>9990</th>\n",
              "      <th>9991</th>\n",
              "      <th>9992</th>\n",
              "      <th>9993</th>\n",
              "      <th>9994</th>\n",
              "      <th>9995</th>\n",
              "      <th>9996</th>\n",
              "      <th>9997</th>\n",
              "      <th>9998</th>\n",
              "      <th>9999</th>\n",
              "    </tr>\n",
              "  </thead>\n",
              "  <tbody>\n",
              "    <tr>\n",
              "      <th>0</th>\n",
              "      <td>0</td>\n",
              "      <td>1</td>\n",
              "      <td>2</td>\n",
              "      <td>3</td>\n",
              "      <td>4</td>\n",
              "      <td>5</td>\n",
              "      <td>6</td>\n",
              "      <td>7</td>\n",
              "      <td>8</td>\n",
              "      <td>9</td>\n",
              "      <td>...</td>\n",
              "      <td>9990</td>\n",
              "      <td>9991</td>\n",
              "      <td>9992</td>\n",
              "      <td>9993</td>\n",
              "      <td>9994</td>\n",
              "      <td>9995</td>\n",
              "      <td>9996</td>\n",
              "      <td>9997</td>\n",
              "      <td>9998</td>\n",
              "      <td>9999</td>\n",
              "    </tr>\n",
              "    <tr>\n",
              "      <th>1</th>\n",
              "      <td>10000</td>\n",
              "      <td>10001</td>\n",
              "      <td>10002</td>\n",
              "      <td>10003</td>\n",
              "      <td>10004</td>\n",
              "      <td>10005</td>\n",
              "      <td>10006</td>\n",
              "      <td>10007</td>\n",
              "      <td>10008</td>\n",
              "      <td>10009</td>\n",
              "      <td>...</td>\n",
              "      <td>19990</td>\n",
              "      <td>19991</td>\n",
              "      <td>19992</td>\n",
              "      <td>19993</td>\n",
              "      <td>19994</td>\n",
              "      <td>19995</td>\n",
              "      <td>19996</td>\n",
              "      <td>19997</td>\n",
              "      <td>19998</td>\n",
              "      <td>19999</td>\n",
              "    </tr>\n",
              "    <tr>\n",
              "      <th>2</th>\n",
              "      <td>20000</td>\n",
              "      <td>20001</td>\n",
              "      <td>20002</td>\n",
              "      <td>20003</td>\n",
              "      <td>20004</td>\n",
              "      <td>20005</td>\n",
              "      <td>20006</td>\n",
              "      <td>20007</td>\n",
              "      <td>20008</td>\n",
              "      <td>20009</td>\n",
              "      <td>...</td>\n",
              "      <td>29990</td>\n",
              "      <td>29991</td>\n",
              "      <td>29992</td>\n",
              "      <td>29993</td>\n",
              "      <td>29994</td>\n",
              "      <td>29995</td>\n",
              "      <td>29996</td>\n",
              "      <td>29997</td>\n",
              "      <td>29998</td>\n",
              "      <td>29999</td>\n",
              "    </tr>\n",
              "    <tr>\n",
              "      <th>3</th>\n",
              "      <td>30000</td>\n",
              "      <td>30001</td>\n",
              "      <td>30002</td>\n",
              "      <td>30003</td>\n",
              "      <td>30004</td>\n",
              "      <td>30005</td>\n",
              "      <td>30006</td>\n",
              "      <td>30007</td>\n",
              "      <td>30008</td>\n",
              "      <td>30009</td>\n",
              "      <td>...</td>\n",
              "      <td>39990</td>\n",
              "      <td>39991</td>\n",
              "      <td>39992</td>\n",
              "      <td>39993</td>\n",
              "      <td>39994</td>\n",
              "      <td>39995</td>\n",
              "      <td>39996</td>\n",
              "      <td>39997</td>\n",
              "      <td>39998</td>\n",
              "      <td>39999</td>\n",
              "    </tr>\n",
              "    <tr>\n",
              "      <th>4</th>\n",
              "      <td>40000</td>\n",
              "      <td>40001</td>\n",
              "      <td>40002</td>\n",
              "      <td>40003</td>\n",
              "      <td>40004</td>\n",
              "      <td>40005</td>\n",
              "      <td>40006</td>\n",
              "      <td>40007</td>\n",
              "      <td>40008</td>\n",
              "      <td>40009</td>\n",
              "      <td>...</td>\n",
              "      <td>49990</td>\n",
              "      <td>49991</td>\n",
              "      <td>49992</td>\n",
              "      <td>49993</td>\n",
              "      <td>49994</td>\n",
              "      <td>49995</td>\n",
              "      <td>49996</td>\n",
              "      <td>49997</td>\n",
              "      <td>49998</td>\n",
              "      <td>49999</td>\n",
              "    </tr>\n",
              "    <tr>\n",
              "      <th>...</th>\n",
              "      <td>...</td>\n",
              "      <td>...</td>\n",
              "      <td>...</td>\n",
              "      <td>...</td>\n",
              "      <td>...</td>\n",
              "      <td>...</td>\n",
              "      <td>...</td>\n",
              "      <td>...</td>\n",
              "      <td>...</td>\n",
              "      <td>...</td>\n",
              "      <td>...</td>\n",
              "      <td>...</td>\n",
              "      <td>...</td>\n",
              "      <td>...</td>\n",
              "      <td>...</td>\n",
              "      <td>...</td>\n",
              "      <td>...</td>\n",
              "      <td>...</td>\n",
              "      <td>...</td>\n",
              "      <td>...</td>\n",
              "      <td>...</td>\n",
              "    </tr>\n",
              "    <tr>\n",
              "      <th>9995</th>\n",
              "      <td>99950000</td>\n",
              "      <td>99950001</td>\n",
              "      <td>99950002</td>\n",
              "      <td>99950003</td>\n",
              "      <td>99950004</td>\n",
              "      <td>99950005</td>\n",
              "      <td>99950006</td>\n",
              "      <td>99950007</td>\n",
              "      <td>99950008</td>\n",
              "      <td>99950009</td>\n",
              "      <td>...</td>\n",
              "      <td>99959990</td>\n",
              "      <td>99959991</td>\n",
              "      <td>99959992</td>\n",
              "      <td>99959993</td>\n",
              "      <td>99959994</td>\n",
              "      <td>99959995</td>\n",
              "      <td>99959996</td>\n",
              "      <td>99959997</td>\n",
              "      <td>99959998</td>\n",
              "      <td>99959999</td>\n",
              "    </tr>\n",
              "    <tr>\n",
              "      <th>9996</th>\n",
              "      <td>99960000</td>\n",
              "      <td>99960001</td>\n",
              "      <td>99960002</td>\n",
              "      <td>99960003</td>\n",
              "      <td>99960004</td>\n",
              "      <td>99960005</td>\n",
              "      <td>99960006</td>\n",
              "      <td>99960007</td>\n",
              "      <td>99960008</td>\n",
              "      <td>99960009</td>\n",
              "      <td>...</td>\n",
              "      <td>99969990</td>\n",
              "      <td>99969991</td>\n",
              "      <td>99969992</td>\n",
              "      <td>99969993</td>\n",
              "      <td>99969994</td>\n",
              "      <td>99969995</td>\n",
              "      <td>99969996</td>\n",
              "      <td>99969997</td>\n",
              "      <td>99969998</td>\n",
              "      <td>99969999</td>\n",
              "    </tr>\n",
              "    <tr>\n",
              "      <th>9997</th>\n",
              "      <td>99970000</td>\n",
              "      <td>99970001</td>\n",
              "      <td>99970002</td>\n",
              "      <td>99970003</td>\n",
              "      <td>99970004</td>\n",
              "      <td>99970005</td>\n",
              "      <td>99970006</td>\n",
              "      <td>99970007</td>\n",
              "      <td>99970008</td>\n",
              "      <td>99970009</td>\n",
              "      <td>...</td>\n",
              "      <td>99979990</td>\n",
              "      <td>99979991</td>\n",
              "      <td>99979992</td>\n",
              "      <td>99979993</td>\n",
              "      <td>99979994</td>\n",
              "      <td>99979995</td>\n",
              "      <td>99979996</td>\n",
              "      <td>99979997</td>\n",
              "      <td>99979998</td>\n",
              "      <td>99979999</td>\n",
              "    </tr>\n",
              "    <tr>\n",
              "      <th>9998</th>\n",
              "      <td>99980000</td>\n",
              "      <td>99980001</td>\n",
              "      <td>99980002</td>\n",
              "      <td>99980003</td>\n",
              "      <td>99980004</td>\n",
              "      <td>99980005</td>\n",
              "      <td>99980006</td>\n",
              "      <td>99980007</td>\n",
              "      <td>99980008</td>\n",
              "      <td>99980009</td>\n",
              "      <td>...</td>\n",
              "      <td>99989990</td>\n",
              "      <td>99989991</td>\n",
              "      <td>99989992</td>\n",
              "      <td>99989993</td>\n",
              "      <td>99989994</td>\n",
              "      <td>99989995</td>\n",
              "      <td>99989996</td>\n",
              "      <td>99989997</td>\n",
              "      <td>99989998</td>\n",
              "      <td>99989999</td>\n",
              "    </tr>\n",
              "    <tr>\n",
              "      <th>9999</th>\n",
              "      <td>99990000</td>\n",
              "      <td>99990001</td>\n",
              "      <td>99990002</td>\n",
              "      <td>99990003</td>\n",
              "      <td>99990004</td>\n",
              "      <td>99990005</td>\n",
              "      <td>99990006</td>\n",
              "      <td>99990007</td>\n",
              "      <td>99990008</td>\n",
              "      <td>99990009</td>\n",
              "      <td>...</td>\n",
              "      <td>99999990</td>\n",
              "      <td>99999991</td>\n",
              "      <td>99999992</td>\n",
              "      <td>99999993</td>\n",
              "      <td>99999994</td>\n",
              "      <td>99999995</td>\n",
              "      <td>99999996</td>\n",
              "      <td>99999997</td>\n",
              "      <td>99999998</td>\n",
              "      <td>99999999</td>\n",
              "    </tr>\n",
              "  </tbody>\n",
              "</table>\n",
              "<p>10000 rows × 10000 columns</p>\n",
              "</div>\n",
              "    <div class=\"colab-df-buttons\">\n",
              "\n",
              "  <div class=\"colab-df-container\">\n",
              "    <button class=\"colab-df-convert\" onclick=\"convertToInteractive('df-554c9bce-a2a4-4831-9472-7f763d86d11c')\"\n",
              "            title=\"Convert this dataframe to an interactive table.\"\n",
              "            style=\"display:none;\">\n",
              "\n",
              "  <svg xmlns=\"http://www.w3.org/2000/svg\" height=\"24px\" viewBox=\"0 -960 960 960\">\n",
              "    <path d=\"M120-120v-720h720v720H120Zm60-500h600v-160H180v160Zm220 220h160v-160H400v160Zm0 220h160v-160H400v160ZM180-400h160v-160H180v160Zm440 0h160v-160H620v160ZM180-180h160v-160H180v160Zm440 0h160v-160H620v160Z\"/>\n",
              "  </svg>\n",
              "    </button>\n",
              "\n",
              "  <style>\n",
              "    .colab-df-container {\n",
              "      display:flex;\n",
              "      gap: 12px;\n",
              "    }\n",
              "\n",
              "    .colab-df-convert {\n",
              "      background-color: #E8F0FE;\n",
              "      border: none;\n",
              "      border-radius: 50%;\n",
              "      cursor: pointer;\n",
              "      display: none;\n",
              "      fill: #1967D2;\n",
              "      height: 32px;\n",
              "      padding: 0 0 0 0;\n",
              "      width: 32px;\n",
              "    }\n",
              "\n",
              "    .colab-df-convert:hover {\n",
              "      background-color: #E2EBFA;\n",
              "      box-shadow: 0px 1px 2px rgba(60, 64, 67, 0.3), 0px 1px 3px 1px rgba(60, 64, 67, 0.15);\n",
              "      fill: #174EA6;\n",
              "    }\n",
              "\n",
              "    .colab-df-buttons div {\n",
              "      margin-bottom: 4px;\n",
              "    }\n",
              "\n",
              "    [theme=dark] .colab-df-convert {\n",
              "      background-color: #3B4455;\n",
              "      fill: #D2E3FC;\n",
              "    }\n",
              "\n",
              "    [theme=dark] .colab-df-convert:hover {\n",
              "      background-color: #434B5C;\n",
              "      box-shadow: 0px 1px 3px 1px rgba(0, 0, 0, 0.15);\n",
              "      filter: drop-shadow(0px 1px 2px rgba(0, 0, 0, 0.3));\n",
              "      fill: #FFFFFF;\n",
              "    }\n",
              "  </style>\n",
              "\n",
              "    <script>\n",
              "      const buttonEl =\n",
              "        document.querySelector('#df-554c9bce-a2a4-4831-9472-7f763d86d11c button.colab-df-convert');\n",
              "      buttonEl.style.display =\n",
              "        google.colab.kernel.accessAllowed ? 'block' : 'none';\n",
              "\n",
              "      async function convertToInteractive(key) {\n",
              "        const element = document.querySelector('#df-554c9bce-a2a4-4831-9472-7f763d86d11c');\n",
              "        const dataTable =\n",
              "          await google.colab.kernel.invokeFunction('convertToInteractive',\n",
              "                                                    [key], {});\n",
              "        if (!dataTable) return;\n",
              "\n",
              "        const docLinkHtml = 'Like what you see? Visit the ' +\n",
              "          '<a target=\"_blank\" href=https://colab.research.google.com/notebooks/data_table.ipynb>data table notebook</a>'\n",
              "          + ' to learn more about interactive tables.';\n",
              "        element.innerHTML = '';\n",
              "        dataTable['output_type'] = 'display_data';\n",
              "        await google.colab.output.renderOutput(dataTable, element);\n",
              "        const docLink = document.createElement('div');\n",
              "        docLink.innerHTML = docLinkHtml;\n",
              "        element.appendChild(docLink);\n",
              "      }\n",
              "    </script>\n",
              "  </div>\n",
              "\n",
              "\n",
              "<div id=\"df-c7bf45b4-6ea6-49c2-a9d9-46a4cd6baccd\">\n",
              "  <button class=\"colab-df-quickchart\" onclick=\"quickchart('df-c7bf45b4-6ea6-49c2-a9d9-46a4cd6baccd')\"\n",
              "            title=\"Suggest charts\"\n",
              "            style=\"display:none;\">\n",
              "\n",
              "<svg xmlns=\"http://www.w3.org/2000/svg\" height=\"24px\"viewBox=\"0 0 24 24\"\n",
              "     width=\"24px\">\n",
              "    <g>\n",
              "        <path d=\"M19 3H5c-1.1 0-2 .9-2 2v14c0 1.1.9 2 2 2h14c1.1 0 2-.9 2-2V5c0-1.1-.9-2-2-2zM9 17H7v-7h2v7zm4 0h-2V7h2v10zm4 0h-2v-4h2v4z\"/>\n",
              "    </g>\n",
              "</svg>\n",
              "  </button>\n",
              "\n",
              "<style>\n",
              "  .colab-df-quickchart {\n",
              "      --bg-color: #E8F0FE;\n",
              "      --fill-color: #1967D2;\n",
              "      --hover-bg-color: #E2EBFA;\n",
              "      --hover-fill-color: #174EA6;\n",
              "      --disabled-fill-color: #AAA;\n",
              "      --disabled-bg-color: #DDD;\n",
              "  }\n",
              "\n",
              "  [theme=dark] .colab-df-quickchart {\n",
              "      --bg-color: #3B4455;\n",
              "      --fill-color: #D2E3FC;\n",
              "      --hover-bg-color: #434B5C;\n",
              "      --hover-fill-color: #FFFFFF;\n",
              "      --disabled-bg-color: #3B4455;\n",
              "      --disabled-fill-color: #666;\n",
              "  }\n",
              "\n",
              "  .colab-df-quickchart {\n",
              "    background-color: var(--bg-color);\n",
              "    border: none;\n",
              "    border-radius: 50%;\n",
              "    cursor: pointer;\n",
              "    display: none;\n",
              "    fill: var(--fill-color);\n",
              "    height: 32px;\n",
              "    padding: 0;\n",
              "    width: 32px;\n",
              "  }\n",
              "\n",
              "  .colab-df-quickchart:hover {\n",
              "    background-color: var(--hover-bg-color);\n",
              "    box-shadow: 0 1px 2px rgba(60, 64, 67, 0.3), 0 1px 3px 1px rgba(60, 64, 67, 0.15);\n",
              "    fill: var(--button-hover-fill-color);\n",
              "  }\n",
              "\n",
              "  .colab-df-quickchart-complete:disabled,\n",
              "  .colab-df-quickchart-complete:disabled:hover {\n",
              "    background-color: var(--disabled-bg-color);\n",
              "    fill: var(--disabled-fill-color);\n",
              "    box-shadow: none;\n",
              "  }\n",
              "\n",
              "  .colab-df-spinner {\n",
              "    border: 2px solid var(--fill-color);\n",
              "    border-color: transparent;\n",
              "    border-bottom-color: var(--fill-color);\n",
              "    animation:\n",
              "      spin 1s steps(1) infinite;\n",
              "  }\n",
              "\n",
              "  @keyframes spin {\n",
              "    0% {\n",
              "      border-color: transparent;\n",
              "      border-bottom-color: var(--fill-color);\n",
              "      border-left-color: var(--fill-color);\n",
              "    }\n",
              "    20% {\n",
              "      border-color: transparent;\n",
              "      border-left-color: var(--fill-color);\n",
              "      border-top-color: var(--fill-color);\n",
              "    }\n",
              "    30% {\n",
              "      border-color: transparent;\n",
              "      border-left-color: var(--fill-color);\n",
              "      border-top-color: var(--fill-color);\n",
              "      border-right-color: var(--fill-color);\n",
              "    }\n",
              "    40% {\n",
              "      border-color: transparent;\n",
              "      border-right-color: var(--fill-color);\n",
              "      border-top-color: var(--fill-color);\n",
              "    }\n",
              "    60% {\n",
              "      border-color: transparent;\n",
              "      border-right-color: var(--fill-color);\n",
              "    }\n",
              "    80% {\n",
              "      border-color: transparent;\n",
              "      border-right-color: var(--fill-color);\n",
              "      border-bottom-color: var(--fill-color);\n",
              "    }\n",
              "    90% {\n",
              "      border-color: transparent;\n",
              "      border-bottom-color: var(--fill-color);\n",
              "    }\n",
              "  }\n",
              "</style>\n",
              "\n",
              "  <script>\n",
              "    async function quickchart(key) {\n",
              "      const quickchartButtonEl =\n",
              "        document.querySelector('#' + key + ' button');\n",
              "      quickchartButtonEl.disabled = true;  // To prevent multiple clicks.\n",
              "      quickchartButtonEl.classList.add('colab-df-spinner');\n",
              "      try {\n",
              "        const charts = await google.colab.kernel.invokeFunction(\n",
              "            'suggestCharts', [key], {});\n",
              "      } catch (error) {\n",
              "        console.error('Error during call to suggestCharts:', error);\n",
              "      }\n",
              "      quickchartButtonEl.classList.remove('colab-df-spinner');\n",
              "      quickchartButtonEl.classList.add('colab-df-quickchart-complete');\n",
              "    }\n",
              "    (() => {\n",
              "      let quickchartButtonEl =\n",
              "        document.querySelector('#df-c7bf45b4-6ea6-49c2-a9d9-46a4cd6baccd button');\n",
              "      quickchartButtonEl.style.display =\n",
              "        google.colab.kernel.accessAllowed ? 'block' : 'none';\n",
              "    })();\n",
              "  </script>\n",
              "</div>\n",
              "\n",
              "    </div>\n",
              "  </div>\n"
            ],
            "application/vnd.google.colaboratory.intrinsic+json": {
              "type": "dataframe"
            }
          },
          "metadata": {},
          "execution_count": 8
        }
      ]
    },
    {
      "cell_type": "code",
      "source": [
        "!free -h"
      ],
      "metadata": {
        "colab": {
          "base_uri": "https://localhost:8080/"
        },
        "id": "Ib7KrketQTT6",
        "outputId": "a82df1a3-7378-4629-fee9-90b1db4d365d"
      },
      "execution_count": 9,
      "outputs": [
        {
          "output_type": "stream",
          "name": "stdout",
          "text": [
            "               total        used        free      shared  buff/cache   available\n",
            "Mem:            12Gi       1.4Gi       7.3Gi       1.0Mi       4.0Gi        10Gi\n",
            "Swap:             0B          0B          0B\n"
          ]
        }
      ]
    },
    {
      "cell_type": "code",
      "source": [
        "#NotebookはCellオブジェクトに出力が保存されている場合がある\n",
        "%reset -f out\n",
        "gc.collect()"
      ],
      "metadata": {
        "id": "toAEsP8IXgnl",
        "colab": {
          "base_uri": "https://localhost:8080/"
        },
        "outputId": "3c110e99-e3b7-420c-fb1d-066d2d500b8e"
      },
      "execution_count": 10,
      "outputs": [
        {
          "output_type": "stream",
          "name": "stdout",
          "text": [
            "Flushing output cache (2 entries)\n"
          ]
        },
        {
          "output_type": "execute_result",
          "data": {
            "text/plain": [
              "0"
            ]
          },
          "metadata": {},
          "execution_count": 10
        }
      ]
    },
    {
      "cell_type": "code",
      "source": [
        "!free -h"
      ],
      "metadata": {
        "colab": {
          "base_uri": "https://localhost:8080/"
        },
        "id": "VgD7HEZIbwn0",
        "outputId": "ff87b068-4d2d-422e-db79-210b4fd58118"
      },
      "execution_count": 11,
      "outputs": [
        {
          "output_type": "stream",
          "name": "stdout",
          "text": [
            "               total        used        free      shared  buff/cache   available\n",
            "Mem:            12Gi       1.4Gi       7.2Gi       1.0Mi       4.1Gi        10Gi\n",
            "Swap:             0B          0B          0B\n"
          ]
        }
      ]
    },
    {
      "cell_type": "markdown",
      "source": [
        "まだ全然解放できていないように見える  \n",
        "何にせよセルにオブジェクトを渡すのは宜しくない慣習"
      ],
      "metadata": {
        "id": "XhFGIoJ8mfcl"
      }
    },
    {
      "cell_type": "code",
      "source": [],
      "metadata": {
        "id": "2oJiJylbl5F5"
      },
      "execution_count": 11,
      "outputs": []
    }
  ]
}