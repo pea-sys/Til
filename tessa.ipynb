{
  "nbformat": 4,
  "nbformat_minor": 0,
  "metadata": {
    "colab": {
      "provenance": [],
      "authorship_tag": "ABX9TyNQ7bzc4Jn6SCFsiJKxW1jY",
      "include_colab_link": true
    },
    "kernelspec": {
      "name": "python3",
      "display_name": "Python 3"
    },
    "language_info": {
      "name": "python"
    }
  },
  "cells": [
    {
      "cell_type": "markdown",
      "metadata": {
        "id": "view-in-github",
        "colab_type": "text"
      },
      "source": [
        "<a href=\"https://colab.research.google.com/github/pea-sys/Til/blob/master/tessa.ipynb\" target=\"_parent\"><img src=\"https://colab.research.google.com/assets/colab-badge.svg\" alt=\"Open In Colab\"/></a>"
      ]
    },
    {
      "cell_type": "markdown",
      "source": [
        "tessa はyfinanceと pycoingeckoに基づいて構築されており、簡素化された統合インターフェイスを提供します"
      ],
      "metadata": {
        "id": "SFbJELWkdICp"
      }
    },
    {
      "cell_type": "code",
      "execution_count": 1,
      "metadata": {
        "colab": {
          "base_uri": "https://localhost:8080/"
        },
        "id": "-QEn09cYBpvx",
        "outputId": "625284aa-8d55-4712-fa0c-dd2ac711e67e"
      },
      "outputs": [
        {
          "output_type": "stream",
          "name": "stdout",
          "text": [
            "Requirement already satisfied: tessa in /usr/local/lib/python3.10/dist-packages (0.8.1)\n",
            "Requirement already satisfied: PyYAML>=6 in /usr/local/lib/python3.10/dist-packages (from tessa) (6.0.1)\n",
            "Requirement already satisfied: beautifulsoup4<5.0.0,>=4.11.1 in /usr/local/lib/python3.10/dist-packages (from tessa) (4.12.3)\n",
            "Requirement already satisfied: matplotlib>=3.5 in /usr/local/lib/python3.10/dist-packages (from tessa) (3.7.1)\n",
            "Requirement already satisfied: pendulum>=2.1 in /usr/local/lib/python3.10/dist-packages (from tessa) (3.0.0)\n",
            "Requirement already satisfied: pycoingecko>=2.2 in /usr/local/lib/python3.10/dist-packages (from tessa) (3.1.0)\n",
            "Requirement already satisfied: seaborn>=0.11 in /usr/local/lib/python3.10/dist-packages (from tessa) (0.13.1)\n",
            "Requirement already satisfied: yfinance<0.3.0,>=0.2.3 in /usr/local/lib/python3.10/dist-packages (from tessa) (0.2.37)\n",
            "Requirement already satisfied: soupsieve>1.2 in /usr/local/lib/python3.10/dist-packages (from beautifulsoup4<5.0.0,>=4.11.1->tessa) (2.5)\n",
            "Requirement already satisfied: contourpy>=1.0.1 in /usr/local/lib/python3.10/dist-packages (from matplotlib>=3.5->tessa) (1.2.0)\n",
            "Requirement already satisfied: cycler>=0.10 in /usr/local/lib/python3.10/dist-packages (from matplotlib>=3.5->tessa) (0.12.1)\n",
            "Requirement already satisfied: fonttools>=4.22.0 in /usr/local/lib/python3.10/dist-packages (from matplotlib>=3.5->tessa) (4.49.0)\n",
            "Requirement already satisfied: kiwisolver>=1.0.1 in /usr/local/lib/python3.10/dist-packages (from matplotlib>=3.5->tessa) (1.4.5)\n",
            "Requirement already satisfied: numpy>=1.20 in /usr/local/lib/python3.10/dist-packages (from matplotlib>=3.5->tessa) (1.25.2)\n",
            "Requirement already satisfied: packaging>=20.0 in /usr/local/lib/python3.10/dist-packages (from matplotlib>=3.5->tessa) (23.2)\n",
            "Requirement already satisfied: pillow>=6.2.0 in /usr/local/lib/python3.10/dist-packages (from matplotlib>=3.5->tessa) (9.4.0)\n",
            "Requirement already satisfied: pyparsing>=2.3.1 in /usr/local/lib/python3.10/dist-packages (from matplotlib>=3.5->tessa) (3.1.1)\n",
            "Requirement already satisfied: python-dateutil>=2.7 in /usr/local/lib/python3.10/dist-packages (from matplotlib>=3.5->tessa) (2.8.2)\n",
            "Requirement already satisfied: tzdata>=2020.1 in /usr/local/lib/python3.10/dist-packages (from pendulum>=2.1->tessa) (2024.1)\n",
            "Requirement already satisfied: time-machine>=2.6.0 in /usr/local/lib/python3.10/dist-packages (from pendulum>=2.1->tessa) (2.13.0)\n",
            "Requirement already satisfied: requests in /usr/local/lib/python3.10/dist-packages (from pycoingecko>=2.2->tessa) (2.31.0)\n",
            "Requirement already satisfied: pandas>=1.2 in /usr/local/lib/python3.10/dist-packages (from seaborn>=0.11->tessa) (1.5.3)\n",
            "Requirement already satisfied: multitasking>=0.0.7 in /usr/local/lib/python3.10/dist-packages (from yfinance<0.3.0,>=0.2.3->tessa) (0.0.11)\n",
            "Requirement already satisfied: lxml>=4.9.1 in /usr/local/lib/python3.10/dist-packages (from yfinance<0.3.0,>=0.2.3->tessa) (4.9.4)\n",
            "Requirement already satisfied: appdirs>=1.4.4 in /usr/local/lib/python3.10/dist-packages (from yfinance<0.3.0,>=0.2.3->tessa) (1.4.4)\n",
            "Requirement already satisfied: pytz>=2022.5 in /usr/local/lib/python3.10/dist-packages (from yfinance<0.3.0,>=0.2.3->tessa) (2023.4)\n",
            "Requirement already satisfied: frozendict>=2.3.4 in /usr/local/lib/python3.10/dist-packages (from yfinance<0.3.0,>=0.2.3->tessa) (2.4.0)\n",
            "Requirement already satisfied: peewee>=3.16.2 in /usr/local/lib/python3.10/dist-packages (from yfinance<0.3.0,>=0.2.3->tessa) (3.17.1)\n",
            "Requirement already satisfied: html5lib>=1.1 in /usr/local/lib/python3.10/dist-packages (from yfinance<0.3.0,>=0.2.3->tessa) (1.1)\n",
            "Requirement already satisfied: six>=1.9 in /usr/local/lib/python3.10/dist-packages (from html5lib>=1.1->yfinance<0.3.0,>=0.2.3->tessa) (1.16.0)\n",
            "Requirement already satisfied: webencodings in /usr/local/lib/python3.10/dist-packages (from html5lib>=1.1->yfinance<0.3.0,>=0.2.3->tessa) (0.5.1)\n",
            "Requirement already satisfied: charset-normalizer<4,>=2 in /usr/local/lib/python3.10/dist-packages (from requests->pycoingecko>=2.2->tessa) (3.3.2)\n",
            "Requirement already satisfied: idna<4,>=2.5 in /usr/local/lib/python3.10/dist-packages (from requests->pycoingecko>=2.2->tessa) (3.6)\n",
            "Requirement already satisfied: urllib3<3,>=1.21.1 in /usr/local/lib/python3.10/dist-packages (from requests->pycoingecko>=2.2->tessa) (2.0.7)\n",
            "Requirement already satisfied: certifi>=2017.4.17 in /usr/local/lib/python3.10/dist-packages (from requests->pycoingecko>=2.2->tessa) (2024.2.2)\n"
          ]
        }
      ],
      "source": [
        "!pip install tessa"
      ]
    },
    {
      "cell_type": "code",
      "source": [
        "from tessa import Symbol, SymbolCollection, search"
      ],
      "metadata": {
        "id": "VRY-C-zGB5uP"
      },
      "execution_count": 10,
      "outputs": []
    },
    {
      "cell_type": "code",
      "source": [
        "#MSFT のシンボルを作成し、いくつかの関数にアクセスします。\n",
        "s1 = Symbol(\"MSFT\")         # will use \"yahoo\" as the default source\n",
        "s1.price_latest()"
      ],
      "metadata": {
        "colab": {
          "base_uri": "https://localhost:8080/"
        },
        "id": "1dDPxiaNCEhR",
        "outputId": "cee05c55-c7e0-4e0c-dcdf-b116f6824e4d"
      },
      "execution_count": 11,
      "outputs": [
        {
          "output_type": "execute_result",
          "data": {
            "text/plain": [
              "PricePoint(when=Timestamp('2024-03-01 05:00:00+0000', tz='UTC'), price=415.5, currency='USD')"
            ]
          },
          "metadata": {},
          "execution_count": 11
        }
      ]
    },
    {
      "cell_type": "code",
      "source": [
        "#Yahoo Finance で使用されているブルームバーグ ティッカーから別のシンボルを作成します。\n",
        "s2 = Symbol(\"SREN.SW\")\n",
        "s2.price_point(\"2022-06-30\")    # get price at specific point in time"
      ],
      "metadata": {
        "colab": {
          "base_uri": "https://localhost:8080/"
        },
        "id": "nHr1VCrvCFdi",
        "outputId": "60426091-eb83-410e-e390-d1ec5fe1f864"
      },
      "execution_count": 12,
      "outputs": [
        {
          "output_type": "execute_result",
          "data": {
            "text/plain": [
              "PricePoint(when=Timestamp('2022-06-29 22:00:00+0000', tz='UTC'), price=68.95055389404297, currency='CHF')"
            ]
          },
          "metadata": {},
          "execution_count": 12
        }
      ]
    },
    {
      "cell_type": "code",
      "source": [
        "#coingecko で使用される ID を使用して、coingecko ソースからシンボルを作成します。\n",
        "s3 = Symbol(\"bitcoin\", source=\"coingecko\")\n",
        "s3.price_graph()"
      ],
      "metadata": {
        "colab": {
          "base_uri": "https://localhost:8080/",
          "height": 722
        },
        "id": "EJc45lBwGsJv",
        "outputId": "ef75b781-ccae-423f-ebeb-fd6a473fd9b2"
      },
      "execution_count": 13,
      "outputs": [
        {
          "output_type": "execute_result",
          "data": {
            "text/plain": [
              "('2023-09-01',\n",
              " <Figure size 1600x800 with 1 Axes>,\n",
              " <Axes: title={'center': 'bitcoin'}, xlabel='date', ylabel='close'>)"
            ]
          },
          "metadata": {},
          "execution_count": 13
        },
        {
          "output_type": "display_data",
          "data": {
            "text/plain": [
              "<Figure size 1600x800 with 1 Axes>"
            ],
            "image/png": "[encoded data removed]"
          },
          "metadata": {}
        }
      ]
    },
    {
      "cell_type": "code",
      "source": [
        "#coingecko でさらに暗号通貨ティッカーを検索します。\n",
        "res = search(\"GAME\")        # search and print search result summary\n",
        "filtered = res.filter(source=\"coingecko\")  # filter results\n",
        "filtered.p()                # print summary of filtered results\n",
        "filtered.buckets[0].symbols # review the best bucket in the filtered results\n",
        "s4 = filtered.buckets[0].symbols[2]   # our symbol is the 3rd in that list\n",
        "s4.price_history()          # get entire history"
      ],
      "metadata": {
        "colab": {
          "base_uri": "https://localhost:8080/"
        },
        "id": "99OXtCqoCYsX",
        "outputId": "78382114-f41c-420a-deaa-c5e1349f7f6a"
      },
      "execution_count": 14,
      "outputs": [
        {
          "output_type": "stream",
          "name": "stdout",
          "text": [
            "Search results for query 'GAME'\n",
            "\n",
            "Bucket 0: Matches entire name or alias ⭐\n",
            "  4 hits, 2 sources\n",
            "  Hits: game, game, GAME, gtc\n",
            "  Sources: yahoo, coingecko\n",
            "\n",
            "Bucket 1: Matches word boundary\n",
            "  93 hits, 2 sources\n",
            "  Sources: yahoo, coingecko\n",
            "\n",
            "Bucket 2: Matches in any way\n",
            "  282 hits, 2 sources\n",
            "  Sources: yahoo, coingecko\n",
            "\n",
            "Bucket 3: Matches not (but was somehow still returned) 🤔\n",
            "  17 hits, 1 sources\n",
            "  Sources: yahoo\n",
            "\n",
            "\n",
            "Search results for query 'GAME'\n",
            "With filters: source=coingecko\n",
            "\n",
            "Bucket 0: Matches entire name or alias ⭐\n",
            "  3 hits, 1 sources\n",
            "  Hits: game, game, gtc\n",
            "  Sources: coingecko\n",
            "\n",
            "Bucket 1: Matches word boundary\n",
            "  35 hits, 1 sources\n",
            "  Sources: coingecko\n",
            "\n",
            "Bucket 2: Matches in any way\n",
            "  93 hits, 1 sources\n",
            "  Sources: coingecko\n",
            "\n",
            "Bucket 3: Matches not (but was somehow still returned) 🤔\n",
            "  No hits\n",
            "\n",
            "\n"
          ]
        },
        {
          "output_type": "execute_result",
          "data": {
            "text/plain": [
              "PriceHistory(df=                              close\n",
              "date                               \n",
              "2017-12-28 00:00:00+00:00  0.003459\n",
              "2017-12-29 00:00:00+00:00  0.004681\n",
              "2017-12-30 00:00:00+00:00  0.004396\n",
              "2017-12-31 00:00:00+00:00  0.003842\n",
              "2018-01-01 00:00:00+00:00  0.003523\n",
              "...                             ...\n",
              "2024-02-27 00:00:00+00:00  0.000612\n",
              "2024-02-28 00:00:00+00:00  0.000601\n",
              "2024-02-29 00:00:00+00:00  0.000593\n",
              "2024-03-01 00:00:00+00:00  0.000546\n",
              "2024-03-01 17:51:20+00:00  0.000573\n",
              "\n",
              "[2257 rows x 1 columns], currency='USD')"
            ]
          },
          "metadata": {},
          "execution_count": 14
        }
      ]
    },
    {
      "cell_type": "code",
      "source": [
        "#いくつかのシンボルのコレクションを構築し、そのコレクションを使用してシンボルを取得します。\n",
        "sc = SymbolCollection([s1, s2, s3, s4])\n",
        "sc.add(Symbol(\"AAPL\"))      # add another one\n",
        "sc.find_one(\"SREN\").price_graph()"
      ],
      "metadata": {
        "colab": {
          "base_uri": "https://localhost:8080/",
          "height": 731
        },
        "id": "8pho2bESGaiQ",
        "outputId": "9094d6b3-d3b3-4b10-ec08-e9c6c17c06d1"
      },
      "execution_count": 15,
      "outputs": [
        {
          "output_type": "execute_result",
          "data": {
            "text/plain": [
              "('2023-09-01',\n",
              " <Figure size 1600x800 with 1 Axes>,\n",
              " <Axes: title={'center': 'SREN.SW'}, xlabel='date', ylabel='close'>)"
            ]
          },
          "metadata": {},
          "execution_count": 15
        },
        {
          "output_type": "display_data",
          "data": {
            "text/plain": [
              "<Figure size 1600x800 with 1 Axes>"
            ],
            "image/png": "[encoded data removed]"
          },
          "metadata": {}
        }
      ]
    },
    {
      "cell_type": "code",
      "source": [
        "#シンボル コレクションを保存およびロードします。\n",
        "sc.save_yaml(\"my_symbols.yaml\")\n",
        "sc_new = SymbolCollection()\n",
        "sc_new.load_yaml(\"my_symbols.yaml\")"
      ],
      "metadata": {
        "id": "yFdyNL_zGj0U"
      },
      "execution_count": 16,
      "outputs": []
    },
    {
      "cell_type": "code",
      "source": [
        "#別の通貨設定を使用します。\n",
        "sc.find_one(\"game\").price_latest()  # will return price in USD\n",
        "Symbol.currency_preference = \"CHF\"\n",
        "sc.find_one(\"game\").price_latest()  # will return price in CHF"
      ],
      "metadata": {
        "colab": {
          "base_uri": "https://localhost:8080/"
        },
        "id": "J_zA8AqJc3mQ",
        "outputId": "1f099042-def3-4f67-c764-392b4a5545ad"
      },
      "execution_count": 17,
      "outputs": [
        {
          "output_type": "execute_result",
          "data": {
            "text/plain": [
              "PricePoint(when=Timestamp('2024-03-01 23:57:10+0000', tz='UTC'), price=0.0005183618034898084, currency='CHF')"
            ]
          },
          "metadata": {},
          "execution_count": 17
        }
      ]
    },
    {
      "cell_type": "markdown",
      "source": [
        "### Price"
      ],
      "metadata": {
        "id": "pfoBu4HMdvSc"
      }
    },
    {
      "cell_type": "code",
      "source": [
        " from tessa import price_history, price_point, price_latest"
      ],
      "metadata": {
        "id": "Ffy6_vSCd1t0"
      },
      "execution_count": 2,
      "outputs": []
    },
    {
      "cell_type": "code",
      "source": [
        "df, currency = price_history(\"AAPL\")"
      ],
      "metadata": {
        "id": "kVJ8deh1c9CA"
      },
      "execution_count": 3,
      "outputs": []
    },
    {
      "cell_type": "code",
      "source": [
        "price_point(\"SAP.DE\", \"2015-01-01\")         # will return price at 2015-01-02"
      ],
      "metadata": {
        "colab": {
          "base_uri": "https://localhost:8080/"
        },
        "id": "lYKXttY1dzhB",
        "outputId": "b453476e-cc43-4c3f-90e6-53e35d79aad6"
      },
      "execution_count": 4,
      "outputs": [
        {
          "output_type": "execute_result",
          "data": {
            "text/plain": [
              "PricePoint(when=Timestamp('2015-01-01 23:00:00+0000', tz='UTC'), price=51.2855224609375, currency='EUR')"
            ]
          },
          "metadata": {},
          "execution_count": 4
        }
      ]
    },
    {
      "cell_type": "code",
      "source": [
        "price_latest(\"ethereum\", source=\"coingecko\", currency_preference=\"CHF\")"
      ],
      "metadata": {
        "colab": {
          "base_uri": "https://localhost:8080/"
        },
        "id": "la12UmjQd8K3",
        "outputId": "218f8c67-f1f3-476a-800a-dddc8bbc44c9"
      },
      "execution_count": 6,
      "outputs": [
        {
          "output_type": "execute_result",
          "data": {
            "text/plain": [
              "PricePoint(when=Timestamp('2024-03-01 23:20:23+0000', tz='UTC'), price=3045.4184487102925, currency='CHF')"
            ]
          },
          "metadata": {},
          "execution_count": 6
        }
      ]
    },
    {
      "cell_type": "code",
      "source": [
        "price_latest(\"ETH-EUR\", source=\"yahoo\")"
      ],
      "metadata": {
        "colab": {
          "base_uri": "https://localhost:8080/"
        },
        "id": "yEWAr062eOHv",
        "outputId": "4db91cc8-ce20-4f38-d666-f7dbb6ce382e"
      },
      "execution_count": 7,
      "outputs": [
        {
          "output_type": "execute_result",
          "data": {
            "text/plain": [
              "PricePoint(when=Timestamp('2024-03-02 00:00:00+0000', tz='UTC'), price=3165.408203125, currency='EUR')"
            ]
          },
          "metadata": {},
          "execution_count": 7
        }
      ]
    },
    {
      "cell_type": "markdown",
      "source": [
        "### tessa.search"
      ],
      "metadata": {
        "id": "575gSU8NgC1g"
      }
    },
    {
      "cell_type": "code",
      "source": [
        "from tessa import search"
      ],
      "metadata": {
        "id": "0yGhBpeGfZRc"
      },
      "execution_count": 10,
      "outputs": []
    },
    {
      "cell_type": "code",
      "source": [
        "r = search(\"roche\")"
      ],
      "metadata": {
        "colab": {
          "base_uri": "https://localhost:8080/"
        },
        "id": "WIUQnD2xgG7W",
        "outputId": "f831c483-3d44-483b-ea0e-224bca17ea04"
      },
      "execution_count": 11,
      "outputs": [
        {
          "output_type": "stream",
          "name": "stdout",
          "text": [
            "Search results for query 'roche'\n",
            "\n",
            "Bucket 0: Matches entire name or alias ⭐\n",
            "  No hits\n",
            "\n",
            "Bucket 1: Matches word boundary\n",
            "  32 hits, 1 sources\n",
            "  Sources: yahoo\n",
            "\n",
            "Bucket 2: Matches in any way\n",
            "  28 hits, 2 sources\n",
            "  Sources: yahoo, coingecko\n",
            "\n",
            "Bucket 3: Matches not (but was somehow still returned) 🤔\n",
            "  3 hits, 1 sources\n",
            "  Hits: ROCH, ROCHU, ROCHW\n",
            "  Sources: yahoo\n",
            "\n",
            "\n"
          ]
        }
      ]
    },
    {
      "cell_type": "code",
      "source": [
        "r.p()"
      ],
      "metadata": {
        "colab": {
          "base_uri": "https://localhost:8080/"
        },
        "id": "s6_XB7VhgIi9",
        "outputId": "ed6d144e-14df-4a3e-8a4e-d058446a8c7b"
      },
      "execution_count": 12,
      "outputs": [
        {
          "output_type": "stream",
          "name": "stdout",
          "text": [
            "Search results for query 'roche'\n",
            "\n",
            "Bucket 0: Matches entire name or alias ⭐\n",
            "  No hits\n",
            "\n",
            "Bucket 1: Matches word boundary\n",
            "  32 hits, 1 sources\n",
            "  Sources: yahoo\n",
            "\n",
            "Bucket 2: Matches in any way\n",
            "  28 hits, 2 sources\n",
            "  Sources: yahoo, coingecko\n",
            "\n",
            "Bucket 3: Matches not (but was somehow still returned) 🤔\n",
            "  3 hits, 1 sources\n",
            "  Hits: ROCH, ROCHU, ROCHW\n",
            "  Sources: yahoo\n",
            "\n",
            "\n"
          ]
        }
      ]
    },
    {
      "cell_type": "code",
      "source": [
        "r.filter(exchange=\"EBS\").symbols    # filter and get list of resulting symbols"
      ],
      "metadata": {
        "colab": {
          "base_uri": "https://localhost:8080/"
        },
        "id": "EsZd_KGZgKrc",
        "outputId": "acf4141e-d3d1-41f4-c46b-21485b2edd72"
      },
      "execution_count": 15,
      "outputs": [
        {
          "output_type": "execute_result",
          "data": {
            "text/plain": [
              "[]"
            ]
          },
          "metadata": {},
          "execution_count": 15
        }
      ]
    },
    {
      "cell_type": "code",
      "source": [
        "r = search(\"jenny\")                 # another search"
      ],
      "metadata": {
        "colab": {
          "base_uri": "https://localhost:8080/"
        },
        "id": "bHBkG1W4gMx-",
        "outputId": "4e8eec5f-6025-4d7e-b18b-84922e6c3568"
      },
      "execution_count": 16,
      "outputs": [
        {
          "output_type": "stream",
          "name": "stdout",
          "text": [
            "Search results for query 'jenny'\n",
            "\n",
            "Bucket 0: Matches entire name or alias ⭐\n",
            "  No hits\n",
            "\n",
            "Bucket 1: Matches word boundary\n",
            "  1 hits, 1 sources\n",
            "  Hits: UJENNY-USD\n",
            "  Sources: yahoo\n",
            "\n",
            "Bucket 2: Matches in any way\n",
            "  2 hits, 2 sources\n",
            "  Hits: jco, JCO-USD\n",
            "  Sources: yahoo, coingecko\n",
            "\n",
            "Bucket 3: Matches not (but was somehow still returned) 🤔\n",
            "  No hits\n",
            "\n",
            "\n"
          ]
        }
      ]
    },
    {
      "cell_type": "code",
      "source": [
        "r.filter(source=\"coingecko\").symbols # filter for source (i.e., yahoo or coingecko)"
      ],
      "metadata": {
        "colab": {
          "base_uri": "https://localhost:8080/"
        },
        "id": "oiSlhjmNgOcE",
        "outputId": "0aeee83e-76df-43ba-af04-aca355a1a74a"
      },
      "execution_count": 17,
      "outputs": [
        {
          "output_type": "execute_result",
          "data": {
            "text/plain": [
              "[Symbol(name='jco', query='jennyco', source='coingecko', aliases=['jennyco', 'JennyCo'])]"
            ]
          },
          "metadata": {},
          "execution_count": 17
        }
      ]
    },
    {
      "cell_type": "code",
      "source": [
        "r = search(\"carbon\")"
      ],
      "metadata": {
        "colab": {
          "base_uri": "https://localhost:8080/"
        },
        "id": "DeYmnQAigpnE",
        "outputId": "9a08840c-6892-4403-85e1-53d74911fe3c"
      },
      "execution_count": 18,
      "outputs": [
        {
          "output_type": "stream",
          "name": "stdout",
          "text": [
            "Search results for query 'carbon'\n",
            "\n",
            "Bucket 0: Matches entire name or alias ⭐\n",
            "  1 hits, 1 sources\n",
            "  Hits: carbon\n",
            "  Sources: coingecko\n",
            "\n",
            "Bucket 1: Matches word boundary\n",
            "  526 hits, 2 sources\n",
            "  Sources: yahoo, coingecko\n",
            "\n",
            "Bucket 2: Matches in any way\n",
            "  21 hits, 2 sources\n",
            "  Sources: yahoo, coingecko\n",
            "\n",
            "Bucket 3: Matches not (but was somehow still returned) 🤔\n",
            "  No hits\n",
            "\n",
            "\n"
          ]
        }
      ]
    },
    {
      "cell_type": "code",
      "source": [
        " r.filter(source=\"yahoo\", type=\"ETF\").symbols"
      ],
      "metadata": {
        "colab": {
          "base_uri": "https://localhost:8080/"
        },
        "id": "vAPj5P1kguIT",
        "outputId": "aa3dbab3-2c90-4488-f8db-cd3738d1bbd1"
      },
      "execution_count": 19,
      "outputs": [
        {
          "output_type": "execute_result",
          "data": {
            "text/plain": [
              "[Symbol(name='2642.T', query='2642.T', source='yahoo', aliases=['SUMITOMO MITSUI TRUST AM CARBON']),\n",
              " Symbol(name='375770.KS', query='375770.KS', source='yahoo', aliases=['KODEX Carbon Efficient Green Ne']),\n",
              " Symbol(name='376410.KS', query='376410.KS', source='yahoo', aliases=['TIGER CARBON EFFICIENT']),\n",
              " Symbol(name='400590.KS', query='400590.KS', source='yahoo', aliases=['SOL ICE Global Carbon']),\n",
              " Symbol(name='401590.KS', query='401590.KS', source='yahoo', aliases=['HANARO Global Carbon Futures (S']),\n",
              " Symbol(name='BTCC-J.TO', query='BTCC-J.TO', source='yahoo', aliases=['PURPOSE BITCOIN CARBON OFFSET E']),\n",
              " Symbol(name='CARB.MI', query='CARB.MI', source='yahoo', aliases=['WISDOMTREE CARBON']),\n",
              " Symbol(name='CARB.TO', query='CARB.TO', source='yahoo', aliases=['HORIZONS CARBON CREDITS ETF']),\n",
              " Symbol(name='CBON-U.NE', query='CBON-U.NE', source='yahoo', aliases=['NINEPOINT CARBON CREDIT ETF']),\n",
              " Symbol(name='CBON.NE', query='CBON.NE', source='yahoo', aliases=['NINEPOINT CARBON CREDIT ETF']),\n",
              " Symbol(name='CCSO', query='CCSO', source='yahoo', aliases=['Carbon Collective Climate Solut']),\n",
              " Symbol(name='CMOC.SW', query='CMOC.SW', source='yahoo', aliases=['Invesco BCOM Carbon Tilted ETF']),\n",
              " Symbol(name='CO2.MI', query='CO2.MI', source='yahoo', aliases=['SPARKCHANGE PHYSICAL CARBON EUA']),\n",
              " Symbol(name='CO2L.XC', query='CO2L.XC', source='yahoo', aliases=['SparkChange Physical Carbon EUA']),\n",
              " Symbol(name='CRBN', query='CRBN', source='yahoo', aliases=['iShares MSCI ACWI Low Carbon Ta']),\n",
              " Symbol(name='ECLN', query='ECLN', source='yahoo', aliases=['First Trust EIP Carbon Impact E']),\n",
              " Symbol(name='ECN.PA', query='ECN.PA', source='yahoo', aliases=['BNP Paribas Easy Low Carbon 100']),\n",
              " Symbol(name='ECND.PA', query='ECND.PA', source='yahoo', aliases=['BNP Paribas Easy Low Carbon 100']),\n",
              " Symbol(name='EMUESG.MI', query='EMUESG.MI', source='yahoo', aliases=['UBS MSCI EMU ESG LOW CARBON UCI']),\n",
              " Symbol(name='FJCCT.DE', query='FJCCT.DE', source='yahoo', aliases=['JPM-CARBON TR CHINA EQ A']),\n",
              " Symbol(name='FJPCT.DE', query='FJPCT.DE', source='yahoo', aliases=['JPM-CARBON TR GLOBAL EQ A']),\n",
              " Symbol(name='GRN', query='GRN', source='yahoo', aliases=['iPath Series B Carbon Exchange-']),\n",
              " Symbol(name='JCCT.DE', query='JCCT.DE', source='yahoo', aliases=['JPM-CARBON TR CHINA EQ A']),\n",
              " Symbol(name='JCCT.DU', query='JCCT.DU', source='yahoo', aliases=['JPM-CARBON TR CHINA EQ A']),\n",
              " Symbol(name='JCCT.MI', query='JCCT.MI', source='yahoo', aliases=['JPM CARBON TRANS CHINA EQUITY U']),\n",
              " Symbol(name='JCCT.MU', query='JCCT.MU', source='yahoo', aliases=['JPM-CARBON TR CHINA EQ A']),\n",
              " Symbol(name='JCTR', query='JCTR', source='yahoo', aliases=['JPMorgan Carbon Transition U.S.']),\n",
              " Symbol(name='JPCE.MI', query='JPCE.MI', source='yahoo', aliases=['JPM CARBON TRANSIT GLB EQ CTB U']),\n",
              " Symbol(name='JPCT.DE', query='JPCT.DE', source='yahoo', aliases=['JPM-CARBON TR GLOBAL EQ A']),\n",
              " Symbol(name='JPCT.DU', query='JPCT.DU', source='yahoo', aliases=['JPM-CARBON TR GLOBAL EQ A']),\n",
              " Symbol(name='JPCT.MI', query='JPCT.MI', source='yahoo', aliases=['JPM CARBON TRAN GLB EQUITY USD']),\n",
              " Symbol(name='JPCT.MU', query='JPCT.MU', source='yahoo', aliases=['JPM-CARBON TR GLOBAL EQ A']),\n",
              " Symbol(name='KARB', query='KARB', source='yahoo', aliases=['ETF Series Solutions Carbon Str']),\n",
              " Symbol(name='KCCA', query='KCCA', source='yahoo', aliases=['KraneShares California Carbon A']),\n",
              " Symbol(name='KEUA', query='KEUA', source='yahoo', aliases=['KraneShares European Carbon All']),\n",
              " Symbol(name='KRBN', query='KRBN', source='yahoo', aliases=['KraneShares Global Carbon Strat']),\n",
              " Symbol(name='LCEZ.PA', query='LCEZ.PA', source='yahoo', aliases=['BNP Paribas Easy Low Carbon 100']),\n",
              " Symbol(name='LCTD', query='LCTD', source='yahoo', aliases=['BlackRock World ex U.S. Carbon']),\n",
              " Symbol(name='LCTU', query='LCTU', source='yahoo', aliases=['BlackRock U.S. Carbon Transitio']),\n",
              " Symbol(name='LCWLD.MI', query='LCWLD.MI', source='yahoo', aliases=['BNPP LOW CARBON 300 WORLD PAB U']),\n",
              " Symbol(name='LCWLD.PA', query='LCWLD.PA', source='yahoo', aliases=['BNP Paribas Easy Low Carbon 300']),\n",
              " Symbol(name='NRGW.PA', query='NRGW.PA', source='yahoo', aliases=['Amundi S&P Global Energy Carbon']),\n",
              " Symbol(name='SMOG', query='SMOG', source='yahoo', aliases=['VanEck Low Carbon Energy ETF']),\n",
              " Symbol(name='TCBN.TO', query='TCBN.TO', source='yahoo', aliases=['TD GLOBAL CARBON CREDIT INDEX E']),\n",
              " Symbol(name='VEF0.BE', query='VEF0.BE', source='yahoo', aliases=['VANECK LOW CARBON EN.ETF']),\n",
              " Symbol(name='VEF0.MU', query='VEF0.MU', source='yahoo', aliases=['VANECK LOW CARBON EN.ETF']),\n",
              " Symbol(name='WCCA.MI', query='WCCA.MI', source='yahoo', aliases=['WisdomTree California Carbon']),\n",
              " Symbol(name='XCO2.AX', query='XCO2.AX', source='yahoo', aliases=['VE CARBON ETF UNITS']),\n",
              " Symbol(name='XCO2.XA', query='XCO2.XA', source='yahoo', aliases=['VE CARBON ETF UNITS']),\n",
              " Symbol(name='404120.KS', query='404120.KS', source='yahoo', aliases=['TIMEFOLIO CarbonZero Active'])]"
            ]
          },
          "metadata": {},
          "execution_count": 19
        }
      ]
    },
    {
      "cell_type": "code",
      "source": [
        "r = search(\"harmony\")\n",
        "\n",
        "# Review results:\n",
        "r.p()\n",
        "\n",
        "# Get the 1 symbol from source \"coingecko\" in the best bucket (i.e., bucket 0):\n",
        "s = r.filter(source=\"coingecko\").buckets[0].symbols[0]\n",
        "s.price_latest()"
      ],
      "metadata": {
        "colab": {
          "base_uri": "https://localhost:8080/"
        },
        "id": "Fb0QtB2ugwjz",
        "outputId": "cab5b8a9-d13f-4753-cdd2-63889a1e99f0"
      },
      "execution_count": 20,
      "outputs": [
        {
          "output_type": "stream",
          "name": "stdout",
          "text": [
            "Search results for query 'harmony'\n",
            "\n",
            "Bucket 0: Matches entire name or alias ⭐\n",
            "  1 hits, 1 sources\n",
            "  Hits: one\n",
            "  Sources: coingecko\n",
            "\n",
            "Bucket 1: Matches word boundary\n",
            "  107 hits, 2 sources\n",
            "  Sources: yahoo, coingecko\n",
            "\n",
            "Bucket 2: Matches in any way\n",
            "  3 hits, 1 sources\n",
            "  Hits: 7EW.F, 7EW.MU, NO0010921299.SG\n",
            "  Sources: yahoo\n",
            "\n",
            "Bucket 3: Matches not (but was somehow still returned) 🤔\n",
            "  No hits\n",
            "\n",
            "\n",
            "Search results for query 'harmony'\n",
            "\n",
            "Bucket 0: Matches entire name or alias ⭐\n",
            "  1 hits, 1 sources\n",
            "  Hits: one\n",
            "  Sources: coingecko\n",
            "\n",
            "Bucket 1: Matches word boundary\n",
            "  107 hits, 2 sources\n",
            "  Sources: yahoo, coingecko\n",
            "\n",
            "Bucket 2: Matches in any way\n",
            "  3 hits, 1 sources\n",
            "  Hits: 7EW.F, 7EW.MU, NO0010921299.SG\n",
            "  Sources: yahoo\n",
            "\n",
            "Bucket 3: Matches not (but was somehow still returned) 🤔\n",
            "  No hits\n",
            "\n",
            "\n"
          ]
        },
        {
          "output_type": "execute_result",
          "data": {
            "text/plain": [
              "PricePoint(when=Timestamp('2024-03-02 00:22:01+0000', tz='UTC'), price=0.025860977580084724, currency='USD')"
            ]
          },
          "metadata": {},
          "execution_count": 20
        }
      ]
    },
    {
      "cell_type": "code",
      "source": [],
      "metadata": {
        "id": "zQP5Wx_IsmAa"
      },
      "execution_count": null,
      "outputs": []
    }
  ]
}