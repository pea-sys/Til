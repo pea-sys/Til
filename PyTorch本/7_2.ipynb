{
  "nbformat": 4,
  "nbformat_minor": 0,
  "metadata": {
    "colab": {
      "name": "PyTorch本7-2.ipynb",
      "provenance": [],
      "authorship_tag": "ABX9TyOMnN2cDypR4fUtLpZkra3l",
      "include_colab_link": true
    },
    "kernelspec": {
      "name": "python3",
      "display_name": "Python 3"
    },
    "accelerator": "GPU"
  },
  "cells": [
    {
      "cell_type": "markdown",
      "metadata": {
        "id": "view-in-github",
        "colab_type": "text"
      },
      "source": [
        "<a href=\"https://colab.research.google.com/github/pea-sys/Til/blob/master/PyTorch%E6%9C%AC7_2.ipynb\" target=\"_parent\"><img src=\"https://colab.research.google.com/assets/colab-badge.svg\" alt=\"Open In Colab\"/></a>"
      ]
    },
    {
      "cell_type": "markdown",
      "metadata": {
        "id": "kv-vVwLEnt2F",
        "colab_type": "text"
      },
      "source": [
        "# 7.2 torchtextでのDataset、DataLoaderの実装方法\n",
        "本ファイルでは、torchtextを使用してDatasetおよびDataLoaderを実装する方法を解説します。\n",
        "※　本章のファイルはすべてUbuntuでの動作を前提としています。Windowsなど文字コードが違う環境での動作にはご注意下さい。\n",
        "\n",
        "# 7.2 学習目標\n",
        "torchtextを用いてDatasetおよびDataLoaderの実装ができる"
      ]
    },
    {
      "cell_type": "code",
      "metadata": {
        "id": "CAnfOE4up6Jp",
        "colab_type": "code",
        "colab": {
          "base_uri": "https://localhost:8080/",
          "height": 106
        },
        "outputId": "b8f7e8ad-0708-44b2-a226-2204d074b0a4"
      },
      "source": [
        "!git clone https://github.com/YutaroOgawa/pytorch_advanced.git"
      ],
      "execution_count": 9,
      "outputs": [
        {
          "output_type": "stream",
          "text": [
            "Cloning into 'pytorch_advanced'...\n",
            "remote: Enumerating objects: 441, done.\u001b[K\n",
            "remote: Total 441 (delta 0), reused 0 (delta 0), pack-reused 441\u001b[K\n",
            "Receiving objects: 100% (441/441), 14.62 MiB | 10.82 MiB/s, done.\n",
            "Resolving deltas: 100% (231/231), done.\n"
          ],
          "name": "stdout"
        }
      ]
    },
    {
      "cell_type": "code",
      "metadata": {
        "id": "BhauuYWUqZuQ",
        "colab_type": "code",
        "colab": {
          "base_uri": "https://localhost:8080/",
          "height": 52
        },
        "outputId": "f66eca64-d281-4a40-a9e1-3069669eceea"
      },
      "source": [
        "%cd pytorch_advanced/\n",
        "%cd 7_nlp_sentiment_transformer"
      ],
      "execution_count": 10,
      "outputs": [
        {
          "output_type": "stream",
          "text": [
            "/content/pytorch_advanced\n",
            "/content/pytorch_advanced/7_nlp_sentiment_transformer\n"
          ],
          "name": "stdout"
        }
      ]
    },
    {
      "cell_type": "code",
      "metadata": {
        "id": "eT1GxlsnonnX",
        "colab_type": "code",
        "colab": {
          "base_uri": "https://localhost:8080/",
          "height": 35
        },
        "outputId": "c34ef686-f2e4-4cfc-d4f8-86e7d4b40a80"
      },
      "source": [
        "!pip install janome"
      ],
      "execution_count": 11,
      "outputs": [
        {
          "output_type": "stream",
          "text": [
            "Requirement already satisfied: janome in /usr/local/lib/python3.6/dist-packages (0.3.10)\n"
          ],
          "name": "stdout"
        }
      ]
    },
    {
      "cell_type": "code",
      "metadata": {
        "id": "IquQrTnwl_by",
        "colab_type": "code",
        "colab": {
          "base_uri": "https://localhost:8080/",
          "height": 177
        },
        "outputId": "84a8a58c-66a7-4c71-c2b6-7a332cde080e"
      },
      "source": [
        "!pip install torchtext"
      ],
      "execution_count": 12,
      "outputs": [
        {
          "output_type": "stream",
          "text": [
            "Requirement already satisfied: torchtext in /usr/local/lib/python3.6/dist-packages (0.3.1)\n",
            "Requirement already satisfied: tqdm in /usr/local/lib/python3.6/dist-packages (from torchtext) (4.28.1)\n",
            "Requirement already satisfied: requests in /usr/local/lib/python3.6/dist-packages (from torchtext) (2.21.0)\n",
            "Requirement already satisfied: numpy in /usr/local/lib/python3.6/dist-packages (from torchtext) (1.17.5)\n",
            "Requirement already satisfied: torch in /usr/local/lib/python3.6/dist-packages (from torchtext) (1.4.0)\n",
            "Requirement already satisfied: idna<2.9,>=2.5 in /usr/local/lib/python3.6/dist-packages (from requests->torchtext) (2.8)\n",
            "Requirement already satisfied: urllib3<1.25,>=1.21.1 in /usr/local/lib/python3.6/dist-packages (from requests->torchtext) (1.24.3)\n",
            "Requirement already satisfied: certifi>=2017.4.17 in /usr/local/lib/python3.6/dist-packages (from requests->torchtext) (2019.11.28)\n",
            "Requirement already satisfied: chardet<3.1.0,>=3.0.2 in /usr/local/lib/python3.6/dist-packages (from requests->torchtext) (3.0.4)\n"
          ],
          "name": "stdout"
        }
      ]
    },
    {
      "cell_type": "markdown",
      "metadata": {
        "id": "T9alHZKaoaDp",
        "colab_type": "text"
      },
      "source": [
        "# 1 . 前処理と単語分割の関数を実装"
      ]
    },
    {
      "cell_type": "code",
      "metadata": {
        "id": "KTpxpU_uoYDf",
        "colab_type": "code",
        "colab": {}
      },
      "source": [
        "# 単語分割にはJanomeを使用\n",
        "from janome.tokenizer import Tokenizer\n",
        "\n",
        "j_t = Tokenizer()\n",
        "\n",
        "\n",
        "def tokenizer_janome(text):\n",
        "    return [tok for tok in j_t.tokenize(text, wakati=True)]"
      ],
      "execution_count": 0,
      "outputs": []
    },
    {
      "cell_type": "code",
      "metadata": {
        "id": "Uky159wjodjw",
        "colab_type": "code",
        "colab": {}
      },
      "source": [
        "# 前処理として正規化をする関数を定義\n",
        "import re\n",
        "\n",
        "\n",
        "def preprocessing_text(text):\n",
        "    # 半角・全角の統一\n",
        "    # 今回は無視\n",
        "\n",
        "    # 英語の小文字化\n",
        "    # 今回はここでは無視\n",
        "    # output = output.lower()\n",
        "\n",
        "    # 改行、半角スペース、全角スペースを削除\n",
        "    text = re.sub('\\r', '', text)\n",
        "    text = re.sub('\\n', '', text)\n",
        "    text = re.sub('　', '', text)\n",
        "    text = re.sub(' ', '', text)\n",
        "\n",
        "    # 数字文字の一律「0」化\n",
        "    text = re.sub(r'[0-9 ０-９]', '0', text)  # 数字\n",
        "\n",
        "    # 記号と数字の除去\n",
        "    # 今回は無視。半角記号,数字,英字\n",
        "    # 今回は無視。全角記号\n",
        "\n",
        "    # 特定文字を正規表現で置換する\n",
        "    # 今回は無視\n",
        "\n",
        "    return text"
      ],
      "execution_count": 0,
      "outputs": []
    },
    {
      "cell_type": "code",
      "metadata": {
        "id": "Y5chcSZ3o2V_",
        "colab_type": "code",
        "colab": {
          "base_uri": "https://localhost:8080/",
          "height": 35
        },
        "outputId": "d709d239-18ca-4cfc-9bfc-3500f124a205"
      },
      "source": [
        "# 前処理とJanomeの単語分割を合わせた関数を定義する\n",
        "\n",
        "\n",
        "def tokenizer_with_preprocessing(text):\n",
        "    text = preprocessing_text(text)  # 前処理の正規化\n",
        "    ret = tokenizer_janome(text)  # Janomeの単語分割\n",
        "\n",
        "    return ret\n",
        "\n",
        "\n",
        "# 動作確認\n",
        "text = \"昨日は とても暑く、気温が36度もあった。\"\n",
        "print(tokenizer_with_preprocessing(text))"
      ],
      "execution_count": 15,
      "outputs": [
        {
          "output_type": "stream",
          "text": [
            "['昨日', 'は', 'とても', '暑く', '、', '気温', 'が', '00', '度', 'も', 'あっ', 'た', '。']\n"
          ],
          "name": "stdout"
        }
      ]
    },
    {
      "cell_type": "markdown",
      "metadata": {
        "id": "IOoE2JMao68g",
        "colab_type": "text"
      },
      "source": [
        "# 2. 文章データの読み込み"
      ]
    },
    {
      "cell_type": "code",
      "metadata": {
        "id": "7-eyKZ34o4l_",
        "colab_type": "code",
        "colab": {}
      },
      "source": [
        "import torchtext\n",
        "\n",
        "# tsvやcsvデータを読み込んだときに、読み込んだ内容に対して行う処理を定義します\n",
        "# 文章とラベルの両方に用意します\n",
        "\n",
        "max_length = 25\n",
        "TEXT = torchtext.data.Field(sequential=True, tokenize=tokenizer_with_preprocessing,\n",
        "                            use_vocab=True, lower=True, include_lengths=True, batch_first=True, fix_length=max_length)\n",
        "LABEL = torchtext.data.Field(sequential=False, use_vocab=False)\n",
        "\n",
        "# 引数の意味は次の通り\n",
        "# sequential: データの長さが可変か？文章は長さがいろいろなのでTrue.ラベルはFalse\n",
        "# tokenize: 文章を読み込んだときに、前処理や単語分割をするための関数を定義\n",
        "# use_vocab：単語をボキャブラリー（単語集：後で解説）に追加するかどうか\n",
        "# lower：アルファベットがあったときに小文字に変換するかどうか\n",
        "# include_length: 文章の単語数のデータを保持するか\n",
        "# batch_first：ミニバッチの次元を先頭に用意するかどうか\n",
        "# fix_length：全部の文章を指定した長さと同じになるように、paddingします"
      ],
      "execution_count": 0,
      "outputs": []
    },
    {
      "cell_type": "code",
      "metadata": {
        "id": "EW-i3FcrpCNW",
        "colab_type": "code",
        "colab": {
          "base_uri": "https://localhost:8080/",
          "height": 70
        },
        "outputId": "91699c55-ad38-44cf-8cce-3dcf5ca07afc"
      },
      "source": [
        "# data.TabularDataset 詳細\n",
        "# https://torchtext.readthedocs.io/en/latest/examples.html?highlight=data.TabularDataset.splits\n",
        "\n",
        "# フォルダ「data」から各tsvファイルを読み込み、Datasetにします\n",
        "# 1行がTEXTとLABELで区切られていることをfieldsで指示します\n",
        "train_ds, val_ds, test_ds = torchtext.data.TabularDataset.splits(\n",
        "    path='./data/', train='text_train.tsv',\n",
        "    validation='text_val.tsv', test='text_test.tsv', format='tsv',\n",
        "    fields=[('Text', TEXT), ('Label', LABEL)])\n",
        "\n",
        "\n",
        "# 動作確認\n",
        "print('訓練データの数', len(train_ds))\n",
        "print('1つ目の訓練データ', vars(train_ds[0]))\n",
        "print('2つ目の訓練データ', vars(train_ds[1]))"
      ],
      "execution_count": 17,
      "outputs": [
        {
          "output_type": "stream",
          "text": [
            "訓練データの数 4\n",
            "1つ目の訓練データ {'Text': ['王', 'と', '王子', 'と', '女王', 'と', '姫', 'と', '男性', 'と', '女性', 'が', 'い', 'まし', 'た', '。'], 'Label': '0'}\n",
            "2つ目の訓練データ {'Text': ['機械', '学習', 'が', '好き', 'です', '。'], 'Label': '1'}\n"
          ],
          "name": "stdout"
        }
      ]
    },
    {
      "cell_type": "markdown",
      "metadata": {
        "id": "MEvxmPfhq0Uq",
        "colab_type": "text"
      },
      "source": [
        "# 単語の数値化"
      ]
    },
    {
      "cell_type": "code",
      "metadata": {
        "id": "2eHwjST_pHEc",
        "colab_type": "code",
        "colab": {
          "base_uri": "https://localhost:8080/",
          "height": 906
        },
        "outputId": "e6d9db96-f99c-439e-d57a-e99a67916b8c"
      },
      "source": [
        "# ボキャブラリーを作成します\n",
        "# 訓練データtrainの単語からmin_freq以上の頻度の単語を使用してボキャブラリー（単語集）を構築\n",
        "TEXT.build_vocab(train_ds, min_freq=1)\n",
        "\n",
        "# 訓練データ内の単語と頻度を出力(頻度min_freqより大きいものが出力されます)\n",
        "TEXT.vocab.freqs  # 出力させる"
      ],
      "execution_count": 18,
      "outputs": [
        {
          "output_type": "execute_result",
          "data": {
            "text/plain": [
              "Counter({'0': 1,\n",
              "         '、': 3,\n",
              "         '。': 4,\n",
              "         'い': 1,\n",
              "         'いる': 2,\n",
              "         'か': 2,\n",
              "         'から': 1,\n",
              "         'が': 3,\n",
              "         'し': 3,\n",
              "         'する': 1,\n",
              "         'その': 1,\n",
              "         'た': 1,\n",
              "         'て': 2,\n",
              "         'で': 1,\n",
              "         'です': 1,\n",
              "         'と': 5,\n",
              "         'な': 4,\n",
              "         'に': 1,\n",
              "         'に対して': 1,\n",
              "         'の': 4,\n",
              "         'は': 1,\n",
              "         'まし': 1,\n",
              "         'ます': 2,\n",
              "         'を': 3,\n",
              "         'クラス': 1,\n",
              "         'ネガティブ': 1,\n",
              "         'ポジティブ': 1,\n",
              "         'モデル': 1,\n",
              "         'レビュー': 1,\n",
              "         '値': 1,\n",
              "         '処理': 1,\n",
              "         '分類': 2,\n",
              "         '取り組み': 1,\n",
              "         '商品': 1,\n",
              "         '女性': 1,\n",
              "         '女王': 1,\n",
              "         '好き': 1,\n",
              "         '姫': 1,\n",
              "         '学習': 1,\n",
              "         '文章': 4,\n",
              "         '本章': 2,\n",
              "         '構築': 1,\n",
              "         '機械': 1,\n",
              "         '王': 1,\n",
              "         '王子': 1,\n",
              "         '男性': 1,\n",
              "         '短い': 1,\n",
              "         '自然': 1,\n",
              "         '言語': 1,\n",
              "         '評価': 2})"
            ]
          },
          "metadata": {
            "tags": []
          },
          "execution_count": 18
        }
      ]
    },
    {
      "cell_type": "code",
      "metadata": {
        "id": "GdjEs57Eq4JN",
        "colab_type": "code",
        "colab": {
          "base_uri": "https://localhost:8080/",
          "height": 959
        },
        "outputId": "7ee750ab-28ed-4bd5-be3f-7bf7dc6509f2"
      },
      "source": [
        "# ボキャブラリーの単語をidに変換した結果を出力。\n",
        "# 頻度がmin_freqより小さい場合は未知語<unk>になる\n",
        "\n",
        "TEXT.vocab.stoi  # 出力。string to identifiers 文字列をidへ"
      ],
      "execution_count": 19,
      "outputs": [
        {
          "output_type": "execute_result",
          "data": {
            "text/plain": [
              "defaultdict(<function torchtext.vocab._default_unk_index>,\n",
              "            {'0': 18,\n",
              "             '<pad>': 1,\n",
              "             '<unk>': 0,\n",
              "             '、': 7,\n",
              "             '。': 3,\n",
              "             'い': 19,\n",
              "             'いる': 11,\n",
              "             'か': 12,\n",
              "             'から': 20,\n",
              "             'が': 8,\n",
              "             'し': 9,\n",
              "             'する': 21,\n",
              "             'その': 22,\n",
              "             'た': 23,\n",
              "             'て': 13,\n",
              "             'で': 24,\n",
              "             'です': 25,\n",
              "             'と': 2,\n",
              "             'な': 4,\n",
              "             'に': 26,\n",
              "             'に対して': 27,\n",
              "             'の': 5,\n",
              "             'は': 28,\n",
              "             'まし': 29,\n",
              "             'ます': 14,\n",
              "             'を': 10,\n",
              "             'クラス': 30,\n",
              "             'ネガティブ': 31,\n",
              "             'ポジティブ': 32,\n",
              "             'モデル': 33,\n",
              "             'レビュー': 34,\n",
              "             '値': 35,\n",
              "             '処理': 36,\n",
              "             '分類': 15,\n",
              "             '取り組み': 37,\n",
              "             '商品': 38,\n",
              "             '女性': 39,\n",
              "             '女王': 40,\n",
              "             '好き': 41,\n",
              "             '姫': 42,\n",
              "             '学習': 43,\n",
              "             '文章': 6,\n",
              "             '本章': 16,\n",
              "             '構築': 44,\n",
              "             '機械': 45,\n",
              "             '王': 46,\n",
              "             '王子': 47,\n",
              "             '男性': 48,\n",
              "             '短い': 49,\n",
              "             '自然': 50,\n",
              "             '言語': 51,\n",
              "             '評価': 17})"
            ]
          },
          "metadata": {
            "tags": []
          },
          "execution_count": 19
        }
      ]
    },
    {
      "cell_type": "markdown",
      "metadata": {
        "id": "9K4bNtGdq_VE",
        "colab_type": "text"
      },
      "source": [
        "# DataLoaderの作成"
      ]
    },
    {
      "cell_type": "code",
      "metadata": {
        "id": "q19uTdr7q8c-",
        "colab_type": "code",
        "colab": {
          "base_uri": "https://localhost:8080/",
          "height": 106
        },
        "outputId": "a362b37c-36c6-484d-8f4e-9977911e07e5"
      },
      "source": [
        "# DataLoaderを作成します（torchtextの文脈では単純にiteraterと呼ばれています）\n",
        "train_dl = torchtext.data.Iterator(train_ds, batch_size=2, train=True)\n",
        "\n",
        "val_dl = torchtext.data.Iterator(\n",
        "    val_ds, batch_size=2, train=False, sort=False)\n",
        "\n",
        "test_dl = torchtext.data.Iterator(\n",
        "    test_ds, batch_size=2, train=False, sort=False)\n",
        "\n",
        "\n",
        "# 動作確認 検証データのデータセットで確認\n",
        "batch = next(iter(val_dl))\n",
        "print(batch.Text)\n",
        "print(batch.Label)"
      ],
      "execution_count": 20,
      "outputs": [
        {
          "output_type": "stream",
          "text": [
            "(tensor([[46,  2, 47,  2, 40,  2, 42,  2, 48,  2, 39,  8, 19, 29, 23,  3,  1,  1,\n",
            "          1,  1,  1,  1,  1,  1,  1],\n",
            "        [45, 43,  8, 41, 25,  3,  1,  1,  1,  1,  1,  1,  1,  1,  1,  1,  1,  1,\n",
            "          1,  1,  1,  1,  1,  1,  1]]), tensor([16,  6]))\n",
            "tensor([0, 1])\n"
          ],
          "name": "stdout"
        }
      ]
    },
    {
      "cell_type": "code",
      "metadata": {
        "id": "vlm9llNItCsk",
        "colab_type": "code",
        "colab": {}
      },
      "source": [
        ""
      ],
      "execution_count": 0,
      "outputs": []
    }
  ]
}
